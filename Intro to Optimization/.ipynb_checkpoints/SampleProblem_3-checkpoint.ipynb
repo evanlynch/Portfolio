{
 "cells": [
  {
   "cell_type": "markdown",
   "metadata": {},
   "source": [
    "# Sample Problem #3 with Gurobi"
   ]
  },
  {
   "cell_type": "markdown",
   "metadata": {},
   "source": [
    "## Leveraging Optimization for Organizational Redesign Projects"
   ]
  },
  {
   "cell_type": "markdown",
   "metadata": {},
   "source": [
    "![Org Redesign](orgRedesign.png)"
   ]
  },
  {
   "cell_type": "code",
   "execution_count": null,
   "metadata": {},
   "outputs": [],
   "source": [
    "import gurobipy as grb\n",
    "import pandas as pd\n",
    "import numpy as np"
   ]
  },
  {
   "cell_type": "markdown",
   "metadata": {},
   "source": [
    "## Data Prep"
   ]
  },
  {
   "cell_type": "markdown",
   "metadata": {},
   "source": [
    "#### Employees, Old department, Position, and Salary"
   ]
  },
  {
   "cell_type": "code",
   "execution_count": null,
   "metadata": {},
   "outputs": [],
   "source": [
    "EmployeeAttributes = pd.read_excel('EmployeeAttributes.xlsx').fillna(0)\n",
    "EmployeeAttributes"
   ]
  },
  {
   "cell_type": "markdown",
   "metadata": {},
   "source": [
    "#### Employee Matrix (Who Works With Who)"
   ]
  },
  {
   "cell_type": "code",
   "execution_count": null,
   "metadata": {},
   "outputs": [],
   "source": [
    "EmployeeMatrix = pd.read_excel('WhoWorksWithWho.xlsx').fillna(0).astype(int)\n",
    "EmployeeMatrix.replace(0,'')"
   ]
  },
  {
   "cell_type": "markdown",
   "metadata": {},
   "source": [
    "#### New Org Structure and Requirements"
   ]
  },
  {
   "cell_type": "code",
   "execution_count": null,
   "metadata": {},
   "outputs": [],
   "source": [
    "NewOrgEmpty = pd.read_excel('NewOrgEmpty.xlsx')\n",
    "NewOrgEmpty"
   ]
  },
  {
   "cell_type": "markdown",
   "metadata": {},
   "source": [
    "#### New Department Budgets"
   ]
  },
  {
   "cell_type": "code",
   "execution_count": null,
   "metadata": {},
   "outputs": [],
   "source": [
    "budget = pd.read_excel('NewOrgBudgets.xlsx').set_index('Department').to_dict()['Budget']\n",
    "budget"
   ]
  },
  {
   "cell_type": "markdown",
   "metadata": {},
   "source": [
    "#### Some other data prep stuff"
   ]
  },
  {
   "cell_type": "code",
   "execution_count": null,
   "metadata": {},
   "outputs": [],
   "source": [
    "employees = list(EmployeeAttributes.Name.unique())\n",
    "salary = EmployeeAttributes[['Name','Salary']].set_index('Name').to_dict()['Salary']\n",
    "departments = list(NewOrgEmpty.Department.unique())\n",
    "positionsCountByDep = NewOrgEmpty.groupby(by=['Department','Position'],axis=0).sum().to_dict(orient='dict')['Number']\n",
    "positions = list(NewOrgEmpty.Position.unique())\n",
    "employeePosition = {}\n",
    "for e in employees:\n",
    "    for p in positions:\n",
    "        employeePosition[e,p] = EmployeeAttributes.set_index('Name').loc[e,p]"
   ]
  },
  {
   "cell_type": "markdown",
   "metadata": {},
   "source": [
    "#### Define the model"
   ]
  },
  {
   "cell_type": "code",
   "execution_count": null,
   "metadata": {},
   "outputs": [],
   "source": [
    "try:\n",
    "    m.reset()\n",
    "except:\n",
    "    m = grb.Model('ReOrg')"
   ]
  },
  {
   "cell_type": "markdown",
   "metadata": {},
   "source": [
    "## Decision Variables"
   ]
  },
  {
   "cell_type": "markdown",
   "metadata": {},
   "source": [
    "#### Should employee e be assigned to department d?"
   ]
  },
  {
   "cell_type": "code",
   "execution_count": null,
   "metadata": {},
   "outputs": [],
   "source": [
    "x = m.addVars(employees,departments, vtype=grb.GRB.BINARY,name='x')"
   ]
  },
  {
   "cell_type": "markdown",
   "metadata": {},
   "source": [
    "#### Do employees a and b work together?"
   ]
  },
  {
   "cell_type": "code",
   "execution_count": null,
   "metadata": {},
   "outputs": [],
   "source": [
    "y = m.addVars(employees,employees,departments,vtype=grb.GRB.BINARY,name='y')"
   ]
  },
  {
   "cell_type": "markdown",
   "metadata": {},
   "source": [
    "## Objective"
   ]
  },
  {
   "cell_type": "markdown",
   "metadata": {},
   "source": [
    "#### Maximize the occurences of people who used to work together still working together in the new organization\n"
   ]
  },
  {
   "cell_type": "code",
   "execution_count": null,
   "metadata": {},
   "outputs": [],
   "source": [
    "obj = m.setObjective(grb.quicksum(EmployeeMatrix.loc[a,b]*y[a,b,d] for a in employees for b in employees for d in departments),grb.GRB.MAXIMIZE)"
   ]
  },
  {
   "cell_type": "markdown",
   "metadata": {},
   "source": [
    "## Constraints"
   ]
  },
  {
   "cell_type": "markdown",
   "metadata": {},
   "source": [
    "#### Position requirements in the new org must be met\n"
   ]
  },
  {
   "cell_type": "code",
   "execution_count": null,
   "metadata": {},
   "outputs": [],
   "source": [
    "C1 = m.addConstrs(grb.quicksum(x[e,d]*employeePosition[e,p] for e in employees)==positionsCountByDep[d,p] for d in departments for p in positions)"
   ]
  },
  {
   "cell_type": "markdown",
   "metadata": {},
   "source": [
    "#### Each department must abide by budget constraint\n"
   ]
  },
  {
   "cell_type": "code",
   "execution_count": null,
   "metadata": {},
   "outputs": [],
   "source": [
    "C2 = m.addConstrs(grb.quicksum(x[e,d]*salary[e] for e in employees) <= budget[d] for d in departments)"
   ]
  },
  {
   "cell_type": "markdown",
   "metadata": {},
   "source": [
    "#### Each employee must be placed in one and only one department\n"
   ]
  },
  {
   "cell_type": "code",
   "execution_count": null,
   "metadata": {},
   "outputs": [],
   "source": [
    "C3 = m.addConstrs((grb.quicksum(x[e,d] for d in departments)==1 for e in employees))"
   ]
  },
  {
   "cell_type": "markdown",
   "metadata": {},
   "source": [
    "#### Two employees can only work together if they are assigned to the same department\n"
   ]
  },
  {
   "cell_type": "code",
   "execution_count": null,
   "metadata": {},
   "outputs": [],
   "source": [
    "for a in employees: \n",
    "    for b in employees:\n",
    "        for d in departments:\n",
    "            if a != b:\n",
    "                m.addGenConstrAnd(y[a,b,d],[x[a,d],x[b,d]])"
   ]
  },
  {
   "cell_type": "markdown",
   "metadata": {},
   "source": [
    "## Solution"
   ]
  },
  {
   "cell_type": "code",
   "execution_count": null,
   "metadata": {},
   "outputs": [],
   "source": [
    "m.optimize()"
   ]
  },
  {
   "cell_type": "code",
   "execution_count": null,
   "metadata": {},
   "outputs": [],
   "source": [
    "print(round(m.getObjective().getValue()/2/len(employees)*100),'% of the employee matrix has been maintained')"
   ]
  },
  {
   "cell_type": "code",
   "execution_count": null,
   "metadata": {},
   "outputs": [],
   "source": [
    "EmployeeMatrix.replace(0,'')"
   ]
  },
  {
   "cell_type": "code",
   "execution_count": null,
   "metadata": {},
   "outputs": [],
   "source": [
    "for d in departments:\n",
    "    print('')\n",
    "    print(d)\n",
    "    for a in employees:\n",
    "        printed = 0\n",
    "        for b in employees:\n",
    "            \n",
    "            if y[a,b,d].X == 1 and printed==0:\n",
    "                print(' ',a)\n",
    "                printed=1  "
   ]
  }
 ],
 "metadata": {
  "kernelspec": {
   "display_name": "Python 3",
   "language": "python",
   "name": "python3"
  },
  "language_info": {
   "codemirror_mode": {
    "name": "ipython",
    "version": 3
   },
   "file_extension": ".py",
   "mimetype": "text/x-python",
   "name": "python",
   "nbconvert_exporter": "python",
   "pygments_lexer": "ipython3",
   "version": "3.6.2"
  }
 },
 "nbformat": 4,
 "nbformat_minor": 2
}
