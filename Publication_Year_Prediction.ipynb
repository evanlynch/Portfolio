{
 "cells": [
  {
   "cell_type": "markdown",
   "metadata": {},
   "source": [
    "# NLP & Machine Learning\n",
    "## <font color='#1f77b4'>Problem: Predict the year an article was published based on the content of the article.</font>"
   ]
  },
  {
   "cell_type": "markdown",
   "metadata": {},
   "source": [
    "Given a set of articles, create a model that can use the content of the article to predict the year the article was published. "
   ]
  },
  {
   "cell_type": "markdown",
   "metadata": {},
   "source": [
    "# Packages"
   ]
  },
  {
   "cell_type": "code",
   "execution_count": 494,
   "metadata": {},
   "outputs": [],
   "source": [
    "import nltk\n",
    "from nltk import word_tokenize\n",
    "from nltk.corpus import stopwords\n",
    "from nltk.stem.porter import PorterStemmer\n",
    "import numpy as np\n",
    "import pandas as pd\n",
    "import random\n",
    "import re \n",
    "import seaborn as sns\n",
    "from sklearn.feature_extraction.text import TfidfVectorizer\n",
    "from sklearn.feature_selection import SelectKBest, chi2\n",
    "from sklearn.model_selection import train_test_split\n",
    "from sklearn.svm import LinearSVC\n",
    "import string"
   ]
  },
  {
   "cell_type": "markdown",
   "metadata": {
    "toc-hr-collapsed": false
   },
   "source": [
    "# Data Prep"
   ]
  },
  {
   "cell_type": "code",
   "execution_count": 495,
   "metadata": {},
   "outputs": [],
   "source": [
    "#read in data\n",
    "df = pd.read_csv(\"nyc-city-hall-catalog.csv\")"
   ]
  },
  {
   "cell_type": "code",
   "execution_count": 497,
   "metadata": {},
   "outputs": [
    {
     "data": {
      "text/plain": [
       "array(['Unnamed: 0', 'Corporate Name', 'Subordinate Unit', 'Title',\n",
       "       'Remainder Of Title', 'Remainder OF Title Page',\n",
       "       'Date Of Publication', 'Geographic Name', 'General Subdivision'],\n",
       "      dtype=object)"
      ]
     },
     "execution_count": 497,
     "metadata": {},
     "output_type": "execute_result"
    }
   ],
   "source": [
    "#columns available\n",
    "df.columns.values"
   ]
  },
  {
   "cell_type": "code",
   "execution_count": 498,
   "metadata": {},
   "outputs": [],
   "source": [
    "#drop the old index\n",
    "df.drop('Unnamed: 0',axis=1,inplace=True)"
   ]
  },
  {
   "cell_type": "code",
   "execution_count": 499,
   "metadata": {},
   "outputs": [
    {
     "data": {
      "text/html": [
       "<div>\n",
       "<style scoped>\n",
       "    .dataframe tbody tr th:only-of-type {\n",
       "        vertical-align: middle;\n",
       "    }\n",
       "\n",
       "    .dataframe tbody tr th {\n",
       "        vertical-align: top;\n",
       "    }\n",
       "\n",
       "    .dataframe thead th {\n",
       "        text-align: right;\n",
       "    }\n",
       "</style>\n",
       "<table border=\"1\" class=\"dataframe\">\n",
       "  <thead>\n",
       "    <tr style=\"text-align: right;\">\n",
       "      <th></th>\n",
       "      <th>Corporate Name</th>\n",
       "      <th>Subordinate Unit</th>\n",
       "      <th>Title</th>\n",
       "      <th>Remainder Of Title</th>\n",
       "      <th>Remainder OF Title Page</th>\n",
       "      <th>Date Of Publication</th>\n",
       "      <th>Geographic Name</th>\n",
       "      <th>General Subdivision</th>\n",
       "    </tr>\n",
       "  </thead>\n",
       "  <tbody>\n",
       "    <tr>\n",
       "      <th>0</th>\n",
       "      <td>New York City.</td>\n",
       "      <td>Laws, etc.</td>\n",
       "      <td>The charter of the City of New York :</td>\n",
       "      <td>with notes thereon, also a treatise on the pow...</td>\n",
       "      <td>prepared at the request of the Common Council,...</td>\n",
       "      <td>1851</td>\n",
       "      <td>NaN</td>\n",
       "      <td>NaN</td>\n",
       "    </tr>\n",
       "    <tr>\n",
       "      <th>1</th>\n",
       "      <td>New York City.</td>\n",
       "      <td>Laws, etc.</td>\n",
       "      <td>The charter of the City of New York :</td>\n",
       "      <td>with notes thereon, also a treatise on the pow...</td>\n",
       "      <td>prepared at the request of the Common Council,...</td>\n",
       "      <td>1854</td>\n",
       "      <td>NaN</td>\n",
       "      <td>NaN</td>\n",
       "    </tr>\n",
       "    <tr>\n",
       "      <th>2</th>\n",
       "      <td>New York City.</td>\n",
       "      <td>Laws, etc.</td>\n",
       "      <td>An act to reduce several laws :</td>\n",
       "      <td>relative particularly to the City of New York,...</td>\n",
       "      <td>NaN</td>\n",
       "      <td>1813</td>\n",
       "      <td>NaN</td>\n",
       "      <td>NaN</td>\n",
       "    </tr>\n",
       "    <tr>\n",
       "      <th>3</th>\n",
       "      <td>New York City.</td>\n",
       "      <td>Laws, etc.</td>\n",
       "      <td>Journal of the convention in relation, to the ...</td>\n",
       "      <td>begun and held at the City Hall, in the City o...</td>\n",
       "      <td>NaN</td>\n",
       "      <td>1846</td>\n",
       "      <td>NaN</td>\n",
       "      <td>NaN</td>\n",
       "    </tr>\n",
       "    <tr>\n",
       "      <th>4</th>\n",
       "      <td>New York City.</td>\n",
       "      <td>Laws, etc.</td>\n",
       "      <td>An act to reorganize the local government of t...</td>\n",
       "      <td>passed April 30, 1873, as amended; with an app...</td>\n",
       "      <td>NaN</td>\n",
       "      <td>1873</td>\n",
       "      <td>NaN</td>\n",
       "      <td>NaN</td>\n",
       "    </tr>\n",
       "  </tbody>\n",
       "</table>\n",
       "</div>"
      ],
      "text/plain": [
       "   Corporate Name Subordinate Unit  \\\n",
       "0  New York City.       Laws, etc.   \n",
       "1  New York City.       Laws, etc.   \n",
       "2  New York City.       Laws, etc.   \n",
       "3  New York City.       Laws, etc.   \n",
       "4  New York City.       Laws, etc.   \n",
       "\n",
       "                                               Title  \\\n",
       "0              The charter of the City of New York :   \n",
       "1              The charter of the City of New York :   \n",
       "2                    An act to reduce several laws :   \n",
       "3  Journal of the convention in relation, to the ...   \n",
       "4  An act to reorganize the local government of t...   \n",
       "\n",
       "                                  Remainder Of Title  \\\n",
       "0  with notes thereon, also a treatise on the pow...   \n",
       "1  with notes thereon, also a treatise on the pow...   \n",
       "2  relative particularly to the City of New York,...   \n",
       "3  begun and held at the City Hall, in the City o...   \n",
       "4  passed April 30, 1873, as amended; with an app...   \n",
       "\n",
       "                             Remainder OF Title Page Date Of Publication  \\\n",
       "0  prepared at the request of the Common Council,...                1851   \n",
       "1  prepared at the request of the Common Council,...                1854   \n",
       "2                                                NaN                1813   \n",
       "3                                                NaN                1846   \n",
       "4                                                NaN                1873   \n",
       "\n",
       "  Geographic Name General Subdivision  \n",
       "0             NaN                 NaN  \n",
       "1             NaN                 NaN  \n",
       "2             NaN                 NaN  \n",
       "3             NaN                 NaN  \n",
       "4             NaN                 NaN  "
      ]
     },
     "execution_count": 499,
     "metadata": {},
     "output_type": "execute_result"
    }
   ],
   "source": [
    "df.head()"
   ]
  },
  {
   "cell_type": "code",
   "execution_count": 500,
   "metadata": {},
   "outputs": [
    {
     "data": {
      "text/plain": [
       "Corporate Name              2203\n",
       "Subordinate Unit            2888\n",
       "Title                      26496\n",
       "Remainder Of Title         12948\n",
       "Remainder OF Title Page     8809\n",
       "Date Of Publication         8717\n",
       "Geographic Name              369\n",
       "General Subdivision         3462\n",
       "dtype: int64"
      ]
     },
     "execution_count": 500,
     "metadata": {},
     "output_type": "execute_result"
    }
   ],
   "source": [
    "#get number of unique values in each column\n",
    "## each column seems populated with a pretty wide variety of values\n",
    "df.nunique()"
   ]
  },
  {
   "cell_type": "code",
   "execution_count": 501,
   "metadata": {},
   "outputs": [
    {
     "name": "stdout",
     "output_type": "stream",
     "text": [
      "Corporate Name\n",
      "['Regional Science Research Institute.' 'J.P. Morgan Securities, Inc.'\n",
      " 'Praeger, Kavanagh, Waterbury.' 'Abeles, Schwartz & Associates.'\n",
      " \"Marcou, O'Leary and Associates.\" 'New York.' 'United States.'\n",
      " 'Louis Berger & Associates, Inc.' 'Urban Academy for Management, Inc.'\n",
      " 'Alexander Grant & Company.']\n",
      "\n",
      "Subordinate Unit\n",
      "['City Clerk.' 'Laws, etc. (Proposed).' 'Fire Department.'\n",
      " 'Administrative Trials and Hearings, Office of.'\n",
      " 'Estimate and Apportionment, Board of.' 'City Planning, Department of.'\n",
      " 'Buildings, Department of, 1954-' 'Buildings, Department of.'\n",
      " 'Examiners, Board of (Buildings)' 'Mayor.']\n",
      "\n",
      "Title\n",
      "['Your guide to the senior citizen rent increase exemption program.'\n",
      " 'CSE evaluation summary report :' 'Elderly income in New York :'\n",
      " 'The elderly in the rental market of New York City /'\n",
      " 'Housing and the elderly in New York City, 1970-1975 :'\n",
      " 'The health crisis of older New Yorkers /'\n",
      " 'The Hispanic elderly in New York City :' 'The intersystem partnership :'\n",
      " 'A new role for older volunteers :'\n",
      " 'Proposed objectives for the area plan, July 1977-June 1978.']\n",
      "\n",
      "Remainder Of Title\n",
      "['why are 30,000 NYC children contaminated?.'\n",
      " 'how HMO marketing materials are tricking the elderly and the poor.'\n",
      " 'the need for a new urban agenda /'\n",
      " 'proposals to strengthen BID performance and accountability.'\n",
      " 'blueprint for reform.'\n",
      " 'how HMOs in New York escape legal responsibility for their conduct.'\n",
      " 'the hidden report card.'\n",
      " 'an investigative report concerning the illegal sale of self-defense sprays to minors in New York City.'\n",
      " 'a celebration of the 30th anniversity of the Landmarks Preservation Law.'\n",
      " 'how hospitals still violate the \"\"Bell\"\" regulations governing resident working conditions.']\n",
      "\n",
      "Remainder OF Title Page\n",
      "['filed with city clerk August 14, 1964, effective: October 1, 1964.'\n",
      " 'written by Leslie Gourse.' 'by Mark Berger.'\n",
      " 'by Kenneth L. Johnson, L.H. Dworetzky, Austin N. Heller.'\n",
      " 'by Brian Brophy and Deward Tan.'\n",
      " 'prepared for Bureau of Noise Abatement, Department of Air Resources, the City of New York.'\n",
      " 'edited by Robert J. Carlisle.' 'by Mark Green, Sara Collins.'\n",
      " 'by Howard H. Spellman.'\n",
      " \"from real estate taxes ; Aldermanic President's Advisory Committee on Tax Exemption & Tax Inequalities.\"]\n",
      "\n",
      "Date Of Publication\n",
      "['Apr 1970' 'Apr 1978' '1972' 'Nov 25, 1985' '[1989]' 'Mar 1977'\n",
      " 'June 1976' 'Sept 1969' 'Oct 1, 1996' 'Sept 15, 1999']\n",
      "\n",
      "Geographic Name\n",
      "['Brooklyn borough.' 'Bronx, Borough of the'\n",
      " 'Central Park (New York, N.Y.)' 'Prospect Park (New York, N.Y.)'\n",
      " 'Bronx borough.' 'Queens Botanical Garden.' 'Manhattan.'\n",
      " 'Manhattan (New York, N.Y.' 'West Side Highway.'\n",
      " 'Verrazano-Narrows Bridge (New York, N.Y.)']\n",
      "\n",
      "General Subdivision\n",
      "['Pavements.' 'Fees.' 'Accounting system (Red)' 'Milk, Cost.' 'Gambling.'\n",
      " 'Pushcarts.' 'Firearms.' 'Motor vehicles, Parking.' 'Supplies, School.'\n",
      " 'Business.']\n",
      "\n"
     ]
    }
   ],
   "source": [
    "#print a few unique values from each column\n",
    "for col in list(df):\n",
    "    few_values = df[col].unique()[50:60]\n",
    "    print(col)\n",
    "    print(few_values)\n",
    "    print()"
   ]
  },
  {
   "cell_type": "markdown",
   "metadata": {},
   "source": [
    "### Clean up Date of Publication\n",
    "##### It is clear from the above output that Date of Publication is going to need cleaning\n"
   ]
  },
  {
   "cell_type": "code",
   "execution_count": 502,
   "metadata": {},
   "outputs": [
    {
     "data": {
      "text/plain": [
       "dtype('O')"
      ]
     },
     "execution_count": 502,
     "metadata": {},
     "output_type": "execute_result"
    }
   ],
   "source": [
    "#get dtype of pub date\n",
    "df['Date Of Publication'].dtype"
   ]
  },
  {
   "cell_type": "code",
   "execution_count": 503,
   "metadata": {},
   "outputs": [],
   "source": [
    "#create new column which will just contain the year\n",
    "df['pub_year'] = df['Date Of Publication'].copy()"
   ]
  },
  {
   "cell_type": "code",
   "execution_count": 504,
   "metadata": {},
   "outputs": [
    {
     "data": {
      "text/plain": [
       "0.09995731126654188"
      ]
     },
     "execution_count": 504,
     "metadata": {},
     "output_type": "execute_result"
    }
   ],
   "source": [
    "#nan density\n",
    "df.pub_year.isnull().sum()/len(df.pub_year)"
   ]
  },
  {
   "cell_type": "code",
   "execution_count": 505,
   "metadata": {},
   "outputs": [],
   "source": [
    "#going to drop cases where publication year is null. If I had more time, I might try to find the publication year in the text\n",
    "df = df[df.pub_year.isnull()==False]"
   ]
  },
  {
   "cell_type": "code",
   "execution_count": 506,
   "metadata": {},
   "outputs": [],
   "source": [
    "#counting values that lead me to be confident that the pub year is indeed a year. There is a more efficient way of doing this but since data is small\n",
    "#and time is short, I'm just writing a quick way of doing it\n",
    "def check_pub_year(): \n",
    "    numYears = 0 \n",
    "    for y in df.pub_year:\n",
    "        centuries = [18,19,20] #I know should be +1\n",
    "        y = str(y)\n",
    "        #if the code below fails it means it definitely isn't a year\n",
    "        try: \n",
    "            if len(y)==4 and int(y[:2]) in centuries:\n",
    "                numYears+=1\n",
    "        except:\n",
    "            None\n",
    "    result = round(numYears/len(df.pub_year),3)\n",
    "    return result"
   ]
  },
  {
   "cell_type": "code",
   "execution_count": 507,
   "metadata": {},
   "outputs": [
    {
     "data": {
      "text/plain": [
       "0.237"
      ]
     },
     "execution_count": 507,
     "metadata": {},
     "output_type": "execute_result"
    }
   ],
   "source": [
    "#percentage of records with just a year in pub_year\n",
    "check_pub_year()"
   ]
  },
  {
   "cell_type": "code",
   "execution_count": 508,
   "metadata": {},
   "outputs": [],
   "source": [
    "#indices of the publication years with the longest strings\n",
    "longest_string_idx = df.pub_year.str.len().sort_values(ascending=False).index"
   ]
  },
  {
   "cell_type": "code",
   "execution_count": 509,
   "metadata": {},
   "outputs": [
    {
     "data": {
      "text/plain": [
       "27190    Graduate school of Architecture and Planning, ...\n",
       "24586    Submitted to the Board of Estimate and Appotio...\n",
       "9196     May 1983 (Federal fiscal year 1983), Dec 1989 ...\n",
       "22720    Vol 1, issue 1 (October 2000) and vol 2,  issu...\n",
       "29909    May 2004  Revised and reprinted December 2007 ...\n",
       "28187    Submitted May 3, 1966; reprinted with amendmen...\n",
       "27698    May 1 to November 30, 1911 and May 1 to Octobe...\n",
       "21512    fiscal years ended June 30, 1997 through June ...\n",
       "9194     Fiscal years ending June 30, 1993 and June 30,...\n",
       "27377    June 20, July 18, September 12 and Octover 7, ...\n",
       "24515    For the year ending December 31, 1970, 1971, 1972\n",
       "24365    Jan 28, 1980 (sic) and Feb 2, 1981 (news release)\n",
       "30419      January 21, 2010 (revision to 11/11/09 version)\n",
       "28178        February 1985 (v1); June 1985 (v2 appendices)\n",
       "29722        Department of Youth and Community Development\n",
       "22239         November 18, 19, 20, 25 and December 2, 2002\n",
       "796             July 22, 1999, revised as of July 27, 1999\n",
       "26718            November 9, 1857 (Documents 1857, no 19a)\n",
       "26622            March 19, August 31 and November 30, 1993\n",
       "19826            47-79, July 28, 1978; 49-79, July 26,1978\n",
       "24305             January 2005 (accepted February 3, 2005)\n",
       "16747              1985 (Feb 28, 1985)-1987 (Dec 18, 1987)\n",
       "26757              April-June 1971 - October-December 1982\n",
       "6441               Dec 30, 1963 (pt 1); Jan 8, 1964 (pt 2)\n",
       "23912               October 13,1980, rev November 14, 1980\n",
       "6546                May 30, July 25, Aug 22, Sept 26, 1969\n",
       "27229               May 15, 1989, September 14, 1990 (rev)\n",
       "22187               1982, with five year summary 1978-1982\n",
       "22189               1983, with five year summary 1979-1983\n",
       "21810                New York: The Commonwealth Fund, 1983\n",
       "                               ...                        \n",
       "12343                                                 1887\n",
       "12342                                                 1999\n",
       "12338                                                 1972\n",
       "12335                                                 1974\n",
       "12329                                                 1957\n",
       "12325                                                 1967\n",
       "12323                                                 1965\n",
       "12365                                                 1966\n",
       "12367                                                 1964\n",
       "12374                                                 1971\n",
       "12402                                                 1962\n",
       "12395                                                 1999\n",
       "12394                                                 1999\n",
       "12392                                                 1869\n",
       "12391                                                 1926\n",
       "12375                                                 1971\n",
       "12390                                                 1986\n",
       "12389                                                 1989\n",
       "12387                                                 1993\n",
       "12404                                                 1966\n",
       "12380                                                 1978\n",
       "12379                                                 1972\n",
       "12378                                                 1972\n",
       "12396                                                 1930\n",
       "27238                                                  191\n",
       "24524                                                   nd\n",
       "23076                                                   1v\n",
       "15994                                                   19\n",
       "20748                                                   nd\n",
       "27412                                                   nd\n",
       "Name: pub_year, Length: 27409, dtype: object"
      ]
     },
     "execution_count": 509,
     "metadata": {},
     "output_type": "execute_result"
    }
   ],
   "source": [
    "#some records are not very clean\n",
    "df.pub_year.reindex(longest_string_idx)"
   ]
  },
  {
   "cell_type": "code",
   "execution_count": 510,
   "metadata": {},
   "outputs": [],
   "source": [
    "#attempt to extract the year\n",
    "def get_year(record):\n",
    "    numeric_only = re.sub('[^0-9]','', str(record)) \n",
    "    last4 = str(numeric_only)[-4:]\n",
    "    try:\n",
    "        result = int(last4)\n",
    "    except:\n",
    "        result = record\n",
    "    return result \n",
    "df.pub_year = df.pub_year.apply(lambda x: get_year(x))"
   ]
  },
  {
   "cell_type": "code",
   "execution_count": 511,
   "metadata": {},
   "outputs": [],
   "source": [
    "#check if each record is a year\n",
    "df['is_year'] = False\n",
    "def is_year(record):\n",
    "    centuries = [18,19,20] #I know should be +1\n",
    "    record = str(record)\n",
    "    #if the code below fails it means it definitely isn't a year\n",
    "    try: \n",
    "        if len(record)==4 and int(record[:2]) in centuries:\n",
    "            return True\n",
    "    except:\n",
    "        return False\n",
    "df.is_year = df.pub_year.apply(lambda x: is_year(x))"
   ]
  },
  {
   "cell_type": "code",
   "execution_count": 512,
   "metadata": {},
   "outputs": [],
   "source": [
    "#the remaining cases where we don't have a year, the only text in the original Date of publication is this [nd]. \n",
    "#I went back and checked and that is there originally. Going to drop these too\n",
    "df = df[df.pub_year!=\"[nd]\"]\n",
    "df = df[df.pub_year!=\"[year]\"]"
   ]
  },
  {
   "cell_type": "code",
   "execution_count": 513,
   "metadata": {},
   "outputs": [
    {
     "data": {
      "text/html": [
       "<div>\n",
       "<style scoped>\n",
       "    .dataframe tbody tr th:only-of-type {\n",
       "        vertical-align: middle;\n",
       "    }\n",
       "\n",
       "    .dataframe tbody tr th {\n",
       "        vertical-align: top;\n",
       "    }\n",
       "\n",
       "    .dataframe thead th {\n",
       "        text-align: right;\n",
       "    }\n",
       "</style>\n",
       "<table border=\"1\" class=\"dataframe\">\n",
       "  <thead>\n",
       "    <tr style=\"text-align: right;\">\n",
       "      <th></th>\n",
       "      <th>Corporate Name</th>\n",
       "      <th>Subordinate Unit</th>\n",
       "      <th>Title</th>\n",
       "      <th>Remainder Of Title</th>\n",
       "      <th>Remainder OF Title Page</th>\n",
       "      <th>Date Of Publication</th>\n",
       "      <th>Geographic Name</th>\n",
       "      <th>General Subdivision</th>\n",
       "      <th>pub_year</th>\n",
       "      <th>is_year</th>\n",
       "    </tr>\n",
       "  </thead>\n",
       "  <tbody>\n",
       "    <tr>\n",
       "      <th>871</th>\n",
       "      <td>New York City.</td>\n",
       "      <td>Management and Budget, Office of.</td>\n",
       "      <td>An analysis of Pension Supplementation Senate ...</td>\n",
       "      <td>NaN</td>\n",
       "      <td>NaN</td>\n",
       "      <td>[198-?]</td>\n",
       "      <td>NYC</td>\n",
       "      <td>Pensions.</td>\n",
       "      <td>198</td>\n",
       "      <td>None</td>\n",
       "    </tr>\n",
       "    <tr>\n",
       "      <th>1252</th>\n",
       "      <td>New York City.</td>\n",
       "      <td>Business Services, Department of.</td>\n",
       "      <td>Introducing New York City's Economic Developme...</td>\n",
       "      <td>East Brooklyn, Brooklyn; East Harlem, Manhatta...</td>\n",
       "      <td>NaN</td>\n",
       "      <td>[199-?]</td>\n",
       "      <td>NYC</td>\n",
       "      <td>Economic development.</td>\n",
       "      <td>199</td>\n",
       "      <td>None</td>\n",
       "    </tr>\n",
       "    <tr>\n",
       "      <th>1276</th>\n",
       "      <td>New Amsterdam.</td>\n",
       "      <td>Orphan Masters.</td>\n",
       "      <td>The minutes of the orphanmasters of New Amster...</td>\n",
       "      <td>NaN</td>\n",
       "      <td>translated and edited under the auspices of th...</td>\n",
       "      <td>1902-07</td>\n",
       "      <td>New York (City)</td>\n",
       "      <td>History</td>\n",
       "      <td>207</td>\n",
       "      <td>None</td>\n",
       "    </tr>\n",
       "    <tr>\n",
       "      <th>1351</th>\n",
       "      <td>New York City.</td>\n",
       "      <td>City Planning Commission.</td>\n",
       "      <td>Rezoning New York City.</td>\n",
       "      <td>NaN</td>\n",
       "      <td>NaN</td>\n",
       "      <td>[195?]</td>\n",
       "      <td>NaN</td>\n",
       "      <td>NaN</td>\n",
       "      <td>195</td>\n",
       "      <td>None</td>\n",
       "    </tr>\n",
       "    <tr>\n",
       "      <th>1708</th>\n",
       "      <td>New York City.</td>\n",
       "      <td>City Planning, Department of.</td>\n",
       "      <td>Commercial streets :</td>\n",
       "      <td>access improvements project /</td>\n",
       "      <td>by Transportation Design Section.</td>\n",
       "      <td>[198-?]</td>\n",
       "      <td>NYC</td>\n",
       "      <td>Streets.</td>\n",
       "      <td>198</td>\n",
       "      <td>None</td>\n",
       "    </tr>\n",
       "    <tr>\n",
       "      <th>2477</th>\n",
       "      <td>New York City.</td>\n",
       "      <td>City University.</td>\n",
       "      <td>Persistence and achievement :</td>\n",
       "      <td>a profile of graduates from the City Universit...</td>\n",
       "      <td>by James Murtha, William Protash, and Barry Ka...</td>\n",
       "      <td>[198?]</td>\n",
       "      <td>NYC</td>\n",
       "      <td>Students.</td>\n",
       "      <td>198</td>\n",
       "      <td>None</td>\n",
       "    </tr>\n",
       "    <tr>\n",
       "      <th>2658</th>\n",
       "      <td>New York City.</td>\n",
       "      <td>Human Rights, Commission on.</td>\n",
       "      <td>Gay and lesbian discrimination documentation p...</td>\n",
       "      <td>two year report on complaints of sexual orient...</td>\n",
       "      <td>NaN</td>\n",
       "      <td>[198-?]</td>\n",
       "      <td>NYC</td>\n",
       "      <td>Homosexuality.</td>\n",
       "      <td>198</td>\n",
       "      <td>None</td>\n",
       "    </tr>\n",
       "    <tr>\n",
       "      <th>2751</th>\n",
       "      <td>New York City.</td>\n",
       "      <td>City University.</td>\n",
       "      <td>Professional social workers in public social w...</td>\n",
       "      <td>NaN</td>\n",
       "      <td>Introd. by James R. Dumpson.</td>\n",
       "      <td>[1968 or 9]</td>\n",
       "      <td>NYC</td>\n",
       "      <td>Social casework.</td>\n",
       "      <td>9689</td>\n",
       "      <td>None</td>\n",
       "    </tr>\n",
       "    <tr>\n",
       "      <th>3077</th>\n",
       "      <td>New York City.</td>\n",
       "      <td>Water Board.</td>\n",
       "      <td>City of New York Universal Metering Program :</td>\n",
       "      <td>State Environmental Quality Review, Full Envir...</td>\n",
       "      <td>NaN</td>\n",
       "      <td>[198?]</td>\n",
       "      <td>NYC</td>\n",
       "      <td>Water meters.</td>\n",
       "      <td>198</td>\n",
       "      <td>None</td>\n",
       "    </tr>\n",
       "    <tr>\n",
       "      <th>3120</th>\n",
       "      <td>Cornell University.</td>\n",
       "      <td>New York State Water Resources Institute.</td>\n",
       "      <td>The state of the city's waters, 1994 :</td>\n",
       "      <td>the New York harbor estuary /</td>\n",
       "      <td>by John J. Schwartz and Keith S. Porter.</td>\n",
       "      <td>[199-?]</td>\n",
       "      <td>NYC</td>\n",
       "      <td>Harbor.</td>\n",
       "      <td>199</td>\n",
       "      <td>None</td>\n",
       "    </tr>\n",
       "  </tbody>\n",
       "</table>\n",
       "</div>"
      ],
      "text/plain": [
       "           Corporate Name                           Subordinate Unit  \\\n",
       "871        New York City.          Management and Budget, Office of.   \n",
       "1252       New York City.          Business Services, Department of.   \n",
       "1276       New Amsterdam.                            Orphan Masters.   \n",
       "1351       New York City.                  City Planning Commission.   \n",
       "1708       New York City.              City Planning, Department of.   \n",
       "2477       New York City.                           City University.   \n",
       "2658       New York City.               Human Rights, Commission on.   \n",
       "2751       New York City.                           City University.   \n",
       "3077       New York City.                               Water Board.   \n",
       "3120  Cornell University.  New York State Water Resources Institute.   \n",
       "\n",
       "                                                  Title  \\\n",
       "871   An analysis of Pension Supplementation Senate ...   \n",
       "1252  Introducing New York City's Economic Developme...   \n",
       "1276  The minutes of the orphanmasters of New Amster...   \n",
       "1351                            Rezoning New York City.   \n",
       "1708                               Commercial streets :   \n",
       "2477                      Persistence and achievement :   \n",
       "2658  Gay and lesbian discrimination documentation p...   \n",
       "2751  Professional social workers in public social w...   \n",
       "3077      City of New York Universal Metering Program :   \n",
       "3120             The state of the city's waters, 1994 :   \n",
       "\n",
       "                                     Remainder Of Title  \\\n",
       "871                                                 NaN   \n",
       "1252  East Brooklyn, Brooklyn; East Harlem, Manhatta...   \n",
       "1276                                                NaN   \n",
       "1351                                                NaN   \n",
       "1708                      access improvements project /   \n",
       "2477  a profile of graduates from the City Universit...   \n",
       "2658  two year report on complaints of sexual orient...   \n",
       "2751                                                NaN   \n",
       "3077  State Environmental Quality Review, Full Envir...   \n",
       "3120                      the New York harbor estuary /   \n",
       "\n",
       "                                Remainder OF Title Page Date Of Publication  \\\n",
       "871                                                 NaN             [198-?]   \n",
       "1252                                                NaN             [199-?]   \n",
       "1276  translated and edited under the auspices of th...             1902-07   \n",
       "1351                                                NaN              [195?]   \n",
       "1708                  by Transportation Design Section.             [198-?]   \n",
       "2477  by James Murtha, William Protash, and Barry Ka...              [198?]   \n",
       "2658                                                NaN             [198-?]   \n",
       "2751                       Introd. by James R. Dumpson.         [1968 or 9]   \n",
       "3077                                                NaN              [198?]   \n",
       "3120           by John J. Schwartz and Keith S. Porter.             [199-?]   \n",
       "\n",
       "      Geographic Name    General Subdivision pub_year is_year  \n",
       "871               NYC              Pensions.      198    None  \n",
       "1252              NYC  Economic development.      199    None  \n",
       "1276  New York (City)                History      207    None  \n",
       "1351              NaN                    NaN      195    None  \n",
       "1708              NYC               Streets.      198    None  \n",
       "2477              NYC              Students.      198    None  \n",
       "2658              NYC         Homosexuality.      198    None  \n",
       "2751              NYC       Social casework.     9689    None  \n",
       "3077              NYC          Water meters.      198    None  \n",
       "3120              NYC                Harbor.      199    None  "
      ]
     },
     "execution_count": 513,
     "metadata": {},
     "output_type": "execute_result"
    }
   ],
   "source": [
    "df[df.is_year!=True].head(10)"
   ]
  },
  {
   "cell_type": "code",
   "execution_count": 514,
   "metadata": {},
   "outputs": [
    {
     "data": {
      "text/plain": [
       "0.993"
      ]
     },
     "execution_count": 514,
     "metadata": {},
     "output_type": "execute_result"
    }
   ],
   "source": [
    "#at this point pub_year is over 99% cleaned up. There are still a few hundred records that are not clean. If I have time later, I will go back\n",
    "#and finish cleaning the remaining 0.5%\n",
    "check_pub_year()"
   ]
  },
  {
   "cell_type": "code",
   "execution_count": 515,
   "metadata": {},
   "outputs": [],
   "source": [
    "#filter only cases where we have a year\n",
    "df = df[df.is_year==True]"
   ]
  },
  {
   "cell_type": "code",
   "execution_count": 516,
   "metadata": {},
   "outputs": [],
   "source": [
    "#remove columns used to get year, since we don't need them anymore\n",
    "df.drop(['Date Of Publication','is_year'],axis=1,inplace=True)"
   ]
  },
  {
   "cell_type": "code",
   "execution_count": 517,
   "metadata": {},
   "outputs": [
    {
     "data": {
      "text/html": [
       "<div>\n",
       "<style scoped>\n",
       "    .dataframe tbody tr th:only-of-type {\n",
       "        vertical-align: middle;\n",
       "    }\n",
       "\n",
       "    .dataframe tbody tr th {\n",
       "        vertical-align: top;\n",
       "    }\n",
       "\n",
       "    .dataframe thead th {\n",
       "        text-align: right;\n",
       "    }\n",
       "</style>\n",
       "<table border=\"1\" class=\"dataframe\">\n",
       "  <thead>\n",
       "    <tr style=\"text-align: right;\">\n",
       "      <th></th>\n",
       "      <th>Corporate Name</th>\n",
       "      <th>Subordinate Unit</th>\n",
       "      <th>Title</th>\n",
       "      <th>Remainder Of Title</th>\n",
       "      <th>Remainder OF Title Page</th>\n",
       "      <th>Geographic Name</th>\n",
       "      <th>General Subdivision</th>\n",
       "      <th>pub_year</th>\n",
       "    </tr>\n",
       "  </thead>\n",
       "  <tbody>\n",
       "    <tr>\n",
       "      <th>0</th>\n",
       "      <td>New York City.</td>\n",
       "      <td>Laws, etc.</td>\n",
       "      <td>The charter of the City of New York :</td>\n",
       "      <td>with notes thereon, also a treatise on the pow...</td>\n",
       "      <td>prepared at the request of the Common Council,...</td>\n",
       "      <td>NaN</td>\n",
       "      <td>NaN</td>\n",
       "      <td>1851</td>\n",
       "    </tr>\n",
       "    <tr>\n",
       "      <th>1</th>\n",
       "      <td>New York City.</td>\n",
       "      <td>Laws, etc.</td>\n",
       "      <td>The charter of the City of New York :</td>\n",
       "      <td>with notes thereon, also a treatise on the pow...</td>\n",
       "      <td>prepared at the request of the Common Council,...</td>\n",
       "      <td>NaN</td>\n",
       "      <td>NaN</td>\n",
       "      <td>1854</td>\n",
       "    </tr>\n",
       "    <tr>\n",
       "      <th>2</th>\n",
       "      <td>New York City.</td>\n",
       "      <td>Laws, etc.</td>\n",
       "      <td>An act to reduce several laws :</td>\n",
       "      <td>relative particularly to the City of New York,...</td>\n",
       "      <td>NaN</td>\n",
       "      <td>NaN</td>\n",
       "      <td>NaN</td>\n",
       "      <td>1813</td>\n",
       "    </tr>\n",
       "    <tr>\n",
       "      <th>3</th>\n",
       "      <td>New York City.</td>\n",
       "      <td>Laws, etc.</td>\n",
       "      <td>Journal of the convention in relation, to the ...</td>\n",
       "      <td>begun and held at the City Hall, in the City o...</td>\n",
       "      <td>NaN</td>\n",
       "      <td>NaN</td>\n",
       "      <td>NaN</td>\n",
       "      <td>1846</td>\n",
       "    </tr>\n",
       "    <tr>\n",
       "      <th>4</th>\n",
       "      <td>New York City.</td>\n",
       "      <td>Laws, etc.</td>\n",
       "      <td>An act to reorganize the local government of t...</td>\n",
       "      <td>passed April 30, 1873, as amended; with an app...</td>\n",
       "      <td>NaN</td>\n",
       "      <td>NaN</td>\n",
       "      <td>NaN</td>\n",
       "      <td>1873</td>\n",
       "    </tr>\n",
       "  </tbody>\n",
       "</table>\n",
       "</div>"
      ],
      "text/plain": [
       "   Corporate Name Subordinate Unit  \\\n",
       "0  New York City.       Laws, etc.   \n",
       "1  New York City.       Laws, etc.   \n",
       "2  New York City.       Laws, etc.   \n",
       "3  New York City.       Laws, etc.   \n",
       "4  New York City.       Laws, etc.   \n",
       "\n",
       "                                               Title  \\\n",
       "0              The charter of the City of New York :   \n",
       "1              The charter of the City of New York :   \n",
       "2                    An act to reduce several laws :   \n",
       "3  Journal of the convention in relation, to the ...   \n",
       "4  An act to reorganize the local government of t...   \n",
       "\n",
       "                                  Remainder Of Title  \\\n",
       "0  with notes thereon, also a treatise on the pow...   \n",
       "1  with notes thereon, also a treatise on the pow...   \n",
       "2  relative particularly to the City of New York,...   \n",
       "3  begun and held at the City Hall, in the City o...   \n",
       "4  passed April 30, 1873, as amended; with an app...   \n",
       "\n",
       "                             Remainder OF Title Page Geographic Name  \\\n",
       "0  prepared at the request of the Common Council,...             NaN   \n",
       "1  prepared at the request of the Common Council,...             NaN   \n",
       "2                                                NaN             NaN   \n",
       "3                                                NaN             NaN   \n",
       "4                                                NaN             NaN   \n",
       "\n",
       "  General Subdivision pub_year  \n",
       "0                 NaN     1851  \n",
       "1                 NaN     1854  \n",
       "2                 NaN     1813  \n",
       "3                 NaN     1846  \n",
       "4                 NaN     1873  "
      ]
     },
     "execution_count": 517,
     "metadata": {},
     "output_type": "execute_result"
    }
   ],
   "source": [
    "df.head()"
   ]
  },
  {
   "cell_type": "code",
   "execution_count": 518,
   "metadata": {},
   "outputs": [
    {
     "name": "stdout",
     "output_type": "stream",
     "text": [
      "Pub Dates Between 1803 and 2096\n"
     ]
    }
   ],
   "source": [
    "#get range of years in data\n",
    "##need to look at 2096\n",
    "min_year = df.pub_year.min()\n",
    "max_year = df.pub_year.max()\n",
    "print('Pub Dates Between',min_year,'and',max_year)"
   ]
  },
  {
   "cell_type": "code",
   "execution_count": 519,
   "metadata": {},
   "outputs": [
    {
     "data": {
      "text/html": [
       "<div>\n",
       "<style scoped>\n",
       "    .dataframe tbody tr th:only-of-type {\n",
       "        vertical-align: middle;\n",
       "    }\n",
       "\n",
       "    .dataframe tbody tr th {\n",
       "        vertical-align: top;\n",
       "    }\n",
       "\n",
       "    .dataframe thead th {\n",
       "        text-align: right;\n",
       "    }\n",
       "</style>\n",
       "<table border=\"1\" class=\"dataframe\">\n",
       "  <thead>\n",
       "    <tr style=\"text-align: right;\">\n",
       "      <th></th>\n",
       "      <th>Corporate Name</th>\n",
       "      <th>Subordinate Unit</th>\n",
       "      <th>Title</th>\n",
       "      <th>Remainder Of Title</th>\n",
       "      <th>Remainder OF Title Page</th>\n",
       "      <th>Geographic Name</th>\n",
       "      <th>General Subdivision</th>\n",
       "      <th>pub_year</th>\n",
       "    </tr>\n",
       "  </thead>\n",
       "  <tbody>\n",
       "    <tr>\n",
       "      <th>25599</th>\n",
       "      <td>New York City.</td>\n",
       "      <td>Landmarks Preservation Commission.</td>\n",
       "      <td>(Former) Sunset Park Court House :</td>\n",
       "      <td>4201 Fourth Avenue, Brooklyn /</td>\n",
       "      <td>designation report.</td>\n",
       "      <td>NYC</td>\n",
       "      <td>Greek revival (Architecture)</td>\n",
       "      <td>2096</td>\n",
       "    </tr>\n",
       "  </tbody>\n",
       "</table>\n",
       "</div>"
      ],
      "text/plain": [
       "       Corporate Name                    Subordinate Unit  \\\n",
       "25599  New York City.  Landmarks Preservation Commission.   \n",
       "\n",
       "                                    Title              Remainder Of Title  \\\n",
       "25599  (Former) Sunset Park Court House :  4201 Fourth Avenue, Brooklyn /   \n",
       "\n",
       "      Remainder OF Title Page Geographic Name           General Subdivision  \\\n",
       "25599     designation report.             NYC  Greek revival (Architecture)   \n",
       "\n",
       "      pub_year  \n",
       "25599     2096  "
      ]
     },
     "execution_count": 519,
     "metadata": {},
     "output_type": "execute_result"
    }
   ],
   "source": [
    "#outlier, going back to check if I can correct it\n",
    "df[df.pub_year==2096]"
   ]
  },
  {
   "cell_type": "code",
   "execution_count": 520,
   "metadata": {},
   "outputs": [],
   "source": [
    "#found it, 2001\n",
    "df.loc[df.pub_year==2096,'pub_year'] = 2001"
   ]
  },
  {
   "cell_type": "code",
   "execution_count": 521,
   "metadata": {},
   "outputs": [
    {
     "name": "stdout",
     "output_type": "stream",
     "text": [
      "Pub Dates Between 1803 and 2011\n"
     ]
    }
   ],
   "source": [
    "#get range of years in data\n",
    "min_year = df.pub_year.min()\n",
    "max_year = df.pub_year.max()\n",
    "print('Pub Dates Between',min_year,'and',max_year)"
   ]
  },
  {
   "cell_type": "raw",
   "metadata": {},
   "source": [
    "#had thought about trying to predict decade, but was successful in predicting year\n",
    "df['pub_decade'] = None\n",
    "def get_decade(year):\n",
    "    first3 = str(year)[:3]\n",
    "    decade = int(first3)*10\n",
    "    return decade\n",
    "\n",
    "df.pub_decade = df.pub_year.apply(get_decade)"
   ]
  },
  {
   "cell_type": "code",
   "execution_count": 522,
   "metadata": {},
   "outputs": [],
   "source": [
    "df.reset_index(inplace=True)"
   ]
  },
  {
   "cell_type": "code",
   "execution_count": 523,
   "metadata": {},
   "outputs": [],
   "source": [
    "#get the number of documents we have by year\n",
    "##the fact that there are several years where we have very few documents could present a problem\n",
    "annual_doc_count = df.groupby('pub_year').index.count()\n",
    "doc_count_df = pd.concat([pd.Series(annual_doc_count.index).reset_index(drop=True)\n",
    "                          ,annual_doc_count.reset_index(drop=True)],axis=1).rename({'index':'doc_count'},axis=1)"
   ]
  },
  {
   "cell_type": "code",
   "execution_count": 524,
   "metadata": {},
   "outputs": [
    {
     "data": {
      "text/plain": [
       "<matplotlib.axes._subplots.AxesSubplot at 0x1a28b915c0>"
      ]
     },
     "execution_count": 524,
     "metadata": {},
     "output_type": "execute_result"
    },
    {
     "data": {
      "image/png": "[encoded data removed]",
      "text/plain": [
       "<Figure size 432x288 with 1 Axes>"
      ]
     },
     "metadata": {
      "needs_background": "light"
     },
     "output_type": "display_data"
    }
   ],
   "source": [
    "#plot number of documents by year\n",
    "##at a glance, it appears that anything far in the past is not going to have many documents\n",
    "##this was just a quick visualization. Could be improved significantly\n",
    "sns.barplot(doc_count_df.pub_year,doc_count_df.doc_count)"
   ]
  },
  {
   "cell_type": "code",
   "execution_count": 525,
   "metadata": {},
   "outputs": [],
   "source": [
    "#only going to look at publications after 1900. I ran a test with all and was seeing a large amount of error with the earlier years. \n",
    "df = df[df.pub_year>1900]"
   ]
  },
  {
   "cell_type": "code",
   "execution_count": 526,
   "metadata": {},
   "outputs": [
    {
     "data": {
      "text/plain": [
       "index                      0.000000\n",
       "Corporate Name             0.201576\n",
       "Subordinate Unit           0.360450\n",
       "Title                      0.000297\n",
       "Remainder Of Title         0.457633\n",
       "Remainder OF Title Page    0.598632\n",
       "Geographic Name            0.229040\n",
       "General Subdivision        0.238554\n",
       "pub_year                   0.000000\n",
       "dtype: float64"
      ]
     },
     "execution_count": 526,
     "metadata": {},
     "output_type": "execute_result"
    }
   ],
   "source": [
    "#check null density on the rest of the data set\n",
    "##looks like there is a lot, but we might still be able to work with what is in those columns. Will keep them for now. \n",
    "df.isnull().sum()/len(df)"
   ]
  },
  {
   "cell_type": "code",
   "execution_count": 527,
   "metadata": {},
   "outputs": [],
   "source": [
    "#however, I am going to replace cases where no information provided with text \"some_text\". Using this word explicitly, so I can recognize it if it comes up later\n",
    "df.replace({np.nan:''},inplace=True)"
   ]
  },
  {
   "cell_type": "markdown",
   "metadata": {},
   "source": [
    "### With the rest of the text columns, going to execute the following:\n",
    "- Set all words to lowercase\n",
    "- Remove punctuation\n",
    "- Remove stop words\n",
    "- Remove words with fewer than 2 characters\n",
    "- Tokenize \n",
    "- Stem"
   ]
  },
  {
   "cell_type": "code",
   "execution_count": 528,
   "metadata": {},
   "outputs": [],
   "source": [
    "#rename columns, so they are easier to work with moving forward\n",
    "for col in df.columns:\n",
    "    new_col = col.replace(' ','_').lower()\n",
    "    df.rename({col:new_col},inplace=True,axis=1)"
   ]
  },
  {
   "cell_type": "code",
   "execution_count": 529,
   "metadata": {},
   "outputs": [],
   "source": [
    "# nltk.download('stopwords')"
   ]
  },
  {
   "cell_type": "code",
   "execution_count": 530,
   "metadata": {},
   "outputs": [],
   "source": [
    "# nltk.download('punkt')"
   ]
  },
  {
   "cell_type": "code",
   "execution_count": 531,
   "metadata": {},
   "outputs": [],
   "source": [
    "stop = set(stopwords.words('english') + list(string.punctuation))"
   ]
  },
  {
   "cell_type": "code",
   "execution_count": 532,
   "metadata": {},
   "outputs": [],
   "source": [
    "stemmer = PorterStemmer()\n",
    "re_punct = re.compile('[' + ''.join(string.punctuation) + ']')"
   ]
  },
  {
   "cell_type": "code",
   "execution_count": 533,
   "metadata": {
    "collapsed": true
   },
   "outputs": [],
   "source": [
    "#set all text to lowercase, tokenize, replace stopwords and punctation, stem all words\n",
    "def preprocess(text):\n",
    "    try:\n",
    "        text = text.lower()\n",
    "        tokens = word_tokenize(text)\n",
    "        tokens = [t for t in tokens if not t in stop]\n",
    "        tokens = [re.sub(re_punct, '', t) for t in tokens]\n",
    "        tokens = [t for t in tokens if len(t) > 2]\n",
    "        tokens = [stemmer.stem(t) for t in tokens]\n",
    "        if len(tokens) == 0:\n",
    "            return None\n",
    "        else:\n",
    "            return ' '.join(tokens)\n",
    "    except:\n",
    "        return None"
   ]
  },
  {
   "cell_type": "code",
   "execution_count": 534,
   "metadata": {},
   "outputs": [],
   "source": [
    "#run pre-processing function on all text columns\n",
    "text_cols = list(df)\n",
    "text_cols.remove('pub_year')\n",
    "for col in text_cols:\n",
    "    processed_col = '_'.join(['p',col])\n",
    "    df[processed_col] = df[col].apply(preprocess)"
   ]
  },
  {
   "cell_type": "code",
   "execution_count": 535,
   "metadata": {},
   "outputs": [],
   "source": [
    "#drop old text columns\n",
    "df.drop(text_cols,axis=1,inplace=True)"
   ]
  },
  {
   "cell_type": "code",
   "execution_count": 536,
   "metadata": {},
   "outputs": [],
   "source": [
    "#combining all text into one column for now. Unless I can't develop a predictive model, I don't know how important labeling the different sections are going to be\n",
    "text_cols = list(df)\n",
    "text_cols.remove('pub_year')\n",
    "df['all_text'] = df[text_cols].apply(lambda row: ' '.join(row.values.astype(str)), axis=1)"
   ]
  },
  {
   "cell_type": "markdown",
   "metadata": {
    "toc-hr-collapsed": false
   },
   "source": [
    "# Feature Engineering "
   ]
  },
  {
   "cell_type": "markdown",
   "metadata": {},
   "source": [
    "### Bag of Words Using TFIDF"
   ]
  },
  {
   "cell_type": "code",
   "execution_count": 537,
   "metadata": {},
   "outputs": [],
   "source": [
    "df.replace({None:'some_text'},inplace=True)"
   ]
  },
  {
   "cell_type": "code",
   "execution_count": 538,
   "metadata": {},
   "outputs": [],
   "source": [
    "text_data = np.array(df.all_text)"
   ]
  },
  {
   "cell_type": "code",
   "execution_count": 539,
   "metadata": {},
   "outputs": [],
   "source": [
    "# min_df > word must appear in at least 30 documents\n",
    "# max_df > word can appear in at most 1% of the documents\n",
    "##using these numbers to get at words that are rarely used, thus likely used in a specific year, but not widely across documents\n",
    "tfidf = TfidfVectorizer(min_df=30, max_df=0.01) #ngram_range=(1,5)"
   ]
  },
  {
   "cell_type": "code",
   "execution_count": 540,
   "metadata": {},
   "outputs": [],
   "source": [
    "X = tfidf.fit_transform(text_data)"
   ]
  },
  {
   "cell_type": "markdown",
   "metadata": {
    "toc-hr-collapsed": false
   },
   "source": [
    "# Modeling"
   ]
  },
  {
   "cell_type": "markdown",
   "metadata": {},
   "source": [
    "### Train/Test Split"
   ]
  },
  {
   "cell_type": "code",
   "execution_count": 541,
   "metadata": {},
   "outputs": [],
   "source": [
    "y = df.pub_year.astype(int)"
   ]
  },
  {
   "cell_type": "code",
   "execution_count": 542,
   "metadata": {},
   "outputs": [],
   "source": [
    "#split data 80/20\n",
    "X_train, X_test, y_train, y_test = train_test_split(X, y, test_size=0.2, random_state=2393)"
   ]
  },
  {
   "cell_type": "markdown",
   "metadata": {},
   "source": [
    "### Feature Selection"
   ]
  },
  {
   "cell_type": "code",
   "execution_count": 543,
   "metadata": {},
   "outputs": [
    {
     "name": "stdout",
     "output_type": "stream",
     "text": [
      "1094 total features prior to selection\n"
     ]
    }
   ],
   "source": [
    "#get number of features after vectorizing\n",
    "total_features = len(tfidf.get_feature_names())\n",
    "print('{} total features prior to selection'.format(total_features))"
   ]
  },
  {
   "cell_type": "code",
   "execution_count": 544,
   "metadata": {},
   "outputs": [],
   "source": [
    "#select the top 500 words most closely associated with pub_year based on chi-squared test\n",
    "ch2 = SelectKBest(chi2, k=500)\n",
    "X_train = ch2.fit_transform(X_train, y_train)\n",
    "X_test = ch2.transform(X_test)"
   ]
  },
  {
   "cell_type": "code",
   "execution_count": 545,
   "metadata": {},
   "outputs": [
    {
     "data": {
      "text/html": [
       "<div>\n",
       "<style scoped>\n",
       "    .dataframe tbody tr th:only-of-type {\n",
       "        vertical-align: middle;\n",
       "    }\n",
       "\n",
       "    .dataframe tbody tr th {\n",
       "        vertical-align: top;\n",
       "    }\n",
       "\n",
       "    .dataframe thead th {\n",
       "        text-align: right;\n",
       "    }\n",
       "</style>\n",
       "<table border=\"1\" class=\"dataframe\">\n",
       "  <thead>\n",
       "    <tr style=\"text-align: right;\">\n",
       "      <th></th>\n",
       "      <th>token</th>\n",
       "      <th>ch2</th>\n",
       "    </tr>\n",
       "  </thead>\n",
       "  <tbody>\n",
       "    <tr>\n",
       "      <th>25</th>\n",
       "      <td>1977</td>\n",
       "      <td>1236.27</td>\n",
       "    </tr>\n",
       "    <tr>\n",
       "      <th>4</th>\n",
       "      <td>1939</td>\n",
       "      <td>1149.77</td>\n",
       "    </tr>\n",
       "    <tr>\n",
       "      <th>28</th>\n",
       "      <td>1979</td>\n",
       "      <td>1138.24</td>\n",
       "    </tr>\n",
       "    <tr>\n",
       "      <th>1</th>\n",
       "      <td>1915</td>\n",
       "      <td>1040.38</td>\n",
       "    </tr>\n",
       "    <tr>\n",
       "      <th>2</th>\n",
       "      <td>1936</td>\n",
       "      <td>1003.66</td>\n",
       "    </tr>\n",
       "    <tr>\n",
       "      <th>709</th>\n",
       "      <td>odwyer</td>\n",
       "      <td>1002.5</td>\n",
       "    </tr>\n",
       "    <tr>\n",
       "      <th>1014</th>\n",
       "      <td>theater</td>\n",
       "      <td>1002.44</td>\n",
       "    </tr>\n",
       "    <tr>\n",
       "      <th>24</th>\n",
       "      <td>1976</td>\n",
       "      <td>993.945</td>\n",
       "    </tr>\n",
       "    <tr>\n",
       "      <th>26</th>\n",
       "      <td>1978</td>\n",
       "      <td>932.303</td>\n",
       "    </tr>\n",
       "    <tr>\n",
       "      <th>38</th>\n",
       "      <td>1989</td>\n",
       "      <td>827.927</td>\n",
       "    </tr>\n",
       "    <tr>\n",
       "      <th>29</th>\n",
       "      <td>1980</td>\n",
       "      <td>802.028</td>\n",
       "    </tr>\n",
       "    <tr>\n",
       "      <th>135</th>\n",
       "      <td>astor</td>\n",
       "      <td>798.213</td>\n",
       "    </tr>\n",
       "    <tr>\n",
       "      <th>5</th>\n",
       "      <td>1940</td>\n",
       "      <td>773.178</td>\n",
       "    </tr>\n",
       "    <tr>\n",
       "      <th>31</th>\n",
       "      <td>1982</td>\n",
       "      <td>771.982</td>\n",
       "    </tr>\n",
       "    <tr>\n",
       "      <th>339</th>\n",
       "      <td>dock</td>\n",
       "      <td>723.358</td>\n",
       "    </tr>\n",
       "    <tr>\n",
       "      <th>3</th>\n",
       "      <td>1938</td>\n",
       "      <td>723.191</td>\n",
       "    </tr>\n",
       "    <tr>\n",
       "      <th>23</th>\n",
       "      <td>1975</td>\n",
       "      <td>697.093</td>\n",
       "    </tr>\n",
       "    <tr>\n",
       "      <th>901</th>\n",
       "      <td>row</td>\n",
       "      <td>683.617</td>\n",
       "    </tr>\n",
       "    <tr>\n",
       "      <th>98</th>\n",
       "      <td>aldermen</td>\n",
       "      <td>669.975</td>\n",
       "    </tr>\n",
       "    <tr>\n",
       "      <th>53</th>\n",
       "      <td>2003</td>\n",
       "      <td>662.176</td>\n",
       "    </tr>\n",
       "    <tr>\n",
       "      <th>234</th>\n",
       "      <td>clean</td>\n",
       "      <td>645.072</td>\n",
       "    </tr>\n",
       "    <tr>\n",
       "      <th>89</th>\n",
       "      <td>aim</td>\n",
       "      <td>619.262</td>\n",
       "    </tr>\n",
       "    <tr>\n",
       "      <th>59</th>\n",
       "      <td>2009</td>\n",
       "      <td>618.653</td>\n",
       "    </tr>\n",
       "    <tr>\n",
       "      <th>8</th>\n",
       "      <td>1961</td>\n",
       "      <td>614.032</td>\n",
       "    </tr>\n",
       "    <tr>\n",
       "      <th>847</th>\n",
       "      <td>refus</td>\n",
       "      <td>612.57</td>\n",
       "    </tr>\n",
       "    <tr>\n",
       "      <th>55</th>\n",
       "      <td>2005</td>\n",
       "      <td>579.663</td>\n",
       "    </tr>\n",
       "    <tr>\n",
       "      <th>1075</th>\n",
       "      <td>ward</td>\n",
       "      <td>547.742</td>\n",
       "    </tr>\n",
       "    <tr>\n",
       "      <th>44</th>\n",
       "      <td>1995</td>\n",
       "      <td>546.594</td>\n",
       "    </tr>\n",
       "    <tr>\n",
       "      <th>326</th>\n",
       "      <td>dinkin</td>\n",
       "      <td>546.116</td>\n",
       "    </tr>\n",
       "    <tr>\n",
       "      <th>144</th>\n",
       "      <td>ave</td>\n",
       "      <td>538.464</td>\n",
       "    </tr>\n",
       "    <tr>\n",
       "      <th>50</th>\n",
       "      <td>2000</td>\n",
       "      <td>535.877</td>\n",
       "    </tr>\n",
       "    <tr>\n",
       "      <th>33</th>\n",
       "      <td>1984</td>\n",
       "      <td>505.887</td>\n",
       "    </tr>\n",
       "    <tr>\n",
       "      <th>940</th>\n",
       "      <td>solid</td>\n",
       "      <td>496.415</td>\n",
       "    </tr>\n",
       "    <tr>\n",
       "      <th>539</th>\n",
       "      <td>inservic</td>\n",
       "      <td>490.715</td>\n",
       "    </tr>\n",
       "    <tr>\n",
       "      <th>586</th>\n",
       "      <td>koch</td>\n",
       "      <td>484.978</td>\n",
       "    </tr>\n",
       "    <tr>\n",
       "      <th>51</th>\n",
       "      <td>2001</td>\n",
       "      <td>483.19</td>\n",
       "    </tr>\n",
       "    <tr>\n",
       "      <th>30</th>\n",
       "      <td>1981</td>\n",
       "      <td>481.706</td>\n",
       "    </tr>\n",
       "    <tr>\n",
       "      <th>242</th>\n",
       "      <td>cola</td>\n",
       "      <td>481.296</td>\n",
       "    </tr>\n",
       "    <tr>\n",
       "      <th>39</th>\n",
       "      <td>1990</td>\n",
       "      <td>473.473</td>\n",
       "    </tr>\n",
       "    <tr>\n",
       "      <th>1028</th>\n",
       "      <td>track</td>\n",
       "      <td>467.588</td>\n",
       "    </tr>\n",
       "    <tr>\n",
       "      <th>57</th>\n",
       "      <td>2007</td>\n",
       "      <td>465.798</td>\n",
       "    </tr>\n",
       "    <tr>\n",
       "      <th>6</th>\n",
       "      <td>1949</td>\n",
       "      <td>455.646</td>\n",
       "    </tr>\n",
       "    <tr>\n",
       "      <th>311</th>\n",
       "      <td>defens</td>\n",
       "      <td>451.265</td>\n",
       "    </tr>\n",
       "    <tr>\n",
       "      <th>27</th>\n",
       "      <td>1978june</td>\n",
       "      <td>447.935</td>\n",
       "    </tr>\n",
       "    <tr>\n",
       "      <th>43</th>\n",
       "      <td>1994</td>\n",
       "      <td>437.222</td>\n",
       "    </tr>\n",
       "    <tr>\n",
       "      <th>514</th>\n",
       "      <td>hygien</td>\n",
       "      <td>436.827</td>\n",
       "    </tr>\n",
       "    <tr>\n",
       "      <th>924</th>\n",
       "      <td>sewag</td>\n",
       "      <td>432.272</td>\n",
       "    </tr>\n",
       "    <tr>\n",
       "      <th>707</th>\n",
       "      <td>occup</td>\n",
       "      <td>426.866</td>\n",
       "    </tr>\n",
       "    <tr>\n",
       "      <th>56</th>\n",
       "      <td>2006</td>\n",
       "      <td>422.632</td>\n",
       "    </tr>\n",
       "    <tr>\n",
       "      <th>779</th>\n",
       "      <td>prep</td>\n",
       "      <td>418.972</td>\n",
       "    </tr>\n",
       "  </tbody>\n",
       "</table>\n",
       "</div>"
      ],
      "text/plain": [
       "         token      ch2\n",
       "25        1977  1236.27\n",
       "4         1939  1149.77\n",
       "28        1979  1138.24\n",
       "1         1915  1040.38\n",
       "2         1936  1003.66\n",
       "709     odwyer   1002.5\n",
       "1014   theater  1002.44\n",
       "24        1976  993.945\n",
       "26        1978  932.303\n",
       "38        1989  827.927\n",
       "29        1980  802.028\n",
       "135      astor  798.213\n",
       "5         1940  773.178\n",
       "31        1982  771.982\n",
       "339       dock  723.358\n",
       "3         1938  723.191\n",
       "23        1975  697.093\n",
       "901        row  683.617\n",
       "98    aldermen  669.975\n",
       "53        2003  662.176\n",
       "234      clean  645.072\n",
       "89         aim  619.262\n",
       "59        2009  618.653\n",
       "8         1961  614.032\n",
       "847      refus   612.57\n",
       "55        2005  579.663\n",
       "1075      ward  547.742\n",
       "44        1995  546.594\n",
       "326     dinkin  546.116\n",
       "144        ave  538.464\n",
       "50        2000  535.877\n",
       "33        1984  505.887\n",
       "940      solid  496.415\n",
       "539   inservic  490.715\n",
       "586       koch  484.978\n",
       "51        2001   483.19\n",
       "30        1981  481.706\n",
       "242       cola  481.296\n",
       "39        1990  473.473\n",
       "1028     track  467.588\n",
       "57        2007  465.798\n",
       "6         1949  455.646\n",
       "311     defens  451.265\n",
       "27    1978june  447.935\n",
       "43        1994  437.222\n",
       "514     hygien  436.827\n",
       "924      sewag  432.272\n",
       "707      occup  426.866\n",
       "56        2006  422.632\n",
       "779       prep  418.972"
      ]
     },
     "execution_count": 545,
     "metadata": {},
     "output_type": "execute_result"
    }
   ],
   "source": [
    "#show the top 50 features being used\n",
    "##notice there are a lot of dates that rise to the surface\n",
    "##This makes sense. If you can find a date in body of the article, it's probably a good predictor of the pub_date\n",
    "feature_scores = pd.DataFrame([tfidf.get_feature_names(), ch2.scores_.tolist()]).T.rename(columns={0:'token',1:'ch2'})\n",
    "feature_scores.sort_values(by='ch2',ascending=False,na_position='last').head(50)"
   ]
  },
  {
   "cell_type": "code",
   "execution_count": 546,
   "metadata": {},
   "outputs": [
    {
     "data": {
      "text/plain": [
       "LinearSVC(C=1.0, class_weight=None, dual=True, fit_intercept=True,\n",
       "     intercept_scaling=1, loss='squared_hinge', max_iter=1000,\n",
       "     multi_class='ovr', penalty='l2', random_state=None, tol=0.0001,\n",
       "     verbose=0)"
      ]
     },
     "execution_count": 546,
     "metadata": {},
     "output_type": "execute_result"
    }
   ],
   "source": [
    "#fit a linear support vector classifier\n",
    "##Based on my research, SVMs perform well for this sort of problem, as they tend to handle high dimensionality really well, which we very much have here.\n",
    "classifier = LinearSVC()\n",
    "classifier.fit(X_train, y_train)"
   ]
  },
  {
   "cell_type": "code",
   "execution_count": 547,
   "metadata": {},
   "outputs": [
    {
     "name": "stdout",
     "output_type": "stream",
     "text": [
      "Accuracy: 0.125\n"
     ]
    }
   ],
   "source": [
    "#although I am treating this as a classification problem, traditional performance measures do not adequately reveal how well the classifier performs\n",
    "print('Accuracy: {}'.format(round(classifier.score(X_test, y_test), 3)))"
   ]
  },
  {
   "cell_type": "code",
   "execution_count": 548,
   "metadata": {},
   "outputs": [],
   "source": [
    "#get predictions from test set\n",
    "preds = pd.Series(classifier.predict(X_test))"
   ]
  },
  {
   "cell_type": "code",
   "execution_count": 549,
   "metadata": {},
   "outputs": [],
   "source": [
    "#set up predicted vs actuals data\n",
    "results = pd.concat([y_test.reset_index(drop=True),preds.reset_index(drop=True)],axis=1).rename({'pub_year':'actual',0:'predicted'},axis=1)\n",
    "results['error'] = results.actual-results.predicted"
   ]
  },
  {
   "cell_type": "code",
   "execution_count": 550,
   "metadata": {},
   "outputs": [
    {
     "data": {
      "text/html": [
       "<div>\n",
       "<style scoped>\n",
       "    .dataframe tbody tr th:only-of-type {\n",
       "        vertical-align: middle;\n",
       "    }\n",
       "\n",
       "    .dataframe tbody tr th {\n",
       "        vertical-align: top;\n",
       "    }\n",
       "\n",
       "    .dataframe thead th {\n",
       "        text-align: right;\n",
       "    }\n",
       "</style>\n",
       "<table border=\"1\" class=\"dataframe\">\n",
       "  <thead>\n",
       "    <tr style=\"text-align: right;\">\n",
       "      <th></th>\n",
       "      <th>actual</th>\n",
       "      <th>predicted</th>\n",
       "      <th>error</th>\n",
       "    </tr>\n",
       "  </thead>\n",
       "  <tbody>\n",
       "    <tr>\n",
       "      <th>4069</th>\n",
       "      <td>1969</td>\n",
       "      <td>1964</td>\n",
       "      <td>5</td>\n",
       "    </tr>\n",
       "    <tr>\n",
       "      <th>1909</th>\n",
       "      <td>1967</td>\n",
       "      <td>1967</td>\n",
       "      <td>0</td>\n",
       "    </tr>\n",
       "    <tr>\n",
       "      <th>2852</th>\n",
       "      <td>1992</td>\n",
       "      <td>1993</td>\n",
       "      <td>-1</td>\n",
       "    </tr>\n",
       "    <tr>\n",
       "      <th>1607</th>\n",
       "      <td>1993</td>\n",
       "      <td>1993</td>\n",
       "      <td>0</td>\n",
       "    </tr>\n",
       "    <tr>\n",
       "      <th>5225</th>\n",
       "      <td>1998</td>\n",
       "      <td>1995</td>\n",
       "      <td>3</td>\n",
       "    </tr>\n",
       "    <tr>\n",
       "      <th>281</th>\n",
       "      <td>1979</td>\n",
       "      <td>1967</td>\n",
       "      <td>12</td>\n",
       "    </tr>\n",
       "    <tr>\n",
       "      <th>3102</th>\n",
       "      <td>1978</td>\n",
       "      <td>2006</td>\n",
       "      <td>-28</td>\n",
       "    </tr>\n",
       "    <tr>\n",
       "      <th>3174</th>\n",
       "      <td>2002</td>\n",
       "      <td>1967</td>\n",
       "      <td>35</td>\n",
       "    </tr>\n",
       "    <tr>\n",
       "      <th>1157</th>\n",
       "      <td>1985</td>\n",
       "      <td>1994</td>\n",
       "      <td>-9</td>\n",
       "    </tr>\n",
       "    <tr>\n",
       "      <th>103</th>\n",
       "      <td>1993</td>\n",
       "      <td>1961</td>\n",
       "      <td>32</td>\n",
       "    </tr>\n",
       "    <tr>\n",
       "      <th>3388</th>\n",
       "      <td>1987</td>\n",
       "      <td>1988</td>\n",
       "      <td>-1</td>\n",
       "    </tr>\n",
       "    <tr>\n",
       "      <th>2186</th>\n",
       "      <td>1968</td>\n",
       "      <td>1985</td>\n",
       "      <td>-17</td>\n",
       "    </tr>\n",
       "    <tr>\n",
       "      <th>2241</th>\n",
       "      <td>1966</td>\n",
       "      <td>1925</td>\n",
       "      <td>41</td>\n",
       "    </tr>\n",
       "    <tr>\n",
       "      <th>527</th>\n",
       "      <td>1912</td>\n",
       "      <td>1915</td>\n",
       "      <td>-3</td>\n",
       "    </tr>\n",
       "    <tr>\n",
       "      <th>2786</th>\n",
       "      <td>1979</td>\n",
       "      <td>1999</td>\n",
       "      <td>-20</td>\n",
       "    </tr>\n",
       "    <tr>\n",
       "      <th>687</th>\n",
       "      <td>2000</td>\n",
       "      <td>1951</td>\n",
       "      <td>49</td>\n",
       "    </tr>\n",
       "    <tr>\n",
       "      <th>4242</th>\n",
       "      <td>1977</td>\n",
       "      <td>1985</td>\n",
       "      <td>-8</td>\n",
       "    </tr>\n",
       "    <tr>\n",
       "      <th>268</th>\n",
       "      <td>1964</td>\n",
       "      <td>1984</td>\n",
       "      <td>-20</td>\n",
       "    </tr>\n",
       "    <tr>\n",
       "      <th>752</th>\n",
       "      <td>1934</td>\n",
       "      <td>1962</td>\n",
       "      <td>-28</td>\n",
       "    </tr>\n",
       "    <tr>\n",
       "      <th>1816</th>\n",
       "      <td>1930</td>\n",
       "      <td>1966</td>\n",
       "      <td>-36</td>\n",
       "    </tr>\n",
       "    <tr>\n",
       "      <th>4630</th>\n",
       "      <td>1958</td>\n",
       "      <td>1966</td>\n",
       "      <td>-8</td>\n",
       "    </tr>\n",
       "    <tr>\n",
       "      <th>3315</th>\n",
       "      <td>2001</td>\n",
       "      <td>1967</td>\n",
       "      <td>34</td>\n",
       "    </tr>\n",
       "    <tr>\n",
       "      <th>1504</th>\n",
       "      <td>1990</td>\n",
       "      <td>1967</td>\n",
       "      <td>23</td>\n",
       "    </tr>\n",
       "    <tr>\n",
       "      <th>866</th>\n",
       "      <td>1932</td>\n",
       "      <td>1925</td>\n",
       "      <td>7</td>\n",
       "    </tr>\n",
       "    <tr>\n",
       "      <th>643</th>\n",
       "      <td>1950</td>\n",
       "      <td>1989</td>\n",
       "      <td>-39</td>\n",
       "    </tr>\n",
       "    <tr>\n",
       "      <th>3557</th>\n",
       "      <td>1961</td>\n",
       "      <td>1994</td>\n",
       "      <td>-33</td>\n",
       "    </tr>\n",
       "    <tr>\n",
       "      <th>1789</th>\n",
       "      <td>1981</td>\n",
       "      <td>1997</td>\n",
       "      <td>-16</td>\n",
       "    </tr>\n",
       "    <tr>\n",
       "      <th>4992</th>\n",
       "      <td>1970</td>\n",
       "      <td>1967</td>\n",
       "      <td>3</td>\n",
       "    </tr>\n",
       "    <tr>\n",
       "      <th>1152</th>\n",
       "      <td>1990</td>\n",
       "      <td>2003</td>\n",
       "      <td>-13</td>\n",
       "    </tr>\n",
       "    <tr>\n",
       "      <th>81</th>\n",
       "      <td>1965</td>\n",
       "      <td>1974</td>\n",
       "      <td>-9</td>\n",
       "    </tr>\n",
       "    <tr>\n",
       "      <th>5353</th>\n",
       "      <td>1992</td>\n",
       "      <td>1975</td>\n",
       "      <td>17</td>\n",
       "    </tr>\n",
       "    <tr>\n",
       "      <th>661</th>\n",
       "      <td>1972</td>\n",
       "      <td>1967</td>\n",
       "      <td>5</td>\n",
       "    </tr>\n",
       "    <tr>\n",
       "      <th>4251</th>\n",
       "      <td>1967</td>\n",
       "      <td>1967</td>\n",
       "      <td>0</td>\n",
       "    </tr>\n",
       "    <tr>\n",
       "      <th>4667</th>\n",
       "      <td>1979</td>\n",
       "      <td>1964</td>\n",
       "      <td>15</td>\n",
       "    </tr>\n",
       "    <tr>\n",
       "      <th>3527</th>\n",
       "      <td>1995</td>\n",
       "      <td>1967</td>\n",
       "      <td>28</td>\n",
       "    </tr>\n",
       "    <tr>\n",
       "      <th>1438</th>\n",
       "      <td>1979</td>\n",
       "      <td>1967</td>\n",
       "      <td>12</td>\n",
       "    </tr>\n",
       "    <tr>\n",
       "      <th>1618</th>\n",
       "      <td>1971</td>\n",
       "      <td>1971</td>\n",
       "      <td>0</td>\n",
       "    </tr>\n",
       "    <tr>\n",
       "      <th>2253</th>\n",
       "      <td>1962</td>\n",
       "      <td>1967</td>\n",
       "      <td>-5</td>\n",
       "    </tr>\n",
       "    <tr>\n",
       "      <th>621</th>\n",
       "      <td>2004</td>\n",
       "      <td>1965</td>\n",
       "      <td>39</td>\n",
       "    </tr>\n",
       "    <tr>\n",
       "      <th>5002</th>\n",
       "      <td>1997</td>\n",
       "      <td>1996</td>\n",
       "      <td>1</td>\n",
       "    </tr>\n",
       "    <tr>\n",
       "      <th>4841</th>\n",
       "      <td>1997</td>\n",
       "      <td>1967</td>\n",
       "      <td>30</td>\n",
       "    </tr>\n",
       "    <tr>\n",
       "      <th>1834</th>\n",
       "      <td>2001</td>\n",
       "      <td>2002</td>\n",
       "      <td>-1</td>\n",
       "    </tr>\n",
       "    <tr>\n",
       "      <th>4196</th>\n",
       "      <td>2008</td>\n",
       "      <td>1992</td>\n",
       "      <td>16</td>\n",
       "    </tr>\n",
       "    <tr>\n",
       "      <th>3812</th>\n",
       "      <td>1975</td>\n",
       "      <td>1971</td>\n",
       "      <td>4</td>\n",
       "    </tr>\n",
       "    <tr>\n",
       "      <th>732</th>\n",
       "      <td>1989</td>\n",
       "      <td>1994</td>\n",
       "      <td>-5</td>\n",
       "    </tr>\n",
       "    <tr>\n",
       "      <th>3731</th>\n",
       "      <td>1977</td>\n",
       "      <td>1977</td>\n",
       "      <td>0</td>\n",
       "    </tr>\n",
       "    <tr>\n",
       "      <th>3057</th>\n",
       "      <td>1942</td>\n",
       "      <td>1989</td>\n",
       "      <td>-47</td>\n",
       "    </tr>\n",
       "    <tr>\n",
       "      <th>4317</th>\n",
       "      <td>1955</td>\n",
       "      <td>1990</td>\n",
       "      <td>-35</td>\n",
       "    </tr>\n",
       "    <tr>\n",
       "      <th>2973</th>\n",
       "      <td>1978</td>\n",
       "      <td>1978</td>\n",
       "      <td>0</td>\n",
       "    </tr>\n",
       "    <tr>\n",
       "      <th>3882</th>\n",
       "      <td>2004</td>\n",
       "      <td>1992</td>\n",
       "      <td>12</td>\n",
       "    </tr>\n",
       "  </tbody>\n",
       "</table>\n",
       "</div>"
      ],
      "text/plain": [
       "      actual  predicted  error\n",
       "4069    1969       1964      5\n",
       "1909    1967       1967      0\n",
       "2852    1992       1993     -1\n",
       "1607    1993       1993      0\n",
       "5225    1998       1995      3\n",
       "281     1979       1967     12\n",
       "3102    1978       2006    -28\n",
       "3174    2002       1967     35\n",
       "1157    1985       1994     -9\n",
       "103     1993       1961     32\n",
       "3388    1987       1988     -1\n",
       "2186    1968       1985    -17\n",
       "2241    1966       1925     41\n",
       "527     1912       1915     -3\n",
       "2786    1979       1999    -20\n",
       "687     2000       1951     49\n",
       "4242    1977       1985     -8\n",
       "268     1964       1984    -20\n",
       "752     1934       1962    -28\n",
       "1816    1930       1966    -36\n",
       "4630    1958       1966     -8\n",
       "3315    2001       1967     34\n",
       "1504    1990       1967     23\n",
       "866     1932       1925      7\n",
       "643     1950       1989    -39\n",
       "3557    1961       1994    -33\n",
       "1789    1981       1997    -16\n",
       "4992    1970       1967      3\n",
       "1152    1990       2003    -13\n",
       "81      1965       1974     -9\n",
       "5353    1992       1975     17\n",
       "661     1972       1967      5\n",
       "4251    1967       1967      0\n",
       "4667    1979       1964     15\n",
       "3527    1995       1967     28\n",
       "1438    1979       1967     12\n",
       "1618    1971       1971      0\n",
       "2253    1962       1967     -5\n",
       "621     2004       1965     39\n",
       "5002    1997       1996      1\n",
       "4841    1997       1967     30\n",
       "1834    2001       2002     -1\n",
       "4196    2008       1992     16\n",
       "3812    1975       1971      4\n",
       "732     1989       1994     -5\n",
       "3731    1977       1977      0\n",
       "3057    1942       1989    -47\n",
       "4317    1955       1990    -35\n",
       "2973    1978       1978      0\n",
       "3882    2004       1992     12"
      ]
     },
     "execution_count": 550,
     "metadata": {},
     "output_type": "execute_result"
    }
   ],
   "source": [
    "#take a look at 50 random predictions\n",
    "##you can start to see why accuracy is a poor measure of performance here. The 3rd record here is only off by 3 years, but using accuracy\n",
    "##we are penalizing it just as much as the first prediction\n",
    "results.sample(50)"
   ]
  },
  {
   "cell_type": "code",
   "execution_count": 551,
   "metadata": {},
   "outputs": [
    {
     "data": {
      "text/plain": [
       "21.986"
      ]
     },
     "execution_count": 551,
     "metadata": {},
     "output_type": "execute_result"
    }
   ],
   "source": [
    "#calulcate the root mean squared error\n",
    "def rmse(actuals,predictions):\n",
    "    return round(np.sqrt(((actuals-predictions) ** 2).mean()),3)\n",
    "rmse(results.actual,results.predicted)"
   ]
  },
  {
   "cell_type": "code",
   "execution_count": 552,
   "metadata": {},
   "outputs": [
    {
     "data": {
      "text/plain": [
       "<matplotlib.axes._subplots.AxesSubplot at 0x1a1f0225f8>"
      ]
     },
     "execution_count": 552,
     "metadata": {},
     "output_type": "execute_result"
    },
    {
     "data": {
      "image/png": "[encoded data removed]",
      "text/plain": [
       "<Figure size 432x288 with 1 Axes>"
      ]
     },
     "metadata": {
      "needs_background": "light"
     },
     "output_type": "display_data"
    }
   ],
   "source": [
    "#show distribution of error\n",
    "sns.distplot(results.error)"
   ]
  },
  {
   "cell_type": "code",
   "execution_count": 553,
   "metadata": {},
   "outputs": [
    {
     "data": {
      "text/plain": [
       "<matplotlib.axes._subplots.AxesSubplot at 0x1a2ed4bb70>"
      ]
     },
     "execution_count": 553,
     "metadata": {},
     "output_type": "execute_result"
    },
    {
     "data": {
      "image/png": "[encoded data removed]",
      "text/plain": [
       "<Figure size 432x288 with 1 Axes>"
      ]
     },
     "metadata": {
      "needs_background": "light"
     },
     "output_type": "display_data"
    }
   ],
   "source": [
    "#show residual plot\n",
    "##this is violating the zero-mean assumption of regression, but it makes more sense when looking at it in terms of classification\n",
    "sns.scatterplot(results.predicted,results.error)"
   ]
  }
 ],
 "metadata": {
  "kernelspec": {
   "display_name": "Python 3",
   "language": "python",
   "name": "python3"
  },
  "language_info": {
   "codemirror_mode": {
    "name": "ipython",
    "version": 3
   },
   "file_extension": ".py",
   "mimetype": "text/x-python",
   "name": "python",
   "nbconvert_exporter": "python",
   "pygments_lexer": "ipython3",
   "version": "3.7.3"
  }
 },
 "nbformat": 4,
 "nbformat_minor": 2
}
