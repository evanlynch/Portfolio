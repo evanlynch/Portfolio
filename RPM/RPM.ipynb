{
 "cells": [
  {
   "cell_type": "markdown",
   "metadata": {},
   "source": [
    "# Repair Prioritization Model (RPM)"
   ]
  },
  {
   "cell_type": "code",
   "execution_count": 2,
   "metadata": {
    "collapsed": true
   },
   "outputs": [],
   "source": [
    "import pandas as pd\n",
    "import numpy as np\n",
    "import cvxpy as cvx\n",
    "import datetime"
   ]
  },
  {
   "cell_type": "markdown",
   "metadata": {},
   "source": [
    "## Data"
   ]
  },
  {
   "cell_type": "code",
   "execution_count": 3,
   "metadata": {
    "collapsed": true
   },
   "outputs": [],
   "source": [
    "numSystems = 30"
   ]
  },
  {
   "cell_type": "code",
   "execution_count": 4,
   "metadata": {
    "collapsed": true
   },
   "outputs": [],
   "source": [
    "#list of systems that ned to repaired\n",
    "systems = []\n",
    "for i in range(0,numSystems):\n",
    "    systems.append(''.join(['sys',str(i)]))"
   ]
  },
  {
   "cell_type": "code",
   "execution_count": 5,
   "metadata": {
    "collapsed": true
   },
   "outputs": [],
   "source": [
    "#spots in my line (equal to the number of systems that need to be repaired)\n",
    "spots = [''.join(['spot',str(j)]) for j in range(0,len(systems))]"
   ]
  },
  {
   "cell_type": "code",
   "execution_count": 6,
   "metadata": {},
   "outputs": [],
   "source": [
    "#cost of being placed in spot i\n",
    "spot_cost = {}\n",
    "for i in range(0,len(spots)):\n",
    "    spot_cost[spots[i]] = i"
   ]
  },
  {
   "cell_type": "code",
   "execution_count": 7,
   "metadata": {},
   "outputs": [],
   "source": [
    "#number of days each system has been offline\n",
    "daysDeadlined = {}\n",
    "for j in systems:\n",
    "    daysDeadlined[j] = np.random.randint(low=0,high=21)"
   ]
  },
  {
   "cell_type": "code",
   "execution_count": 8,
   "metadata": {},
   "outputs": [],
   "source": [
    "#if part is unavailable short term (expected sometime within the next n days) \n",
    "# -- currently assuming system only needs one part to be back online\n",
    "short_unavail = {}\n",
    "for j in systems:\n",
    "    short_unavail[j] = np.random.randint(2)"
   ]
  },
  {
   "cell_type": "code",
   "execution_count": 9,
   "metadata": {},
   "outputs": [],
   "source": [
    "#if part is unavailable long term (expected sometime beyond the next n days)\n",
    "# -- currently assuming system only needs one part to be back online\n",
    "long_unavail = {}\n",
    "for j in systems:\n",
    "    if short_unavail[j]==1:\n",
    "        long_unavail[j] = np.random.randint(2)\n",
    "    else:\n",
    "        long_unavail[j] = 0"
   ]
  },
  {
   "cell_type": "markdown",
   "metadata": {},
   "source": [
    "## Decisions"
   ]
  },
  {
   "cell_type": "code",
   "execution_count": 10,
   "metadata": {
    "collapsed": true
   },
   "outputs": [],
   "source": [
    "#whether system j gets assigned to spot i or not\n",
    "x = {}\n",
    "for i in spots:\n",
    "    for j in systems:\n",
    "        x[i,j] = cvx.Variable(boolean=True) "
   ]
  },
  {
   "cell_type": "markdown",
   "metadata": {},
   "source": [
    "## Objective"
   ]
  },
  {
   "cell_type": "code",
   "execution_count": 25,
   "metadata": {
    "collapsed": true
   },
   "outputs": [],
   "source": [
    "#minimize the total expected downtime (i.e. spot in line * to date days deadlined)\n",
    "objective = cvx.Minimize(sum(spot_cost[i]*daysDeadlined[j]*x[i,j] for i in spots for j in systems))"
   ]
  },
  {
   "cell_type": "markdown",
   "metadata": {},
   "source": [
    "## Constraints"
   ]
  },
  {
   "cell_type": "code",
   "execution_count": 26,
   "metadata": {},
   "outputs": [],
   "source": [
    "#you can't assign more than one system to the same spot\n",
    "c1 = [sum(x[i,j] for j in systems)==1 for i in spots]\n",
    "\n",
    "#all systems must be assigned a spot\n",
    "c2 = [sum(x[i,j] for i in spots) == 1 for j in systems]\n",
    "\n",
    "c3 = []\n",
    "spotsToSave = sum(short_unavail.values())\n",
    "for j in systems:\n",
    "    if short_unavail[j] == 0:\n",
    "        for s in range(0,spotsToSave):\n",
    "            c3.append(x[(''.join(['spot',str(s)])),j]==0)\n",
    "            \n",
    "\n",
    "\n",
    "constraints = c1 + c2 + c3"
   ]
  },
  {
   "cell_type": "markdown",
   "metadata": {},
   "source": [
    "## Output"
   ]
  },
  {
   "cell_type": "code",
   "execution_count": 27,
   "metadata": {
    "collapsed": true
   },
   "outputs": [],
   "source": [
    "prob = cvx.Problem(objective,constraints)"
   ]
  },
  {
   "cell_type": "code",
   "execution_count": 29,
   "metadata": {},
   "outputs": [
    {
     "data": {
      "text/plain": [
       "3787.999999138458"
      ]
     },
     "execution_count": 29,
     "metadata": {},
     "output_type": "execute_result"
    }
   ],
   "source": [
    "prob.solve(solver='ECOS_BB')"
   ]
  },
  {
   "cell_type": "code",
   "execution_count": 30,
   "metadata": {},
   "outputs": [
    {
     "name": "stdout",
     "output_type": "stream",
     "text": [
      "status: optimal\n",
      "optimal value 3787\n"
     ]
    }
   ],
   "source": [
    "print(\"status:\", prob.status)\n",
    "print(\"optimal value\", int(abs(prob.value)))"
   ]
  },
  {
   "cell_type": "code",
   "execution_count": 31,
   "metadata": {
    "scrolled": true
   },
   "outputs": [
    {
     "data": {
      "text/html": [
       "<div>\n",
       "<style>\n",
       "    .dataframe thead tr:only-child th {\n",
       "        text-align: right;\n",
       "    }\n",
       "\n",
       "    .dataframe thead th {\n",
       "        text-align: left;\n",
       "    }\n",
       "\n",
       "    .dataframe tbody tr th {\n",
       "        vertical-align: top;\n",
       "    }\n",
       "</style>\n",
       "<table border=\"1\" class=\"dataframe\">\n",
       "  <thead>\n",
       "    <tr style=\"text-align: right;\">\n",
       "      <th></th>\n",
       "      <th>system</th>\n",
       "      <th>days deadlined</th>\n",
       "      <th>part available?</th>\n",
       "    </tr>\n",
       "  </thead>\n",
       "  <tbody>\n",
       "    <tr>\n",
       "      <th>spot0</th>\n",
       "      <td>sys0</td>\n",
       "      <td>19</td>\n",
       "      <td>1</td>\n",
       "    </tr>\n",
       "    <tr>\n",
       "      <th>spot1</th>\n",
       "      <td>sys20</td>\n",
       "      <td>18</td>\n",
       "      <td>1</td>\n",
       "    </tr>\n",
       "    <tr>\n",
       "      <th>spot2</th>\n",
       "      <td>sys9</td>\n",
       "      <td>18</td>\n",
       "      <td>1</td>\n",
       "    </tr>\n",
       "    <tr>\n",
       "      <th>spot3</th>\n",
       "      <td>sys8</td>\n",
       "      <td>17</td>\n",
       "      <td>1</td>\n",
       "    </tr>\n",
       "    <tr>\n",
       "      <th>spot4</th>\n",
       "      <td>sys27</td>\n",
       "      <td>17</td>\n",
       "      <td>1</td>\n",
       "    </tr>\n",
       "    <tr>\n",
       "      <th>spot5</th>\n",
       "      <td>sys18</td>\n",
       "      <td>15</td>\n",
       "      <td>1</td>\n",
       "    </tr>\n",
       "    <tr>\n",
       "      <th>spot6</th>\n",
       "      <td>sys22</td>\n",
       "      <td>14</td>\n",
       "      <td>1</td>\n",
       "    </tr>\n",
       "    <tr>\n",
       "      <th>spot7</th>\n",
       "      <td>sys10</td>\n",
       "      <td>13</td>\n",
       "      <td>1</td>\n",
       "    </tr>\n",
       "    <tr>\n",
       "      <th>spot8</th>\n",
       "      <td>sys13</td>\n",
       "      <td>13</td>\n",
       "      <td>1</td>\n",
       "    </tr>\n",
       "    <tr>\n",
       "      <th>spot9</th>\n",
       "      <td>sys26</td>\n",
       "      <td>12</td>\n",
       "      <td>1</td>\n",
       "    </tr>\n",
       "    <tr>\n",
       "      <th>spot10</th>\n",
       "      <td>sys2</td>\n",
       "      <td>12</td>\n",
       "      <td>1</td>\n",
       "    </tr>\n",
       "    <tr>\n",
       "      <th>spot11</th>\n",
       "      <td>sys16</td>\n",
       "      <td>7</td>\n",
       "      <td>1</td>\n",
       "    </tr>\n",
       "    <tr>\n",
       "      <th>spot12</th>\n",
       "      <td>sys15</td>\n",
       "      <td>7</td>\n",
       "      <td>1</td>\n",
       "    </tr>\n",
       "    <tr>\n",
       "      <th>spot13</th>\n",
       "      <td>sys11</td>\n",
       "      <td>6</td>\n",
       "      <td>1</td>\n",
       "    </tr>\n",
       "    <tr>\n",
       "      <th>spot14</th>\n",
       "      <td>sys17</td>\n",
       "      <td>3</td>\n",
       "      <td>1</td>\n",
       "    </tr>\n",
       "    <tr>\n",
       "      <th>spot15</th>\n",
       "      <td>sys12</td>\n",
       "      <td>2</td>\n",
       "      <td>1</td>\n",
       "    </tr>\n",
       "    <tr>\n",
       "      <th>spot16</th>\n",
       "      <td>sys1</td>\n",
       "      <td>20</td>\n",
       "      <td>0</td>\n",
       "    </tr>\n",
       "    <tr>\n",
       "      <th>spot17</th>\n",
       "      <td>sys21</td>\n",
       "      <td>19</td>\n",
       "      <td>0</td>\n",
       "    </tr>\n",
       "    <tr>\n",
       "      <th>spot18</th>\n",
       "      <td>sys14</td>\n",
       "      <td>17</td>\n",
       "      <td>0</td>\n",
       "    </tr>\n",
       "    <tr>\n",
       "      <th>spot19</th>\n",
       "      <td>sys29</td>\n",
       "      <td>12</td>\n",
       "      <td>0</td>\n",
       "    </tr>\n",
       "    <tr>\n",
       "      <th>spot20</th>\n",
       "      <td>sys19</td>\n",
       "      <td>12</td>\n",
       "      <td>0</td>\n",
       "    </tr>\n",
       "    <tr>\n",
       "      <th>spot21</th>\n",
       "      <td>sys4</td>\n",
       "      <td>11</td>\n",
       "      <td>0</td>\n",
       "    </tr>\n",
       "    <tr>\n",
       "      <th>spot22</th>\n",
       "      <td>sys7</td>\n",
       "      <td>11</td>\n",
       "      <td>0</td>\n",
       "    </tr>\n",
       "    <tr>\n",
       "      <th>spot23</th>\n",
       "      <td>sys25</td>\n",
       "      <td>11</td>\n",
       "      <td>0</td>\n",
       "    </tr>\n",
       "    <tr>\n",
       "      <th>spot24</th>\n",
       "      <td>sys5</td>\n",
       "      <td>9</td>\n",
       "      <td>0</td>\n",
       "    </tr>\n",
       "    <tr>\n",
       "      <th>spot25</th>\n",
       "      <td>sys24</td>\n",
       "      <td>8</td>\n",
       "      <td>0</td>\n",
       "    </tr>\n",
       "    <tr>\n",
       "      <th>spot26</th>\n",
       "      <td>sys23</td>\n",
       "      <td>2</td>\n",
       "      <td>0</td>\n",
       "    </tr>\n",
       "    <tr>\n",
       "      <th>spot27</th>\n",
       "      <td>sys3</td>\n",
       "      <td>2</td>\n",
       "      <td>0</td>\n",
       "    </tr>\n",
       "    <tr>\n",
       "      <th>spot28</th>\n",
       "      <td>sys28</td>\n",
       "      <td>1</td>\n",
       "      <td>0</td>\n",
       "    </tr>\n",
       "    <tr>\n",
       "      <th>spot29</th>\n",
       "      <td>sys6</td>\n",
       "      <td>1</td>\n",
       "      <td>0</td>\n",
       "    </tr>\n",
       "  </tbody>\n",
       "</table>\n",
       "</div>"
      ],
      "text/plain": [
       "       system days deadlined part available?\n",
       "spot0    sys0             19               1\n",
       "spot1   sys20             18               1\n",
       "spot2    sys9             18               1\n",
       "spot3    sys8             17               1\n",
       "spot4   sys27             17               1\n",
       "spot5   sys18             15               1\n",
       "spot6   sys22             14               1\n",
       "spot7   sys10             13               1\n",
       "spot8   sys13             13               1\n",
       "spot9   sys26             12               1\n",
       "spot10   sys2             12               1\n",
       "spot11  sys16              7               1\n",
       "spot12  sys15              7               1\n",
       "spot13  sys11              6               1\n",
       "spot14  sys17              3               1\n",
       "spot15  sys12              2               1\n",
       "spot16   sys1             20               0\n",
       "spot17  sys21             19               0\n",
       "spot18  sys14             17               0\n",
       "spot19  sys29             12               0\n",
       "spot20  sys19             12               0\n",
       "spot21   sys4             11               0\n",
       "spot22   sys7             11               0\n",
       "spot23  sys25             11               0\n",
       "spot24   sys5              9               0\n",
       "spot25  sys24              8               0\n",
       "spot26  sys23              2               0\n",
       "spot27   sys3              2               0\n",
       "spot28  sys28              1               0\n",
       "spot29   sys6              1               0"
      ]
     },
     "execution_count": 31,
     "metadata": {},
     "output_type": "execute_result"
    }
   ],
   "source": [
    "decisions = pd.DataFrame(columns=['system','days deadlined','part available?'],index=spots)\n",
    "for i in range(0,len(spots)):\n",
    "    spot = ''.join(['spot',str(i)])\n",
    "    for j in systems:\n",
    "        var = x[spot,j].value\n",
    "        if var > 0.5:\n",
    "            decisions.loc[spot,'system'] = j\n",
    "            decisions.loc[spot,'days deadlined'] = daysDeadlined[j]\n",
    "            decisions.loc[spot,'part available?'] = short_unavail[j]\n",
    "decisions"
   ]
  },
  {
   "cell_type": "markdown",
   "metadata": {},
   "source": [
    "# Speed testing"
   ]
  },
  {
   "cell_type": "markdown",
   "metadata": {},
   "source": [
    "def RPM(numSystems):\n",
    "    \n",
    "    #list of systems that ned to repaired\n",
    "    systems = []\n",
    "    for i in range(0,numSystems):\n",
    "        systems.append(''.join(['sys',str(i)]))\n",
    "        \n",
    "    #spots in my line (equal to the number of systems that need to be repaired)\n",
    "    spots = [''.join(['spot',str(j)]) for j in range(0,len(systems))] \n",
    "    \n",
    "    #cost of being placed in spot i\n",
    "    spot_cost = {}\n",
    "    for i in range(0,len(spots)):\n",
    "        spot_cost[spots[i]] = i\n",
    "        \n",
    "    #number of days each system has been offline\n",
    "    daysDeadlined = {}\n",
    "    for j in systems:\n",
    "        daysDeadlined[j] = np.random.randint(low=0,high=21)\n",
    "        \n",
    "    #if part is unavailable short term (expected sometime within the next n days) \n",
    "    # -- currently assuming system only needs one part to be back online\n",
    "    short_unavail = {}\n",
    "    for j in systems:\n",
    "        short_unavail[j] = np.random.randint(2)\n",
    "        \n",
    "    #whether system j gets assigned to spot i or not\n",
    "    x = {}\n",
    "    for i in spots:\n",
    "        for j in systems:\n",
    "            x[i,j] = cvx.Variable(boolean=True)\n",
    "            \n",
    "    #minimize the total expected downtime (i.e. spot in line * to date days deadlined)\n",
    "    objective = cvx.Minimize(sum(spot_cost[i]*daysDeadlined[j]*x[i,j] for i in spots for j in systems))\n",
    "    \n",
    "    #you can't assign more than one system to the same spot\n",
    "    c1 = [sum(x[i,j] for j in systems)==1 for i in spots]\n",
    "\n",
    "    #all systems must be assigned a spot\n",
    "    c2 = [sum(x[i,j] for i in spots) == 1 for j in systems]\n",
    "\n",
    "    c3 = []\n",
    "    spotsToSave = sum(short_unavail.values())\n",
    "    for j in systems:\n",
    "        if short_unavail[j] == 0:\n",
    "            for s in range(0,spotsToSave):\n",
    "                c3.append(x[(''.join(['spot',str(s)])),j]==0)\n",
    "\n",
    "    constraints = c1 + c2 + c3\n",
    "    \n",
    "    prob = cvx.Problem(objective,constraints)\n",
    "    start = datetime.datetime.now()\n",
    "    prob.solve(solver='ECOS_BB')\n",
    "    end = datetime.datetime.now()\n",
    "    timeElapsed = str(end - start)\n",
    "    result = timeElapsed\n",
    "    return result"
   ]
  },
  {
   "cell_type": "markdown",
   "metadata": {},
   "source": [
    "numSystemsTest = [1,5,10,15,20,25,30,35,40,45,50,55,60,65,70,75]#,10,15,20,25,30,40,50,75]\n",
    "rez = {}\n",
    "for i in numSystemsTest:\n",
    "    rez[i] = RPM(i)\n",
    "rez"
   ]
  },
  {
   "cell_type": "code",
   "execution_count": null,
   "metadata": {},
   "outputs": [],
   "source": []
  }
 ],
 "metadata": {
  "kernelspec": {
   "display_name": "Python 3",
   "language": "python",
   "name": "python3"
  },
  "language_info": {
   "codemirror_mode": {
    "name": "ipython",
    "version": 3
   },
   "file_extension": ".py",
   "mimetype": "text/x-python",
   "name": "python",
   "nbconvert_exporter": "python",
   "pygments_lexer": "ipython3",
   "version": "3.6.2"
  }
 },
 "nbformat": 4,
 "nbformat_minor": 2
}
