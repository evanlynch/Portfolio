{
 "cells": [
  {
   "cell_type": "markdown",
   "metadata": {},
   "source": [
    "# Repair Prioritization Model (RPM)"
   ]
  },
  {
   "cell_type": "code",
   "execution_count": 1,
   "metadata": {},
   "outputs": [],
   "source": [
    "import pandas as pd\n",
    "import numpy as np\n",
    "import cvxpy as cvx"
   ]
  },
  {
   "cell_type": "markdown",
   "metadata": {},
   "source": [
    "## Data"
   ]
  },
  {
   "cell_type": "code",
   "execution_count": 2,
   "metadata": {},
   "outputs": [],
   "source": [
    "systems = ['tank1','tank2','helicopter','truck1','truck2']"
   ]
  },
  {
   "cell_type": "code",
   "execution_count": 3,
   "metadata": {},
   "outputs": [],
   "source": [
    "spots = [''.join(['spot',str(j)]) for j in range(1,len(systems)+1)]"
   ]
  },
  {
   "cell_type": "code",
   "execution_count": 4,
   "metadata": {},
   "outputs": [],
   "source": [
    "daysDeadlined = {}\n",
    "for j in systems:\n",
    "    daysDeadlined[j] = np.random.randint(low=0,high=21)"
   ]
  },
  {
   "cell_type": "code",
   "execution_count": 5,
   "metadata": {},
   "outputs": [
    {
     "data": {
      "text/plain": [
       "{'helicopter': 14, 'tank1': 4, 'tank2': 4, 'truck1': 14, 'truck2': 10}"
      ]
     },
     "execution_count": 5,
     "metadata": {},
     "output_type": "execute_result"
    }
   ],
   "source": [
    "daysDeadlined"
   ]
  },
  {
   "cell_type": "markdown",
   "metadata": {},
   "source": [
    "## Decisions"
   ]
  },
  {
   "cell_type": "code",
   "execution_count": 8,
   "metadata": {},
   "outputs": [
    {
     "data": {
      "text/plain": [
       "{('spot1', 'helicopter'): Variable((), boolean=True),\n",
       " ('spot1', 'tank1'): Variable((), boolean=True),\n",
       " ('spot1', 'tank2'): Variable((), boolean=True),\n",
       " ('spot1', 'truck1'): Variable((), boolean=True),\n",
       " ('spot1', 'truck2'): Variable((), boolean=True),\n",
       " ('spot2', 'helicopter'): Variable((), boolean=True),\n",
       " ('spot2', 'tank1'): Variable((), boolean=True),\n",
       " ('spot2', 'tank2'): Variable((), boolean=True),\n",
       " ('spot2', 'truck1'): Variable((), boolean=True),\n",
       " ('spot2', 'truck2'): Variable((), boolean=True),\n",
       " ('spot3', 'helicopter'): Variable((), boolean=True),\n",
       " ('spot3', 'tank1'): Variable((), boolean=True),\n",
       " ('spot3', 'tank2'): Variable((), boolean=True),\n",
       " ('spot3', 'truck1'): Variable((), boolean=True),\n",
       " ('spot3', 'truck2'): Variable((), boolean=True),\n",
       " ('spot4', 'helicopter'): Variable((), boolean=True),\n",
       " ('spot4', 'tank1'): Variable((), boolean=True),\n",
       " ('spot4', 'tank2'): Variable((), boolean=True),\n",
       " ('spot4', 'truck1'): Variable((), boolean=True),\n",
       " ('spot4', 'truck2'): Variable((), boolean=True),\n",
       " ('spot5', 'helicopter'): Variable((), boolean=True),\n",
       " ('spot5', 'tank1'): Variable((), boolean=True),\n",
       " ('spot5', 'tank2'): Variable((), boolean=True),\n",
       " ('spot5', 'truck1'): Variable((), boolean=True),\n",
       " ('spot5', 'truck2'): Variable((), boolean=True)}"
      ]
     },
     "execution_count": 8,
     "metadata": {},
     "output_type": "execute_result"
    }
   ],
   "source": [
    "x = {}\n",
    "for i in spots:\n",
    "    for j in systems:\n",
    "        x[i,j] = cvx.Variable(boolean=True)      \n",
    "x"
   ]
  },
  {
   "cell_type": "markdown",
   "metadata": {},
   "source": [
    "## Objective"
   ]
  },
  {
   "cell_type": "code",
   "execution_count": 10,
   "metadata": {},
   "outputs": [
    {
     "ename": "SyntaxError",
     "evalue": "invalid syntax (<ipython-input-10-bac4d1138c77>, line 2)",
     "output_type": "error",
     "traceback": [
      "\u001b[1;36m  File \u001b[1;32m\"<ipython-input-10-bac4d1138c77>\"\u001b[1;36m, line \u001b[1;32m2\u001b[0m\n\u001b[1;33m    objective = cvx.Minimize(sum(2+@))\u001b[0m\n\u001b[1;37m                                   ^\u001b[0m\n\u001b[1;31mSyntaxError\u001b[0m\u001b[1;31m:\u001b[0m invalid syntax\n"
     ]
    }
   ],
   "source": [
    "#minimize the total expected downtime (i.e. spot in line * to date days deadlined)\n",
    "objective = cvx.Minimize(sum(2+@))"
   ]
  },
  {
   "cell_type": "markdown",
   "metadata": {},
   "source": [
    "## Constraints"
   ]
  },
  {
   "cell_type": "code",
   "execution_count": 11,
   "metadata": {},
   "outputs": [
    {
     "ename": "SyntaxError",
     "evalue": "invalid syntax (<ipython-input-11-92f4a8879f39>, line 2)",
     "output_type": "error",
     "traceback": [
      "\u001b[1;36m  File \u001b[1;32m\"<ipython-input-11-92f4a8879f39>\"\u001b[1;36m, line \u001b[1;32m2\u001b[0m\n\u001b[1;33m    c1 =\u001b[0m\n\u001b[1;37m         ^\u001b[0m\n\u001b[1;31mSyntaxError\u001b[0m\u001b[1;31m:\u001b[0m invalid syntax\n"
     ]
    }
   ],
   "source": [
    "#\n",
    "c1 = \n",
    "\n",
    "#\n",
    "c2 = \n",
    "\n",
    "#\n",
    "c3 = \n",
    "\n",
    "#\n",
    "c4 = \n",
    "\n",
    "constraints = c1+c2"
   ]
  },
  {
   "cell_type": "markdown",
   "metadata": {},
   "source": [
    "## Output"
   ]
  },
  {
   "cell_type": "code",
   "execution_count": null,
   "metadata": {},
   "outputs": [],
   "source": []
  },
  {
   "cell_type": "code",
   "execution_count": null,
   "metadata": {},
   "outputs": [],
   "source": []
  }
 ],
 "metadata": {
  "kernelspec": {
   "display_name": "Python 3",
   "language": "python",
   "name": "python3"
  },
  "language_info": {
   "codemirror_mode": {
    "name": "ipython",
    "version": 3
   },
   "file_extension": ".py",
   "mimetype": "text/x-python",
   "name": "python",
   "nbconvert_exporter": "python",
   "pygments_lexer": "ipython3",
   "version": "3.6.2"
  }
 },
 "nbformat": 4,
 "nbformat_minor": 2
}
