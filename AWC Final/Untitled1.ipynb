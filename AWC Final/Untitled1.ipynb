{
 "cells": [
  {
   "cell_type": "markdown",
   "metadata": {},
   "source": [
    "$N = \\,number \\,of \\,deliveries \\,+ \\,1 \\,(pickup \\,point)$"
   ]
  },
  {
   "cell_type": "markdown",
   "metadata": {},
   "source": [
    "$T:\\,Optimal\\,number\\,of\\,trips.\\,Sum\\,of\\,all\\,t_v\\,from\\,the\\,last\\,problem$"
   ]
  },
  {
   "cell_type": "markdown",
   "metadata": {},
   "source": [
    "$d_{ij}: \\,Distance \\,Matrix$"
   ]
  },
  {
   "cell_type": "markdown",
   "metadata": {},
   "source": [
    "$C_t: \\,Capacity \\,of \\,vehicle \\,assigned \\,to \\,trip \\,t \\,v$"
   ]
  },
  {
   "cell_type": "markdown",
   "metadata": {},
   "source": [
    "$x_{tij}: \\,binary \\,\\,\\,\\,\\,\\,\\,\\,\\,(whether \\,trip \\,t \\,contains \\,arc \\,ij)$"
   ]
  },
  {
   "cell_type": "markdown",
   "metadata": {},
   "source": [
    "$u \\geq 0 \\,\\,\\,\\,\\,(dummy \\,variable)$"
   ]
  },
  {
   "cell_type": "markdown",
   "metadata": {},
   "source": [
    "$min \\displaystyle\\sum_{t=1}^{T}\\displaystyle\\sum_{i=1}^{N}\\displaystyle\\sum_{j=1}^{N}d_{ij}x_{tij} \\,\\,\\,\\,\\,\\,\\,\\,$"
   ]
  },
  {
   "cell_type": "markdown",
   "metadata": {},
   "source": [
    "$subject \\,to:$"
   ]
  },
  {
   "cell_type": "markdown",
   "metadata": {},
   "source": [
    "$\\displaystyle\\sum_{t=1}^{T}\\displaystyle\\sum_{i=1}^{N}x_{tij}=1 \\,\\forall \\,j=2,..,n\\,\\,\\,\\,\\,\\,\\,\\,$"
   ]
  },
  {
   "cell_type": "markdown",
   "metadata": {},
   "source": [
    "$\\displaystyle\\sum_{t=1}^{T}\\displaystyle\\sum_{j=1}^{N}x_{tij}=1 \\,\\forall \\,i=2,..,n\\,\\,\\,\\,\\,\\,\\,\\,$"
   ]
  },
  {
   "cell_type": "markdown",
   "metadata": {},
   "source": [
    "$u_i-u_j+Nx_{tij} \\leq N-1 \\,\\,\\,\\forall t=1,..,T \\,\\,\\,\\forall i=2,..,N \\,\\,\\,\\forall j=2,..,N \\,\\,\\,i\\neq j \\,\\,\\,\\,\\,\\,\\,\\,$"
   ]
  },
  {
   "cell_type": "markdown",
   "metadata": {},
   "source": [
    "$\\displaystyle\\sum_{t=1}^{T}\\displaystyle\\sum_{j=1}^{N}x_{t0j}=T \\,\\,\\,\\,\\,\\,\\,\\,$"
   ]
  },
  {
   "cell_type": "markdown",
   "metadata": {},
   "source": [
    "$\\displaystyle\\sum_{t=1}^{T}\\displaystyle\\sum_{i=1}^{N}x_{ti0}=T \\,\\,\\,\\,\\,\\,\\,\\,$"
   ]
  },
  {
   "cell_type": "markdown",
   "metadata": {},
   "source": [
    "$\\displaystyle\\sum_{i=1}^{N}x_{tij}=\\displaystyle\\sum_{j=1}^{N}x_{tij} \\,\\,\\,\\forall t=1,..,T \\,\\,\\,\\,\\,\\,\\,\\,$"
   ]
  },
  {
   "cell_type": "markdown",
   "metadata": {},
   "source": [
    "$\\displaystyle\\sum_{i=1}^{N}\\displaystyle\\sum_{j=1}^{N}x_{tij} \\,\\leq C_t \\, \\,\\,\\,\\forall t=1,..,T \\,\\,\\,\\,\\,\\,\\,\\,$"
   ]
  }
 ],
 "metadata": {
  "kernelspec": {
   "display_name": "Python 3",
   "language": "python",
   "name": "python3"
  },
  "language_info": {
   "codemirror_mode": {
    "name": "ipython",
    "version": 3
   },
   "file_extension": ".py",
   "mimetype": "text/x-python",
   "name": "python",
   "nbconvert_exporter": "python",
   "pygments_lexer": "ipython3",
   "version": "3.6.2"
  }
 },
 "nbformat": 4,
 "nbformat_minor": 2
}
