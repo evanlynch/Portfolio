{
 "cells": [
  {
   "cell_type": "markdown",
   "metadata": {},
   "source": [
    "# Curve Fitting\n",
    "### Predicting the completion date of an engine recall based on historical engine replacement rates. "
   ]
  },
  {
   "cell_type": "markdown",
   "metadata": {},
   "source": [
    "The goal with this project was to determine a method for predicting the date a recall will be completed based on the information available. The information that was provided was: \n",
    "- The recall start date\n",
    "- An estimated number of engines that were originally impacted by the recall\n",
    "- Orders for replacement engines since the start date\n",
    "- An estimated maximum monthly capacity for delivering replacements (whereever the bottleneck was in the supply chain)\n",
    "\n",
    "A prediction interval was used using curve fitting to generate a 'best case scenario' and derivatives to generate a 'worst case scenario'"
   ]
  },
  {
   "cell_type": "markdown",
   "metadata": {},
   "source": [
    "### Bottom Line Results"
   ]
  },
  {
   "cell_type": "markdown",
   "metadata": {},
   "source": [
    "The final output of this project is a date interval within which the recall is expected to be completed. "
   ]
  },
  {
   "cell_type": "code",
   "execution_count": 72,
   "metadata": {},
   "outputs": [
    {
     "data": {
      "text/html": [
       "<img src=\"https://github.com/evanlynch/portfolio/blob/master/imgs/RCP_Chart.png?raw=true\"/>"
      ],
      "text/plain": [
       "<IPython.core.display.Image object>"
      ]
     },
     "execution_count": 72,
     "metadata": {},
     "output_type": "execute_result"
    }
   ],
   "source": [
    "Image(url='https://github.com/evanlynch/portfolio/blob/master/imgs/RCP_Chart.png?raw=true')"
   ]
  },
  {
   "cell_type": "code",
   "execution_count": 67,
   "metadata": {},
   "outputs": [
    {
     "name": "stdout",
     "output_type": "stream",
     "text": [
      "Best Case End Date: May 26,2019\n",
      "Worst Case End Date: Aug 10,2019\n"
     ]
    }
   ],
   "source": [
    "print('Best Case End Date:',PredMin)\n",
    "print('Worst Case End Date:',PredMax)"
   ]
  },
  {
   "cell_type": "code",
   "execution_count": 70,
   "metadata": {},
   "outputs": [],
   "source": [
    "import pandas as pd\n",
    "import numpy as np\n",
    "from scipy.optimize import curve_fit\n",
    "import datetime\n",
    "import matplotlib.pyplot as plt\n",
    "import chartify as cfy\n",
    "from IPython.display import Image"
   ]
  },
  {
   "cell_type": "markdown",
   "metadata": {},
   "source": [
    "##### Inputs"
   ]
  },
  {
   "cell_type": "code",
   "execution_count": 79,
   "metadata": {},
   "outputs": [
    {
     "data": {
      "text/html": [
       "<div>\n",
       "<style scoped>\n",
       "    .dataframe tbody tr th:only-of-type {\n",
       "        vertical-align: middle;\n",
       "    }\n",
       "\n",
       "    .dataframe tbody tr th {\n",
       "        vertical-align: top;\n",
       "    }\n",
       "\n",
       "    .dataframe thead th {\n",
       "        text-align: right;\n",
       "    }\n",
       "</style>\n",
       "<table border=\"1\" class=\"dataframe\">\n",
       "  <thead>\n",
       "    <tr style=\"text-align: right;\">\n",
       "      <th></th>\n",
       "      <th>Fill Date</th>\n",
       "      <th>Qty</th>\n",
       "    </tr>\n",
       "  </thead>\n",
       "  <tbody>\n",
       "    <tr>\n",
       "      <th>0</th>\n",
       "      <td>5/31/2018</td>\n",
       "      <td>849</td>\n",
       "    </tr>\n",
       "    <tr>\n",
       "      <th>1</th>\n",
       "      <td>5/31/2018</td>\n",
       "      <td>265</td>\n",
       "    </tr>\n",
       "    <tr>\n",
       "      <th>2</th>\n",
       "      <td>6/6/2018</td>\n",
       "      <td>337</td>\n",
       "    </tr>\n",
       "    <tr>\n",
       "      <th>3</th>\n",
       "      <td>6/11/2018</td>\n",
       "      <td>166</td>\n",
       "    </tr>\n",
       "    <tr>\n",
       "      <th>4</th>\n",
       "      <td>6/13/2018</td>\n",
       "      <td>15</td>\n",
       "    </tr>\n",
       "    <tr>\n",
       "      <th>5</th>\n",
       "      <td>6/13/2018</td>\n",
       "      <td>88</td>\n",
       "    </tr>\n",
       "    <tr>\n",
       "      <th>6</th>\n",
       "      <td>6/13/2018</td>\n",
       "      <td>49</td>\n",
       "    </tr>\n",
       "    <tr>\n",
       "      <th>7</th>\n",
       "      <td>6/13/2018</td>\n",
       "      <td>25</td>\n",
       "    </tr>\n",
       "    <tr>\n",
       "      <th>8</th>\n",
       "      <td>6/14/2018</td>\n",
       "      <td>500</td>\n",
       "    </tr>\n",
       "    <tr>\n",
       "      <th>9</th>\n",
       "      <td>6/15/2018</td>\n",
       "      <td>500</td>\n",
       "    </tr>\n",
       "  </tbody>\n",
       "</table>\n",
       "</div>"
      ],
      "text/plain": [
       "   Fill Date  Qty\n",
       "0  5/31/2018  849\n",
       "1  5/31/2018  265\n",
       "2   6/6/2018  337\n",
       "3  6/11/2018  166\n",
       "4  6/13/2018   15\n",
       "5  6/13/2018   88\n",
       "6  6/13/2018   49\n",
       "7  6/13/2018   25\n",
       "8  6/14/2018  500\n",
       "9  6/15/2018  500"
      ]
     },
     "execution_count": 79,
     "metadata": {},
     "output_type": "execute_result"
    }
   ],
   "source": [
    "#starting population of engines that need to be replaced at t=0\n",
    "startDefectBalance = 150000\n",
    "\n",
    "#the recall start date\n",
    "startDate = \"4/1/2018\"\n",
    "\n",
    "#estimated monthly max capacity for delivering replacements is 12k\n",
    "monthlyCapacity = -12000\n",
    "avgDailyCapacity = monthlyCapacity/30.42\n",
    "\n",
    "#orders for replacement engines since the start date\n",
    "df = pd.read_csv('Recall_Completion_Prediction/ReplacementOrders.csv',usecols=['Fill Date','Qty'])\n",
    "df.head(10)"
   ]
  },
  {
   "cell_type": "markdown",
   "metadata": {},
   "source": [
    "##### Data Pre-Processing"
   ]
  },
  {
   "cell_type": "code",
   "execution_count": 80,
   "metadata": {},
   "outputs": [
    {
     "name": "stdout",
     "output_type": "stream",
     "text": [
      "Defect Balance Over Time\n"
     ]
    },
    {
     "data": {
      "text/html": [
       "<div>\n",
       "<style scoped>\n",
       "    .dataframe tbody tr th:only-of-type {\n",
       "        vertical-align: middle;\n",
       "    }\n",
       "\n",
       "    .dataframe tbody tr th {\n",
       "        vertical-align: top;\n",
       "    }\n",
       "\n",
       "    .dataframe thead th {\n",
       "        text-align: right;\n",
       "    }\n",
       "</style>\n",
       "<table border=\"1\" class=\"dataframe\">\n",
       "  <thead>\n",
       "    <tr style=\"text-align: right;\">\n",
       "      <th></th>\n",
       "      <th>dateDelta</th>\n",
       "      <th>balance</th>\n",
       "    </tr>\n",
       "  </thead>\n",
       "  <tbody>\n",
       "    <tr>\n",
       "      <th>0</th>\n",
       "      <td>0</td>\n",
       "      <td>150000</td>\n",
       "    </tr>\n",
       "    <tr>\n",
       "      <th>1</th>\n",
       "      <td>60</td>\n",
       "      <td>148886</td>\n",
       "    </tr>\n",
       "    <tr>\n",
       "      <th>2</th>\n",
       "      <td>66</td>\n",
       "      <td>148549</td>\n",
       "    </tr>\n",
       "    <tr>\n",
       "      <th>3</th>\n",
       "      <td>71</td>\n",
       "      <td>148383</td>\n",
       "    </tr>\n",
       "    <tr>\n",
       "      <th>4</th>\n",
       "      <td>73</td>\n",
       "      <td>148206</td>\n",
       "    </tr>\n",
       "    <tr>\n",
       "      <th>5</th>\n",
       "      <td>74</td>\n",
       "      <td>147706</td>\n",
       "    </tr>\n",
       "    <tr>\n",
       "      <th>6</th>\n",
       "      <td>75</td>\n",
       "      <td>147206</td>\n",
       "    </tr>\n",
       "    <tr>\n",
       "      <th>7</th>\n",
       "      <td>80</td>\n",
       "      <td>146706</td>\n",
       "    </tr>\n",
       "    <tr>\n",
       "      <th>8</th>\n",
       "      <td>81</td>\n",
       "      <td>145674</td>\n",
       "    </tr>\n",
       "    <tr>\n",
       "      <th>9</th>\n",
       "      <td>82</td>\n",
       "      <td>145567</td>\n",
       "    </tr>\n",
       "  </tbody>\n",
       "</table>\n",
       "</div>"
      ],
      "text/plain": [
       "   dateDelta  balance\n",
       "0          0   150000\n",
       "1         60   148886\n",
       "2         66   148549\n",
       "3         71   148383\n",
       "4         73   148206\n",
       "5         74   147706\n",
       "6         75   147206\n",
       "7         80   146706\n",
       "8         81   145674\n",
       "9         82   145567"
      ]
     },
     "execution_count": 80,
     "metadata": {},
     "output_type": "execute_result"
    }
   ],
   "source": [
    "#convert dates to a date delta and Qty to a remaining balance\n",
    "df.Qty = df.Qty*-1\n",
    "dfStart = pd.DataFrame({'Fill Date':startDate,'Qty':startDefectBalance,'ACOM':''},index=[999])\n",
    "df = pd.concat([df,dfStart],sort=True)\n",
    "startDate = datetime.datetime(2018, 4, 1)\n",
    "df['Fill Date'] =  pd.to_datetime(df['Fill Date'])\n",
    "df =df.set_index(['Fill Date'])\n",
    "\n",
    "def removeDays(x):\n",
    "    x['dateDelta'] = x['dateDelta'].days\n",
    "    return x\n",
    "\n",
    "#create new date starting from t=0\n",
    "df['tvalue'] = df.index\n",
    "df['dateDelta'] = df['tvalue']-startDate\n",
    "df = df.apply(lambda x: removeDays(x),axis=1)\n",
    "df = df.sort_values(['tvalue'],ascending=True)\n",
    "\n",
    "#roll up orders to the daily level\n",
    "df = df.groupby('dateDelta').sum()\n",
    "\n",
    "#get current balance of defective engines\n",
    "df['balance'] = df.Qty.cumsum()\n",
    "df = df[['balance']]\n",
    "df = df.reset_index()\n",
    "print('Defect Balance Over Time')\n",
    "df.head(n=10)"
   ]
  },
  {
   "cell_type": "code",
   "execution_count": 81,
   "metadata": {},
   "outputs": [
    {
     "data": {
      "text/html": [
       "\n",
       "\n",
       "\n",
       "\n",
       "\n",
       "\n",
       "  <div class=\"bk-root\" id=\"0c65f987-69b6-4709-bfcb-ae54c9abd540\" data-root-id=\"3813\"></div>\n"
      ]
     },
     "metadata": {},
     "output_type": "display_data"
    },
    {
     "data": {
      "application/javascript": [
       "(function(root) {\n",
       "  function embed_document(root) {\n",
       "    \n",
       "  var docs_json = {\"bfed2d37-cb05-43cf-99ab-ebac6a0e6914\":{\"roots\":{\"references\":[{\"attributes\":{\"above\":[{\"id\":\"3839\",\"type\":\"Title\"}],\"background_fill_color\":{\"value\":\"white\"},\"below\":[{\"id\":\"3822\",\"type\":\"LinearAxis\"},{\"id\":\"3838\",\"type\":\"Label\"}],\"border_fill_color\":{\"value\":\"white\"},\"left\":[{\"id\":\"3827\",\"type\":\"LinearAxis\"}],\"min_border_bottom\":60,\"min_border_left\":60,\"min_border_right\":60,\"min_border_top\":40,\"outline_line_color\":{\"value\":\"white\"},\"plot_height\":540,\"plot_width\":960,\"renderers\":[{\"id\":\"3822\",\"type\":\"LinearAxis\"},{\"id\":\"3826\",\"type\":\"Grid\"},{\"id\":\"3827\",\"type\":\"LinearAxis\"},{\"id\":\"3831\",\"type\":\"Grid\"},{\"id\":\"3838\",\"type\":\"Label\"},{\"id\":\"3839\",\"type\":\"Title\"},{\"id\":\"3851\",\"type\":\"GlyphRenderer\"}],\"title\":{\"id\":\"3835\",\"type\":\"Title\"},\"toolbar\":{\"id\":\"3833\",\"type\":\"Toolbar\"},\"x_range\":{\"id\":\"3814\",\"type\":\"DataRange1d\"},\"x_scale\":{\"id\":\"3818\",\"type\":\"LinearScale\"},\"y_range\":{\"id\":\"3816\",\"type\":\"DataRange1d\"},\"y_scale\":{\"id\":\"3820\",\"type\":\"LinearScale\"}},\"id\":\"3813\",\"subtype\":\"Figure\",\"type\":\"Plot\"},{\"attributes\":{\"data_source\":{\"id\":\"3847\",\"type\":\"ColumnDataSource\"},\"glyph\":{\"id\":\"3849\",\"type\":\"Line\"},\"hover_glyph\":null,\"muted_glyph\":null,\"nonselection_glyph\":{\"id\":\"3850\",\"type\":\"Line\"},\"selection_glyph\":null,\"view\":{\"id\":\"3852\",\"type\":\"CDSView\"}},\"id\":\"3851\",\"type\":\"GlyphRenderer\"},{\"attributes\":{\"plot\":null,\"text\":\"Defect Balance Over Time\",\"text_color\":{\"value\":\"#333333\"},\"text_font_size\":{\"value\":\"18pt\"}},\"id\":\"3835\",\"type\":\"Title\"},{\"attributes\":{\"callback\":null,\"end\":800,\"start\":0},\"id\":\"3814\",\"type\":\"DataRange1d\"},{\"attributes\":{\"source\":{\"id\":\"3847\",\"type\":\"ColumnDataSource\"}},\"id\":\"3852\",\"type\":\"CDSView\"},{\"attributes\":{\"dimension\":1,\"grid_line_color\":{\"value\":null},\"plot\":{\"id\":\"3813\",\"subtype\":\"Figure\",\"type\":\"Plot\"},\"ticker\":{\"id\":\"3828\",\"type\":\"BasicTicker\"}},\"id\":\"3831\",\"type\":\"Grid\"},{\"attributes\":{},\"id\":\"3820\",\"type\":\"LinearScale\"},{\"attributes\":{},\"id\":\"3828\",\"type\":\"BasicTicker\"},{\"attributes\":{},\"id\":\"3818\",\"type\":\"LinearScale\"},{\"attributes\":{\"axis_label_text_color\":{\"value\":\"#666666\"},\"axis_label_text_font_size\":{\"value\":\"11pt\"},\"axis_label_text_font_style\":\"bold\",\"axis_line_color\":{\"value\":\"#C0C0C0\"},\"formatter\":{\"id\":\"3843\",\"type\":\"NumeralTickFormatter\"},\"major_label_text_color\":{\"value\":\"#898989\"},\"major_label_text_font_size\":{\"value\":\"10pt\"},\"major_tick_in\":0,\"major_tick_line_color\":{\"value\":\"#C0C0C0\"},\"major_tick_out\":4,\"minor_tick_line_color\":{\"value\":\"#C0C0C0\"},\"minor_tick_out\":1,\"plot\":{\"id\":\"3813\",\"subtype\":\"Figure\",\"type\":\"Plot\"},\"ticker\":{\"id\":\"3823\",\"type\":\"BasicTicker\"}},\"id\":\"3822\",\"type\":\"LinearAxis\"},{\"attributes\":{\"axis_label_text_color\":{\"value\":\"#666666\"},\"axis_label_text_font_size\":{\"value\":\"11pt\"},\"axis_label_text_font_style\":\"bold\",\"axis_line_color\":{\"value\":\"#C0C0C0\"},\"formatter\":{\"id\":\"3845\",\"type\":\"NumeralTickFormatter\"},\"major_label_text_color\":{\"value\":\"#898989\"},\"major_label_text_font_size\":{\"value\":\"10pt\"},\"major_tick_in\":0,\"major_tick_line_color\":{\"value\":\"#C0C0C0\"},\"major_tick_out\":4,\"minor_tick_line_color\":{\"value\":\"#C0C0C0\"},\"minor_tick_out\":1,\"plot\":{\"id\":\"3813\",\"subtype\":\"Figure\",\"type\":\"Plot\"},\"ticker\":{\"id\":\"3828\",\"type\":\"BasicTicker\"}},\"id\":\"3827\",\"type\":\"LinearAxis\"},{\"attributes\":{},\"id\":\"3832\",\"type\":\"SaveTool\"},{\"attributes\":{\"active_drag\":null,\"active_inspect\":\"auto\",\"active_multi\":null,\"active_scroll\":\"auto\",\"active_tap\":\"auto\",\"logo\":null,\"tools\":[{\"id\":\"3832\",\"type\":\"SaveTool\"}]},\"id\":\"3833\",\"type\":\"Toolbar\"},{\"attributes\":{\"grid_line_color\":{\"value\":null},\"plot\":{\"id\":\"3813\",\"subtype\":\"Figure\",\"type\":\"Plot\"},\"ticker\":{\"id\":\"3823\",\"type\":\"BasicTicker\"}},\"id\":\"3826\",\"type\":\"Grid\"},{\"attributes\":{\"line_cap\":\"round\",\"line_color\":\"#1f77b4\",\"line_join\":\"round\",\"line_width\":4,\"x\":{\"field\":\"dateDelta\"},\"y\":{\"field\":\"balance\"}},\"id\":\"3849\",\"type\":\"Line\"},{\"attributes\":{\"line_alpha\":0.1,\"line_cap\":\"round\",\"line_color\":\"#1f77b4\",\"line_join\":\"round\",\"line_width\":4,\"x\":{\"field\":\"dateDelta\"},\"y\":{\"field\":\"balance\"}},\"id\":\"3850\",\"type\":\"Line\"},{\"attributes\":{},\"id\":\"3998\",\"type\":\"Selection\"},{\"attributes\":{\"callback\":null,\"end\":155000,\"start\":0},\"id\":\"3816\",\"type\":\"DataRange1d\"},{\"attributes\":{\"format\":\"0,0.[000000]\"},\"id\":\"3845\",\"type\":\"NumeralTickFormatter\"},{\"attributes\":{\"callback\":null,\"data\":{\"balance\":[150000,148886,148549,148383,148206,147706,147206,146706,145674,145567,145356,144087,144027,143699,143639,143523,143305,142911,142743,142075,141783,141648,141196,140466,140403,139654,139515,139232,139213,138777,137706,137406,137392,137229,136819,135541,135425,134970,134947,134722,134579,133309,133193,132831,131571,130900,130853,130282,129187,128718,128400,127778,126739,126459,125778,124675,124297,123731,123405,122352,121365,120769,119853,118612,118199,117202,116741,116737,116506,116290,114592,114586,114082,113868,112652,112540,112511,112397,111713,111358,109771,108069,107807,107589,107404,107382,106626,104936,104877,104022,102792,102603,101944,101703,100419,100154,98399,97770,96065,95915,95820,95026,94933,92820,91978,89991,89923,89577,89577,86700,86566,86522,86410,86070,85976,83260,83191,82559,82495,81789,81514,81156,81030],\"dateDelta\":[0,60,66,71,73,74,75,80,81,82,85,86,87,89,95,99,102,103,104,106,108,110,113,114,115,116,117,120,122,124,127,128,129,130,131,134,135,136,137,141,142,143,145,148,150,151,152,156,157,159,162,163,164,165,169,171,172,173,177,178,179,185,186,187,191,192,193,194,197,198,199,200,204,205,206,207,208,211,212,213,214,218,219,220,221,222,226,227,228,232,233,234,239,240,241,242,243,246,247,249,250,253,254,256,260,261,262,263,264,269,270,271,274,278,283,288,289,290,291,292,297,298,299],\"index\":[0,1,2,3,4,5,6,7,8,9,10,11,12,13,14,15,16,17,18,19,20,21,22,23,24,25,26,27,28,29,30,31,32,33,34,35,36,37,38,39,40,41,42,43,44,45,46,47,48,49,50,51,52,53,54,55,56,57,58,59,60,61,62,63,64,65,66,67,68,69,70,71,72,73,74,75,76,77,78,79,80,81,82,83,84,85,86,87,88,89,90,91,92,93,94,95,96,97,98,99,100,101,102,103,104,105,106,107,108,109,110,111,112,113,114,115,116,117,118,119,120,121,122]},\"name\":\"Series:\",\"selected\":{\"id\":\"3998\",\"type\":\"Selection\"},\"selection_policy\":{\"id\":\"3997\",\"type\":\"UnionRenderers\"}},\"id\":\"3847\",\"type\":\"ColumnDataSource\"},{\"attributes\":{},\"id\":\"3823\",\"type\":\"BasicTicker\"},{\"attributes\":{},\"id\":\"3997\",\"type\":\"UnionRenderers\"},{\"attributes\":{\"level\":\"overlay\",\"name\":\"subtitle\",\"plot\":{\"id\":\"3813\",\"subtype\":\"Figure\",\"type\":\"Plot\"},\"text\":\"\",\"text_align\":\"right\",\"text_color\":{\"value\":\"#898989\"},\"text_font_size\":{\"value\":\"10px\"},\"x\":864.0,\"x_units\":\"screen\",\"y\":0,\"y_units\":\"screen\"},\"id\":\"3838\",\"type\":\"Label\"},{\"attributes\":{\"plot\":{\"id\":\"3813\",\"subtype\":\"Figure\",\"type\":\"Plot\"},\"text\":\"As orders are placed, the defect balance will decrease.\",\"text_color\":{\"value\":\"#666666\"},\"text_font_size\":{\"value\":\"12pt\"}},\"id\":\"3839\",\"type\":\"Title\"},{\"attributes\":{\"format\":\"0,0.[000]\"},\"id\":\"3843\",\"type\":\"NumeralTickFormatter\"}],\"root_ids\":[\"3813\"]},\"title\":\"Bokeh Application\",\"version\":\"1.0.4\"}};\n",
       "  var render_items = [{\"docid\":\"bfed2d37-cb05-43cf-99ab-ebac6a0e6914\",\"roots\":{\"3813\":\"0c65f987-69b6-4709-bfcb-ae54c9abd540\"}}];\n",
       "  root.Bokeh.embed.embed_items_notebook(docs_json, render_items);\n",
       "\n",
       "  }\n",
       "  if (root.Bokeh !== undefined) {\n",
       "    embed_document(root);\n",
       "  } else {\n",
       "    var attempts = 0;\n",
       "    var timer = setInterval(function(root) {\n",
       "      if (root.Bokeh !== undefined) {\n",
       "        embed_document(root);\n",
       "        clearInterval(timer);\n",
       "      }\n",
       "      attempts++;\n",
       "      if (attempts > 100) {\n",
       "        console.log(\"Bokeh: ERROR: Unable to run BokehJS code because BokehJS library is missing\");\n",
       "        clearInterval(timer);\n",
       "      }\n",
       "    }, 10, root)\n",
       "  }\n",
       "})(window);"
      ],
      "application/vnd.bokehjs_exec.v0+json": ""
     },
     "metadata": {
      "application/vnd.bokehjs_exec.v0+json": {
       "id": "3813"
      }
     },
     "output_type": "display_data"
    }
   ],
   "source": [
    "ch = cfy.Chart(blank_labels=True)#, x_axis_type='datetime')\n",
    "ch.set_title(\"Defect Balance Over Time\")\n",
    "ch.set_subtitle(\"As orders are placed, the defect balance will decrease.\")\n",
    "ch.plot.line(\n",
    "    data_frame=df,\n",
    "    x_column='dateDelta',\n",
    "    y_column='balance')\n",
    "ch.axes.set_yaxis_range(0,155000)\n",
    "ch.axes.set_xaxis_range(0,800)\n",
    "ch.show('html')"
   ]
  },
  {
   "cell_type": "markdown",
   "metadata": {},
   "source": [
    "#### The plot above follows a curve similar to the function below. Estimate the parameters of that function"
   ]
  },
  {
   "cell_type": "markdown",
   "metadata": {},
   "source": [
    "$f(x) = b_{0} - \\frac{1}{b_{1}}x^2 \\ \\ \\ \\ \\ \\ \\ \\ \\{x>0\\}$"
   ]
  },
  {
   "cell_type": "code",
   "execution_count": 13,
   "metadata": {},
   "outputs": [],
   "source": [
    "#the function f above\n",
    "def func(x, b0, b1):\n",
    "     return b0-(1/b1)*(x**2)"
   ]
  },
  {
   "cell_type": "code",
   "execution_count": 14,
   "metadata": {},
   "outputs": [],
   "source": [
    "#f in terms of x\n",
    "def getX(y, b0, b1):\n",
    "    return np.sqrt((y-b0)*-b1)"
   ]
  },
  {
   "cell_type": "code",
   "execution_count": 15,
   "metadata": {},
   "outputs": [],
   "source": [
    "#derivative of f\n",
    "def getDerivative(x, b0, b1):\n",
    "    return -(2/b1)*x"
   ]
  },
  {
   "cell_type": "code",
   "execution_count": 17,
   "metadata": {},
   "outputs": [],
   "source": [
    "#fiting the curve\n",
    "xdata=df.dateDelta\n",
    "ydata=df.balance\n",
    "popt, pcov = curve_fit(func, xdata, ydata)\n",
    "xIntercept = getX(0,*popt)"
   ]
  },
  {
   "cell_type": "code",
   "execution_count": 82,
   "metadata": {},
   "outputs": [
    {
     "name": "stdout",
     "output_type": "stream",
     "text": [
      "b0: 150617.2977231807\n",
      "b1: 1.1731030147676897\n"
     ]
    }
   ],
   "source": [
    "#parameter estimates\n",
    "print('b0:',popt[0])\n",
    "print('b1:',popt[1])"
   ]
  },
  {
   "cell_type": "code",
   "execution_count": 37,
   "metadata": {},
   "outputs": [],
   "source": [
    "#using estimates to plot f\n",
    "MoreDays = pd.Series(np.linspace(300,xIntercept,300),index=np.linspace(300,xIntercept,300))\n",
    "xPlusMoreDays = xdata.append(MoreDays)\n",
    "CF_results = pd.concat([xPlusMoreDays,func(xPlusMoreDays, *popt)],axis=1).rename({0:'x',1:'y'},axis=1)"
   ]
  },
  {
   "cell_type": "code",
   "execution_count": 38,
   "metadata": {},
   "outputs": [
    {
     "name": "stderr",
     "output_type": "stream",
     "text": [
      "C:\\Users\\evan.lynch\\AppData\\Local\\conda\\conda\\envs\\my_root\\lib\\site-packages\\ipykernel_launcher.py:21: DeprecationWarning: object of type <class 'numpy.float64'> cannot be safely interpreted as an integer.\n"
     ]
    }
   ],
   "source": [
    "#if modeled replacement rate exceeds the defined capacity rate (point at which f' exceeds capacity), use f' to find latest date recall could be completed\n",
    "for i in range(0,int(xIntercept)):\n",
    "    instReplacementRate = getDerivative(i,*popt)\n",
    "    if instReplacementRate < avgDailyCapacity:\n",
    "        y_CC = func(i,*popt)\n",
    "        x_CC = getX(y_CC,*popt)\n",
    "        slope = instReplacementRate\n",
    "        yIntercept = y_CC-(slope*x_CC)\n",
    "        break\n",
    "\n",
    "#define the line\n",
    "def capacityConstraint(x,intercept,slope):\n",
    "    return intercept+(slope*x)\n",
    "def getXCC(y,intercept,slope):\n",
    "    return (y-intercept)/slope\n",
    "\n",
    "xInterceptCC = getXCC(0,yIntercept,slope)\n",
    "\n",
    "#create the capacity constraint\n",
    "cap_x = pd.Series(np.linspace(x_CC,xInterceptCC,xInterceptCC-x_CC))\n",
    "cap_y = pd.Series(capacityConstraint(x,yIntercept,slope))\n",
    "der_results = pd.concat([cap_x,cap_y],axis=1).rename({0:'x',1:'y'},axis=1)"
   ]
  },
  {
   "cell_type": "code",
   "execution_count": 68,
   "metadata": {},
   "outputs": [
    {
     "data": {
      "text/html": [
       "\n",
       "\n",
       "\n",
       "\n",
       "\n",
       "\n",
       "  <div class=\"bk-root\" id=\"a5a8a54b-67c9-487c-b1d4-a00732dda1d3\" data-root-id=\"3527\"></div>\n"
      ]
     },
     "metadata": {},
     "output_type": "display_data"
    },
    {
     "data": {
      "application/javascript": [
       "(function(root) {\n",
       "  function embed_document(root) {\n",
       "    \n",
       "  var docs_json = {\"2a5098b3-3008-4e7f-9f6a-abdabb92dce3\":{\"roots\":{\"references\":[{\"attributes\":{\"above\":[{\"id\":\"3553\",\"type\":\"Title\"}],\"background_fill_color\":{\"value\":\"white\"},\"below\":[{\"id\":\"3536\",\"type\":\"LinearAxis\"},{\"id\":\"3552\",\"type\":\"Label\"}],\"border_fill_color\":{\"value\":\"white\"},\"left\":[{\"id\":\"3541\",\"type\":\"LinearAxis\"}],\"min_border_bottom\":60,\"min_border_left\":60,\"min_border_right\":60,\"min_border_top\":40,\"outline_line_color\":{\"value\":\"white\"},\"plot_height\":540,\"plot_width\":960,\"renderers\":[{\"id\":\"3536\",\"type\":\"LinearAxis\"},{\"id\":\"3540\",\"type\":\"Grid\"},{\"id\":\"3541\",\"type\":\"LinearAxis\"},{\"id\":\"3545\",\"type\":\"Grid\"},{\"id\":\"3552\",\"type\":\"Label\"},{\"id\":\"3553\",\"type\":\"Title\"},{\"id\":\"3565\",\"type\":\"GlyphRenderer\"},{\"id\":\"3573\",\"type\":\"GlyphRenderer\"},{\"id\":\"3581\",\"type\":\"GlyphRenderer\"}],\"title\":{\"id\":\"3549\",\"type\":\"Title\"},\"toolbar\":{\"id\":\"3547\",\"type\":\"Toolbar\"},\"x_range\":{\"id\":\"3528\",\"type\":\"DataRange1d\"},\"x_scale\":{\"id\":\"3532\",\"type\":\"LinearScale\"},\"y_range\":{\"id\":\"3530\",\"type\":\"DataRange1d\"},\"y_scale\":{\"id\":\"3534\",\"type\":\"LinearScale\"}},\"id\":\"3527\",\"subtype\":\"Figure\",\"type\":\"Plot\"},{\"attributes\":{\"source\":{\"id\":\"3561\",\"type\":\"ColumnDataSource\"}},\"id\":\"3566\",\"type\":\"CDSView\"},{\"attributes\":{\"level\":\"overlay\",\"name\":\"subtitle\",\"plot\":{\"id\":\"3527\",\"subtype\":\"Figure\",\"type\":\"Plot\"},\"text\":\"\",\"text_align\":\"right\",\"text_color\":{\"value\":\"#898989\"},\"text_font_size\":{\"value\":\"10px\"},\"x\":864.0,\"x_units\":\"screen\",\"y\":0,\"y_units\":\"screen\"},\"id\":\"3552\",\"type\":\"Label\"},{\"attributes\":{\"active_drag\":null,\"active_inspect\":\"auto\",\"active_multi\":null,\"active_scroll\":\"auto\",\"active_tap\":\"auto\",\"logo\":null,\"tools\":[{\"id\":\"3546\",\"type\":\"SaveTool\"}]},\"id\":\"3547\",\"type\":\"Toolbar\"},{\"attributes\":{\"line_alpha\":0.1,\"line_cap\":\"round\",\"line_color\":\"#1f77b4\",\"line_dash\":[6],\"line_join\":\"round\",\"line_width\":4,\"x\":{\"field\":\"x\"},\"y\":{\"field\":\"y\"}},\"id\":\"3572\",\"type\":\"Line\"},{\"attributes\":{},\"id\":\"3718\",\"type\":\"Selection\"},{\"attributes\":{\"line_cap\":\"round\",\"line_color\":\"#2ca02c\",\"line_dash\":[6],\"line_join\":\"round\",\"line_width\":4,\"x\":{\"field\":\"x\"},\"y\":{\"field\":\"y\"}},\"id\":\"3571\",\"type\":\"Line\"},{\"attributes\":{},\"id\":\"3537\",\"type\":\"BasicTicker\"},{\"attributes\":{\"plot\":null,\"text\":\"Predicted Defect Balance Over Time\",\"text_color\":{\"value\":\"#333333\"},\"text_font_size\":{\"value\":\"18pt\"}},\"id\":\"3549\",\"type\":\"Title\"},{\"attributes\":{\"callback\":null,\"data\":{\"index\":{\"__ndarray__\":\"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\",\"dtype\":\"float64\",\"shape\":[423]},\"x\":{\"__ndarray__\":\"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\",\"dtype\":\"float64\",\"shape\":[423]},\"y\":{\"__ndarray__\":\"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\",\"dtype\":\"float64\",\"shape\":[423]}},\"name\":\"Series:\",\"selected\":{\"id\":\"3720\",\"type\":\"Selection\"},\"selection_policy\":{\"id\":\"3719\",\"type\":\"UnionRenderers\"}},\"id\":\"3569\",\"type\":\"ColumnDataSource\"},{\"attributes\":{\"data_source\":{\"id\":\"3569\",\"type\":\"ColumnDataSource\"},\"glyph\":{\"id\":\"3571\",\"type\":\"Line\"},\"hover_glyph\":null,\"muted_glyph\":null,\"nonselection_glyph\":{\"id\":\"3572\",\"type\":\"Line\"},\"selection_glyph\":null,\"view\":{\"id\":\"3574\",\"type\":\"CDSView\"}},\"id\":\"3573\",\"type\":\"GlyphRenderer\"},{\"attributes\":{},\"id\":\"3717\",\"type\":\"UnionRenderers\"},{\"attributes\":{\"axis_label_text_color\":{\"value\":\"#666666\"},\"axis_label_text_font_size\":{\"value\":\"11pt\"},\"axis_label_text_font_style\":\"bold\",\"axis_line_color\":{\"value\":\"#C0C0C0\"},\"formatter\":{\"id\":\"3576\",\"type\":\"NumeralTickFormatter\"},\"major_label_text_color\":{\"value\":\"#898989\"},\"major_label_text_font_size\":{\"value\":\"10pt\"},\"major_tick_in\":0,\"major_tick_line_color\":{\"value\":\"#C0C0C0\"},\"major_tick_out\":4,\"minor_tick_line_color\":{\"value\":\"#C0C0C0\"},\"minor_tick_out\":1,\"plot\":{\"id\":\"3527\",\"subtype\":\"Figure\",\"type\":\"Plot\"},\"ticker\":{\"id\":\"3542\",\"type\":\"BasicTicker\"}},\"id\":\"3541\",\"type\":\"LinearAxis\"},{\"attributes\":{\"source\":{\"id\":\"3569\",\"type\":\"ColumnDataSource\"}},\"id\":\"3574\",\"type\":\"CDSView\"},{\"attributes\":{\"data_source\":{\"id\":\"3561\",\"type\":\"ColumnDataSource\"},\"glyph\":{\"id\":\"3563\",\"type\":\"Line\"},\"hover_glyph\":null,\"muted_glyph\":null,\"nonselection_glyph\":{\"id\":\"3564\",\"type\":\"Line\"},\"selection_glyph\":null,\"view\":{\"id\":\"3566\",\"type\":\"CDSView\"}},\"id\":\"3565\",\"type\":\"GlyphRenderer\"},{\"attributes\":{\"callback\":null,\"data\":{\"balance\":[150000,148886,148549,148383,148206,147706,147206,146706,145674,145567,145356,144087,144027,143699,143639,143523,143305,142911,142743,142075,141783,141648,141196,140466,140403,139654,139515,139232,139213,138777,137706,137406,137392,137229,136819,135541,135425,134970,134947,134722,134579,133309,133193,132831,131571,130900,130853,130282,129187,128718,128400,127778,126739,126459,125778,124675,124297,123731,123405,122352,121365,120769,119853,118612,118199,117202,116741,116737,116506,116290,114592,114586,114082,113868,112652,112540,112511,112397,111713,111358,109771,108069,107807,107589,107404,107382,106626,104936,104877,104022,102792,102603,101944,101703,100419,100154,98399,97770,96065,95915,95820,95026,94933,92820,91978,89991,89923,89577,89577,86700,86566,86522,86410,86070,85976,83260,83191,82559,82495,81789,81514,81156,81030],\"dateDelta\":[0,60,66,71,73,74,75,80,81,82,85,86,87,89,95,99,102,103,104,106,108,110,113,114,115,116,117,120,122,124,127,128,129,130,131,134,135,136,137,141,142,143,145,148,150,151,152,156,157,159,162,163,164,165,169,171,172,173,177,178,179,185,186,187,191,192,193,194,197,198,199,200,204,205,206,207,208,211,212,213,214,218,219,220,221,222,226,227,228,232,233,234,239,240,241,242,243,246,247,249,250,253,254,256,260,261,262,263,264,269,270,271,274,278,283,288,289,290,291,292,297,298,299],\"index\":[0,1,2,3,4,5,6,7,8,9,10,11,12,13,14,15,16,17,18,19,20,21,22,23,24,25,26,27,28,29,30,31,32,33,34,35,36,37,38,39,40,41,42,43,44,45,46,47,48,49,50,51,52,53,54,55,56,57,58,59,60,61,62,63,64,65,66,67,68,69,70,71,72,73,74,75,76,77,78,79,80,81,82,83,84,85,86,87,88,89,90,91,92,93,94,95,96,97,98,99,100,101,102,103,104,105,106,107,108,109,110,111,112,113,114,115,116,117,118,119,120,121,122]},\"name\":\"Series:\",\"selected\":{\"id\":\"3722\",\"type\":\"Selection\"},\"selection_policy\":{\"id\":\"3721\",\"type\":\"UnionRenderers\"}},\"id\":\"3577\",\"type\":\"ColumnDataSource\"},{\"attributes\":{\"plot\":{\"id\":\"3527\",\"subtype\":\"Figure\",\"type\":\"Plot\"},\"text\":\"As orders are placed, the defect balance will decrease.\",\"text_color\":{\"value\":\"#666666\"},\"text_font_size\":{\"value\":\"12pt\"}},\"id\":\"3553\",\"type\":\"Title\"},{\"attributes\":{\"line_cap\":\"round\",\"line_color\":\"#d62728\",\"line_dash\":[6],\"line_join\":\"round\",\"line_width\":4,\"x\":{\"field\":\"x\"},\"y\":{\"field\":\"y\"}},\"id\":\"3563\",\"type\":\"Line\"},{\"attributes\":{},\"id\":\"3719\",\"type\":\"UnionRenderers\"},{\"attributes\":{\"callback\":null,\"end\":800,\"start\":0},\"id\":\"3528\",\"type\":\"DataRange1d\"},{\"attributes\":{\"format\":\"0,0.[000]\"},\"id\":\"3575\",\"type\":\"NumeralTickFormatter\"},{\"attributes\":{\"line_alpha\":0.1,\"line_cap\":\"round\",\"line_color\":\"#1f77b4\",\"line_join\":\"round\",\"line_width\":4,\"x\":{\"field\":\"dateDelta\"},\"y\":{\"field\":\"balance\"}},\"id\":\"3580\",\"type\":\"Line\"},{\"attributes\":{\"line_alpha\":0.1,\"line_cap\":\"round\",\"line_color\":\"#1f77b4\",\"line_dash\":[6],\"line_join\":\"round\",\"line_width\":4,\"x\":{\"field\":\"x\"},\"y\":{\"field\":\"y\"}},\"id\":\"3564\",\"type\":\"Line\"},{\"attributes\":{\"callback\":null,\"data\":{\"index\":[0,1,2,3,4,5,6,7,8,9,10,11,12,13,14,15,16,17,18,19,20,21,22,23,24,25,26,27,28,29,30,31,32,33,34,35,36,37,38,39,40,41,42,43,44,45,46,47,48,49,50,51,52,53,54,55,56,57,58,59,60,61,62,63,64,65,66,67,68,69,70,71,72,73,74,75,76,77,78,79,80,81,82,83,84,85,86,87,88,89,90,91,92,93,94,95,96,97,98,99,100,101,102,103,104,105,106,107,108,109,110,111,112,113,114,115,116,117,118,119,120,121,122,123,124,125,126,127,128,129,130,131,132,133,134,135,136,137,138,139,140,141,142,143,144,145,146,147,148,149,150,151,152,153,154,155,156,157,158,159,160,161,162,163,164,165,166,167,168,169,170,171,172,173,174,175,176,177,178,179,180,181,182,183,184,185,186,187,188,189,190,191,192,193,194,195,196,197,198,199,200,201,202,203,204,205,206,207,208,209,210,211,212,213,214,215,216,217,218,219,220,221,222,223,224,225,226,227,228,229,230,231,232,233,234,235,236,237,238,239,240,241,242,243,244,245,246,247,248,249,250,251,252,253,254,255,256,257,258,259,260,261,262,263],\"x\":{\"__ndarray__\":\"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\",\"dtype\":\"float64\",\"shape\":[264]},\"y\":{\"__ndarray__\":\"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\",\"dtype\":\"float64\",\"shape\":[264]}},\"name\":\"Series:\",\"selected\":{\"id\":\"3718\",\"type\":\"Selection\"},\"selection_policy\":{\"id\":\"3717\",\"type\":\"UnionRenderers\"}},\"id\":\"3561\",\"type\":\"ColumnDataSource\"},{\"attributes\":{\"line_cap\":\"round\",\"line_color\":\"#1f77b4\",\"line_join\":\"round\",\"line_width\":4,\"x\":{\"field\":\"dateDelta\"},\"y\":{\"field\":\"balance\"}},\"id\":\"3579\",\"type\":\"Line\"},{\"attributes\":{},\"id\":\"3720\",\"type\":\"Selection\"},{\"attributes\":{\"grid_line_color\":{\"value\":null},\"plot\":{\"id\":\"3527\",\"subtype\":\"Figure\",\"type\":\"Plot\"},\"ticker\":{\"id\":\"3537\",\"type\":\"BasicTicker\"}},\"id\":\"3540\",\"type\":\"Grid\"},{\"attributes\":{\"data_source\":{\"id\":\"3577\",\"type\":\"ColumnDataSource\"},\"glyph\":{\"id\":\"3579\",\"type\":\"Line\"},\"hover_glyph\":null,\"muted_glyph\":null,\"nonselection_glyph\":{\"id\":\"3580\",\"type\":\"Line\"},\"selection_glyph\":null,\"view\":{\"id\":\"3582\",\"type\":\"CDSView\"}},\"id\":\"3581\",\"type\":\"GlyphRenderer\"},{\"attributes\":{\"source\":{\"id\":\"3577\",\"type\":\"ColumnDataSource\"}},\"id\":\"3582\",\"type\":\"CDSView\"},{\"attributes\":{\"format\":\"0,0.[000000]\"},\"id\":\"3576\",\"type\":\"NumeralTickFormatter\"},{\"attributes\":{\"callback\":null,\"end\":150000,\"start\":0},\"id\":\"3530\",\"type\":\"DataRange1d\"},{\"attributes\":{},\"id\":\"3542\",\"type\":\"BasicTicker\"},{\"attributes\":{},\"id\":\"3721\",\"type\":\"UnionRenderers\"},{\"attributes\":{\"dimension\":1,\"grid_line_color\":{\"value\":null},\"plot\":{\"id\":\"3527\",\"subtype\":\"Figure\",\"type\":\"Plot\"},\"ticker\":{\"id\":\"3542\",\"type\":\"BasicTicker\"}},\"id\":\"3545\",\"type\":\"Grid\"},{\"attributes\":{},\"id\":\"3532\",\"type\":\"LinearScale\"},{\"attributes\":{},\"id\":\"3546\",\"type\":\"SaveTool\"},{\"attributes\":{\"axis_label_text_color\":{\"value\":\"#666666\"},\"axis_label_text_font_size\":{\"value\":\"11pt\"},\"axis_label_text_font_style\":\"bold\",\"axis_line_color\":{\"value\":\"#C0C0C0\"},\"formatter\":{\"id\":\"3575\",\"type\":\"NumeralTickFormatter\"},\"major_label_text_color\":{\"value\":\"#898989\"},\"major_label_text_font_size\":{\"value\":\"10pt\"},\"major_tick_in\":0,\"major_tick_line_color\":{\"value\":\"#C0C0C0\"},\"major_tick_out\":4,\"minor_tick_line_color\":{\"value\":\"#C0C0C0\"},\"minor_tick_out\":1,\"plot\":{\"id\":\"3527\",\"subtype\":\"Figure\",\"type\":\"Plot\"},\"ticker\":{\"id\":\"3537\",\"type\":\"BasicTicker\"}},\"id\":\"3536\",\"type\":\"LinearAxis\"},{\"attributes\":{},\"id\":\"3722\",\"type\":\"Selection\"},{\"attributes\":{},\"id\":\"3534\",\"type\":\"LinearScale\"}],\"root_ids\":[\"3527\"]},\"title\":\"Bokeh Application\",\"version\":\"1.0.4\"}};\n",
       "  var render_items = [{\"docid\":\"2a5098b3-3008-4e7f-9f6a-abdabb92dce3\",\"roots\":{\"3527\":\"a5a8a54b-67c9-487c-b1d4-a00732dda1d3\"}}];\n",
       "  root.Bokeh.embed.embed_items_notebook(docs_json, render_items);\n",
       "\n",
       "  }\n",
       "  if (root.Bokeh !== undefined) {\n",
       "    embed_document(root);\n",
       "  } else {\n",
       "    var attempts = 0;\n",
       "    var timer = setInterval(function(root) {\n",
       "      if (root.Bokeh !== undefined) {\n",
       "        embed_document(root);\n",
       "        clearInterval(timer);\n",
       "      }\n",
       "      attempts++;\n",
       "      if (attempts > 100) {\n",
       "        console.log(\"Bokeh: ERROR: Unable to run BokehJS code because BokehJS library is missing\");\n",
       "        clearInterval(timer);\n",
       "      }\n",
       "    }, 10, root)\n",
       "  }\n",
       "})(window);"
      ],
      "application/vnd.bokehjs_exec.v0+json": ""
     },
     "metadata": {
      "application/vnd.bokehjs_exec.v0+json": {
       "id": "3527"
      }
     },
     "output_type": "display_data"
    }
   ],
   "source": [
    "#plot defect balance, curve, and capacity constraint\n",
    "cfy.color_palettes.create_palette(colors=['#d62728','#2ca02c','#1f77b4'],palette_type='categorical',name='custom palette')\n",
    "ch = cfy.Chart(blank_labels=True)#, x_axis_type='datetime')\n",
    "ch.set_title(\"Predicted Defect Balance Over Time\")\n",
    "ch.set_subtitle(\"As orders are placed, the defect balance will decrease.\")\n",
    "ch.style.set_color_palette('categorical', 'custom palette')\n",
    "ch.plot.line(\n",
    "    data_frame=der_results,\n",
    "    x_column='x',\n",
    "    y_column='y',\n",
    "    line_dash='dashed')\n",
    "ch.plot.line(\n",
    "    data_frame=CF_results,\n",
    "    x_column='x',\n",
    "    y_column='y',\n",
    "    line_dash='dashed')\n",
    "ch.plot.line(\n",
    "    data_frame=df,\n",
    "    x_column='dateDelta',\n",
    "    y_column='balance')\n",
    "ch.axes.set_yaxis_range(0,150000)\n",
    "ch.axes.set_xaxis_range(0,800)\n",
    "ch.show('html')"
   ]
  },
  {
   "cell_type": "code",
   "execution_count": 74,
   "metadata": {},
   "outputs": [
    {
     "name": "stdout",
     "output_type": "stream",
     "text": [
      "Curve Fit CV_RMSE: 0.015001391706549377\n"
     ]
    }
   ],
   "source": [
    "#calculate the cv_rmse for the fitted curve against the actual data\n",
    "def cv_rmse(predicted,actual):\n",
    "    error = (predicted-actual)**2\n",
    "    rmse = np.sqrt(error.sum()/error.count())\n",
    "    per_rmse_pred_ma = rmse/(actual.sum()/actual.count())\n",
    "    return per_rmse_pred_ma\n",
    "\n",
    "print('Curve Fit CV_RMSE:',cv_rmse(func(xdata,*popt),ydata))"
   ]
  },
  {
   "cell_type": "code",
   "execution_count": 63,
   "metadata": {},
   "outputs": [
    {
     "name": "stdout",
     "output_type": "stream",
     "text": [
      "Min Estimated End Date:  May 26,2019\n",
      "Max Estimated End Date:  Aug 10,2019\n"
     ]
    }
   ],
   "source": [
    "#get Min estimated end date \n",
    "numDaysToEnd = min([getX(0,*popt),xInterceptCC])\n",
    "PredMin = str((startDate + datetime.timedelta(numDaysToEnd)).date().strftime('%b %d,%Y'))\n",
    "print('Min Estimated End Date: ',PredMin)\n",
    "\n",
    "#get Max estimated end date \n",
    "numDaysToEnd = max([getX(0,*popt),xInterceptCC])\n",
    "PredMax = str((startDate + datetime.timedelta(numDaysToEnd)).date().strftime('%b %d,%Y'))\n",
    "print('Max Estimated End Date: ',PredMax)"
   ]
  }
 ],
 "metadata": {
  "kernelspec": {
   "display_name": "Python 3",
   "language": "python",
   "name": "python3"
  },
  "language_info": {
   "codemirror_mode": {
    "name": "ipython",
    "version": 3
   },
   "file_extension": ".py",
   "mimetype": "text/x-python",
   "name": "python",
   "nbconvert_exporter": "python",
   "pygments_lexer": "ipython3",
   "version": "3.6.8"
  }
 },
 "nbformat": 4,
 "nbformat_minor": 2
}
