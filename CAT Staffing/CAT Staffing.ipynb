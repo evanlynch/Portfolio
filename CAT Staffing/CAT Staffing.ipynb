{
 "cells": [
  {
   "cell_type": "markdown",
   "metadata": {},
   "source": [
    "# CAT Staffing"
   ]
  },
  {
   "cell_type": "code",
   "execution_count": 1,
   "metadata": {},
   "outputs": [],
   "source": [
    "import pandas as pd\n",
    "from gurobipy import *"
   ]
  },
  {
   "cell_type": "markdown",
   "metadata": {},
   "source": [
    "### Data Input"
   ]
  },
  {
   "cell_type": "code",
   "execution_count": 2,
   "metadata": {},
   "outputs": [],
   "source": [
    "initialProjects = pd.read_csv('InitialProjects.csv')"
   ]
  },
  {
   "cell_type": "code",
   "execution_count": 3,
   "metadata": {},
   "outputs": [],
   "source": [
    "initialPeople = pd.read_csv('InitialPeople.csv')"
   ]
  },
  {
   "cell_type": "code",
   "execution_count": 4,
   "metadata": {},
   "outputs": [],
   "source": [
    "#here is probably where you also set up a way to get additional data fed in"
   ]
  },
  {
   "cell_type": "markdown",
   "metadata": {},
   "source": [
    "### Sets"
   ]
  },
  {
   "cell_type": "code",
   "execution_count": 5,
   "metadata": {},
   "outputs": [],
   "source": [
    "people = list(initialPeople.person.unique())"
   ]
  },
  {
   "cell_type": "code",
   "execution_count": 6,
   "metadata": {},
   "outputs": [],
   "source": [
    "projects = list(initialProjects.PROJECT_NAME.unique())"
   ]
  },
  {
   "cell_type": "code",
   "execution_count": 7,
   "metadata": {},
   "outputs": [],
   "source": [
    "time = [i for i in range(1,13)]"
   ]
  },
  {
   "cell_type": "code",
   "execution_count": 8,
   "metadata": {},
   "outputs": [
    {
     "data": {
      "text/html": [
       "<div>\n",
       "<style>\n",
       "    .dataframe thead tr:only-child th {\n",
       "        text-align: right;\n",
       "    }\n",
       "\n",
       "    .dataframe thead th {\n",
       "        text-align: left;\n",
       "    }\n",
       "\n",
       "    .dataframe tbody tr th {\n",
       "        vertical-align: top;\n",
       "    }\n",
       "</style>\n",
       "<table border=\"1\" class=\"dataframe\">\n",
       "  <thead>\n",
       "    <tr style=\"text-align: right;\">\n",
       "      <th></th>\n",
       "      <th>person</th>\n",
       "      <th>skillset</th>\n",
       "      <th>Unnamed: 2</th>\n",
       "      <th>Unnamed: 3</th>\n",
       "      <th>Unnamed: 4</th>\n",
       "      <th>Unnamed: 5</th>\n",
       "      <th>Unnamed: 6</th>\n",
       "      <th>Unnamed: 7</th>\n",
       "    </tr>\n",
       "  </thead>\n",
       "  <tbody>\n",
       "    <tr>\n",
       "      <th>0</th>\n",
       "      <td>Scott</td>\n",
       "      <td>[[S1,3],[S2,1],[S3,2]]</td>\n",
       "      <td>NaN</td>\n",
       "      <td>NaN</td>\n",
       "      <td>NaN</td>\n",
       "      <td>NaN</td>\n",
       "      <td>NaN</td>\n",
       "      <td>NaN</td>\n",
       "    </tr>\n",
       "    <tr>\n",
       "      <th>1</th>\n",
       "      <td>Yuriy</td>\n",
       "      <td>[[S4,2],[S5,2],[S6,1],[S7,2]]</td>\n",
       "      <td>NaN</td>\n",
       "      <td>NaN</td>\n",
       "      <td>NaN</td>\n",
       "      <td>NaN</td>\n",
       "      <td>NaN</td>\n",
       "      <td>NaN</td>\n",
       "    </tr>\n",
       "    <tr>\n",
       "      <th>2</th>\n",
       "      <td>Jenny</td>\n",
       "      <td>[[S1,1],[S2,1],[S8,2]]</td>\n",
       "      <td>NaN</td>\n",
       "      <td>NaN</td>\n",
       "      <td>NaN</td>\n",
       "      <td>NaN</td>\n",
       "      <td>NaN</td>\n",
       "      <td>NaN</td>\n",
       "    </tr>\n",
       "    <tr>\n",
       "      <th>3</th>\n",
       "      <td>Grace</td>\n",
       "      <td>[[S2,1],[S2,2],[S7,1]]</td>\n",
       "      <td>NaN</td>\n",
       "      <td>NaN</td>\n",
       "      <td>NaN</td>\n",
       "      <td>NaN</td>\n",
       "      <td>NaN</td>\n",
       "      <td>NaN</td>\n",
       "    </tr>\n",
       "    <tr>\n",
       "      <th>4</th>\n",
       "      <td>Evan</td>\n",
       "      <td>[[S16,3],[S3,3],[S4,2]]</td>\n",
       "      <td>NaN</td>\n",
       "      <td>NaN</td>\n",
       "      <td>NaN</td>\n",
       "      <td>NaN</td>\n",
       "      <td>NaN</td>\n",
       "      <td>NaN</td>\n",
       "    </tr>\n",
       "  </tbody>\n",
       "</table>\n",
       "</div>"
      ],
      "text/plain": [
       "  person                       skillset  Unnamed: 2  Unnamed: 3  Unnamed: 4  \\\n",
       "0  Scott         [[S1,3],[S2,1],[S3,2]]         NaN         NaN         NaN   \n",
       "1  Yuriy  [[S4,2],[S5,2],[S6,1],[S7,2]]         NaN         NaN         NaN   \n",
       "2  Jenny         [[S1,1],[S2,1],[S8,2]]         NaN         NaN         NaN   \n",
       "3  Grace         [[S2,1],[S2,2],[S7,1]]         NaN         NaN         NaN   \n",
       "4   Evan        [[S16,3],[S3,3],[S4,2]]         NaN         NaN         NaN   \n",
       "\n",
       "   Unnamed: 5  Unnamed: 6  Unnamed: 7  \n",
       "0         NaN         NaN         NaN  \n",
       "1         NaN         NaN         NaN  \n",
       "2         NaN         NaN         NaN  \n",
       "3         NaN         NaN         NaN  \n",
       "4         NaN         NaN         NaN  "
      ]
     },
     "execution_count": 8,
     "metadata": {},
     "output_type": "execute_result"
    }
   ],
   "source": [
    "initialPeople.head()"
   ]
  },
  {
   "cell_type": "code",
   "execution_count": 9,
   "metadata": {},
   "outputs": [
    {
     "data": {
      "text/html": [
       "<div>\n",
       "<style>\n",
       "    .dataframe thead tr:only-child th {\n",
       "        text-align: right;\n",
       "    }\n",
       "\n",
       "    .dataframe thead th {\n",
       "        text-align: left;\n",
       "    }\n",
       "\n",
       "    .dataframe tbody tr th {\n",
       "        vertical-align: top;\n",
       "    }\n",
       "</style>\n",
       "<table border=\"1\" class=\"dataframe\">\n",
       "  <thead>\n",
       "    <tr style=\"text-align: right;\">\n",
       "      <th></th>\n",
       "      <th>LABEL</th>\n",
       "      <th>PROJECT_NAME</th>\n",
       "      <th>DEADLINE</th>\n",
       "      <th>HAS_DEADLINE?</th>\n",
       "      <th>RELATED_TO_DELIVERABLE</th>\n",
       "      <th>NO_PROJECT_DEPENDENCIES?</th>\n",
       "      <th>L/G?</th>\n",
       "      <th>HAVE_ALL_DATA?</th>\n",
       "      <th>COMPLETION_GOAL</th>\n",
       "      <th>START_DATE</th>\n",
       "      <th>END_DATE</th>\n",
       "      <th>Tools/Skills</th>\n",
       "      <th>PROJECT_STATUS</th>\n",
       "      <th>Dependencies?</th>\n",
       "      <th>PEOPLE_WORKING</th>\n",
       "      <th>Notes</th>\n",
       "      <th>SORT_SCORE</th>\n",
       "      <th>EST_HOURS_REQ</th>\n",
       "    </tr>\n",
       "  </thead>\n",
       "  <tbody>\n",
       "    <tr>\n",
       "      <th>0</th>\n",
       "      <td>DASA-CE</td>\n",
       "      <td>ARRG Slide Stats</td>\n",
       "      <td>3/1/2018</td>\n",
       "      <td>1</td>\n",
       "      <td>1</td>\n",
       "      <td>1</td>\n",
       "      <td>1</td>\n",
       "      <td>1</td>\n",
       "      <td>43160</td>\n",
       "      <td>43132</td>\n",
       "      <td>NaN</td>\n",
       "      <td>Python/R, SQL</td>\n",
       "      <td>Active</td>\n",
       "      <td>NaN</td>\n",
       "      <td>Yuriy, Scott</td>\n",
       "      <td>NaN</td>\n",
       "      <td>9</td>\n",
       "      <td>10</td>\n",
       "    </tr>\n",
       "    <tr>\n",
       "      <th>1</th>\n",
       "      <td>DASA-CE</td>\n",
       "      <td>Price Change Dashboard/Analysis</td>\n",
       "      <td>3/1/2018</td>\n",
       "      <td>1</td>\n",
       "      <td>1</td>\n",
       "      <td>1</td>\n",
       "      <td>1</td>\n",
       "      <td>1</td>\n",
       "      <td>43160</td>\n",
       "      <td>43160</td>\n",
       "      <td>NaN</td>\n",
       "      <td>Python/R, Qlik, SQL</td>\n",
       "      <td>Active</td>\n",
       "      <td>NaN</td>\n",
       "      <td>Whole Team</td>\n",
       "      <td>NaN</td>\n",
       "      <td>9</td>\n",
       "      <td>10</td>\n",
       "    </tr>\n",
       "    <tr>\n",
       "      <th>2</th>\n",
       "      <td>OSMIS</td>\n",
       "      <td>R/Python SQL Integration</td>\n",
       "      <td>NaN</td>\n",
       "      <td>0</td>\n",
       "      <td>1</td>\n",
       "      <td>1</td>\n",
       "      <td>1</td>\n",
       "      <td>1</td>\n",
       "      <td>NaN</td>\n",
       "      <td>43132</td>\n",
       "      <td>NaN</td>\n",
       "      <td>R/Python, SQL</td>\n",
       "      <td>Active</td>\n",
       "      <td>NaN</td>\n",
       "      <td>Yuriy</td>\n",
       "      <td>NaN</td>\n",
       "      <td>6</td>\n",
       "      <td>10</td>\n",
       "    </tr>\n",
       "    <tr>\n",
       "      <th>3</th>\n",
       "      <td>OSMIS</td>\n",
       "      <td>CF Business Rule Review</td>\n",
       "      <td>NaN</td>\n",
       "      <td>0</td>\n",
       "      <td>1</td>\n",
       "      <td>1</td>\n",
       "      <td>1</td>\n",
       "      <td>1</td>\n",
       "      <td>43160</td>\n",
       "      <td>43132</td>\n",
       "      <td>NaN</td>\n",
       "      <td>Python/R</td>\n",
       "      <td>Active</td>\n",
       "      <td>NaN</td>\n",
       "      <td>Grace, Yuriy</td>\n",
       "      <td>FC/AR -- Grace ; Density -- Yuriy</td>\n",
       "      <td>6</td>\n",
       "      <td>10</td>\n",
       "    </tr>\n",
       "    <tr>\n",
       "      <th>4</th>\n",
       "      <td>OSMIS</td>\n",
       "      <td>ATR Demand Forecast</td>\n",
       "      <td>NaN</td>\n",
       "      <td>0</td>\n",
       "      <td>1</td>\n",
       "      <td>1</td>\n",
       "      <td>1</td>\n",
       "      <td>1</td>\n",
       "      <td>43252</td>\n",
       "      <td>43101</td>\n",
       "      <td>NaN</td>\n",
       "      <td>Python/R, Qlik Sense, SQL, Forecasting</td>\n",
       "      <td>Active</td>\n",
       "      <td>NaN</td>\n",
       "      <td>Scott, Evan, Jenny</td>\n",
       "      <td>Waiting on quarterly QVD's</td>\n",
       "      <td>6</td>\n",
       "      <td>10</td>\n",
       "    </tr>\n",
       "  </tbody>\n",
       "</table>\n",
       "</div>"
      ],
      "text/plain": [
       "     LABEL                     PROJECT_NAME  DEADLINE  HAS_DEADLINE?  \\\n",
       "0  DASA-CE                 ARRG Slide Stats  3/1/2018              1   \n",
       "1  DASA-CE  Price Change Dashboard/Analysis  3/1/2018              1   \n",
       "2    OSMIS         R/Python SQL Integration       NaN              0   \n",
       "3    OSMIS          CF Business Rule Review       NaN              0   \n",
       "4    OSMIS              ATR Demand Forecast       NaN              0   \n",
       "\n",
       "   RELATED_TO_DELIVERABLE  NO_PROJECT_DEPENDENCIES?  L/G?  HAVE_ALL_DATA?  \\\n",
       "0                       1                         1     1               1   \n",
       "1                       1                         1     1               1   \n",
       "2                       1                         1     1               1   \n",
       "3                       1                         1     1               1   \n",
       "4                       1                         1     1               1   \n",
       "\n",
       "  COMPLETION_GOAL START_DATE  END_DATE  \\\n",
       "0           43160      43132       NaN   \n",
       "1           43160      43160       NaN   \n",
       "2             NaN      43132       NaN   \n",
       "3           43160      43132       NaN   \n",
       "4           43252      43101       NaN   \n",
       "\n",
       "                             Tools/Skills PROJECT_STATUS Dependencies?  \\\n",
       "0                           Python/R, SQL         Active           NaN   \n",
       "1                     Python/R, Qlik, SQL         Active           NaN   \n",
       "2                           R/Python, SQL         Active           NaN   \n",
       "3                                Python/R         Active           NaN   \n",
       "4  Python/R, Qlik Sense, SQL, Forecasting         Active           NaN   \n",
       "\n",
       "       PEOPLE_WORKING                              Notes  SORT_SCORE  \\\n",
       "0        Yuriy, Scott                                NaN           9   \n",
       "1          Whole Team                                NaN           9   \n",
       "2               Yuriy                                NaN           6   \n",
       "3        Grace, Yuriy  FC/AR -- Grace ; Density -- Yuriy           6   \n",
       "4  Scott, Evan, Jenny         Waiting on quarterly QVD's           6   \n",
       "\n",
       "   EST_HOURS_REQ  \n",
       "0             10  \n",
       "1             10  \n",
       "2             10  \n",
       "3             10  \n",
       "4             10  "
      ]
     },
     "execution_count": 9,
     "metadata": {},
     "output_type": "execute_result"
    }
   ],
   "source": [
    "initialProjects.head()"
   ]
  },
  {
   "cell_type": "markdown",
   "metadata": {},
   "source": [
    "### Data Pre-Processing"
   ]
  },
  {
   "cell_type": "code",
   "execution_count": 10,
   "metadata": {},
   "outputs": [],
   "source": [
    "#requirements\n",
    "#availability of people - this could be calculated as number of work days over the planning horizon\n",
    "\n",
    "#skillSupply\n",
    "skillSupply = dict(zip(initialPeople.person,initialPeople.skillset))  \n",
    "\n",
    "#number of hours in month t\n",
    "hrsAvailable = {1:160,2:160,3:160,4:160,5:160,6:160,7:160,8:160,9:160,10:160,11:160,12:160}\n",
    "\n",
    "#estimated hours required by project\n",
    "estHoursReq = dict(zip(initialProjects.PROJECT_NAME,initialProjects.EST_HOURS_REQ))\n",
    "\n",
    "#skillDemand\n",
    "skillDemand = dict(zip(initialProjects.PROJECT_NAME,initialProjects['Tools/Skills']))"
   ]
  },
  {
   "cell_type": "markdown",
   "metadata": {},
   "source": [
    "### Model"
   ]
  },
  {
   "cell_type": "code",
   "execution_count": 11,
   "metadata": {},
   "outputs": [
    {
     "ename": "GurobiError",
     "evalue": "License expired 2018-05-04 - license file 'C:\\Users\\evan.lynch\\gurobi.lic'",
     "output_type": "error",
     "traceback": [
      "\u001b[1;31m---------------------------------------------------------------------------\u001b[0m",
      "\u001b[1;31mGurobiError\u001b[0m                               Traceback (most recent call last)",
      "\u001b[1;32m<ipython-input-11-968ad6e717e7>\u001b[0m in \u001b[0;36m<module>\u001b[1;34m()\u001b[0m\n\u001b[1;32m----> 1\u001b[1;33m \u001b[0mm\u001b[0m \u001b[1;33m=\u001b[0m \u001b[0mModel\u001b[0m\u001b[1;33m(\u001b[0m\u001b[1;34m'CAT Staff'\u001b[0m\u001b[1;33m)\u001b[0m\u001b[1;33m\u001b[0m\u001b[0m\n\u001b[0m",
      "\u001b[1;32mmodel.pxi\u001b[0m in \u001b[0;36mgurobipy.Model.__init__ (../../src/python/gurobipy.c:44574)\u001b[1;34m()\u001b[0m\n",
      "\u001b[1;32mgurobi.pxi\u001b[0m in \u001b[0;36mgurobipy.gurobi._getdefaultenv (../../src/python/gurobipy.c:117689)\u001b[1;34m()\u001b[0m\n",
      "\u001b[1;32menv.pxi\u001b[0m in \u001b[0;36mgurobipy.Env.__init__ (../../src/python/gurobipy.c:7269)\u001b[1;34m()\u001b[0m\n",
      "\u001b[1;31mGurobiError\u001b[0m: License expired 2018-05-04 - license file 'C:\\Users\\evan.lynch\\gurobi.lic'"
     ]
    }
   ],
   "source": [
    "m = Model('CAT Staff')"
   ]
  },
  {
   "cell_type": "markdown",
   "metadata": {},
   "source": [
    "#### Decision Variables"
   ]
  },
  {
   "cell_type": "code",
   "execution_count": null,
   "metadata": {},
   "outputs": [],
   "source": [
    "#Whether to staff someone on a project\n",
    "StaffDecision = m.addVars(people,projects,time,vtype=GRB.CONTINUOUS,name='StaffingDecision')\n",
    "Overstaffing = m.addVars(people,time,vtype=GRB.CONTINUOUS,name='OverstaffPercent')\n",
    "Understaffing = m.addVars(people,time,vtype=GRB.CONTINUOUS,name='UnderstaffPercent')"
   ]
  },
  {
   "cell_type": "markdown",
   "metadata": {},
   "source": [
    "#### Objective"
   ]
  },
  {
   "cell_type": "code",
   "execution_count": null,
   "metadata": {},
   "outputs": [],
   "source": [
    "#minimize total understaffing\n",
    "m.setObjective(quicksum(Understaffing[i,t] for i in people for t in time),GRB.MINIMIZE)"
   ]
  },
  {
   "cell_type": "markdown",
   "metadata": {},
   "source": [
    "#### Constraints"
   ]
  },
  {
   "cell_type": "code",
   "execution_count": null,
   "metadata": {},
   "outputs": [],
   "source": [
    "#define staffing\n",
    "StaffingEquilibrium = m.addConstrs((quicksum(StaffDecision[i,j,t]*estHoursReq[j]/hrsAvailable[t] for j in projects)\n",
    "                                    == 1 + Overstaffing[i,t] - Understaffing[i,t] for i in people for t in time),\"StaffingEquilibrium\")\n",
    "\n",
    "#all projects must be assigned\n",
    "AssignAllProjects = m.addConstrs((quicksum(StaffDecision[i,j,t] for i in people for t in time) \n",
    "                               >=1 for j in projects),\"AssignAllTasks\")\n",
    "\n",
    "\n",
    "StdLT = 11\n",
    "startDate = m.addVars(projects,vtype=GRB.INTEGER,name='StartDate')\n",
    "Deadline = 12\n",
    "StdStartDate = 1\n",
    "\n",
    "#ideas for constraints\n",
    "#person needs to have skill in order to work on project\n",
    "#project must be scheduled with enough lead time to finish it before the expected end date\n",
    "#StartDate = m.addConstrs((startDate[j] == (-1*(Deadline - StdStartDate)*quicksum(StaffDecision[i,j,t] for i in people for t in time))/StdLT for j in projects),\"StartDate\")\n",
    "\n",
    "#StartDate = m.addConstrs((StdLT/quicksum(StaffDecision[i,j,t] for i in people for t in time) - startDate[j] == Deadline[j] - StdStartDate[j] for j in projects),\"StartDate\")\n",
    "#if staffed on a project for the first time, continue it until the project is supposed to be complete\n",
    "#maybe have a manual way to enter in here that a person can't be staffed on a particular project (if we really need that)\n",
    "#give priority to projects that have a higher priority score\n",
    "#if project is inactive, don't staff it"
   ]
  },
  {
   "cell_type": "markdown",
   "metadata": {},
   "source": [
    "#### Run"
   ]
  },
  {
   "cell_type": "code",
   "execution_count": null,
   "metadata": {},
   "outputs": [],
   "source": [
    "m.optimize()"
   ]
  },
  {
   "cell_type": "code",
   "execution_count": null,
   "metadata": {},
   "outputs": [],
   "source": [
    "for j in projects:\n",
    "    print(startDate[j].x)"
   ]
  },
  {
   "cell_type": "code",
   "execution_count": null,
   "metadata": {},
   "outputs": [],
   "source": [
    "for i in people:\n",
    "    for j in projects:\n",
    "        for t in time:\n",
    "            print((i,j,t),StaffDecision[i,j,t].x)"
   ]
  }
 ],
 "metadata": {
  "kernelspec": {
   "display_name": "Python 3",
   "language": "python",
   "name": "python3"
  },
  "language_info": {
   "codemirror_mode": {
    "name": "ipython",
    "version": 3
   },
   "file_extension": ".py",
   "mimetype": "text/x-python",
   "name": "python",
   "nbconvert_exporter": "python",
   "pygments_lexer": "ipython3",
   "version": "3.6.2"
  }
 },
 "nbformat": 4,
 "nbformat_minor": 2
}
