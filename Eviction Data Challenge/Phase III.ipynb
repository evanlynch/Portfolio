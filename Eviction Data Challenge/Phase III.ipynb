{
 "cells": [
  {
   "cell_type": "markdown",
   "metadata": {},
   "source": [
    "# Phase III"
   ]
  },
  {
   "cell_type": "code",
   "execution_count": 1,
   "metadata": {},
   "outputs": [],
   "source": [
    "import gurobipy as grb\n",
    "import pandas as pd\n",
    "import sklearn.cluster\n",
    "import grpcio"
   ]
  },
  {
   "cell_type": "code",
   "execution_count": 2,
   "metadata": {},
   "outputs": [],
   "source": [
    "data = pd.read_csv('Phase2_Data_raw.csv')"
   ]
  },
  {
   "cell_type": "code",
   "execution_count": 3,
   "metadata": {},
   "outputs": [],
   "source": [
    "data['full_name'] = data.name + \"-\" + data['parent-location']"
   ]
  },
  {
   "cell_type": "code",
   "execution_count": 4,
   "metadata": {},
   "outputs": [
    {
     "data": {
      "text/html": [
       "<div>\n",
       "<style>\n",
       "    .dataframe thead tr:only-child th {\n",
       "        text-align: right;\n",
       "    }\n",
       "\n",
       "    .dataframe thead th {\n",
       "        text-align: left;\n",
       "    }\n",
       "\n",
       "    .dataframe tbody tr th {\n",
       "        vertical-align: top;\n",
       "    }\n",
       "</style>\n",
       "<table border=\"1\" class=\"dataframe\">\n",
       "  <thead>\n",
       "    <tr style=\"text-align: right;\">\n",
       "      <th></th>\n",
       "      <th>Unnamed: 0</th>\n",
       "      <th>Unnamed: 0.1</th>\n",
       "      <th>GEOID</th>\n",
       "      <th>year</th>\n",
       "      <th>name</th>\n",
       "      <th>parent-location</th>\n",
       "      <th>population</th>\n",
       "      <th>poverty-rate</th>\n",
       "      <th>pct-renter-occupied</th>\n",
       "      <th>median-gross-rent</th>\n",
       "      <th>...</th>\n",
       "      <th>pct-other</th>\n",
       "      <th>renter-occupied-households</th>\n",
       "      <th>eviction-filings</th>\n",
       "      <th>evictions</th>\n",
       "      <th>eviction-rate</th>\n",
       "      <th>eviction-filing-rate</th>\n",
       "      <th>low-flag</th>\n",
       "      <th>imputed</th>\n",
       "      <th>subbed</th>\n",
       "      <th>full_name</th>\n",
       "    </tr>\n",
       "  </thead>\n",
       "  <tbody>\n",
       "    <tr>\n",
       "      <th>0</th>\n",
       "      <td>0</td>\n",
       "      <td>17</td>\n",
       "      <td>1001</td>\n",
       "      <td>2000</td>\n",
       "      <td>Autauga County</td>\n",
       "      <td>Alabama</td>\n",
       "      <td>43671</td>\n",
       "      <td>10.92</td>\n",
       "      <td>19.21</td>\n",
       "      <td>537.0</td>\n",
       "      <td>...</td>\n",
       "      <td>0.10</td>\n",
       "      <td>3074</td>\n",
       "      <td>61.0</td>\n",
       "      <td>40.0</td>\n",
       "      <td>1.30</td>\n",
       "      <td>1.98</td>\n",
       "      <td>0</td>\n",
       "      <td>0</td>\n",
       "      <td>1</td>\n",
       "      <td>Autauga County-Alabama</td>\n",
       "    </tr>\n",
       "    <tr>\n",
       "      <th>1</th>\n",
       "      <td>1</td>\n",
       "      <td>18</td>\n",
       "      <td>1003</td>\n",
       "      <td>2000</td>\n",
       "      <td>Baldwin County</td>\n",
       "      <td>Alabama</td>\n",
       "      <td>140415</td>\n",
       "      <td>10.15</td>\n",
       "      <td>20.46</td>\n",
       "      <td>566.0</td>\n",
       "      <td>...</td>\n",
       "      <td>0.07</td>\n",
       "      <td>11320</td>\n",
       "      <td>213.0</td>\n",
       "      <td>65.0</td>\n",
       "      <td>0.57</td>\n",
       "      <td>1.88</td>\n",
       "      <td>0</td>\n",
       "      <td>0</td>\n",
       "      <td>1</td>\n",
       "      <td>Baldwin County-Alabama</td>\n",
       "    </tr>\n",
       "    <tr>\n",
       "      <th>2</th>\n",
       "      <td>2</td>\n",
       "      <td>19</td>\n",
       "      <td>1005</td>\n",
       "      <td>2000</td>\n",
       "      <td>Barbour County</td>\n",
       "      <td>Alabama</td>\n",
       "      <td>29038</td>\n",
       "      <td>26.80</td>\n",
       "      <td>26.87</td>\n",
       "      <td>333.0</td>\n",
       "      <td>...</td>\n",
       "      <td>0.01</td>\n",
       "      <td>2797</td>\n",
       "      <td>15.0</td>\n",
       "      <td>11.0</td>\n",
       "      <td>0.39</td>\n",
       "      <td>0.54</td>\n",
       "      <td>0</td>\n",
       "      <td>0</td>\n",
       "      <td>0</td>\n",
       "      <td>Barbour County-Alabama</td>\n",
       "    </tr>\n",
       "    <tr>\n",
       "      <th>3</th>\n",
       "      <td>3</td>\n",
       "      <td>20</td>\n",
       "      <td>1007</td>\n",
       "      <td>2000</td>\n",
       "      <td>Bibb County</td>\n",
       "      <td>Alabama</td>\n",
       "      <td>20826</td>\n",
       "      <td>20.61</td>\n",
       "      <td>19.81</td>\n",
       "      <td>348.0</td>\n",
       "      <td>...</td>\n",
       "      <td>0.00</td>\n",
       "      <td>1470</td>\n",
       "      <td>13.0</td>\n",
       "      <td>8.0</td>\n",
       "      <td>0.54</td>\n",
       "      <td>0.88</td>\n",
       "      <td>0</td>\n",
       "      <td>0</td>\n",
       "      <td>0</td>\n",
       "      <td>Bibb County-Alabama</td>\n",
       "    </tr>\n",
       "    <tr>\n",
       "      <th>4</th>\n",
       "      <td>4</td>\n",
       "      <td>21</td>\n",
       "      <td>1009</td>\n",
       "      <td>2000</td>\n",
       "      <td>Blount County</td>\n",
       "      <td>Alabama</td>\n",
       "      <td>51024</td>\n",
       "      <td>11.74</td>\n",
       "      <td>16.56</td>\n",
       "      <td>385.0</td>\n",
       "      <td>...</td>\n",
       "      <td>0.03</td>\n",
       "      <td>3190</td>\n",
       "      <td>NaN</td>\n",
       "      <td>NaN</td>\n",
       "      <td>NaN</td>\n",
       "      <td>NaN</td>\n",
       "      <td>0</td>\n",
       "      <td>0</td>\n",
       "      <td>0</td>\n",
       "      <td>Blount County-Alabama</td>\n",
       "    </tr>\n",
       "  </tbody>\n",
       "</table>\n",
       "<p>5 rows × 30 columns</p>\n",
       "</div>"
      ],
      "text/plain": [
       "   Unnamed: 0  Unnamed: 0.1  GEOID  year            name parent-location  \\\n",
       "0           0            17   1001  2000  Autauga County         Alabama   \n",
       "1           1            18   1003  2000  Baldwin County         Alabama   \n",
       "2           2            19   1005  2000  Barbour County         Alabama   \n",
       "3           3            20   1007  2000     Bibb County         Alabama   \n",
       "4           4            21   1009  2000   Blount County         Alabama   \n",
       "\n",
       "   population  poverty-rate  pct-renter-occupied  median-gross-rent  \\\n",
       "0       43671         10.92                19.21              537.0   \n",
       "1      140415         10.15                20.46              566.0   \n",
       "2       29038         26.80                26.87              333.0   \n",
       "3       20826         20.61                19.81              348.0   \n",
       "4       51024         11.74                16.56              385.0   \n",
       "\n",
       "            ...            pct-other  renter-occupied-households  \\\n",
       "0           ...                 0.10                        3074   \n",
       "1           ...                 0.07                       11320   \n",
       "2           ...                 0.01                        2797   \n",
       "3           ...                 0.00                        1470   \n",
       "4           ...                 0.03                        3190   \n",
       "\n",
       "   eviction-filings  evictions  eviction-rate  eviction-filing-rate  low-flag  \\\n",
       "0              61.0       40.0           1.30                  1.98         0   \n",
       "1             213.0       65.0           0.57                  1.88         0   \n",
       "2              15.0       11.0           0.39                  0.54         0   \n",
       "3              13.0        8.0           0.54                  0.88         0   \n",
       "4               NaN        NaN            NaN                   NaN         0   \n",
       "\n",
       "   imputed  subbed               full_name  \n",
       "0        0       1  Autauga County-Alabama  \n",
       "1        0       1  Baldwin County-Alabama  \n",
       "2        0       0  Barbour County-Alabama  \n",
       "3        0       0     Bibb County-Alabama  \n",
       "4        0       0   Blount County-Alabama  \n",
       "\n",
       "[5 rows x 30 columns]"
      ]
     },
     "execution_count": 4,
     "metadata": {},
     "output_type": "execute_result"
    }
   ],
   "source": [
    "data.head()"
   ]
  },
  {
   "cell_type": "code",
   "execution_count": 5,
   "metadata": {},
   "outputs": [],
   "source": [
    "data_used = data[data.year==data.year.max()]"
   ]
  },
  {
   "cell_type": "code",
   "execution_count": 6,
   "metadata": {},
   "outputs": [],
   "source": [
    "data_used = data_used[['full_name','name','parent-location','GEOID','eviction-rate','rent-burden','poverty-rate','pct-renter-occupied']]"
   ]
  },
  {
   "cell_type": "code",
   "execution_count": 7,
   "metadata": {},
   "outputs": [
    {
     "data": {
      "text/html": [
       "<div>\n",
       "<style>\n",
       "    .dataframe thead tr:only-child th {\n",
       "        text-align: right;\n",
       "    }\n",
       "\n",
       "    .dataframe thead th {\n",
       "        text-align: left;\n",
       "    }\n",
       "\n",
       "    .dataframe tbody tr th {\n",
       "        vertical-align: top;\n",
       "    }\n",
       "</style>\n",
       "<table border=\"1\" class=\"dataframe\">\n",
       "  <thead>\n",
       "    <tr style=\"text-align: right;\">\n",
       "      <th></th>\n",
       "      <th>full_name</th>\n",
       "      <th>name</th>\n",
       "      <th>parent-location</th>\n",
       "      <th>GEOID</th>\n",
       "      <th>eviction-rate</th>\n",
       "      <th>rent-burden</th>\n",
       "      <th>poverty-rate</th>\n",
       "      <th>pct-renter-occupied</th>\n",
       "    </tr>\n",
       "  </thead>\n",
       "  <tbody>\n",
       "    <tr>\n",
       "      <th>1072</th>\n",
       "      <td>Autauga County-Alabama</td>\n",
       "      <td>Autauga County</td>\n",
       "      <td>Alabama</td>\n",
       "      <td>1001</td>\n",
       "      <td>2.16</td>\n",
       "      <td>32.8</td>\n",
       "      <td>9.28</td>\n",
       "      <td>26.08</td>\n",
       "    </tr>\n",
       "    <tr>\n",
       "      <th>1073</th>\n",
       "      <td>Baldwin County-Alabama</td>\n",
       "      <td>Baldwin County</td>\n",
       "      <td>Alabama</td>\n",
       "      <td>1003</td>\n",
       "      <td>2.11</td>\n",
       "      <td>30.3</td>\n",
       "      <td>9.63</td>\n",
       "      <td>28.48</td>\n",
       "    </tr>\n",
       "    <tr>\n",
       "      <th>1074</th>\n",
       "      <td>Barbour County-Alabama</td>\n",
       "      <td>Barbour County</td>\n",
       "      <td>Alabama</td>\n",
       "      <td>1005</td>\n",
       "      <td>0.63</td>\n",
       "      <td>30.3</td>\n",
       "      <td>19.54</td>\n",
       "      <td>36.41</td>\n",
       "    </tr>\n",
       "    <tr>\n",
       "      <th>1075</th>\n",
       "      <td>Bibb County-Alabama</td>\n",
       "      <td>Bibb County</td>\n",
       "      <td>Alabama</td>\n",
       "      <td>1007</td>\n",
       "      <td>0.86</td>\n",
       "      <td>26.9</td>\n",
       "      <td>12.84</td>\n",
       "      <td>24.89</td>\n",
       "    </tr>\n",
       "    <tr>\n",
       "      <th>1076</th>\n",
       "      <td>Blount County-Alabama</td>\n",
       "      <td>Blount County</td>\n",
       "      <td>Alabama</td>\n",
       "      <td>1009</td>\n",
       "      <td>1.03</td>\n",
       "      <td>26.1</td>\n",
       "      <td>12.26</td>\n",
       "      <td>21.10</td>\n",
       "    </tr>\n",
       "  </tbody>\n",
       "</table>\n",
       "</div>"
      ],
      "text/plain": [
       "                   full_name            name parent-location  GEOID  \\\n",
       "1072  Autauga County-Alabama  Autauga County         Alabama   1001   \n",
       "1073  Baldwin County-Alabama  Baldwin County         Alabama   1003   \n",
       "1074  Barbour County-Alabama  Barbour County         Alabama   1005   \n",
       "1075     Bibb County-Alabama     Bibb County         Alabama   1007   \n",
       "1076   Blount County-Alabama   Blount County         Alabama   1009   \n",
       "\n",
       "      eviction-rate  rent-burden  poverty-rate  pct-renter-occupied  \n",
       "1072           2.16         32.8          9.28                26.08  \n",
       "1073           2.11         30.3          9.63                28.48  \n",
       "1074           0.63         30.3         19.54                36.41  \n",
       "1075           0.86         26.9         12.84                24.89  \n",
       "1076           1.03         26.1         12.26                21.10  "
      ]
     },
     "execution_count": 7,
     "metadata": {},
     "output_type": "execute_result"
    }
   ],
   "source": [
    "data_used.head()"
   ]
  },
  {
   "cell_type": "code",
   "execution_count": 8,
   "metadata": {},
   "outputs": [
    {
     "data": {
      "text/html": [
       "<div>\n",
       "<style>\n",
       "    .dataframe thead tr:only-child th {\n",
       "        text-align: right;\n",
       "    }\n",
       "\n",
       "    .dataframe thead th {\n",
       "        text-align: left;\n",
       "    }\n",
       "\n",
       "    .dataframe tbody tr th {\n",
       "        vertical-align: top;\n",
       "    }\n",
       "</style>\n",
       "<table border=\"1\" class=\"dataframe\">\n",
       "  <thead>\n",
       "    <tr style=\"text-align: right;\">\n",
       "      <th></th>\n",
       "      <th>full_name</th>\n",
       "      <th>name</th>\n",
       "      <th>parent-location</th>\n",
       "      <th>GEOID</th>\n",
       "      <th>eviction-rate</th>\n",
       "      <th>rent-burden</th>\n",
       "      <th>poverty-rate</th>\n",
       "      <th>pct-renter-occupied</th>\n",
       "    </tr>\n",
       "  </thead>\n",
       "  <tbody>\n",
       "    <tr>\n",
       "      <th>1072</th>\n",
       "      <td>Autauga County-Alabama</td>\n",
       "      <td>Autauga County</td>\n",
       "      <td>Alabama</td>\n",
       "      <td>1001</td>\n",
       "      <td>2.16</td>\n",
       "      <td>32.8</td>\n",
       "      <td>9.28</td>\n",
       "      <td>26.08</td>\n",
       "    </tr>\n",
       "    <tr>\n",
       "      <th>1073</th>\n",
       "      <td>Baldwin County-Alabama</td>\n",
       "      <td>Baldwin County</td>\n",
       "      <td>Alabama</td>\n",
       "      <td>1003</td>\n",
       "      <td>2.11</td>\n",
       "      <td>30.3</td>\n",
       "      <td>9.63</td>\n",
       "      <td>28.48</td>\n",
       "    </tr>\n",
       "    <tr>\n",
       "      <th>1074</th>\n",
       "      <td>Barbour County-Alabama</td>\n",
       "      <td>Barbour County</td>\n",
       "      <td>Alabama</td>\n",
       "      <td>1005</td>\n",
       "      <td>0.63</td>\n",
       "      <td>30.3</td>\n",
       "      <td>19.54</td>\n",
       "      <td>36.41</td>\n",
       "    </tr>\n",
       "    <tr>\n",
       "      <th>1075</th>\n",
       "      <td>Bibb County-Alabama</td>\n",
       "      <td>Bibb County</td>\n",
       "      <td>Alabama</td>\n",
       "      <td>1007</td>\n",
       "      <td>0.86</td>\n",
       "      <td>26.9</td>\n",
       "      <td>12.84</td>\n",
       "      <td>24.89</td>\n",
       "    </tr>\n",
       "    <tr>\n",
       "      <th>1076</th>\n",
       "      <td>Blount County-Alabama</td>\n",
       "      <td>Blount County</td>\n",
       "      <td>Alabama</td>\n",
       "      <td>1009</td>\n",
       "      <td>1.03</td>\n",
       "      <td>26.1</td>\n",
       "      <td>12.26</td>\n",
       "      <td>21.10</td>\n",
       "    </tr>\n",
       "  </tbody>\n",
       "</table>\n",
       "</div>"
      ],
      "text/plain": [
       "                   full_name            name parent-location  GEOID  \\\n",
       "1072  Autauga County-Alabama  Autauga County         Alabama   1001   \n",
       "1073  Baldwin County-Alabama  Baldwin County         Alabama   1003   \n",
       "1074  Barbour County-Alabama  Barbour County         Alabama   1005   \n",
       "1075     Bibb County-Alabama     Bibb County         Alabama   1007   \n",
       "1076   Blount County-Alabama   Blount County         Alabama   1009   \n",
       "\n",
       "      eviction-rate  rent-burden  poverty-rate  pct-renter-occupied  \n",
       "1072           2.16         32.8          9.28                26.08  \n",
       "1073           2.11         30.3          9.63                28.48  \n",
       "1074           0.63         30.3         19.54                36.41  \n",
       "1075           0.86         26.9         12.84                24.89  \n",
       "1076           1.03         26.1         12.26                21.10  "
      ]
     },
     "execution_count": 8,
     "metadata": {},
     "output_type": "execute_result"
    }
   ],
   "source": [
    "data_used.head()"
   ]
  },
  {
   "cell_type": "code",
   "execution_count": 9,
   "metadata": {},
   "outputs": [
    {
     "data": {
      "text/html": [
       "<div>\n",
       "<style>\n",
       "    .dataframe thead tr:only-child th {\n",
       "        text-align: right;\n",
       "    }\n",
       "\n",
       "    .dataframe thead th {\n",
       "        text-align: left;\n",
       "    }\n",
       "\n",
       "    .dataframe tbody tr th {\n",
       "        vertical-align: top;\n",
       "    }\n",
       "</style>\n",
       "<table border=\"1\" class=\"dataframe\">\n",
       "  <thead>\n",
       "    <tr style=\"text-align: right;\">\n",
       "      <th></th>\n",
       "      <th>full_name</th>\n",
       "      <th>name</th>\n",
       "      <th>parent-location</th>\n",
       "      <th>GEOID</th>\n",
       "      <th>eviction-rate</th>\n",
       "      <th>rent-burden</th>\n",
       "      <th>poverty-rate</th>\n",
       "      <th>pct-renter-occupied</th>\n",
       "    </tr>\n",
       "  </thead>\n",
       "  <tbody>\n",
       "    <tr>\n",
       "      <th>39164</th>\n",
       "      <td>Shannon County-South Dakota</td>\n",
       "      <td>Shannon County</td>\n",
       "      <td>South Dakota</td>\n",
       "      <td>46113</td>\n",
       "      <td>NaN</td>\n",
       "      <td>19.3</td>\n",
       "      <td>45.38</td>\n",
       "      <td>47.32</td>\n",
       "    </tr>\n",
       "  </tbody>\n",
       "</table>\n",
       "</div>"
      ],
      "text/plain": [
       "                         full_name            name parent-location  GEOID  \\\n",
       "39164  Shannon County-South Dakota  Shannon County    South Dakota  46113   \n",
       "\n",
       "       eviction-rate  rent-burden  poverty-rate  pct-renter-occupied  \n",
       "39164            NaN         19.3         45.38                47.32  "
      ]
     },
     "execution_count": 9,
     "metadata": {},
     "output_type": "execute_result"
    }
   ],
   "source": [
    "data_used[data_used['poverty-rate']==data_used['poverty-rate'].max()]"
   ]
  },
  {
   "cell_type": "code",
   "execution_count": 10,
   "metadata": {},
   "outputs": [],
   "source": [
    "data_used = data_used.fillna(0)"
   ]
  },
  {
   "cell_type": "markdown",
   "metadata": {},
   "source": [
    "# Clustering Analysis"
   ]
  },
  {
   "cell_type": "code",
   "execution_count": 11,
   "metadata": {},
   "outputs": [],
   "source": [
    "# i'm not sure if I actually want/need to do this"
   ]
  },
  {
   "cell_type": "code",
   "execution_count": 12,
   "metadata": {},
   "outputs": [],
   "source": [
    "cluster = sklearn.cluster.KMeans(n_clusters=3).fit(data_used[['rent-burden','poverty-rate','pct-renter-occupied']]).predict(data_used[['rent-burden','poverty-rate','pct-renter-occupied']])"
   ]
  },
  {
   "cell_type": "code",
   "execution_count": 13,
   "metadata": {},
   "outputs": [
    {
     "data": {
      "image/png": "[encoded data removed]",
      "text/plain": [
       "<matplotlib.figure.Figure at 0x1e2754ee7f0>"
      ]
     },
     "metadata": {},
     "output_type": "display_data"
    }
   ],
   "source": [
    "from mpl_toolkits.mplot3d import Axes3D\n",
    "import matplotlib.pyplot as plt\n",
    "import numpy as np\n",
    "\n",
    "\n",
    "def randrange(n, vmin, vmax):\n",
    "    '''\n",
    "    Helper function to make an array of random numbers having shape (n, )\n",
    "    with each number distributed Uniform(vmin, vmax).\n",
    "    '''\n",
    "    return (vmax - vmin)*np.random.rand(n) + vmin\n",
    "\n",
    "fig = plt.figure()\n",
    "ax = fig.add_subplot(111, projection='3d')\n",
    "\n",
    "n = 100\n",
    "\n",
    "# For each set of style and range settings, plot n random points in the box\n",
    "# defined by x in [23, 32], y in [0, 100], z in [zlow, zhigh].\n",
    "#for c, m, zlow, zhigh in [('r', 'o', -50, -25), ('b', '^', -30, -5)]:\n",
    "xs = data_used['rent-burden']\n",
    "ys = data_used['poverty-rate']\n",
    "zs = data_used['pct-renter-occupied']\n",
    "ax.scatter(xs, ys, zs,c=cluster)\n",
    "\n",
    "ax.set_xlabel('rent-burden')\n",
    "ax.set_ylabel('poverty-rate')\n",
    "ax.set_zlabel('pct-renter-occupied')\n",
    "\n",
    "plt.show()"
   ]
  },
  {
   "cell_type": "markdown",
   "metadata": {},
   "source": [
    "# Funding allocation model"
   ]
  },
  {
   "cell_type": "code",
   "execution_count": 14,
   "metadata": {},
   "outputs": [],
   "source": [
    "data = data_used"
   ]
  },
  {
   "cell_type": "code",
   "execution_count": 15,
   "metadata": {},
   "outputs": [],
   "source": [
    "counties = data.full_name.unique()"
   ]
  },
  {
   "cell_type": "code",
   "execution_count": 16,
   "metadata": {},
   "outputs": [],
   "source": [
    "policyTypes = ['poverty-rate','rent-burden','pct-renter-occupied']"
   ]
  },
  {
   "cell_type": "code",
   "execution_count": 17,
   "metadata": {},
   "outputs": [],
   "source": [
    "curEvic = data[['full_name','eviction-rate']]"
   ]
  },
  {
   "cell_type": "code",
   "execution_count": 18,
   "metadata": {},
   "outputs": [],
   "source": [
    "budget = 1000"
   ]
  },
  {
   "cell_type": "code",
   "execution_count": 19,
   "metadata": {},
   "outputs": [],
   "source": [
    "slope = {'poverty-rate':1/2,'rent-burden':1/3,'pct-renter-occupied':1/4}"
   ]
  },
  {
   "cell_type": "code",
   "execution_count": 20,
   "metadata": {},
   "outputs": [],
   "source": [
    "maxProgramSize = {'poverty-rate':budget*.3,'rent-burden':budget*.3,'pct-renter-occupied':budget*.4}"
   ]
  },
  {
   "cell_type": "markdown",
   "metadata": {},
   "source": [
    "### Decision variables"
   ]
  },
  {
   "cell_type": "code",
   "execution_count": 21,
   "metadata": {},
   "outputs": [],
   "source": [
    "m = None\n",
    "m = grb.Model('policyDecisions')"
   ]
  },
  {
   "cell_type": "code",
   "execution_count": 22,
   "metadata": {},
   "outputs": [],
   "source": [
    "funding = m.addVars(counties,policyTypes,lb=0.0, vtype=grb.GRB.CONTINUOUS)"
   ]
  },
  {
   "cell_type": "code",
   "execution_count": 23,
   "metadata": {},
   "outputs": [],
   "source": [
    "redEvic = m.addVars(counties,lb=0.0,vtype=grb.GRB.CONTINUOUS)"
   ]
  },
  {
   "cell_type": "code",
   "execution_count": 24,
   "metadata": {},
   "outputs": [],
   "source": [
    "newEvic = m.addVars(counties,lb=0.0,vtype=grb.GRB.CONTINUOUS)"
   ]
  },
  {
   "cell_type": "code",
   "execution_count": 25,
   "metadata": {},
   "outputs": [],
   "source": [
    "#countyAddressed = m.addVars(counties,vtype=grb.GRB.BINARY)"
   ]
  },
  {
   "cell_type": "markdown",
   "metadata": {},
   "source": [
    "### Objective(s)"
   ]
  },
  {
   "cell_type": "code",
   "execution_count": 26,
   "metadata": {},
   "outputs": [],
   "source": [
    "m.setObjective(grb.quicksum(newEvic[c] for c in counties)/len(counties),grb.GRB.MINIMIZE)"
   ]
  },
  {
   "cell_type": "markdown",
   "metadata": {},
   "source": [
    "### Constraints"
   ]
  },
  {
   "cell_type": "code",
   "execution_count": 27,
   "metadata": {},
   "outputs": [],
   "source": [
    "#m.remove(lbAvg) #remove a constraint"
   ]
  },
  {
   "cell_type": "code",
   "execution_count": 28,
   "metadata": {},
   "outputs": [],
   "source": [
    "makeAnImpact = m.addConstrs((redEvic[c] == grb.quicksum(slope[p]*funding[c,p] for p in policyTypes ) for c in counties ),'makeAnImpact')"
   ]
  },
  {
   "cell_type": "code",
   "execution_count": 29,
   "metadata": {},
   "outputs": [],
   "source": [
    "getNewEvictionRate = m.addConstrs((newEvic[c] == curEvic['eviction-rate'][curEvic.full_name==c].iloc[0]-curEvic['eviction-rate'][curEvic.full_name==c].iloc[0]*redEvic[c]/100 for c in counties),'getNewEvictionRate')"
   ]
  },
  {
   "cell_type": "code",
   "execution_count": 30,
   "metadata": {},
   "outputs": [],
   "source": [
    "limitTotalSpending = m.addConstr((grb.quicksum(funding[c,p] for c in counties for p in policyTypes)<=budget),'limitSpending')"
   ]
  },
  {
   "cell_type": "code",
   "execution_count": 31,
   "metadata": {},
   "outputs": [],
   "source": [
    "limitProgramSpending = m.addConstrs((grb.quicksum(funding[c,p] for c in counties)<=maxProgramSize[p] for p in policyTypes),'limitSpending')"
   ]
  },
  {
   "cell_type": "code",
   "execution_count": 32,
   "metadata": {},
   "outputs": [],
   "source": [
    "#ifFundedAddressed = m.addConstrs((grb.quicksum(funding[c,p] for p in policyTypes)>=countyAddressed[c] for c in counties),'ifFundedAddressed')"
   ]
  },
  {
   "cell_type": "code",
   "execution_count": 33,
   "metadata": {},
   "outputs": [],
   "source": [
    "#lbZero = m.addGenConstrIndicator(countyAddressed[c],1,newEvic[c],sense=grb.GRB.GREATER_EQUAL,rhs=data['eviction-rate'].mean())"
   ]
  },
  {
   "cell_type": "code",
   "execution_count": 34,
   "metadata": {},
   "outputs": [],
   "source": [
    "#lbAvg = m.addConstrs((newEvic[c] >= data['eviction-rate'].mean() for c in counties),'lbAvg')"
   ]
  },
  {
   "cell_type": "markdown",
   "metadata": {},
   "source": [
    "### Output"
   ]
  },
  {
   "cell_type": "code",
   "execution_count": 35,
   "metadata": {},
   "outputs": [],
   "source": [
    "#m.params.DualReductions = 0"
   ]
  },
  {
   "cell_type": "code",
   "execution_count": 36,
   "metadata": {},
   "outputs": [
    {
     "name": "stdout",
     "output_type": "stream",
     "text": [
      "Warning: constraint name \"makeAnImpact[Autauga County-Alabama]\" has a space\n"
     ]
    }
   ],
   "source": [
    "m.write('formulation.lp')"
   ]
  },
  {
   "cell_type": "code",
   "execution_count": 37,
   "metadata": {},
   "outputs": [
    {
     "name": "stdout",
     "output_type": "stream",
     "text": [
      "Iteration    Objective       Primal Inf.    Dual Inf.      Time\n",
      "       0   0.0000000e+000  2.122000e+005  0.000000e+000      0s\n",
      "IIS runtime: 0.21 seconds\n"
     ]
    }
   ],
   "source": [
    "try:\n",
    "    m.computeIIS()\n",
    "    m.write('problem.ilp')\n",
    "except:\n",
    "    None"
   ]
  },
  {
   "cell_type": "code",
   "execution_count": 38,
   "metadata": {},
   "outputs": [
    {
     "data": {
      "text/plain": [
       "<gurobi.Model Continuous instance policyDecisions: 6288 constrs, 15710 vars, Parameter changes: LogFile=gurobi.log>"
      ]
     },
     "execution_count": 38,
     "metadata": {},
     "output_type": "execute_result"
    }
   ],
   "source": [
    "m"
   ]
  },
  {
   "cell_type": "code",
   "execution_count": 39,
   "metadata": {},
   "outputs": [
    {
     "name": "stdout",
     "output_type": "stream",
     "text": [
      "Optimize a model with 6288 rows, 15710 columns and 36684 nonzeros\n",
      "Coefficient statistics:\n",
      "  Matrix range     [1e-04, 1e+00]\n",
      "  Objective range  [3e-04, 3e-04]\n",
      "  Bounds range     [0e+00, 0e+00]\n",
      "  RHS range        [1e-02, 1e+03]\n",
      "\n",
      "Solved in 2591 iterations and 0.02 seconds\n",
      "Optimal objective  1.245482177e+00\n",
      "2\n"
     ]
    }
   ],
   "source": [
    "m.optimize()\n",
    "print(m.getAttr('Status'))"
   ]
  },
  {
   "cell_type": "code",
   "execution_count": 40,
   "metadata": {},
   "outputs": [
    {
     "name": "stdout",
     "output_type": "stream",
     "text": [
      "original avg eviction rate:  1.26 %\n",
      "new avg eviction rate:  1.25 %\n",
      "impact on eviction rate:  0.02 %\n"
     ]
    }
   ],
   "source": [
    "print('original avg eviction rate: ',round(data['eviction-rate'].mean(),2),'%')\n",
    "print('new avg eviction rate: ',round(m.getObjective().getValue(),2),'%')\n",
    "print('impact on eviction rate: ',round(data['eviction-rate'].mean()-m.getObjective().getValue(),2),'%')"
   ]
  },
  {
   "cell_type": "code",
   "execution_count": 41,
   "metadata": {},
   "outputs": [
    {
     "name": "stdout",
     "output_type": "stream",
     "text": [
      "Cherokee County-South Carolina poverty-rate 16.41 100.0 0.0 $ 200.0\n",
      "Florence County-South Carolina poverty-rate 16.13 50.0 8.065 $ 100.0\n",
      "Hopewell city-Virginia rent-burden 15.69 100.0 0.0 $ 300.0\n",
      "Petersburg city-Virginia pct-renter-occupied 17.56 100.0 0.0 $ 400.0\n"
     ]
    }
   ],
   "source": [
    "for c in counties:\n",
    "    for p in policyTypes:\n",
    "        if funding[c,p].x>0:\n",
    "            print(c,p,curEvic['eviction-rate'][curEvic.full_name==c].iloc[0],redEvic[c].x,newEvic[c].x,'$',funding[c,p].x)"
   ]
  },
  {
   "cell_type": "code",
   "execution_count": 45,
   "metadata": {},
   "outputs": [
    {
     "data": {
      "text/plain": [
       "30.0"
      ]
     },
     "execution_count": 45,
     "metadata": {},
     "output_type": "execute_result"
    }
   ],
   "source": [
    "r = [5.0,10.0,15.0]\n",
    "sum(r)"
   ]
  },
  {
   "cell_type": "code",
   "execution_count": null,
   "metadata": {},
   "outputs": [],
   "source": []
  }
 ],
 "metadata": {
  "kernelspec": {
   "display_name": "Python 3",
   "language": "python",
   "name": "python3"
  },
  "language_info": {
   "codemirror_mode": {
    "name": "ipython",
    "version": 3
   },
   "file_extension": ".py",
   "mimetype": "text/x-python",
   "name": "python",
   "nbconvert_exporter": "python",
   "pygments_lexer": "ipython3",
   "version": "3.6.2"
  }
 },
 "nbformat": 4,
 "nbformat_minor": 2
}
