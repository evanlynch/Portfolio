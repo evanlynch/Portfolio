{
 "cells": [
  {
   "cell_type": "code",
   "execution_count": 34,
   "metadata": {
    "collapsed": true
   },
   "outputs": [],
   "source": [
    "from IPython.display import HTML\n",
    "import pandas as pd\n",
    "import numpy as np\n",
    "import warnings\n",
    "warnings.filterwarnings(\"ignore\") \n",
    "from pprint import pprint"
   ]
  },
  {
   "cell_type": "code",
   "execution_count": 3,
   "metadata": {},
   "outputs": [
    {
     "data": {
      "text/html": [
       "<script>code_show=true;function code_toggle() {if (code_show){\n",
       "$('div.input').hide();} else {$('div.input').show();}code_show = !code_show} \n",
       "$( document ).ready(code_toggle);</script><a href=\"javascript:code_toggle()\">Toggle Code</a>."
      ],
      "text/plain": [
       "<IPython.core.display.HTML object>"
      ]
     },
     "execution_count": 3,
     "metadata": {},
     "output_type": "execute_result"
    }
   ],
   "source": [
    "HTML('''<script>code_show=true;function code_toggle() {if (code_show){\n",
    "$('div.input').hide();} else {$('div.input').show();}code_show = !code_show} \n",
    "$( document ).ready(code_toggle);</script><a href=\"javascript:code_toggle()\">Toggle Code</a>.''')"
   ]
  },
  {
   "cell_type": "code",
   "execution_count": 35,
   "metadata": {
    "scrolled": false
   },
   "outputs": [],
   "source": [
    "censuslocs = pd.read_csv('censuslocs_new_061518.csv')"
   ]
  },
  {
   "cell_type": "code",
   "execution_count": 5,
   "metadata": {
    "collapsed": true
   },
   "outputs": [],
   "source": [
    "states = pd.read_csv('states.csv')"
   ]
  },
  {
   "cell_type": "code",
   "execution_count": 6,
   "metadata": {
    "collapsed": true
   },
   "outputs": [],
   "source": [
    "levels = ['State','County','City/Town','Tract/BG']"
   ]
  },
  {
   "cell_type": "code",
   "execution_count": 7,
   "metadata": {
    "collapsed": true
   },
   "outputs": [],
   "source": [
    "data = pd.concat([censuslocs,states],ignore_index=True).reset_index()"
   ]
  },
  {
   "cell_type": "code",
   "execution_count": 8,
   "metadata": {
    "collapsed": true,
    "scrolled": true
   },
   "outputs": [],
   "source": [
    "data.name = data.name.astype(str,errors='ignore')\n",
    "data = data.drop(['Unnamed: 0', 'Unnamed: 0.1','index'],axis=1)"
   ]
  },
  {
   "cell_type": "code",
   "execution_count": 9,
   "metadata": {
    "collapsed": true
   },
   "outputs": [],
   "source": [
    "#creating a concatenated field of name and parent-location, since same town name can appear in multiple states\n",
    "data['full_name'] = data.name + \"-\" + data['parent-location']"
   ]
  },
  {
   "cell_type": "code",
   "execution_count": 10,
   "metadata": {
    "collapsed": true
   },
   "outputs": [],
   "source": [
    "#unique list of state names in the data\n",
    "states_list = states.name.unique()"
   ]
  },
  {
   "cell_type": "code",
   "execution_count": 11,
   "metadata": {
    "collapsed": true
   },
   "outputs": [],
   "source": [
    "#splitting into distinct data sets in case I want them later\n",
    "states_only = data[data.Division == 'State']\n",
    "counties_only = data[data.Division == 'County']\n",
    "cities_towns_only = data[data.Division == 'City/Town']\n",
    "tracts_bgs_only = data[data.Division == 'Tract/BG']"
   ]
  },
  {
   "cell_type": "code",
   "execution_count": 12,
   "metadata": {
    "collapsed": true
   },
   "outputs": [],
   "source": [
    "numStates = len(states_only.name.unique())\n",
    "numCounties = len(counties_only.full_name.unique())\n",
    "numCitiesTowns = len(cities_towns_only.full_name.unique())\n",
    "numTractsBGs = len(tracts_bgs_only.full_name.unique())"
   ]
  },
  {
   "cell_type": "code",
   "execution_count": 13,
   "metadata": {
    "collapsed": true
   },
   "outputs": [],
   "source": [
    "#some functions I use\n",
    "def percentify(numerator,denominator):\n",
    "    return str(int(numerator/denominator*100))+'%'\n",
    "def commafy(number):\n",
    "    return \"{:,}\".format(int(number))"
   ]
  },
  {
   "cell_type": "markdown",
   "metadata": {},
   "source": [
    "# <font color='black'> CAT Challenge 1 Gate 1 </font> "
   ]
  },
  {
   "cell_type": "markdown",
   "metadata": {},
   "source": [
    "# <font color='#31b1ed'> Fields Added </font> \n",
    "\n",
    "#### Division: Created to subdivide data into the appropriate levels (state, county, city/town, tracts/block groups) \n",
    "- If name was a state: \"State\"\n",
    "- If name contained the word \"county\": \"County\"\n",
    "- If parent name was a state: \"City/Town\"\n",
    "- If name contained a number: \"Tract/BG\"\n",
    "\n",
    "#### full_name: Concatentation of name and parent-location (because many town names are duplicated across states)"
   ]
  },
  {
   "cell_type": "markdown",
   "metadata": {},
   "source": [
    "#  <font color='#31b1ed'> Data Validation </font>"
   ]
  },
  {
   "cell_type": "markdown",
   "metadata": {},
   "source": [
    "## *Ensure the data we have is the data we expect*"
   ]
  },
  {
   "cell_type": "markdown",
   "metadata": {},
   "source": [
    "##### <font color='#3dad00'>Columns available</font> "
   ]
  },
  {
   "cell_type": "code",
   "execution_count": 14,
   "metadata": {
    "scrolled": true
   },
   "outputs": [
    {
     "name": "stdout",
     "output_type": "stream",
     "text": [
      "['Division' 'eviction-filing-rate' 'eviction-filings' 'eviction-rate'\n",
      " 'evictions' 'imputed' 'low-flag' 'median-gross-rent'\n",
      " 'median-household-income' 'median-property-value' 'name' 'parent-location'\n",
      " 'pct-af-am' 'pct-am-ind' 'pct-asian' 'pct-hispanic' 'pct-multiple'\n",
      " 'pct-nh-pi' 'pct-other' 'pct-renter-occupied' 'pct-white' 'population'\n",
      " 'poverty-rate' 'rent-burden' 'renter-occupied-households' 'subbed' 'year'\n",
      " 'full_name']\n"
     ]
    }
   ],
   "source": [
    "print(data.columns.values)"
   ]
  },
  {
   "cell_type": "markdown",
   "metadata": {},
   "source": [
    "##### <font color='#3dad00'>All states are included in the data set</font> "
   ]
  },
  {
   "cell_type": "code",
   "execution_count": 15,
   "metadata": {},
   "outputs": [
    {
     "name": "stdout",
     "output_type": "stream",
     "text": [
      "Number of unique states:  51 (50 + DC)\n"
     ]
    }
   ],
   "source": [
    "print(\"Number of unique states: \",numStates,\"(50 + DC)\")"
   ]
  },
  {
   "cell_type": "markdown",
   "metadata": {},
   "source": [
    "##### All counties, towns/cities, tracts/block groups are included in the data set"
   ]
  },
  {
   "cell_type": "code",
   "execution_count": 16,
   "metadata": {},
   "outputs": [
    {
     "name": "stdout",
     "output_type": "stream",
     "text": [
      "Number of unique counties:  3194\n",
      "Number of unique cities/towns:  29940\n",
      "Number of unique tracts/block groups:  293829\n"
     ]
    }
   ],
   "source": [
    "print(\"Number of unique counties: \",numCounties)\n",
    "print(\"Number of unique cities/towns: \",numCitiesTowns)\n",
    "print(\"Number of unique tracts/block groups: \",numTractsBGs)"
   ]
  },
  {
   "cell_type": "code",
   "execution_count": 17,
   "metadata": {},
   "outputs": [
    {
     "name": "stdout",
     "output_type": "stream",
     "text": [
      "(Need another data set to validate that these are the correct numbers)\n"
     ]
    }
   ],
   "source": [
    "print(\"(Need another data set to validate that these are the correct numbers)\")"
   ]
  },
  {
   "cell_type": "markdown",
   "metadata": {},
   "source": [
    "##### <font color='#3dad00'>Max/Min years in data set</font> "
   ]
  },
  {
   "cell_type": "code",
   "execution_count": 18,
   "metadata": {},
   "outputs": [
    {
     "name": "stdout",
     "output_type": "stream",
     "text": [
      "Earliest year in data set:  2000\n",
      "Latest year in data set:  2016\n"
     ]
    }
   ],
   "source": [
    "print('Earliest year in data set: ', data.year.min())\n",
    "print('Latest year in data set: ', data.year.max())"
   ]
  },
  {
   "cell_type": "markdown",
   "metadata": {},
   "source": [
    "##### <font color='#ad1100'>All geographic locations at all levels have the same amount of data: </font> "
   ]
  },
  {
   "cell_type": "code",
   "execution_count": 19,
   "metadata": {
    "scrolled": true
   },
   "outputs": [
    {
     "name": "stdout",
     "output_type": "stream",
     "text": [
      "Years of data by state:\n"
     ]
    },
    {
     "data": {
      "text/html": [
       "<div>\n",
       "<style>\n",
       "    .dataframe thead tr:only-child th {\n",
       "        text-align: right;\n",
       "    }\n",
       "\n",
       "    .dataframe thead th {\n",
       "        text-align: left;\n",
       "    }\n",
       "\n",
       "    .dataframe tbody tr th {\n",
       "        vertical-align: top;\n",
       "    }\n",
       "</style>\n",
       "<table border=\"1\" class=\"dataframe\">\n",
       "  <thead>\n",
       "    <tr style=\"text-align: right;\">\n",
       "      <th></th>\n",
       "      <th>year</th>\n",
       "    </tr>\n",
       "    <tr>\n",
       "      <th>name</th>\n",
       "      <th></th>\n",
       "    </tr>\n",
       "  </thead>\n",
       "  <tbody>\n",
       "    <tr>\n",
       "      <th>Alabama</th>\n",
       "      <td>17</td>\n",
       "    </tr>\n",
       "    <tr>\n",
       "      <th>Alaska</th>\n",
       "      <td>17</td>\n",
       "    </tr>\n",
       "    <tr>\n",
       "      <th>Arizona</th>\n",
       "      <td>17</td>\n",
       "    </tr>\n",
       "    <tr>\n",
       "      <th>Arkansas</th>\n",
       "      <td>17</td>\n",
       "    </tr>\n",
       "    <tr>\n",
       "      <th>California</th>\n",
       "      <td>17</td>\n",
       "    </tr>\n",
       "    <tr>\n",
       "      <th>Colorado</th>\n",
       "      <td>17</td>\n",
       "    </tr>\n",
       "    <tr>\n",
       "      <th>Connecticut</th>\n",
       "      <td>17</td>\n",
       "    </tr>\n",
       "    <tr>\n",
       "      <th>Delaware</th>\n",
       "      <td>17</td>\n",
       "    </tr>\n",
       "    <tr>\n",
       "      <th>District of Columbia</th>\n",
       "      <td>17</td>\n",
       "    </tr>\n",
       "    <tr>\n",
       "      <th>Florida</th>\n",
       "      <td>17</td>\n",
       "    </tr>\n",
       "    <tr>\n",
       "      <th>Georgia</th>\n",
       "      <td>17</td>\n",
       "    </tr>\n",
       "    <tr>\n",
       "      <th>Hawaii</th>\n",
       "      <td>17</td>\n",
       "    </tr>\n",
       "    <tr>\n",
       "      <th>Idaho</th>\n",
       "      <td>17</td>\n",
       "    </tr>\n",
       "    <tr>\n",
       "      <th>Illinois</th>\n",
       "      <td>17</td>\n",
       "    </tr>\n",
       "    <tr>\n",
       "      <th>Indiana</th>\n",
       "      <td>17</td>\n",
       "    </tr>\n",
       "    <tr>\n",
       "      <th>Iowa</th>\n",
       "      <td>17</td>\n",
       "    </tr>\n",
       "    <tr>\n",
       "      <th>Kansas</th>\n",
       "      <td>17</td>\n",
       "    </tr>\n",
       "    <tr>\n",
       "      <th>Kentucky</th>\n",
       "      <td>17</td>\n",
       "    </tr>\n",
       "    <tr>\n",
       "      <th>Louisiana</th>\n",
       "      <td>17</td>\n",
       "    </tr>\n",
       "    <tr>\n",
       "      <th>Maine</th>\n",
       "      <td>17</td>\n",
       "    </tr>\n",
       "    <tr>\n",
       "      <th>Maryland</th>\n",
       "      <td>17</td>\n",
       "    </tr>\n",
       "    <tr>\n",
       "      <th>Massachusetts</th>\n",
       "      <td>17</td>\n",
       "    </tr>\n",
       "    <tr>\n",
       "      <th>Michigan</th>\n",
       "      <td>17</td>\n",
       "    </tr>\n",
       "    <tr>\n",
       "      <th>Minnesota</th>\n",
       "      <td>17</td>\n",
       "    </tr>\n",
       "    <tr>\n",
       "      <th>Mississippi</th>\n",
       "      <td>17</td>\n",
       "    </tr>\n",
       "    <tr>\n",
       "      <th>Missouri</th>\n",
       "      <td>17</td>\n",
       "    </tr>\n",
       "    <tr>\n",
       "      <th>Montana</th>\n",
       "      <td>17</td>\n",
       "    </tr>\n",
       "    <tr>\n",
       "      <th>Nebraska</th>\n",
       "      <td>17</td>\n",
       "    </tr>\n",
       "    <tr>\n",
       "      <th>Nevada</th>\n",
       "      <td>17</td>\n",
       "    </tr>\n",
       "    <tr>\n",
       "      <th>New Hampshire</th>\n",
       "      <td>17</td>\n",
       "    </tr>\n",
       "    <tr>\n",
       "      <th>New Jersey</th>\n",
       "      <td>17</td>\n",
       "    </tr>\n",
       "    <tr>\n",
       "      <th>New Mexico</th>\n",
       "      <td>17</td>\n",
       "    </tr>\n",
       "    <tr>\n",
       "      <th>New York</th>\n",
       "      <td>17</td>\n",
       "    </tr>\n",
       "    <tr>\n",
       "      <th>North Carolina</th>\n",
       "      <td>17</td>\n",
       "    </tr>\n",
       "    <tr>\n",
       "      <th>North Dakota</th>\n",
       "      <td>17</td>\n",
       "    </tr>\n",
       "    <tr>\n",
       "      <th>Ohio</th>\n",
       "      <td>17</td>\n",
       "    </tr>\n",
       "    <tr>\n",
       "      <th>Oklahoma</th>\n",
       "      <td>17</td>\n",
       "    </tr>\n",
       "    <tr>\n",
       "      <th>Oregon</th>\n",
       "      <td>17</td>\n",
       "    </tr>\n",
       "    <tr>\n",
       "      <th>Pennsylvania</th>\n",
       "      <td>17</td>\n",
       "    </tr>\n",
       "    <tr>\n",
       "      <th>Rhode Island</th>\n",
       "      <td>17</td>\n",
       "    </tr>\n",
       "    <tr>\n",
       "      <th>South Carolina</th>\n",
       "      <td>17</td>\n",
       "    </tr>\n",
       "    <tr>\n",
       "      <th>South Dakota</th>\n",
       "      <td>17</td>\n",
       "    </tr>\n",
       "    <tr>\n",
       "      <th>Tennessee</th>\n",
       "      <td>17</td>\n",
       "    </tr>\n",
       "    <tr>\n",
       "      <th>Texas</th>\n",
       "      <td>17</td>\n",
       "    </tr>\n",
       "    <tr>\n",
       "      <th>Utah</th>\n",
       "      <td>17</td>\n",
       "    </tr>\n",
       "    <tr>\n",
       "      <th>Vermont</th>\n",
       "      <td>17</td>\n",
       "    </tr>\n",
       "    <tr>\n",
       "      <th>Virginia</th>\n",
       "      <td>17</td>\n",
       "    </tr>\n",
       "    <tr>\n",
       "      <th>Washington</th>\n",
       "      <td>17</td>\n",
       "    </tr>\n",
       "    <tr>\n",
       "      <th>West Virginia</th>\n",
       "      <td>17</td>\n",
       "    </tr>\n",
       "    <tr>\n",
       "      <th>Wisconsin</th>\n",
       "      <td>17</td>\n",
       "    </tr>\n",
       "    <tr>\n",
       "      <th>Wyoming</th>\n",
       "      <td>17</td>\n",
       "    </tr>\n",
       "  </tbody>\n",
       "</table>\n",
       "</div>"
      ],
      "text/plain": [
       "                      year\n",
       "name                      \n",
       "Alabama                 17\n",
       "Alaska                  17\n",
       "Arizona                 17\n",
       "Arkansas                17\n",
       "California              17\n",
       "Colorado                17\n",
       "Connecticut             17\n",
       "Delaware                17\n",
       "District of Columbia    17\n",
       "Florida                 17\n",
       "Georgia                 17\n",
       "Hawaii                  17\n",
       "Idaho                   17\n",
       "Illinois                17\n",
       "Indiana                 17\n",
       "Iowa                    17\n",
       "Kansas                  17\n",
       "Kentucky                17\n",
       "Louisiana               17\n",
       "Maine                   17\n",
       "Maryland                17\n",
       "Massachusetts           17\n",
       "Michigan                17\n",
       "Minnesota               17\n",
       "Mississippi             17\n",
       "Missouri                17\n",
       "Montana                 17\n",
       "Nebraska                17\n",
       "Nevada                  17\n",
       "New Hampshire           17\n",
       "New Jersey              17\n",
       "New Mexico              17\n",
       "New York                17\n",
       "North Carolina          17\n",
       "North Dakota            17\n",
       "Ohio                    17\n",
       "Oklahoma                17\n",
       "Oregon                  17\n",
       "Pennsylvania            17\n",
       "Rhode Island            17\n",
       "South Carolina          17\n",
       "South Dakota            17\n",
       "Tennessee               17\n",
       "Texas                   17\n",
       "Utah                    17\n",
       "Vermont                 17\n",
       "Virginia                17\n",
       "Washington              17\n",
       "West Virginia           17\n",
       "Wisconsin               17\n",
       "Wyoming                 17"
      ]
     },
     "execution_count": 19,
     "metadata": {},
     "output_type": "execute_result"
    }
   ],
   "source": [
    "print('Years of data by state:')\n",
    "states[['name','year']].groupby(by='name').count()"
   ]
  },
  {
   "cell_type": "code",
   "execution_count": 20,
   "metadata": {},
   "outputs": [
    {
     "data": {
      "text/html": [
       "<div>\n",
       "<style>\n",
       "    .dataframe thead tr:only-child th {\n",
       "        text-align: right;\n",
       "    }\n",
       "\n",
       "    .dataframe thead th {\n",
       "        text-align: left;\n",
       "    }\n",
       "\n",
       "    .dataframe tbody tr th {\n",
       "        vertical-align: top;\n",
       "    }\n",
       "</style>\n",
       "<table border=\"1\" class=\"dataframe\">\n",
       "  <thead>\n",
       "    <tr style=\"text-align: right;\">\n",
       "      <th></th>\n",
       "      <th># &lt; 17</th>\n",
       "      <th># 17</th>\n",
       "      <th># &gt; 17</th>\n",
       "      <th>% &lt; 17</th>\n",
       "      <th>% 17</th>\n",
       "      <th>% &gt; 17</th>\n",
       "    </tr>\n",
       "  </thead>\n",
       "  <tbody>\n",
       "    <tr>\n",
       "      <th>State</th>\n",
       "      <td>0</td>\n",
       "      <td>51</td>\n",
       "      <td>0</td>\n",
       "      <td>0%</td>\n",
       "      <td>100%</td>\n",
       "      <td>0%</td>\n",
       "    </tr>\n",
       "    <tr>\n",
       "      <th>County</th>\n",
       "      <td>185</td>\n",
       "      <td>3,007</td>\n",
       "      <td>2</td>\n",
       "      <td>5%</td>\n",
       "      <td>94%</td>\n",
       "      <td>0%</td>\n",
       "    </tr>\n",
       "    <tr>\n",
       "      <th>City/Town</th>\n",
       "      <td>5,462</td>\n",
       "      <td>24,356</td>\n",
       "      <td>122</td>\n",
       "      <td>18%</td>\n",
       "      <td>81%</td>\n",
       "      <td>0%</td>\n",
       "    </tr>\n",
       "    <tr>\n",
       "      <th>Tract/BG</th>\n",
       "      <td>7,382</td>\n",
       "      <td>285,848</td>\n",
       "      <td>599</td>\n",
       "      <td>2%</td>\n",
       "      <td>97%</td>\n",
       "      <td>0%</td>\n",
       "    </tr>\n",
       "  </tbody>\n",
       "</table>\n",
       "</div>"
      ],
      "text/plain": [
       "          # < 17     # 17 # > 17 % < 17  % 17 % > 17\n",
       "State          0       51      0     0%  100%     0%\n",
       "County       185    3,007      2     5%   94%     0%\n",
       "City/Town  5,462   24,356    122    18%   81%     0%\n",
       "Tract/BG   7,382  285,848    599     2%   97%     0%"
      ]
     },
     "execution_count": 20,
     "metadata": {},
     "output_type": "execute_result"
    }
   ],
   "source": [
    "df17 = pd.DataFrame(None,columns=['# < 17','# 17','# > 17','% < 17','% 17','% > 17'],index=levels)\n",
    "group17 = data[['Division','full_name','year']].groupby(by=['Division','full_name'],as_index=False).count()\n",
    "is17 = group17[group17.year == 17]\n",
    "less17 = group17[group17.year < 17]\n",
    "more17 = group17[group17.year > 17]\n",
    "for l in levels: \n",
    "    less = len(less17[less17.Division==l]) \n",
    "    equal = len(is17[is17.Division==l])\n",
    "    more = len(more17[more17.Division==l])\n",
    "    allofit = len(group17[group17.Division==l])\n",
    "    df17['# < 17'][l] = commafy(less)\n",
    "    df17['# 17'][l] = commafy(equal)\n",
    "    df17['# > 17'][l] = commafy(more)\n",
    "    df17['% < 17'][l] = percentify(less,allofit)\n",
    "    df17['% 17'][l] = percentify(equal,allofit)\n",
    "    df17['% > 17'][l] = percentify(more,allofit)\n",
    "df17"
   ]
  },
  {
   "cell_type": "markdown",
   "metadata": {},
   "source": [
    "##### <font color='#3dad00'>Population figures are reasonable</font> "
   ]
  },
  {
   "cell_type": "code",
   "execution_count": 36,
   "metadata": {
    "scrolled": false
   },
   "outputs": [
    {
     "name": "stdout",
     "output_type": "stream",
     "text": [
      "Max/Min population numbers by level\n"
     ]
    },
    {
     "data": {
      "text/html": [
       "<div>\n",
       "<style>\n",
       "    .dataframe thead tr:only-child th {\n",
       "        text-align: right;\n",
       "    }\n",
       "\n",
       "    .dataframe thead th {\n",
       "        text-align: left;\n",
       "    }\n",
       "\n",
       "    .dataframe tbody tr th {\n",
       "        vertical-align: top;\n",
       "    }\n",
       "</style>\n",
       "<table border=\"1\" class=\"dataframe\">\n",
       "  <thead>\n",
       "    <tr style=\"text-align: right;\">\n",
       "      <th></th>\n",
       "      <th>Max Pop</th>\n",
       "      <th>Max Name</th>\n",
       "      <th>Max Year</th>\n",
       "      <th>Min Pop</th>\n",
       "      <th>Min Name</th>\n",
       "      <th>Min Year</th>\n",
       "    </tr>\n",
       "  </thead>\n",
       "  <tbody>\n",
       "    <tr>\n",
       "      <th>State</th>\n",
       "      <td>38,421,464</td>\n",
       "      <td>California-USA</td>\n",
       "      <td>2011</td>\n",
       "      <td>493,782</td>\n",
       "      <td>Wyoming-USA</td>\n",
       "      <td>2000</td>\n",
       "    </tr>\n",
       "    <tr>\n",
       "      <th>County</th>\n",
       "      <td>10,038,388</td>\n",
       "      <td>Los Angeles County-California</td>\n",
       "      <td>2011</td>\n",
       "      <td>25</td>\n",
       "      <td>Bear Valley CDP (Alpine County)-California</td>\n",
       "      <td>2011</td>\n",
       "    </tr>\n",
       "    <tr>\n",
       "      <th>City/Town</th>\n",
       "      <td>8,426,743</td>\n",
       "      <td>New York-New York</td>\n",
       "      <td>2011</td>\n",
       "      <td>1</td>\n",
       "      <td>Drummond-Idaho</td>\n",
       "      <td>2011</td>\n",
       "    </tr>\n",
       "    <tr>\n",
       "      <th>Tract/BG</th>\n",
       "      <td>53,812</td>\n",
       "      <td>6731.01-Fort Bend County, Texas</td>\n",
       "      <td>2011</td>\n",
       "      <td>0</td>\n",
       "      <td>2604.03.2-Baltimore city, Maryland</td>\n",
       "      <td>2005</td>\n",
       "    </tr>\n",
       "  </tbody>\n",
       "</table>\n",
       "</div>"
      ],
      "text/plain": [
       "              Max Pop                         Max Name Max Year  Min Pop  \\\n",
       "State      38,421,464                   California-USA     2011  493,782   \n",
       "County     10,038,388    Los Angeles County-California     2011       25   \n",
       "City/Town   8,426,743                New York-New York     2011        1   \n",
       "Tract/BG       53,812  6731.01-Fort Bend County, Texas     2011        0   \n",
       "\n",
       "                                             Min Name Min Year  \n",
       "State                                     Wyoming-USA     2000  \n",
       "County     Bear Valley CDP (Alpine County)-California     2011  \n",
       "City/Town                              Drummond-Idaho     2011  \n",
       "Tract/BG           2604.03.2-Baltimore city, Maryland     2005  "
      ]
     },
     "execution_count": 36,
     "metadata": {},
     "output_type": "execute_result"
    }
   ],
   "source": [
    "levels = ['State','County','City/Town','Tract/BG']\n",
    "pop_df = pd.DataFrame(None, columns=['Max Pop','Max Name','Max Year','Min Pop','Min Name','Min Year'],index=levels)\n",
    "for l in levels:\n",
    "    dfs = {'State':states_only, 'County': counties_only,'City/Town':cities_towns_only,'Tract/BG':tracts_bgs_only}\n",
    "    wax = dfs[l].population[dfs[l].Division==l].max()\n",
    "    win = dfs[l].population[dfs[l].Division==l].min()\n",
    "    wax_name = dfs[l].full_name[dfs[l].population == wax].iloc[0]\n",
    "    win_name = dfs[l].full_name[dfs[l].population == win].iloc[0]\n",
    "    pop_df['Max Pop'][l] = \"{:,}\".format(int(wax))\n",
    "    pop_df['Max Name'][l] = wax_name\n",
    "    pop_df['Max Year'][l] = dfs[l].year[(dfs[l].population == wax)&(dfs[l].full_name == wax_name)].iloc[0]\n",
    "    pop_df['Min Pop'][l] = \"{:,}\".format(int(win))\n",
    "    pop_df['Min Name'][l] = win_name\n",
    "    pop_df['Min Year'][l] = dfs[l].year[(dfs[l].population == win)&(dfs[l].full_name == win_name)].iloc[0]\n",
    "\n",
    "print('Max/Min population numbers by level')\n",
    "pop_df"
   ]
  },
  {
   "cell_type": "code",
   "execution_count": 22,
   "metadata": {},
   "outputs": [
    {
     "name": "stdout",
     "output_type": "stream",
     "text": [
      "(Need another data set to cross-reference and validate that specific population numbers are correct)\n"
     ]
    }
   ],
   "source": [
    "print(\"(Need another data set to cross-reference and validate that specific population numbers are correct)\")"
   ]
  },
  {
   "cell_type": "markdown",
   "metadata": {},
   "source": [
    "##### <font color='#3dad00'> Fields using percentages do not contain percentages that exceed 100% or fall below 0% </font> "
   ]
  },
  {
   "cell_type": "code",
   "execution_count": 23,
   "metadata": {},
   "outputs": [
    {
     "data": {
      "text/html": [
       "<div>\n",
       "<style>\n",
       "    .dataframe thead tr:only-child th {\n",
       "        text-align: right;\n",
       "    }\n",
       "\n",
       "    .dataframe thead th {\n",
       "        text-align: left;\n",
       "    }\n",
       "\n",
       "    .dataframe tbody tr th {\n",
       "        vertical-align: top;\n",
       "    }\n",
       "</style>\n",
       "<table border=\"1\" class=\"dataframe\">\n",
       "  <thead>\n",
       "    <tr style=\"text-align: right;\">\n",
       "      <th></th>\n",
       "      <th>max_per</th>\n",
       "      <th>max_name</th>\n",
       "      <th>max_pop</th>\n",
       "      <th>min_per</th>\n",
       "      <th>min_name</th>\n",
       "      <th>min_pop</th>\n",
       "    </tr>\n",
       "  </thead>\n",
       "  <tbody>\n",
       "    <tr>\n",
       "      <th>pct-renter-occupied</th>\n",
       "      <td>100</td>\n",
       "      <td>Fort Rucker-Alabama</td>\n",
       "      <td>6052</td>\n",
       "      <td>0</td>\n",
       "      <td>Benton-Alabama</td>\n",
       "      <td>47</td>\n",
       "    </tr>\n",
       "    <tr>\n",
       "      <th>pct-white</th>\n",
       "      <td>100</td>\n",
       "      <td>Arley-Alabama</td>\n",
       "      <td>290</td>\n",
       "      <td>0</td>\n",
       "      <td>Boykin-Alabama</td>\n",
       "      <td>275</td>\n",
       "    </tr>\n",
       "    <tr>\n",
       "      <th>pct-af-am</th>\n",
       "      <td>100</td>\n",
       "      <td>Boykin-Alabama</td>\n",
       "      <td>275</td>\n",
       "      <td>0</td>\n",
       "      <td>Addison-Alabama</td>\n",
       "      <td>723</td>\n",
       "    </tr>\n",
       "    <tr>\n",
       "      <th>pct-hispanic</th>\n",
       "      <td>100</td>\n",
       "      <td>Thornburg-Iowa</td>\n",
       "      <td>84</td>\n",
       "      <td>0</td>\n",
       "      <td>Wilcox County-Alabama</td>\n",
       "      <td>13183</td>\n",
       "    </tr>\n",
       "    <tr>\n",
       "      <th>pct-am-ind</th>\n",
       "      <td>100</td>\n",
       "      <td>Kickapoo Site 2-Kansas</td>\n",
       "      <td>34</td>\n",
       "      <td>0</td>\n",
       "      <td>Choctaw County-Alabama</td>\n",
       "      <td>15922</td>\n",
       "    </tr>\n",
       "    <tr>\n",
       "      <th>pct-asian</th>\n",
       "      <td>100</td>\n",
       "      <td>2606.05.6-Baltimore city, Maryland</td>\n",
       "      <td>43.27</td>\n",
       "      <td>0</td>\n",
       "      <td>Clay County-Alabama</td>\n",
       "      <td>14254</td>\n",
       "    </tr>\n",
       "    <tr>\n",
       "      <th>pct-nh-pi</th>\n",
       "      <td>85.88</td>\n",
       "      <td>412.0-Kauai County, Hawaii</td>\n",
       "      <td>160</td>\n",
       "      <td>0</td>\n",
       "      <td>Butler County-Alabama</td>\n",
       "      <td>21399</td>\n",
       "    </tr>\n",
       "    <tr>\n",
       "      <th>pct-multiple</th>\n",
       "      <td>100</td>\n",
       "      <td>525.18-Orange County, California</td>\n",
       "      <td>3</td>\n",
       "      <td>0</td>\n",
       "      <td>Wilcox County-Alabama</td>\n",
       "      <td>13183</td>\n",
       "    </tr>\n",
       "    <tr>\n",
       "      <th>pct-other</th>\n",
       "      <td>67.11</td>\n",
       "      <td>1003.2-Suffolk County, Massachusetts</td>\n",
       "      <td>891</td>\n",
       "      <td>0</td>\n",
       "      <td>Bibb County-Alabama</td>\n",
       "      <td>20826</td>\n",
       "    </tr>\n",
       "  </tbody>\n",
       "</table>\n",
       "</div>"
      ],
      "text/plain": [
       "                    max_per                              max_name max_pop  \\\n",
       "pct-renter-occupied     100                   Fort Rucker-Alabama    6052   \n",
       "pct-white               100                         Arley-Alabama     290   \n",
       "pct-af-am               100                        Boykin-Alabama     275   \n",
       "pct-hispanic            100                        Thornburg-Iowa      84   \n",
       "pct-am-ind              100                Kickapoo Site 2-Kansas      34   \n",
       "pct-asian               100    2606.05.6-Baltimore city, Maryland   43.27   \n",
       "pct-nh-pi             85.88            412.0-Kauai County, Hawaii     160   \n",
       "pct-multiple            100      525.18-Orange County, California       3   \n",
       "pct-other             67.11  1003.2-Suffolk County, Massachusetts     891   \n",
       "\n",
       "                    min_per                min_name min_pop  \n",
       "pct-renter-occupied       0          Benton-Alabama      47  \n",
       "pct-white                 0          Boykin-Alabama     275  \n",
       "pct-af-am                 0         Addison-Alabama     723  \n",
       "pct-hispanic              0   Wilcox County-Alabama   13183  \n",
       "pct-am-ind                0  Choctaw County-Alabama   15922  \n",
       "pct-asian                 0     Clay County-Alabama   14254  \n",
       "pct-nh-pi                 0   Butler County-Alabama   21399  \n",
       "pct-multiple              0   Wilcox County-Alabama   13183  \n",
       "pct-other                 0     Bibb County-Alabama   20826  "
      ]
     },
     "execution_count": 23,
     "metadata": {},
     "output_type": "execute_result"
    }
   ],
   "source": [
    "columns = ['pct-renter-occupied','pct-white','pct-af-am','pct-hispanic','pct-am-ind','pct-asian','pct-nh-pi','pct-multiple','pct-other']\n",
    "percentage_fields = data[columns]\n",
    "per_df = pd.DataFrame(None, columns=['max_per','max_name','max_pop','min_per','min_name','min_pop'],index=columns)\n",
    "for c in columns:\n",
    "    wax = data[c].max()\n",
    "    win = data[c].min()\n",
    "    waxName = data.full_name[data[c] == wax].iloc[0]\n",
    "    winName = data.full_name[data[c] == win].iloc[0]\n",
    "    per_df.max_per[c] = wax #max percent\n",
    "    per_df.max_name[c] = waxName #name of that location\n",
    "    per_df.max_pop[c] = data.population[data.full_name == waxName].iloc[0] #population of that location\n",
    "    per_df.min_per[c] = win\n",
    "    per_df.min_name[c] = winName\n",
    "    per_df.min_pop[c] = data.population[data.full_name == winName].iloc[0]\n",
    "per_df"
   ]
  },
  {
   "cell_type": "markdown",
   "metadata": {},
   "source": [
    "##### <font color='#3dad00'> Sum of demographics fields equals 100% </font> "
   ]
  },
  {
   "cell_type": "code",
   "execution_count": 37,
   "metadata": {},
   "outputs": [
    {
     "name": "stdout",
     "output_type": "stream",
     "text": [
      "Number of fields where demographics do not total 100%:  0\n"
     ]
    }
   ],
   "source": [
    "demo_cols = ['pct-white','pct-af-am','pct-hispanic','pct-am-ind','pct-asian','pct-nh-pi','pct-multiple','pct-other']\n",
    "demos = data[demo_cols]\n",
    "demos_sums = demos.sum(axis=1)\n",
    "bad_demos = demos_sums[(demos_sums > 100.04) & (demos_sums < 99.96)]\n",
    "print(\"Number of fields where demographics do not total 100%: \",len(bad_demos))"
   ]
  },
  {
   "cell_type": "markdown",
   "metadata": {},
   "source": [
    "# <font color='#0b80a0'> Data Cleansing </font>"
   ]
  },
  {
   "cell_type": "markdown",
   "metadata": {},
   "source": [
    "##### If population is zero, delete the record"
   ]
  },
  {
   "cell_type": "code",
   "execution_count": 25,
   "metadata": {},
   "outputs": [
    {
     "name": "stdout",
     "output_type": "stream",
     "text": [
      "Number of records where population is less than or equal to zero:  29735\n"
     ]
    }
   ],
   "source": [
    "print(\"Number of records where population is less than or equal to zero: \", len(data[data.population<=0]))"
   ]
  },
  {
   "cell_type": "code",
   "execution_count": 26,
   "metadata": {},
   "outputs": [
    {
     "name": "stdout",
     "output_type": "stream",
     "text": [
      "...Processing complete\n"
     ]
    }
   ],
   "source": [
    "data_c = data[data.population>0]\n",
    "states_only = data_c[data_c.Division == 'State']\n",
    "counties_only = data_c[data_c.Division == 'County']\n",
    "cities_towns_only = data_c[data_c.Division == 'City/Town']\n",
    "tracts_bgs_only = data_c[data_c.Division == 'Tract/BG']\n",
    "print('...Processing complete')"
   ]
  },
  {
   "cell_type": "code",
   "execution_count": 27,
   "metadata": {},
   "outputs": [
    {
     "name": "stdout",
     "output_type": "stream",
     "text": [
      "Number of records where population is less than or equal to zero:  0\n"
     ]
    }
   ],
   "source": [
    "print(\"Number of records where population is less than or equal to zero: \", len(data_c[data_c.population<=0]))"
   ]
  },
  {
   "cell_type": "markdown",
   "metadata": {},
   "source": [
    "##### If duplicate record, delete"
   ]
  },
  {
   "cell_type": "code",
   "execution_count": 28,
   "metadata": {},
   "outputs": [
    {
     "name": "stdout",
     "output_type": "stream",
     "text": [
      "Current number of records:  5,422,851\n"
     ]
    }
   ],
   "source": [
    "print('Current number of records: ',commafy(len(data_c)))"
   ]
  },
  {
   "cell_type": "code",
   "execution_count": 29,
   "metadata": {
    "collapsed": true
   },
   "outputs": [],
   "source": [
    "data_c = data_c.drop_duplicates()"
   ]
  },
  {
   "cell_type": "code",
   "execution_count": 30,
   "metadata": {},
   "outputs": [
    {
     "name": "stdout",
     "output_type": "stream",
     "text": [
      "...Processing complete\n",
      "Current number of records:  5,422,839\n",
      "Number of records removed:  29,747\n"
     ]
    }
   ],
   "source": [
    "print(\"...Processing complete\")\n",
    "print('Current number of records: ',commafy(len(data_c)))\n",
    "print(\"Number of records removed: \",commafy(len(data)-len(data_c)))"
   ]
  },
  {
   "cell_type": "code",
   "execution_count": 31,
   "metadata": {},
   "outputs": [
    {
     "name": "stdout",
     "output_type": "stream",
     "text": [
      "Locations with less than 17 years increased likely because of newly incorporated places that had placeholder zeros before\n"
     ]
    },
    {
     "data": {
      "text/html": [
       "<div>\n",
       "<style>\n",
       "    .dataframe thead tr:only-child th {\n",
       "        text-align: right;\n",
       "    }\n",
       "\n",
       "    .dataframe thead th {\n",
       "        text-align: left;\n",
       "    }\n",
       "\n",
       "    .dataframe tbody tr th {\n",
       "        vertical-align: top;\n",
       "    }\n",
       "</style>\n",
       "<table border=\"1\" class=\"dataframe\">\n",
       "  <thead>\n",
       "    <tr style=\"text-align: right;\">\n",
       "      <th></th>\n",
       "      <th># &lt; 17</th>\n",
       "      <th># 17</th>\n",
       "      <th># &gt; 17</th>\n",
       "      <th>% &lt; 17</th>\n",
       "      <th>% 17</th>\n",
       "      <th>% &gt; 17</th>\n",
       "    </tr>\n",
       "  </thead>\n",
       "  <tbody>\n",
       "    <tr>\n",
       "      <th>State</th>\n",
       "      <td>0</td>\n",
       "      <td>51</td>\n",
       "      <td>0</td>\n",
       "      <td>0%</td>\n",
       "      <td>100%</td>\n",
       "      <td>0%</td>\n",
       "    </tr>\n",
       "    <tr>\n",
       "      <th>County</th>\n",
       "      <td>184</td>\n",
       "      <td>3,007</td>\n",
       "      <td>2</td>\n",
       "      <td>5%</td>\n",
       "      <td>94%</td>\n",
       "      <td>0%</td>\n",
       "    </tr>\n",
       "    <tr>\n",
       "      <th>City/Town</th>\n",
       "      <td>5,562</td>\n",
       "      <td>24,234</td>\n",
       "      <td>121</td>\n",
       "      <td>18%</td>\n",
       "      <td>81%</td>\n",
       "      <td>0%</td>\n",
       "    </tr>\n",
       "    <tr>\n",
       "      <th>Tract/BG</th>\n",
       "      <td>8,434</td>\n",
       "      <td>284,604</td>\n",
       "      <td>134</td>\n",
       "      <td>2%</td>\n",
       "      <td>97%</td>\n",
       "      <td>0%</td>\n",
       "    </tr>\n",
       "  </tbody>\n",
       "</table>\n",
       "</div>"
      ],
      "text/plain": [
       "          # < 17     # 17 # > 17 % < 17  % 17 % > 17\n",
       "State          0       51      0     0%  100%     0%\n",
       "County       184    3,007      2     5%   94%     0%\n",
       "City/Town  5,562   24,234    121    18%   81%     0%\n",
       "Tract/BG   8,434  284,604    134     2%   97%     0%"
      ]
     },
     "execution_count": 31,
     "metadata": {},
     "output_type": "execute_result"
    }
   ],
   "source": [
    "df17 = pd.DataFrame(None,columns=['# < 17','# 17','# > 17','% < 17','% 17','% > 17'],index=levels)\n",
    "group17 = data_c[['Division','full_name','year']].groupby(by=['Division','full_name'],as_index=False).count()\n",
    "is17 = group17[group17.year == 17]\n",
    "less17 = group17[group17.year < 17]\n",
    "more17 = group17[group17.year > 17]\n",
    "for l in levels: \n",
    "    less = len(less17[less17.Division==l]) \n",
    "    equal = len(is17[is17.Division==l])\n",
    "    more = len(more17[more17.Division==l])\n",
    "    allofit = len(group17[group17.Division==l])\n",
    "    df17['# < 17'][l] = commafy(less)\n",
    "    df17['# 17'][l] = commafy(equal)\n",
    "    df17['# > 17'][l] = commafy(more)\n",
    "    df17['% < 17'][l] = percentify(less,allofit)\n",
    "    df17['% 17'][l] = percentify(equal,allofit)\n",
    "    df17['% > 17'][l] = percentify(more,allofit)\n",
    "print(\"Locations with less than 17 years increased likely because of newly incorporated places that had placeholder zeros before\")\n",
    "df17"
   ]
  },
  {
   "cell_type": "markdown",
   "metadata": {},
   "source": [
    "##### There are 63 cities that have the same name as a state"
   ]
  },
  {
   "cell_type": "code",
   "execution_count": 33,
   "metadata": {
    "scrolled": true
   },
   "outputs": [
    {
     "data": {
      "text/html": [
       "<div>\n",
       "<style>\n",
       "    .dataframe thead tr:only-child th {\n",
       "        text-align: right;\n",
       "    }\n",
       "\n",
       "    .dataframe thead th {\n",
       "        text-align: left;\n",
       "    }\n",
       "\n",
       "    .dataframe tbody tr th {\n",
       "        vertical-align: top;\n",
       "    }\n",
       "</style>\n",
       "<table border=\"1\" class=\"dataframe\">\n",
       "  <thead>\n",
       "    <tr style=\"text-align: right;\">\n",
       "      <th></th>\n",
       "      <th>name</th>\n",
       "      <th>parent-location</th>\n",
       "    </tr>\n",
       "  </thead>\n",
       "  <tbody>\n",
       "    <tr>\n",
       "      <th>0</th>\n",
       "      <td>California</td>\n",
       "      <td>Kentucky</td>\n",
       "    </tr>\n",
       "    <tr>\n",
       "      <th>1</th>\n",
       "      <td>California</td>\n",
       "      <td>Missouri</td>\n",
       "    </tr>\n",
       "    <tr>\n",
       "      <th>2</th>\n",
       "      <td>California</td>\n",
       "      <td>Maryland</td>\n",
       "    </tr>\n",
       "    <tr>\n",
       "      <th>3</th>\n",
       "      <td>California</td>\n",
       "      <td>Pennsylvania</td>\n",
       "    </tr>\n",
       "    <tr>\n",
       "      <th>4</th>\n",
       "      <td>Delaware</td>\n",
       "      <td>Ohio</td>\n",
       "    </tr>\n",
       "    <tr>\n",
       "      <th>5</th>\n",
       "      <td>Delaware</td>\n",
       "      <td>Oklahoma</td>\n",
       "    </tr>\n",
       "    <tr>\n",
       "      <th>6</th>\n",
       "      <td>Delaware</td>\n",
       "      <td>New Jersey</td>\n",
       "    </tr>\n",
       "    <tr>\n",
       "      <th>7</th>\n",
       "      <td>Delaware</td>\n",
       "      <td>Iowa</td>\n",
       "    </tr>\n",
       "    <tr>\n",
       "      <th>8</th>\n",
       "      <td>District of Columbia</td>\n",
       "      <td>District of Columbia</td>\n",
       "    </tr>\n",
       "    <tr>\n",
       "      <th>9</th>\n",
       "      <td>Florida</td>\n",
       "      <td>Missouri</td>\n",
       "    </tr>\n",
       "    <tr>\n",
       "      <th>10</th>\n",
       "      <td>Florida</td>\n",
       "      <td>New York</td>\n",
       "    </tr>\n",
       "    <tr>\n",
       "      <th>11</th>\n",
       "      <td>Florida</td>\n",
       "      <td>Ohio</td>\n",
       "    </tr>\n",
       "    <tr>\n",
       "      <th>12</th>\n",
       "      <td>Indiana</td>\n",
       "      <td>Pennsylvania</td>\n",
       "    </tr>\n",
       "    <tr>\n",
       "      <th>13</th>\n",
       "      <td>Iowa</td>\n",
       "      <td>Louisiana</td>\n",
       "    </tr>\n",
       "    <tr>\n",
       "      <th>14</th>\n",
       "      <td>Kansas</td>\n",
       "      <td>Alabama</td>\n",
       "    </tr>\n",
       "    <tr>\n",
       "      <th>15</th>\n",
       "      <td>Kansas</td>\n",
       "      <td>Oklahoma</td>\n",
       "    </tr>\n",
       "    <tr>\n",
       "      <th>16</th>\n",
       "      <td>Kansas</td>\n",
       "      <td>Illinois</td>\n",
       "    </tr>\n",
       "    <tr>\n",
       "      <th>17</th>\n",
       "      <td>Kansas</td>\n",
       "      <td>Ohio</td>\n",
       "    </tr>\n",
       "    <tr>\n",
       "      <th>18</th>\n",
       "      <td>Louisiana</td>\n",
       "      <td>Missouri</td>\n",
       "    </tr>\n",
       "    <tr>\n",
       "      <th>19</th>\n",
       "      <td>Nevada</td>\n",
       "      <td>Missouri</td>\n",
       "    </tr>\n",
       "    <tr>\n",
       "      <th>20</th>\n",
       "      <td>Nevada</td>\n",
       "      <td>Texas</td>\n",
       "    </tr>\n",
       "    <tr>\n",
       "      <th>21</th>\n",
       "      <td>Nevada</td>\n",
       "      <td>Iowa</td>\n",
       "    </tr>\n",
       "    <tr>\n",
       "      <th>22</th>\n",
       "      <td>Nevada</td>\n",
       "      <td>Ohio</td>\n",
       "    </tr>\n",
       "    <tr>\n",
       "      <th>23</th>\n",
       "      <td>New Hampshire</td>\n",
       "      <td>Ohio</td>\n",
       "    </tr>\n",
       "    <tr>\n",
       "      <th>24</th>\n",
       "      <td>New York</td>\n",
       "      <td>New York</td>\n",
       "    </tr>\n",
       "    <tr>\n",
       "      <th>25</th>\n",
       "      <td>Ohio</td>\n",
       "      <td>Illinois</td>\n",
       "    </tr>\n",
       "    <tr>\n",
       "      <th>26</th>\n",
       "      <td>Oklahoma</td>\n",
       "      <td>Pennsylvania</td>\n",
       "    </tr>\n",
       "    <tr>\n",
       "      <th>27</th>\n",
       "      <td>Oregon</td>\n",
       "      <td>Wisconsin</td>\n",
       "    </tr>\n",
       "    <tr>\n",
       "      <th>28</th>\n",
       "      <td>Oregon</td>\n",
       "      <td>Missouri</td>\n",
       "    </tr>\n",
       "    <tr>\n",
       "      <th>29</th>\n",
       "      <td>Oregon</td>\n",
       "      <td>Illinois</td>\n",
       "    </tr>\n",
       "    <tr>\n",
       "      <th>...</th>\n",
       "      <td>...</td>\n",
       "      <td>...</td>\n",
       "    </tr>\n",
       "    <tr>\n",
       "      <th>33</th>\n",
       "      <td>Virginia</td>\n",
       "      <td>Nebraska</td>\n",
       "    </tr>\n",
       "    <tr>\n",
       "      <th>34</th>\n",
       "      <td>Virginia</td>\n",
       "      <td>Minnesota</td>\n",
       "    </tr>\n",
       "    <tr>\n",
       "      <th>35</th>\n",
       "      <td>Virginia</td>\n",
       "      <td>Illinois</td>\n",
       "    </tr>\n",
       "    <tr>\n",
       "      <th>36</th>\n",
       "      <td>Washington</td>\n",
       "      <td>Nebraska</td>\n",
       "    </tr>\n",
       "    <tr>\n",
       "      <th>37</th>\n",
       "      <td>Washington</td>\n",
       "      <td>Georgia</td>\n",
       "    </tr>\n",
       "    <tr>\n",
       "      <th>38</th>\n",
       "      <td>Washington</td>\n",
       "      <td>West Virginia</td>\n",
       "    </tr>\n",
       "    <tr>\n",
       "      <th>39</th>\n",
       "      <td>Washington</td>\n",
       "      <td>Iowa</td>\n",
       "    </tr>\n",
       "    <tr>\n",
       "      <th>40</th>\n",
       "      <td>Washington</td>\n",
       "      <td>Virginia</td>\n",
       "    </tr>\n",
       "    <tr>\n",
       "      <th>41</th>\n",
       "      <td>Washington</td>\n",
       "      <td>Utah</td>\n",
       "    </tr>\n",
       "    <tr>\n",
       "      <th>42</th>\n",
       "      <td>Washington</td>\n",
       "      <td>Pennsylvania</td>\n",
       "    </tr>\n",
       "    <tr>\n",
       "      <th>43</th>\n",
       "      <td>Washington</td>\n",
       "      <td>Illinois</td>\n",
       "    </tr>\n",
       "    <tr>\n",
       "      <th>44</th>\n",
       "      <td>Washington</td>\n",
       "      <td>California</td>\n",
       "    </tr>\n",
       "    <tr>\n",
       "      <th>45</th>\n",
       "      <td>Washington</td>\n",
       "      <td>Indiana</td>\n",
       "    </tr>\n",
       "    <tr>\n",
       "      <th>46</th>\n",
       "      <td>Washington</td>\n",
       "      <td>Oklahoma</td>\n",
       "    </tr>\n",
       "    <tr>\n",
       "      <th>47</th>\n",
       "      <td>Washington</td>\n",
       "      <td>Louisiana</td>\n",
       "    </tr>\n",
       "    <tr>\n",
       "      <th>48</th>\n",
       "      <td>Washington</td>\n",
       "      <td>Arkansas</td>\n",
       "    </tr>\n",
       "    <tr>\n",
       "      <th>49</th>\n",
       "      <td>Washington</td>\n",
       "      <td>Missouri</td>\n",
       "    </tr>\n",
       "    <tr>\n",
       "      <th>50</th>\n",
       "      <td>Washington</td>\n",
       "      <td>North Carolina</td>\n",
       "    </tr>\n",
       "    <tr>\n",
       "      <th>51</th>\n",
       "      <td>Washington</td>\n",
       "      <td>District of Columbia</td>\n",
       "    </tr>\n",
       "    <tr>\n",
       "      <th>52</th>\n",
       "      <td>Washington</td>\n",
       "      <td>New Jersey</td>\n",
       "    </tr>\n",
       "    <tr>\n",
       "      <th>53</th>\n",
       "      <td>Washington</td>\n",
       "      <td>Kansas</td>\n",
       "    </tr>\n",
       "    <tr>\n",
       "      <th>54</th>\n",
       "      <td>Wyoming</td>\n",
       "      <td>Ohio</td>\n",
       "    </tr>\n",
       "    <tr>\n",
       "      <th>55</th>\n",
       "      <td>Wyoming</td>\n",
       "      <td>Illinois</td>\n",
       "    </tr>\n",
       "    <tr>\n",
       "      <th>56</th>\n",
       "      <td>Wyoming</td>\n",
       "      <td>Michigan</td>\n",
       "    </tr>\n",
       "    <tr>\n",
       "      <th>57</th>\n",
       "      <td>Wyoming</td>\n",
       "      <td>Minnesota</td>\n",
       "    </tr>\n",
       "    <tr>\n",
       "      <th>58</th>\n",
       "      <td>Wyoming</td>\n",
       "      <td>Pennsylvania</td>\n",
       "    </tr>\n",
       "    <tr>\n",
       "      <th>59</th>\n",
       "      <td>Wyoming</td>\n",
       "      <td>Rhode Island</td>\n",
       "    </tr>\n",
       "    <tr>\n",
       "      <th>60</th>\n",
       "      <td>Wyoming</td>\n",
       "      <td>Iowa</td>\n",
       "    </tr>\n",
       "    <tr>\n",
       "      <th>61</th>\n",
       "      <td>Wyoming</td>\n",
       "      <td>New York</td>\n",
       "    </tr>\n",
       "    <tr>\n",
       "      <th>62</th>\n",
       "      <td>Wyoming</td>\n",
       "      <td>Delaware</td>\n",
       "    </tr>\n",
       "  </tbody>\n",
       "</table>\n",
       "<p>63 rows × 2 columns</p>\n",
       "</div>"
      ],
      "text/plain": [
       "                    name       parent-location\n",
       "0             California              Kentucky\n",
       "1             California              Missouri\n",
       "2             California              Maryland\n",
       "3             California          Pennsylvania\n",
       "4               Delaware                  Ohio\n",
       "5               Delaware              Oklahoma\n",
       "6               Delaware            New Jersey\n",
       "7               Delaware                  Iowa\n",
       "8   District of Columbia  District of Columbia\n",
       "9                Florida              Missouri\n",
       "10               Florida              New York\n",
       "11               Florida                  Ohio\n",
       "12               Indiana          Pennsylvania\n",
       "13                  Iowa             Louisiana\n",
       "14                Kansas               Alabama\n",
       "15                Kansas              Oklahoma\n",
       "16                Kansas              Illinois\n",
       "17                Kansas                  Ohio\n",
       "18             Louisiana              Missouri\n",
       "19                Nevada              Missouri\n",
       "20                Nevada                 Texas\n",
       "21                Nevada                  Iowa\n",
       "22                Nevada                  Ohio\n",
       "23         New Hampshire                  Ohio\n",
       "24              New York              New York\n",
       "25                  Ohio              Illinois\n",
       "26              Oklahoma          Pennsylvania\n",
       "27                Oregon             Wisconsin\n",
       "28                Oregon              Missouri\n",
       "29                Oregon              Illinois\n",
       "..                   ...                   ...\n",
       "33              Virginia              Nebraska\n",
       "34              Virginia             Minnesota\n",
       "35              Virginia              Illinois\n",
       "36            Washington              Nebraska\n",
       "37            Washington               Georgia\n",
       "38            Washington         West Virginia\n",
       "39            Washington                  Iowa\n",
       "40            Washington              Virginia\n",
       "41            Washington                  Utah\n",
       "42            Washington          Pennsylvania\n",
       "43            Washington              Illinois\n",
       "44            Washington            California\n",
       "45            Washington               Indiana\n",
       "46            Washington              Oklahoma\n",
       "47            Washington             Louisiana\n",
       "48            Washington              Arkansas\n",
       "49            Washington              Missouri\n",
       "50            Washington        North Carolina\n",
       "51            Washington  District of Columbia\n",
       "52            Washington            New Jersey\n",
       "53            Washington                Kansas\n",
       "54               Wyoming                  Ohio\n",
       "55               Wyoming              Illinois\n",
       "56               Wyoming              Michigan\n",
       "57               Wyoming             Minnesota\n",
       "58               Wyoming          Pennsylvania\n",
       "59               Wyoming          Rhode Island\n",
       "60               Wyoming                  Iowa\n",
       "61               Wyoming              New York\n",
       "62               Wyoming              Delaware\n",
       "\n",
       "[63 rows x 2 columns]"
      ]
     },
     "execution_count": 33,
     "metadata": {},
     "output_type": "execute_result"
    }
   ],
   "source": [
    "xx = data[(data['name'].isin(states_list)) & (data['parent-location'] != 'USA')]\n",
    "xx[['name', 'parent-location']].drop_duplicates().sort_values(by='name').reset_index(drop=True)"
   ]
  }
 ],
 "metadata": {
  "kernelspec": {
   "display_name": "Python 3",
   "language": "python",
   "name": "python3"
  },
  "language_info": {
   "codemirror_mode": {
    "name": "ipython",
    "version": 3
   },
   "file_extension": ".py",
   "mimetype": "text/x-python",
   "name": "python",
   "nbconvert_exporter": "python",
   "pygments_lexer": "ipython3",
   "version": "3.6.2"
  }
 },
 "nbformat": 4,
 "nbformat_minor": 2
}
