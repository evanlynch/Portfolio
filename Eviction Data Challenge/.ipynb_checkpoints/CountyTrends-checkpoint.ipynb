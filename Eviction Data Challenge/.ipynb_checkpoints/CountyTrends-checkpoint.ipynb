{
 "cells": [
  {
   "cell_type": "code",
   "execution_count": 51,
   "metadata": {},
   "outputs": [],
   "source": [
    "import pandas as pd\n",
    "from matplotlib import *\n",
    "from pylab import *\n",
    "from scipy.stats import linregress"
   ]
  },
  {
   "cell_type": "code",
   "execution_count": 44,
   "metadata": {},
   "outputs": [],
   "source": [
    "df = pd.read_csv('officialData.csv')"
   ]
  },
  {
   "cell_type": "code",
   "execution_count": 45,
   "metadata": {},
   "outputs": [],
   "source": [
    "df = df[['full_name','year','eviction-rate']].sort_values(['full_name','year'])"
   ]
  },
  {
   "cell_type": "code",
   "execution_count": 46,
   "metadata": {},
   "outputs": [],
   "source": [
    "df = df.dropna()"
   ]
  },
  {
   "cell_type": "code",
   "execution_count": 47,
   "metadata": {},
   "outputs": [],
   "source": [
    "df = df[df.year>2011].set_index('full_name',drop=False)"
   ]
  },
  {
   "cell_type": "code",
   "execution_count": 48,
   "metadata": {},
   "outputs": [
    {
     "data": {
      "text/html": [
       "<div>\n",
       "<style>\n",
       "    .dataframe thead tr:only-child th {\n",
       "        text-align: right;\n",
       "    }\n",
       "\n",
       "    .dataframe thead th {\n",
       "        text-align: left;\n",
       "    }\n",
       "\n",
       "    .dataframe tbody tr th {\n",
       "        vertical-align: top;\n",
       "    }\n",
       "</style>\n",
       "<table border=\"1\" class=\"dataframe\">\n",
       "  <thead>\n",
       "    <tr style=\"text-align: right;\">\n",
       "      <th></th>\n",
       "      <th>full_name</th>\n",
       "      <th>year</th>\n",
       "      <th>eviction-rate</th>\n",
       "    </tr>\n",
       "    <tr>\n",
       "      <th>full_name</th>\n",
       "      <th></th>\n",
       "      <th></th>\n",
       "      <th></th>\n",
       "    </tr>\n",
       "  </thead>\n",
       "  <tbody>\n",
       "    <tr>\n",
       "      <th>Abbeville County-South Carolina</th>\n",
       "      <td>Abbeville County-South Carolina</td>\n",
       "      <td>2012</td>\n",
       "      <td>0.13</td>\n",
       "    </tr>\n",
       "    <tr>\n",
       "      <th>Abbeville County-South Carolina</th>\n",
       "      <td>Abbeville County-South Carolina</td>\n",
       "      <td>2013</td>\n",
       "      <td>2.47</td>\n",
       "    </tr>\n",
       "    <tr>\n",
       "      <th>Abbeville County-South Carolina</th>\n",
       "      <td>Abbeville County-South Carolina</td>\n",
       "      <td>2014</td>\n",
       "      <td>2.28</td>\n",
       "    </tr>\n",
       "    <tr>\n",
       "      <th>Abbeville County-South Carolina</th>\n",
       "      <td>Abbeville County-South Carolina</td>\n",
       "      <td>2015</td>\n",
       "      <td>3.26</td>\n",
       "    </tr>\n",
       "    <tr>\n",
       "      <th>Abbeville County-South Carolina</th>\n",
       "      <td>Abbeville County-South Carolina</td>\n",
       "      <td>2016</td>\n",
       "      <td>6.48</td>\n",
       "    </tr>\n",
       "  </tbody>\n",
       "</table>\n",
       "</div>"
      ],
      "text/plain": [
       "                                                       full_name  year  \\\n",
       "full_name                                                                \n",
       "Abbeville County-South Carolina  Abbeville County-South Carolina  2012   \n",
       "Abbeville County-South Carolina  Abbeville County-South Carolina  2013   \n",
       "Abbeville County-South Carolina  Abbeville County-South Carolina  2014   \n",
       "Abbeville County-South Carolina  Abbeville County-South Carolina  2015   \n",
       "Abbeville County-South Carolina  Abbeville County-South Carolina  2016   \n",
       "\n",
       "                                 eviction-rate  \n",
       "full_name                                       \n",
       "Abbeville County-South Carolina           0.13  \n",
       "Abbeville County-South Carolina           2.47  \n",
       "Abbeville County-South Carolina           2.28  \n",
       "Abbeville County-South Carolina           3.26  \n",
       "Abbeville County-South Carolina           6.48  "
      ]
     },
     "execution_count": 48,
     "metadata": {},
     "output_type": "execute_result"
    }
   ],
   "source": [
    "df.head()"
   ]
  },
  {
   "cell_type": "code",
   "execution_count": 50,
   "metadata": {},
   "outputs": [],
   "source": [
    "example = df[df.full_name=='Abbeville County-South Carolina']"
   ]
  },
  {
   "cell_type": "code",
   "execution_count": null,
   "metadata": {},
   "outputs": [],
   "source": [
    "def getSlope(countyData):\n",
    "    county = countyData.full_name.unique()[0]\n",
    "    "
   ]
  },
  {
   "cell_type": "code",
   "execution_count": 53,
   "metadata": {},
   "outputs": [
    {
     "data": {
      "text/plain": [
       "1.3490000000000002"
      ]
     },
     "execution_count": 53,
     "metadata": {},
     "output_type": "execute_result"
    }
   ],
   "source": [
    "results = \n",
    "linregress(example.year,example['eviction-rate']).slope"
   ]
  },
  {
   "cell_type": "code",
   "execution_count": null,
   "metadata": {},
   "outputs": [],
   "source": []
  }
 ],
 "metadata": {
  "kernelspec": {
   "display_name": "Python 3",
   "language": "python",
   "name": "python3"
  },
  "language_info": {
   "codemirror_mode": {
    "name": "ipython",
    "version": 3
   },
   "file_extension": ".py",
   "mimetype": "text/x-python",
   "name": "python",
   "nbconvert_exporter": "python",
   "pygments_lexer": "ipython3",
   "version": "3.6.2"
  }
 },
 "nbformat": 4,
 "nbformat_minor": 2
}
