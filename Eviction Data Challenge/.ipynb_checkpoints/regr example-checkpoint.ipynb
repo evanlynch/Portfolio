{
 "cells": [
  {
   "cell_type": "markdown",
   "metadata": {},
   "source": [
    "# Parts Demand Prediction Process v2.07"
   ]
  },
  {
   "cell_type": "markdown",
   "metadata": {},
   "source": [
    "Requirements for this version\n",
    "- Start making predictions at the nomen level instead of niin\n",
    "- Make adjustment to criteria for choosing MA    "
   ]
  },
  {
   "cell_type": "code",
   "execution_count": 2,
   "metadata": {},
   "outputs": [],
   "source": [
    "%reset -f "
   ]
  },
  {
   "cell_type": "code",
   "execution_count": 3,
   "metadata": {},
   "outputs": [],
   "source": [
    "%load_ext autotime"
   ]
  },
  {
   "cell_type": "code",
   "execution_count": 4,
   "metadata": {},
   "outputs": [
    {
     "data": {
      "text/html": [
       "<style>.container { width:100% !important; }</style>"
      ],
      "text/plain": [
       "<IPython.core.display.HTML object>"
      ]
     },
     "metadata": {},
     "output_type": "display_data"
    },
    {
     "name": "stdout",
     "output_type": "stream",
     "text": [
      "time: 11.8 s\n"
     ]
    }
   ],
   "source": [
    "import pandas as pd\n",
    "import numpy as np\n",
    "import pyodbc\n",
    "from math import sqrt\n",
    "%matplotlib inline\n",
    "from IPython.core.display import display, HTML \n",
    "display(HTML(\"<style>.container { width:100% !important; }</style>\")) \n",
    "from functools import reduce\n",
    "import matplotlib.pyplot as plt\n",
    "import warnings\n",
    "warnings.filterwarnings(\"ignore\", category=RuntimeWarning) \n",
    "warnings.filterwarnings(\"ignore\", category=FutureWarning) \n",
    "pd.options.mode.chained_assignment = None  # default='warn'\n",
    "import datetime\n",
    "from itertools import combinations\n",
    "from scipy.stats import normaltest,pearsonr,spearmanr\n",
    "from sklearn import linear_model, model_selection\n",
    "from sklearn.metrics import mean_squared_error, r2_score\n",
    "from math import isnan\n",
    "import statsmodels.api as sm"
   ]
  },
  {
   "cell_type": "markdown",
   "metadata": {},
   "source": [
    "# DATA PREP"
   ]
  },
  {
   "cell_type": "code",
   "execution_count": 5,
   "metadata": {},
   "outputs": [
    {
     "name": "stdout",
     "output_type": "stream",
     "text": [
      "time: 330 ms\n"
     ]
    }
   ],
   "source": [
    "#connect to OSMISAnalyticsTasks database\n",
    "DB = pyodbc.connect(\n",
    "    r'DRIVER={SQL SERVER NATIVE CLIENT 11.0};'\n",
    "    r'SERVER=alexosmisa4dbp;'\n",
    "    r'DATABASE=OsmisAnalyticsTasks;'\n",
    "    r'Trusted_Connection=yes')"
   ]
  },
  {
   "cell_type": "markdown",
   "metadata": {},
   "source": [
    "#### Select n Most Costly Parts (Price - Credit)*QTY"
   ]
  },
  {
   "cell_type": "markdown",
   "metadata": {},
   "source": [
    "#this process was done separately a couple of months ago and is located in the file NiinList3000.csv. If needed, I can recreate the process"
   ]
  },
  {
   "cell_type": "markdown",
   "metadata": {},
   "source": [
    "NiinList500 = pd.read_csv('NiinList500.csv')"
   ]
  },
  {
   "cell_type": "markdown",
   "metadata": {},
   "source": [
    "#pull everything in SP for select NIINs\n",
    "SP = pd.read_sql('SELECT * FROM Sp_WNM_WithoutConops',DB) "
   ]
  },
  {
   "cell_type": "markdown",
   "metadata": {},
   "source": [
    "#Remove all leading zeros from niins\n",
    "SP['nNIIN'] = pd.to_numeric(SP['NIIN'],errors='ignore')"
   ]
  },
  {
   "cell_type": "markdown",
   "metadata": {},
   "source": [
    "SP = SP.merge(NiinList500,on='nNIIN',how='inner')"
   ]
  },
  {
   "cell_type": "markdown",
   "metadata": {},
   "source": [
    "#### Select Specifc Parts "
   ]
  },
  {
   "cell_type": "code",
   "execution_count": 18,
   "metadata": {},
   "outputs": [
    {
     "name": "stdout",
     "output_type": "stream",
     "text": [
      "time: 17min 58s\n"
     ]
    }
   ],
   "source": [
    "SP = pd.read_sql('SELECT * FROM Sp_WNM_WithoutConops',DB) "
   ]
  },
  {
   "cell_type": "code",
   "execution_count": 19,
   "metadata": {},
   "outputs": [
    {
     "name": "stdout",
     "output_type": "stream",
     "text": [
      "time: 1min 15s\n"
     ]
    }
   ],
   "source": [
    "SP['niin'] = pd.to_numeric(SP['NIIN'],errors='ignore')"
   ]
  },
  {
   "cell_type": "code",
   "execution_count": 20,
   "metadata": {},
   "outputs": [
    {
     "data": {
      "text/html": [
       "<div>\n",
       "<style scoped>\n",
       "    .dataframe tbody tr th:only-of-type {\n",
       "        vertical-align: middle;\n",
       "    }\n",
       "\n",
       "    .dataframe tbody tr th {\n",
       "        vertical-align: top;\n",
       "    }\n",
       "\n",
       "    .dataframe thead th {\n",
       "        text-align: right;\n",
       "    }\n",
       "</style>\n",
       "<table border=\"1\" class=\"dataframe\">\n",
       "  <thead>\n",
       "    <tr style=\"text-align: right;\">\n",
       "      <th></th>\n",
       "      <th>NIIN</th>\n",
       "      <th>WIC</th>\n",
       "      <th>FY</th>\n",
       "      <th>QTR</th>\n",
       "      <th>MACOM</th>\n",
       "      <th>QTY</th>\n",
       "      <th>WBS</th>\n",
       "      <th>niin</th>\n",
       "    </tr>\n",
       "  </thead>\n",
       "  <tbody>\n",
       "    <tr>\n",
       "      <th>0</th>\n",
       "      <td>013194708</td>\n",
       "      <td>0027</td>\n",
       "      <td>1999</td>\n",
       "      <td>4</td>\n",
       "      <td>NG</td>\n",
       "      <td>0.28800</td>\n",
       "      <td>04A</td>\n",
       "      <td>13194708</td>\n",
       "    </tr>\n",
       "    <tr>\n",
       "      <th>1</th>\n",
       "      <td>010793105</td>\n",
       "      <td>0018</td>\n",
       "      <td>1996</td>\n",
       "      <td>4</td>\n",
       "      <td>FC</td>\n",
       "      <td>0.32951</td>\n",
       "      <td>02B</td>\n",
       "      <td>10793105</td>\n",
       "    </tr>\n",
       "    <tr>\n",
       "      <th>2</th>\n",
       "      <td>008536451</td>\n",
       "      <td>0027</td>\n",
       "      <td>1993</td>\n",
       "      <td>4</td>\n",
       "      <td>FC</td>\n",
       "      <td>0.59451</td>\n",
       "      <td>04A</td>\n",
       "      <td>8536451</td>\n",
       "    </tr>\n",
       "    <tr>\n",
       "      <th>3</th>\n",
       "      <td>001155006</td>\n",
       "      <td>1224</td>\n",
       "      <td>2016</td>\n",
       "      <td>4</td>\n",
       "      <td>P1</td>\n",
       "      <td>0.01508</td>\n",
       "      <td>14</td>\n",
       "      <td>1155006</td>\n",
       "    </tr>\n",
       "    <tr>\n",
       "      <th>4</th>\n",
       "      <td>011891832</td>\n",
       "      <td>0327</td>\n",
       "      <td>2010</td>\n",
       "      <td>1</td>\n",
       "      <td>AO</td>\n",
       "      <td>0.10139</td>\n",
       "      <td>01H</td>\n",
       "      <td>11891832</td>\n",
       "    </tr>\n",
       "  </tbody>\n",
       "</table>\n",
       "</div>"
      ],
      "text/plain": [
       "        NIIN   WIC    FY  QTR MACOM      QTY  WBS      niin\n",
       "0  013194708  0027  1999    4    NG  0.28800  04A  13194708\n",
       "1  010793105  0018  1996    4    FC  0.32951  02B  10793105\n",
       "2  008536451  0027  1993    4    FC  0.59451  04A   8536451\n",
       "3  001155006  1224  2016    4    P1  0.01508  14    1155006\n",
       "4  011891832  0327  2010    1    AO  0.10139  01H  11891832"
      ]
     },
     "execution_count": 20,
     "metadata": {},
     "output_type": "execute_result"
    },
    {
     "name": "stdout",
     "output_type": "stream",
     "text": [
      "time: 19 ms\n"
     ]
    }
   ],
   "source": [
    "SP.head()"
   ]
  },
  {
   "cell_type": "markdown",
   "metadata": {},
   "source": [
    "#### Get part nomen and price"
   ]
  },
  {
   "cell_type": "code",
   "execution_count": 11,
   "metadata": {},
   "outputs": [
    {
     "name": "stderr",
     "output_type": "stream",
     "text": [
      "S:\\Anaconda3\\lib\\site-packages\\IPython\\core\\interactiveshell.py:2785: DtypeWarning: Columns (8,10,30) have mixed types. Specify dtype option on import or set low_memory=False.\n",
      "  interactivity=interactivity, compiler=compiler, result=result)\n"
     ]
    },
    {
     "name": "stdout",
     "output_type": "stream",
     "text": [
      "time: 32.8 s\n"
     ]
    }
   ],
   "source": [
    "#get part price, servcred, unsrvcred and nomen\n",
    "amdf = pd.read_csv('AMDF_17_Q2.TXT')\n",
    "amdf_short = amdf[['niin','nomen','fldprice','servcred','unsrvcred']]"
   ]
  },
  {
   "cell_type": "code",
   "execution_count": 12,
   "metadata": {},
   "outputs": [
    {
     "data": {
      "text/html": [
       "<div>\n",
       "<style scoped>\n",
       "    .dataframe tbody tr th:only-of-type {\n",
       "        vertical-align: middle;\n",
       "    }\n",
       "\n",
       "    .dataframe tbody tr th {\n",
       "        vertical-align: top;\n",
       "    }\n",
       "\n",
       "    .dataframe thead th {\n",
       "        text-align: right;\n",
       "    }\n",
       "</style>\n",
       "<table border=\"1\" class=\"dataframe\">\n",
       "  <thead>\n",
       "    <tr style=\"text-align: right;\">\n",
       "      <th></th>\n",
       "      <th>niin</th>\n",
       "      <th>nomen</th>\n",
       "      <th>fldprice</th>\n",
       "      <th>servcred</th>\n",
       "      <th>unsrvcred</th>\n",
       "    </tr>\n",
       "  </thead>\n",
       "  <tbody>\n",
       "    <tr>\n",
       "      <th>0</th>\n",
       "      <td>14166390</td>\n",
       "      <td>CONNECTOR,RECEPTACLE,</td>\n",
       "      <td>89.40</td>\n",
       "      <td>0.0</td>\n",
       "      <td>0.0</td>\n",
       "    </tr>\n",
       "    <tr>\n",
       "      <th>1</th>\n",
       "      <td>14166400</td>\n",
       "      <td>KEYTOP,KEYBOARD</td>\n",
       "      <td>183.28</td>\n",
       "      <td>0.0</td>\n",
       "      <td>0.0</td>\n",
       "    </tr>\n",
       "    <tr>\n",
       "      <th>2</th>\n",
       "      <td>14166402</td>\n",
       "      <td>FILTER,RADIO FREQUENC</td>\n",
       "      <td>77.93</td>\n",
       "      <td>0.0</td>\n",
       "      <td>0.0</td>\n",
       "    </tr>\n",
       "    <tr>\n",
       "      <th>3</th>\n",
       "      <td>14166406</td>\n",
       "      <td>SHIELDING GASKET,ELEC</td>\n",
       "      <td>27.32</td>\n",
       "      <td>0.0</td>\n",
       "      <td>0.0</td>\n",
       "    </tr>\n",
       "    <tr>\n",
       "      <th>4</th>\n",
       "      <td>14166408</td>\n",
       "      <td>SHIELDING GASKET,ELEC</td>\n",
       "      <td>34.15</td>\n",
       "      <td>0.0</td>\n",
       "      <td>0.0</td>\n",
       "    </tr>\n",
       "  </tbody>\n",
       "</table>\n",
       "</div>"
      ],
      "text/plain": [
       "       niin                  nomen  fldprice  servcred  unsrvcred\n",
       "0  14166390  CONNECTOR,RECEPTACLE,     89.40       0.0        0.0\n",
       "1  14166400        KEYTOP,KEYBOARD    183.28       0.0        0.0\n",
       "2  14166402  FILTER,RADIO FREQUENC     77.93       0.0        0.0\n",
       "3  14166406  SHIELDING GASKET,ELEC     27.32       0.0        0.0\n",
       "4  14166408  SHIELDING GASKET,ELEC     34.15       0.0        0.0"
      ]
     },
     "execution_count": 12,
     "metadata": {},
     "output_type": "execute_result"
    },
    {
     "name": "stdout",
     "output_type": "stream",
     "text": [
      "time: 15 ms\n"
     ]
    }
   ],
   "source": [
    "amdf_short.head()"
   ]
  },
  {
   "cell_type": "code",
   "execution_count": 27,
   "metadata": {
    "scrolled": true
   },
   "outputs": [
    {
     "name": "stdout",
     "output_type": "stream",
     "text": [
      "time: 12min\n"
     ]
    }
   ],
   "source": [
    "SP = SP.merge(amdf_short,on='niin',how='inner')"
   ]
  },
  {
   "cell_type": "code",
   "execution_count": 28,
   "metadata": {},
   "outputs": [
    {
     "data": {
      "text/html": [
       "<div>\n",
       "<style scoped>\n",
       "    .dataframe tbody tr th:only-of-type {\n",
       "        vertical-align: middle;\n",
       "    }\n",
       "\n",
       "    .dataframe tbody tr th {\n",
       "        vertical-align: top;\n",
       "    }\n",
       "\n",
       "    .dataframe thead th {\n",
       "        text-align: right;\n",
       "    }\n",
       "</style>\n",
       "<table border=\"1\" class=\"dataframe\">\n",
       "  <thead>\n",
       "    <tr style=\"text-align: right;\">\n",
       "      <th></th>\n",
       "      <th>NIIN</th>\n",
       "      <th>WIC</th>\n",
       "      <th>FY</th>\n",
       "      <th>QTR</th>\n",
       "      <th>MACOM</th>\n",
       "      <th>QTY</th>\n",
       "      <th>WBS</th>\n",
       "      <th>niin</th>\n",
       "      <th>nomen</th>\n",
       "      <th>fldprice</th>\n",
       "      <th>servcred</th>\n",
       "      <th>unsrvcred</th>\n",
       "    </tr>\n",
       "  </thead>\n",
       "  <tbody>\n",
       "    <tr>\n",
       "      <th>0</th>\n",
       "      <td>013194708</td>\n",
       "      <td>0027</td>\n",
       "      <td>1999</td>\n",
       "      <td>4</td>\n",
       "      <td>NG</td>\n",
       "      <td>0.28800</td>\n",
       "      <td>04A</td>\n",
       "      <td>13194708</td>\n",
       "      <td>CABLE ASSEMBLY,RADIO</td>\n",
       "      <td>31.42</td>\n",
       "      <td>0.0</td>\n",
       "      <td>0.0</td>\n",
       "    </tr>\n",
       "    <tr>\n",
       "      <th>1</th>\n",
       "      <td>013194708</td>\n",
       "      <td>0313</td>\n",
       "      <td>2007</td>\n",
       "      <td>3</td>\n",
       "      <td>AR</td>\n",
       "      <td>0.04821</td>\n",
       "      <td>04A</td>\n",
       "      <td>13194708</td>\n",
       "      <td>CABLE ASSEMBLY,RADIO</td>\n",
       "      <td>31.42</td>\n",
       "      <td>0.0</td>\n",
       "      <td>0.0</td>\n",
       "    </tr>\n",
       "    <tr>\n",
       "      <th>2</th>\n",
       "      <td>013194708</td>\n",
       "      <td>0272</td>\n",
       "      <td>2012</td>\n",
       "      <td>3</td>\n",
       "      <td>P1</td>\n",
       "      <td>0.01899</td>\n",
       "      <td>03E</td>\n",
       "      <td>13194708</td>\n",
       "      <td>CABLE ASSEMBLY,RADIO</td>\n",
       "      <td>31.42</td>\n",
       "      <td>0.0</td>\n",
       "      <td>0.0</td>\n",
       "    </tr>\n",
       "    <tr>\n",
       "      <th>3</th>\n",
       "      <td>013194708</td>\n",
       "      <td>0688</td>\n",
       "      <td>2000</td>\n",
       "      <td>2</td>\n",
       "      <td>P8</td>\n",
       "      <td>0.49693</td>\n",
       "      <td>04A</td>\n",
       "      <td>13194708</td>\n",
       "      <td>CABLE ASSEMBLY,RADIO</td>\n",
       "      <td>31.42</td>\n",
       "      <td>0.0</td>\n",
       "      <td>0.0</td>\n",
       "    </tr>\n",
       "    <tr>\n",
       "      <th>4</th>\n",
       "      <td>013194708</td>\n",
       "      <td>0686</td>\n",
       "      <td>1999</td>\n",
       "      <td>3</td>\n",
       "      <td>FC</td>\n",
       "      <td>0.12845</td>\n",
       "      <td>04A</td>\n",
       "      <td>13194708</td>\n",
       "      <td>CABLE ASSEMBLY,RADIO</td>\n",
       "      <td>31.42</td>\n",
       "      <td>0.0</td>\n",
       "      <td>0.0</td>\n",
       "    </tr>\n",
       "  </tbody>\n",
       "</table>\n",
       "</div>"
      ],
      "text/plain": [
       "        NIIN   WIC    FY  QTR MACOM      QTY  WBS      niin  \\\n",
       "0  013194708  0027  1999    4    NG  0.28800  04A  13194708   \n",
       "1  013194708  0313  2007    3    AR  0.04821  04A  13194708   \n",
       "2  013194708  0272  2012    3    P1  0.01899  03E  13194708   \n",
       "3  013194708  0688  2000    2    P8  0.49693  04A  13194708   \n",
       "4  013194708  0686  1999    3    FC  0.12845  04A  13194708   \n",
       "\n",
       "                  nomen  fldprice  servcred  unsrvcred  \n",
       "0  CABLE ASSEMBLY,RADIO     31.42       0.0        0.0  \n",
       "1  CABLE ASSEMBLY,RADIO     31.42       0.0        0.0  \n",
       "2  CABLE ASSEMBLY,RADIO     31.42       0.0        0.0  \n",
       "3  CABLE ASSEMBLY,RADIO     31.42       0.0        0.0  \n",
       "4  CABLE ASSEMBLY,RADIO     31.42       0.0        0.0  "
      ]
     },
     "execution_count": 28,
     "metadata": {},
     "output_type": "execute_result"
    },
    {
     "name": "stdout",
     "output_type": "stream",
     "text": [
      "time: 34 ms\n"
     ]
    }
   ],
   "source": [
    "SP.head()"
   ]
  },
  {
   "cell_type": "code",
   "execution_count": 30,
   "metadata": {},
   "outputs": [
    {
     "name": "stdout",
     "output_type": "stream",
     "text": [
      "time: 1min 1s\n"
     ]
    }
   ],
   "source": [
    "#SP = SP[SP.nomen=='BOOT,DUST AND MOISTUR']"
   ]
  },
  {
   "cell_type": "markdown",
   "metadata": {},
   "source": [
    "#### Figure out what systems the parts fit on"
   ]
  },
  {
   "cell_type": "code",
   "execution_count": 23,
   "metadata": {},
   "outputs": [
    {
     "data": {
      "text/html": [
       "<div>\n",
       "<style scoped>\n",
       "    .dataframe tbody tr th:only-of-type {\n",
       "        vertical-align: middle;\n",
       "    }\n",
       "\n",
       "    .dataframe tbody tr th {\n",
       "        vertical-align: top;\n",
       "    }\n",
       "\n",
       "    .dataframe thead th {\n",
       "        text-align: right;\n",
       "    }\n",
       "</style>\n",
       "<table border=\"1\" class=\"dataframe\">\n",
       "  <thead>\n",
       "    <tr style=\"text-align: right;\">\n",
       "      <th></th>\n",
       "      <th>WIC</th>\n",
       "      <th>MDS</th>\n",
       "      <th>MDSNAME</th>\n",
       "      <th>SYSTEMTYPE</th>\n",
       "      <th>FY</th>\n",
       "      <th>ORG</th>\n",
       "      <th>ORGNAME_NAME</th>\n",
       "      <th>DENSITY</th>\n",
       "      <th>ACTIVITY</th>\n",
       "      <th>OPTEMPO</th>\n",
       "    </tr>\n",
       "  </thead>\n",
       "  <tbody>\n",
       "    <tr>\n",
       "      <th>0</th>\n",
       "      <td>0004</td>\n",
       "      <td>AH-1F</td>\n",
       "      <td>COBRA</td>\n",
       "      <td>HOUR</td>\n",
       "      <td>1993</td>\n",
       "      <td>AR                                            ...</td>\n",
       "      <td>USAR                                          ...</td>\n",
       "      <td>48</td>\n",
       "      <td>2577</td>\n",
       "      <td>53.69</td>\n",
       "    </tr>\n",
       "    <tr>\n",
       "      <th>1</th>\n",
       "      <td>0004</td>\n",
       "      <td>AH-1F</td>\n",
       "      <td>COBRA</td>\n",
       "      <td>HOUR</td>\n",
       "      <td>1993</td>\n",
       "      <td>E1                                            ...</td>\n",
       "      <td>USAREUR                                       ...</td>\n",
       "      <td>20</td>\n",
       "      <td>1936</td>\n",
       "      <td>96.80</td>\n",
       "    </tr>\n",
       "    <tr>\n",
       "      <th>2</th>\n",
       "      <td>0004</td>\n",
       "      <td>AH-1F</td>\n",
       "      <td>COBRA</td>\n",
       "      <td>HOUR</td>\n",
       "      <td>1993</td>\n",
       "      <td>X1                                            ...</td>\n",
       "      <td>USAMC                                         ...</td>\n",
       "      <td>32</td>\n",
       "      <td>615</td>\n",
       "      <td>19.22</td>\n",
       "    </tr>\n",
       "    <tr>\n",
       "      <th>3</th>\n",
       "      <td>0004</td>\n",
       "      <td>AH-1F</td>\n",
       "      <td>COBRA</td>\n",
       "      <td>HOUR</td>\n",
       "      <td>1993</td>\n",
       "      <td>FC                                            ...</td>\n",
       "      <td>FORSCOM                                       ...</td>\n",
       "      <td>127</td>\n",
       "      <td>13064</td>\n",
       "      <td>102.87</td>\n",
       "    </tr>\n",
       "    <tr>\n",
       "      <th>4</th>\n",
       "      <td>0004</td>\n",
       "      <td>AH-1F</td>\n",
       "      <td>COBRA</td>\n",
       "      <td>HOUR</td>\n",
       "      <td>1993</td>\n",
       "      <td>P1                                            ...</td>\n",
       "      <td>USARPAC                                       ...</td>\n",
       "      <td>36</td>\n",
       "      <td>4558</td>\n",
       "      <td>126.61</td>\n",
       "    </tr>\n",
       "  </tbody>\n",
       "</table>\n",
       "</div>"
      ],
      "text/plain": [
       "    WIC                             MDS MDSNAME SYSTEMTYPE    FY  \\\n",
       "0  0004  AH-1F                            COBRA       HOUR  1993   \n",
       "1  0004  AH-1F                            COBRA       HOUR  1993   \n",
       "2  0004  AH-1F                            COBRA       HOUR  1993   \n",
       "3  0004  AH-1F                            COBRA       HOUR  1993   \n",
       "4  0004  AH-1F                            COBRA       HOUR  1993   \n",
       "\n",
       "                                                 ORG  \\\n",
       "0  AR                                            ...   \n",
       "1  E1                                            ...   \n",
       "2  X1                                            ...   \n",
       "3  FC                                            ...   \n",
       "4  P1                                            ...   \n",
       "\n",
       "                                        ORGNAME_NAME  DENSITY  ACTIVITY  \\\n",
       "0  USAR                                          ...       48      2577   \n",
       "1  USAREUR                                       ...       20      1936   \n",
       "2  USAMC                                         ...       32       615   \n",
       "3  FORSCOM                                       ...      127     13064   \n",
       "4  USARPAC                                       ...       36      4558   \n",
       "\n",
       "   OPTEMPO  \n",
       "0    53.69  \n",
       "1    96.80  \n",
       "2    19.22  \n",
       "3   102.87  \n",
       "4   126.61  "
      ]
     },
     "execution_count": 23,
     "metadata": {},
     "output_type": "execute_result"
    },
    {
     "name": "stdout",
     "output_type": "stream",
     "text": [
      "time: 2.12 s\n"
     ]
    }
   ],
   "source": [
    "#pull in entire TU1 file \n",
    "TU1 = pd.read_sql('SELECT * FROM Tu1_PL_WNM_WithoutConops',DB) \n",
    "TU1.head()"
   ]
  },
  {
   "cell_type": "code",
   "execution_count": 35,
   "metadata": {
    "scrolled": true
   },
   "outputs": [
    {
     "name": "stdout",
     "output_type": "stream",
     "text": [
      "time: 1.4 s\n"
     ]
    }
   ],
   "source": [
    "#inner join TU1 and SP on WIC and FY\n",
    "SP_TU1 = TU1.merge(SP,left_on=['FY','WIC'], right_on=['FY','WIC'],how='inner')"
   ]
  },
  {
   "cell_type": "code",
   "execution_count": 36,
   "metadata": {},
   "outputs": [
    {
     "data": {
      "text/html": [
       "<div>\n",
       "<style scoped>\n",
       "    .dataframe tbody tr th:only-of-type {\n",
       "        vertical-align: middle;\n",
       "    }\n",
       "\n",
       "    .dataframe tbody tr th {\n",
       "        vertical-align: top;\n",
       "    }\n",
       "\n",
       "    .dataframe thead th {\n",
       "        text-align: right;\n",
       "    }\n",
       "</style>\n",
       "<table border=\"1\" class=\"dataframe\">\n",
       "  <thead>\n",
       "    <tr style=\"text-align: right;\">\n",
       "      <th></th>\n",
       "      <th>WIC</th>\n",
       "      <th>MDS</th>\n",
       "      <th>MDSNAME</th>\n",
       "      <th>SYSTEMTYPE</th>\n",
       "      <th>FY</th>\n",
       "      <th>ORG</th>\n",
       "      <th>ORGNAME_NAME</th>\n",
       "      <th>DENSITY</th>\n",
       "      <th>ACTIVITY</th>\n",
       "      <th>OPTEMPO</th>\n",
       "      <th>NIIN</th>\n",
       "      <th>QTR</th>\n",
       "      <th>MACOM</th>\n",
       "      <th>QTY</th>\n",
       "      <th>WBS</th>\n",
       "      <th>niin</th>\n",
       "      <th>nomen</th>\n",
       "      <th>fldprice</th>\n",
       "      <th>servcred</th>\n",
       "      <th>unsrvcred</th>\n",
       "    </tr>\n",
       "  </thead>\n",
       "  <tbody>\n",
       "    <tr>\n",
       "      <th>0</th>\n",
       "      <td>0004</td>\n",
       "      <td>AH-1F</td>\n",
       "      <td>COBRA</td>\n",
       "      <td>HOUR</td>\n",
       "      <td>1993</td>\n",
       "      <td>AR                                            ...</td>\n",
       "      <td>USAR                                          ...</td>\n",
       "      <td>48</td>\n",
       "      <td>2577</td>\n",
       "      <td>53.69</td>\n",
       "      <td>008929026</td>\n",
       "      <td>1</td>\n",
       "      <td>P1</td>\n",
       "      <td>33.37143</td>\n",
       "      <td>06A</td>\n",
       "      <td>8929026</td>\n",
       "      <td>BOOT,DUST AND MOISTUR</td>\n",
       "      <td>2.50</td>\n",
       "      <td>0.0</td>\n",
       "      <td>0.0</td>\n",
       "    </tr>\n",
       "    <tr>\n",
       "      <th>1</th>\n",
       "      <td>0004</td>\n",
       "      <td>AH-1F</td>\n",
       "      <td>COBRA</td>\n",
       "      <td>HOUR</td>\n",
       "      <td>1993</td>\n",
       "      <td>AR                                            ...</td>\n",
       "      <td>USAR                                          ...</td>\n",
       "      <td>48</td>\n",
       "      <td>2577</td>\n",
       "      <td>53.69</td>\n",
       "      <td>004749686</td>\n",
       "      <td>4</td>\n",
       "      <td>TC</td>\n",
       "      <td>2.00000</td>\n",
       "      <td>01A</td>\n",
       "      <td>4749686</td>\n",
       "      <td>BOOT,DUST AND MOISTUR</td>\n",
       "      <td>65.16</td>\n",
       "      <td>0.0</td>\n",
       "      <td>0.0</td>\n",
       "    </tr>\n",
       "    <tr>\n",
       "      <th>2</th>\n",
       "      <td>0004</td>\n",
       "      <td>AH-1F</td>\n",
       "      <td>COBRA</td>\n",
       "      <td>HOUR</td>\n",
       "      <td>1993</td>\n",
       "      <td>AR                                            ...</td>\n",
       "      <td>USAR                                          ...</td>\n",
       "      <td>48</td>\n",
       "      <td>2577</td>\n",
       "      <td>53.69</td>\n",
       "      <td>004749686</td>\n",
       "      <td>2</td>\n",
       "      <td>FC</td>\n",
       "      <td>4.00000</td>\n",
       "      <td>01A</td>\n",
       "      <td>4749686</td>\n",
       "      <td>BOOT,DUST AND MOISTUR</td>\n",
       "      <td>65.16</td>\n",
       "      <td>0.0</td>\n",
       "      <td>0.0</td>\n",
       "    </tr>\n",
       "    <tr>\n",
       "      <th>3</th>\n",
       "      <td>0004</td>\n",
       "      <td>AH-1F</td>\n",
       "      <td>COBRA</td>\n",
       "      <td>HOUR</td>\n",
       "      <td>1993</td>\n",
       "      <td>AR                                            ...</td>\n",
       "      <td>USAR                                          ...</td>\n",
       "      <td>48</td>\n",
       "      <td>2577</td>\n",
       "      <td>53.69</td>\n",
       "      <td>004749686</td>\n",
       "      <td>2</td>\n",
       "      <td>TC</td>\n",
       "      <td>3.00000</td>\n",
       "      <td>01A</td>\n",
       "      <td>4749686</td>\n",
       "      <td>BOOT,DUST AND MOISTUR</td>\n",
       "      <td>65.16</td>\n",
       "      <td>0.0</td>\n",
       "      <td>0.0</td>\n",
       "    </tr>\n",
       "    <tr>\n",
       "      <th>4</th>\n",
       "      <td>0004</td>\n",
       "      <td>AH-1F</td>\n",
       "      <td>COBRA</td>\n",
       "      <td>HOUR</td>\n",
       "      <td>1993</td>\n",
       "      <td>AR                                            ...</td>\n",
       "      <td>USAR                                          ...</td>\n",
       "      <td>48</td>\n",
       "      <td>2577</td>\n",
       "      <td>53.69</td>\n",
       "      <td>004749686</td>\n",
       "      <td>1</td>\n",
       "      <td>NG</td>\n",
       "      <td>1.94118</td>\n",
       "      <td>01A</td>\n",
       "      <td>4749686</td>\n",
       "      <td>BOOT,DUST AND MOISTUR</td>\n",
       "      <td>65.16</td>\n",
       "      <td>0.0</td>\n",
       "      <td>0.0</td>\n",
       "    </tr>\n",
       "  </tbody>\n",
       "</table>\n",
       "</div>"
      ],
      "text/plain": [
       "    WIC                             MDS MDSNAME SYSTEMTYPE    FY  \\\n",
       "0  0004  AH-1F                            COBRA       HOUR  1993   \n",
       "1  0004  AH-1F                            COBRA       HOUR  1993   \n",
       "2  0004  AH-1F                            COBRA       HOUR  1993   \n",
       "3  0004  AH-1F                            COBRA       HOUR  1993   \n",
       "4  0004  AH-1F                            COBRA       HOUR  1993   \n",
       "\n",
       "                                                 ORG  \\\n",
       "0  AR                                            ...   \n",
       "1  AR                                            ...   \n",
       "2  AR                                            ...   \n",
       "3  AR                                            ...   \n",
       "4  AR                                            ...   \n",
       "\n",
       "                                        ORGNAME_NAME  DENSITY  ACTIVITY  \\\n",
       "0  USAR                                          ...       48      2577   \n",
       "1  USAR                                          ...       48      2577   \n",
       "2  USAR                                          ...       48      2577   \n",
       "3  USAR                                          ...       48      2577   \n",
       "4  USAR                                          ...       48      2577   \n",
       "\n",
       "   OPTEMPO       NIIN  QTR MACOM       QTY  WBS     niin  \\\n",
       "0    53.69  008929026    1    P1  33.37143  06A  8929026   \n",
       "1    53.69  004749686    4    TC   2.00000  01A  4749686   \n",
       "2    53.69  004749686    2    FC   4.00000  01A  4749686   \n",
       "3    53.69  004749686    2    TC   3.00000  01A  4749686   \n",
       "4    53.69  004749686    1    NG   1.94118  01A  4749686   \n",
       "\n",
       "                   nomen  fldprice  servcred  unsrvcred  \n",
       "0  BOOT,DUST AND MOISTUR      2.50       0.0        0.0  \n",
       "1  BOOT,DUST AND MOISTUR     65.16       0.0        0.0  \n",
       "2  BOOT,DUST AND MOISTUR     65.16       0.0        0.0  \n",
       "3  BOOT,DUST AND MOISTUR     65.16       0.0        0.0  \n",
       "4  BOOT,DUST AND MOISTUR     65.16       0.0        0.0  "
      ]
     },
     "execution_count": 36,
     "metadata": {},
     "output_type": "execute_result"
    },
    {
     "name": "stdout",
     "output_type": "stream",
     "text": [
      "time: 36 ms\n"
     ]
    }
   ],
   "source": [
    "SP_TU1.head()"
   ]
  },
  {
   "cell_type": "code",
   "execution_count": 48,
   "metadata": {},
   "outputs": [
    {
     "name": "stdout",
     "output_type": "stream",
     "text": [
      "time: 761 ms\n"
     ]
    }
   ],
   "source": [
    "#group to summarize by niin, wic and year\n",
    "Predictions = pd.DataFrame(SP_TU1.groupby(['NIIN','WIC','MACOM','FY','SYSTEMTYPE'],as_index=False).sum()).set_index(['NIIN','WIC','MACOM'],drop=False)"
   ]
  },
  {
   "cell_type": "code",
   "execution_count": 49,
   "metadata": {},
   "outputs": [
    {
     "data": {
      "text/html": [
       "<div>\n",
       "<style scoped>\n",
       "    .dataframe tbody tr th:only-of-type {\n",
       "        vertical-align: middle;\n",
       "    }\n",
       "\n",
       "    .dataframe tbody tr th {\n",
       "        vertical-align: top;\n",
       "    }\n",
       "\n",
       "    .dataframe thead th {\n",
       "        text-align: right;\n",
       "    }\n",
       "</style>\n",
       "<table border=\"1\" class=\"dataframe\">\n",
       "  <thead>\n",
       "    <tr style=\"text-align: right;\">\n",
       "      <th></th>\n",
       "      <th></th>\n",
       "      <th></th>\n",
       "      <th>NIIN</th>\n",
       "      <th>WIC</th>\n",
       "      <th>MACOM</th>\n",
       "      <th>FY</th>\n",
       "      <th>SYSTEMTYPE</th>\n",
       "      <th>DENSITY</th>\n",
       "      <th>ACTIVITY</th>\n",
       "      <th>OPTEMPO</th>\n",
       "      <th>QTR</th>\n",
       "      <th>QTY</th>\n",
       "      <th>niin</th>\n",
       "      <th>fldprice</th>\n",
       "      <th>servcred</th>\n",
       "      <th>unsrvcred</th>\n",
       "    </tr>\n",
       "    <tr>\n",
       "      <th>NIIN</th>\n",
       "      <th>WIC</th>\n",
       "      <th>MACOM</th>\n",
       "      <th></th>\n",
       "      <th></th>\n",
       "      <th></th>\n",
       "      <th></th>\n",
       "      <th></th>\n",
       "      <th></th>\n",
       "      <th></th>\n",
       "      <th></th>\n",
       "      <th></th>\n",
       "      <th></th>\n",
       "      <th></th>\n",
       "      <th></th>\n",
       "      <th></th>\n",
       "      <th></th>\n",
       "    </tr>\n",
       "  </thead>\n",
       "  <tbody>\n",
       "    <tr>\n",
       "      <th rowspan=\"5\" valign=\"top\">000077578</th>\n",
       "      <th rowspan=\"3\" valign=\"top\">0056</th>\n",
       "      <th>E1</th>\n",
       "      <td>000077578</td>\n",
       "      <td>0056</td>\n",
       "      <td>E1</td>\n",
       "      <td>2000</td>\n",
       "      <td>HOUR</td>\n",
       "      <td>42</td>\n",
       "      <td>0</td>\n",
       "      <td>0.00</td>\n",
       "      <td>20</td>\n",
       "      <td>3.04350</td>\n",
       "      <td>387890</td>\n",
       "      <td>73.30</td>\n",
       "      <td>0.0</td>\n",
       "      <td>0.0</td>\n",
       "    </tr>\n",
       "    <tr>\n",
       "      <th>TC</th>\n",
       "      <td>000077578</td>\n",
       "      <td>0056</td>\n",
       "      <td>TC</td>\n",
       "      <td>2005</td>\n",
       "      <td>HOUR</td>\n",
       "      <td>32</td>\n",
       "      <td>11315</td>\n",
       "      <td>1328.23</td>\n",
       "      <td>16</td>\n",
       "      <td>25.45456</td>\n",
       "      <td>310312</td>\n",
       "      <td>58.64</td>\n",
       "      <td>0.0</td>\n",
       "      <td>0.0</td>\n",
       "    </tr>\n",
       "    <tr>\n",
       "      <th>TC</th>\n",
       "      <td>000077578</td>\n",
       "      <td>0056</td>\n",
       "      <td>TC</td>\n",
       "      <td>2011</td>\n",
       "      <td>HOUR</td>\n",
       "      <td>19</td>\n",
       "      <td>8979</td>\n",
       "      <td>811.59</td>\n",
       "      <td>8</td>\n",
       "      <td>2.00000</td>\n",
       "      <td>155156</td>\n",
       "      <td>29.32</td>\n",
       "      <td>0.0</td>\n",
       "      <td>0.0</td>\n",
       "    </tr>\n",
       "    <tr>\n",
       "      <th rowspan=\"2\" valign=\"top\">0244</th>\n",
       "      <th>FC</th>\n",
       "      <td>000077578</td>\n",
       "      <td>0244</td>\n",
       "      <td>FC</td>\n",
       "      <td>2003</td>\n",
       "      <td>SYSTEM</td>\n",
       "      <td>22</td>\n",
       "      <td>0</td>\n",
       "      <td>0.00</td>\n",
       "      <td>28</td>\n",
       "      <td>24.00000</td>\n",
       "      <td>620624</td>\n",
       "      <td>117.28</td>\n",
       "      <td>0.0</td>\n",
       "      <td>0.0</td>\n",
       "    </tr>\n",
       "    <tr>\n",
       "      <th>TC</th>\n",
       "      <td>000077578</td>\n",
       "      <td>0244</td>\n",
       "      <td>TC</td>\n",
       "      <td>2005</td>\n",
       "      <td>SYSTEM</td>\n",
       "      <td>13</td>\n",
       "      <td>0</td>\n",
       "      <td>0.00</td>\n",
       "      <td>12</td>\n",
       "      <td>2.04546</td>\n",
       "      <td>232734</td>\n",
       "      <td>43.98</td>\n",
       "      <td>0.0</td>\n",
       "      <td>0.0</td>\n",
       "    </tr>\n",
       "  </tbody>\n",
       "</table>\n",
       "</div>"
      ],
      "text/plain": [
       "                           NIIN   WIC MACOM    FY SYSTEMTYPE  DENSITY  \\\n",
       "NIIN      WIC  MACOM                                                    \n",
       "000077578 0056 E1     000077578  0056    E1  2000       HOUR       42   \n",
       "               TC     000077578  0056    TC  2005       HOUR       32   \n",
       "               TC     000077578  0056    TC  2011       HOUR       19   \n",
       "          0244 FC     000077578  0244    FC  2003     SYSTEM       22   \n",
       "               TC     000077578  0244    TC  2005     SYSTEM       13   \n",
       "\n",
       "                      ACTIVITY  OPTEMPO  QTR       QTY    niin  fldprice  \\\n",
       "NIIN      WIC  MACOM                                                       \n",
       "000077578 0056 E1            0     0.00   20   3.04350  387890     73.30   \n",
       "               TC        11315  1328.23   16  25.45456  310312     58.64   \n",
       "               TC         8979   811.59    8   2.00000  155156     29.32   \n",
       "          0244 FC            0     0.00   28  24.00000  620624    117.28   \n",
       "               TC            0     0.00   12   2.04546  232734     43.98   \n",
       "\n",
       "                      servcred  unsrvcred  \n",
       "NIIN      WIC  MACOM                       \n",
       "000077578 0056 E1          0.0        0.0  \n",
       "               TC          0.0        0.0  \n",
       "               TC          0.0        0.0  \n",
       "          0244 FC          0.0        0.0  \n",
       "               TC          0.0        0.0  "
      ]
     },
     "execution_count": 49,
     "metadata": {},
     "output_type": "execute_result"
    },
    {
     "name": "stdout",
     "output_type": "stream",
     "text": [
      "time: 33 ms\n"
     ]
    }
   ],
   "source": [
    "Predictions.head()"
   ]
  },
  {
   "cell_type": "markdown",
   "metadata": {},
   "source": [
    "#### Get cost factor basis"
   ]
  },
  {
   "cell_type": "code",
   "execution_count": null,
   "metadata": {},
   "outputs": [],
   "source": [
    "#connect to OSMISValidation database\n",
    "DB = pyodbc.connect(\n",
    "    r'DRIVER={SQL SERVER NATIVE CLIENT 11.0};'\n",
    "    r'SERVER=alexosmisa4dbp;'\n",
    "    r'DATABASE=OsmisValidation;'\n",
    "    r'Trusted_Connection=yes')"
   ]
  },
  {
   "cell_type": "markdown",
   "metadata": {},
   "source": [
    "#### Define some functions"
   ]
  },
  {
   "cell_type": "code",
   "execution_count": 51,
   "metadata": {
    "scrolled": true
   },
   "outputs": [
    {
     "name": "stdout",
     "output_type": "stream",
     "text": [
      "time: 3 ms\n"
     ]
    }
   ],
   "source": [
    "# ATR: Activity Per Part (Activity Til Replacement)\n",
    "def ATR(df):\n",
    "    return (df['ACTIVITY']/df['DENSITY'])/(df['QTY']/df['DENSITY'])\n",
    "\n",
    "#PPS: Parts Per System\n",
    "def PPS(df):\n",
    "    return df['QTY'] / df['DENSITY']\n",
    "\n",
    "#PPO: Parts Per Activity Per System (Parts/Optempo)\n",
    "def PPO(df):\n",
    "    return df['QTY']/df['OPTEMPO'].replace({ 0 : np.nan })"
   ]
  },
  {
   "cell_type": "code",
   "execution_count": 52,
   "metadata": {},
   "outputs": [
    {
     "name": "stdout",
     "output_type": "stream",
     "text": [
      "time: 3 ms\n"
     ]
    }
   ],
   "source": [
    "def perc_rmse(predicted,actual):\n",
    "    error = (predicted-actual)**2\n",
    "    rmse = np.sqrt(error.sum()/error.count())\n",
    "    per_rmse_pred_ma = rmse/(actual.sum()/actual.count())\n",
    "    return per_rmse_pred_ma"
   ]
  },
  {
   "cell_type": "markdown",
   "metadata": {},
   "source": [
    "### Prep Predictions file"
   ]
  },
  {
   "cell_type": "code",
   "execution_count": 53,
   "metadata": {},
   "outputs": [
    {
     "name": "stdout",
     "output_type": "stream",
     "text": [
      "time: 9 ms\n"
     ]
    }
   ],
   "source": [
    "Predictions = Predictions.drop(labels=['OPTEMPO','QTR'],axis=1,errors='ignore')"
   ]
  },
  {
   "cell_type": "code",
   "execution_count": 54,
   "metadata": {},
   "outputs": [
    {
     "name": "stdout",
     "output_type": "stream",
     "text": [
      "time: 22 ms\n"
     ]
    }
   ],
   "source": [
    "Predictions = Predictions.set_index(['NIIN','WIC','MACOM'],drop=False)"
   ]
  },
  {
   "cell_type": "code",
   "execution_count": 55,
   "metadata": {},
   "outputs": [
    {
     "name": "stdout",
     "output_type": "stream",
     "text": [
      "time: 11 ms\n"
     ]
    }
   ],
   "source": [
    "columnsToAdd = pd.DataFrame(columns=['key','OPTEMPO','ATR','PPS','PPO','maPred','lrPred'])"
   ]
  },
  {
   "cell_type": "code",
   "execution_count": 56,
   "metadata": {},
   "outputs": [
    {
     "name": "stdout",
     "output_type": "stream",
     "text": [
      "time: 540 ms\n"
     ]
    }
   ],
   "source": [
    "Predictions = pd.concat([Predictions,columnsToAdd])"
   ]
  },
  {
   "cell_type": "code",
   "execution_count": 143,
   "metadata": {},
   "outputs": [
    {
     "name": "stdout",
     "output_type": "stream",
     "text": [
      "time: 10 ms\n"
     ]
    }
   ],
   "source": [
    "#Predictions.NIIN = Predictions.NIIN.astype('int')\n",
    "#Predictions.WIC = Predictions.WIC.astype('int')\n",
    "Predictions.FY = Predictions.FY.astype('int')\n",
    "Predictions.niin = Predictions.niin.astype('int')"
   ]
  },
  {
   "cell_type": "code",
   "execution_count": 144,
   "metadata": {},
   "outputs": [
    {
     "name": "stdout",
     "output_type": "stream",
     "text": [
      "time: 12 ms\n"
     ]
    }
   ],
   "source": [
    "#calculate OPTEMPO, ATR, PPS, PPO\n",
    "Predictions['OPTEMPO'] = Predictions.ACTIVITY/Predictions.DENSITY\n",
    "Predictions['ATR'] = ATR(Predictions)\n",
    "Predictions['PPS'] = PPS(Predictions)\n",
    "Predictions['PPO'] = PPO(Predictions)"
   ]
  },
  {
   "cell_type": "code",
   "execution_count": 145,
   "metadata": {},
   "outputs": [
    {
     "data": {
      "text/html": [
       "<div>\n",
       "<style scoped>\n",
       "    .dataframe tbody tr th:only-of-type {\n",
       "        vertical-align: middle;\n",
       "    }\n",
       "\n",
       "    .dataframe tbody tr th {\n",
       "        vertical-align: top;\n",
       "    }\n",
       "\n",
       "    .dataframe thead th {\n",
       "        text-align: right;\n",
       "    }\n",
       "</style>\n",
       "<table border=\"1\" class=\"dataframe\">\n",
       "  <thead>\n",
       "    <tr style=\"text-align: right;\">\n",
       "      <th></th>\n",
       "      <th></th>\n",
       "      <th></th>\n",
       "      <th>ACTIVITY</th>\n",
       "      <th>ATR</th>\n",
       "      <th>DENSITY</th>\n",
       "      <th>FY</th>\n",
       "      <th>MACOM</th>\n",
       "      <th>NIIN</th>\n",
       "      <th>OPTEMPO</th>\n",
       "      <th>PAS</th>\n",
       "      <th>PPS</th>\n",
       "      <th>QTY</th>\n",
       "      <th>SYSTEMTYPE</th>\n",
       "      <th>WIC</th>\n",
       "      <th>fldprice</th>\n",
       "      <th>key</th>\n",
       "      <th>lrPred</th>\n",
       "      <th>maPred</th>\n",
       "      <th>niin</th>\n",
       "      <th>servcred</th>\n",
       "      <th>unsrvcred</th>\n",
       "    </tr>\n",
       "    <tr>\n",
       "      <th>NIIN</th>\n",
       "      <th>WIC</th>\n",
       "      <th>MACOM</th>\n",
       "      <th></th>\n",
       "      <th></th>\n",
       "      <th></th>\n",
       "      <th></th>\n",
       "      <th></th>\n",
       "      <th></th>\n",
       "      <th></th>\n",
       "      <th></th>\n",
       "      <th></th>\n",
       "      <th></th>\n",
       "      <th></th>\n",
       "      <th></th>\n",
       "      <th></th>\n",
       "      <th></th>\n",
       "      <th></th>\n",
       "      <th></th>\n",
       "      <th></th>\n",
       "      <th></th>\n",
       "      <th></th>\n",
       "    </tr>\n",
       "  </thead>\n",
       "  <tbody>\n",
       "    <tr>\n",
       "      <th rowspan=\"5\" valign=\"top\">000077578</th>\n",
       "      <th rowspan=\"3\" valign=\"top\">0056</th>\n",
       "      <th>E1</th>\n",
       "      <td>0.0</td>\n",
       "      <td>0.000000</td>\n",
       "      <td>42.0</td>\n",
       "      <td>2000</td>\n",
       "      <td>E1</td>\n",
       "      <td>000077578</td>\n",
       "      <td>0.000000</td>\n",
       "      <td>NaN</td>\n",
       "      <td>0.072464</td>\n",
       "      <td>3.04350</td>\n",
       "      <td>HOUR</td>\n",
       "      <td>0056</td>\n",
       "      <td>73.30</td>\n",
       "      <td>NaN</td>\n",
       "      <td>NaN</td>\n",
       "      <td>NaN</td>\n",
       "      <td>387890</td>\n",
       "      <td>0.0</td>\n",
       "      <td>0.0</td>\n",
       "    </tr>\n",
       "    <tr>\n",
       "      <th>TC</th>\n",
       "      <td>11315.0</td>\n",
       "      <td>444.517603</td>\n",
       "      <td>32.0</td>\n",
       "      <td>2005</td>\n",
       "      <td>TC</td>\n",
       "      <td>000077578</td>\n",
       "      <td>353.593750</td>\n",
       "      <td>0.071988</td>\n",
       "      <td>0.795455</td>\n",
       "      <td>25.45456</td>\n",
       "      <td>HOUR</td>\n",
       "      <td>0056</td>\n",
       "      <td>58.64</td>\n",
       "      <td>NaN</td>\n",
       "      <td>NaN</td>\n",
       "      <td>NaN</td>\n",
       "      <td>310312</td>\n",
       "      <td>0.0</td>\n",
       "      <td>0.0</td>\n",
       "    </tr>\n",
       "    <tr>\n",
       "      <th>TC</th>\n",
       "      <td>8979.0</td>\n",
       "      <td>4489.500000</td>\n",
       "      <td>19.0</td>\n",
       "      <td>2011</td>\n",
       "      <td>TC</td>\n",
       "      <td>000077578</td>\n",
       "      <td>472.578947</td>\n",
       "      <td>0.004232</td>\n",
       "      <td>0.105263</td>\n",
       "      <td>2.00000</td>\n",
       "      <td>HOUR</td>\n",
       "      <td>0056</td>\n",
       "      <td>29.32</td>\n",
       "      <td>NaN</td>\n",
       "      <td>NaN</td>\n",
       "      <td>NaN</td>\n",
       "      <td>155156</td>\n",
       "      <td>0.0</td>\n",
       "      <td>0.0</td>\n",
       "    </tr>\n",
       "    <tr>\n",
       "      <th rowspan=\"2\" valign=\"top\">0244</th>\n",
       "      <th>FC</th>\n",
       "      <td>0.0</td>\n",
       "      <td>0.000000</td>\n",
       "      <td>22.0</td>\n",
       "      <td>2003</td>\n",
       "      <td>FC</td>\n",
       "      <td>000077578</td>\n",
       "      <td>0.000000</td>\n",
       "      <td>NaN</td>\n",
       "      <td>1.090909</td>\n",
       "      <td>24.00000</td>\n",
       "      <td>SYSTEM</td>\n",
       "      <td>0244</td>\n",
       "      <td>117.28</td>\n",
       "      <td>NaN</td>\n",
       "      <td>NaN</td>\n",
       "      <td>NaN</td>\n",
       "      <td>620624</td>\n",
       "      <td>0.0</td>\n",
       "      <td>0.0</td>\n",
       "    </tr>\n",
       "    <tr>\n",
       "      <th>TC</th>\n",
       "      <td>0.0</td>\n",
       "      <td>0.000000</td>\n",
       "      <td>13.0</td>\n",
       "      <td>2005</td>\n",
       "      <td>TC</td>\n",
       "      <td>000077578</td>\n",
       "      <td>0.000000</td>\n",
       "      <td>NaN</td>\n",
       "      <td>0.157343</td>\n",
       "      <td>2.04546</td>\n",
       "      <td>SYSTEM</td>\n",
       "      <td>0244</td>\n",
       "      <td>43.98</td>\n",
       "      <td>NaN</td>\n",
       "      <td>NaN</td>\n",
       "      <td>NaN</td>\n",
       "      <td>232734</td>\n",
       "      <td>0.0</td>\n",
       "      <td>0.0</td>\n",
       "    </tr>\n",
       "  </tbody>\n",
       "</table>\n",
       "</div>"
      ],
      "text/plain": [
       "                      ACTIVITY          ATR  DENSITY    FY MACOM       NIIN  \\\n",
       "NIIN      WIC  MACOM                                                          \n",
       "000077578 0056 E1          0.0     0.000000     42.0  2000    E1  000077578   \n",
       "               TC      11315.0   444.517603     32.0  2005    TC  000077578   \n",
       "               TC       8979.0  4489.500000     19.0  2011    TC  000077578   \n",
       "          0244 FC          0.0     0.000000     22.0  2003    FC  000077578   \n",
       "               TC          0.0     0.000000     13.0  2005    TC  000077578   \n",
       "\n",
       "                         OPTEMPO       PAS       PPS       QTY SYSTEMTYPE  \\\n",
       "NIIN      WIC  MACOM                                                        \n",
       "000077578 0056 E1       0.000000       NaN  0.072464   3.04350       HOUR   \n",
       "               TC     353.593750  0.071988  0.795455  25.45456       HOUR   \n",
       "               TC     472.578947  0.004232  0.105263   2.00000       HOUR   \n",
       "          0244 FC       0.000000       NaN  1.090909  24.00000     SYSTEM   \n",
       "               TC       0.000000       NaN  0.157343   2.04546     SYSTEM   \n",
       "\n",
       "                       WIC  fldprice  key lrPred maPred    niin  servcred  \\\n",
       "NIIN      WIC  MACOM                                                        \n",
       "000077578 0056 E1     0056     73.30  NaN    NaN    NaN  387890       0.0   \n",
       "               TC     0056     58.64  NaN    NaN    NaN  310312       0.0   \n",
       "               TC     0056     29.32  NaN    NaN    NaN  155156       0.0   \n",
       "          0244 FC     0244    117.28  NaN    NaN    NaN  620624       0.0   \n",
       "               TC     0244     43.98  NaN    NaN    NaN  232734       0.0   \n",
       "\n",
       "                      unsrvcred  \n",
       "NIIN      WIC  MACOM             \n",
       "000077578 0056 E1           0.0  \n",
       "               TC           0.0  \n",
       "               TC           0.0  \n",
       "          0244 FC           0.0  \n",
       "               TC           0.0  "
      ]
     },
     "execution_count": 145,
     "metadata": {},
     "output_type": "execute_result"
    },
    {
     "name": "stdout",
     "output_type": "stream",
     "text": [
      "time: 40 ms\n"
     ]
    }
   ],
   "source": [
    "Predictions.head()"
   ]
  },
  {
   "cell_type": "markdown",
   "metadata": {},
   "source": [
    "#### Select variables to be used for regression"
   ]
  },
  {
   "cell_type": "code",
   "execution_count": 163,
   "metadata": {},
   "outputs": [
    {
     "name": "stdout",
     "output_type": "stream",
     "text": [
      "time: 7 ms\n"
     ]
    }
   ],
   "source": [
    "def correlationCheck(data):\n",
    "    latestYear = data.FY.max()\n",
    "    cf_basis = data.SYSTEMTYPE[data.FY==latestYear].unique()[0]\n",
    "    \n",
    "    if cf_basis == 'SYSTEM':\n",
    "        varsUsed = [('DENSITY',)] #potentialVars (using all for now)\n",
    "    else:\n",
    "        varsUsed = [('ACTIVITY',),('DENSITY',),('OPTEMPO',)] #potentialVars \n",
    "        XXData = pd.DataFrame(data[['ACTIVITY','DENSITY']])\n",
    "        xxCorr = spearmanr(XXData)\n",
    "        if xxCorr.correlation < 0.70:\n",
    "            varsUsed.append(('ACTIVITY','DENSITY'))\n",
    "    \n",
    "    #varsUsed = []\n",
    "    #for var in potentialVars:\n",
    "    #    XYData = pd.DataFrame(data[[var,'QTY']])\n",
    "    #    xyCorr = spearmanr(XYData)\n",
    "    #    if xyCorr.correlation > 0.70:\n",
    "    #        varsUsed.append((var,))\n",
    "    \n",
    "    #if ('ACTIVITY',) in varsUsed and ('DENSITY',) in varsUsed:\n",
    "    return varsUsed"
   ]
  },
  {
   "cell_type": "code",
   "execution_count": 164,
   "metadata": {},
   "outputs": [
    {
     "name": "stdout",
     "output_type": "stream",
     "text": [
      "time: 16.4 s\n"
     ]
    }
   ],
   "source": [
    "varsForReg = Predictions.groupby(level=[0,1,2],sort=False).apply(lambda x: correlationCheck(x) if len(x)>=3 else None)"
   ]
  },
  {
   "cell_type": "code",
   "execution_count": 165,
   "metadata": {},
   "outputs": [
    {
     "data": {
      "text/plain": [
       "NIIN       WIC   MACOM\n",
       "000077578  0056  E1               None\n",
       "                 TC               None\n",
       "           0244  FC               None\n",
       "                 TC               None\n",
       "           0298  E1       [(DENSITY,)]\n",
       "dtype: object"
      ]
     },
     "execution_count": 165,
     "metadata": {},
     "output_type": "execute_result"
    },
    {
     "name": "stdout",
     "output_type": "stream",
     "text": [
      "time: 8 ms\n"
     ]
    }
   ],
   "source": [
    "varsForReg.head()"
   ]
  },
  {
   "cell_type": "code",
   "execution_count": 166,
   "metadata": {},
   "outputs": [
    {
     "name": "stdout",
     "output_type": "stream",
     "text": [
      "time: 108 ms\n"
     ]
    }
   ],
   "source": [
    "bmColumns = ['key','NIIN','WIC','best_approach','r2_adj','per_rmse','intercept',\n",
    "              'x1_name', 'x2_name', 'x1_coef',\n",
    "              'x2_coef','reg_sig','MA_score','MA_type','MA_var','LKP','sampleSize', 'numPreds']"
   ]
  },
  {
   "cell_type": "markdown",
   "metadata": {},
   "source": [
    "# MODEL DEVELOPMENT"
   ]
  },
  {
   "cell_type": "code",
   "execution_count": 167,
   "metadata": {},
   "outputs": [
    {
     "name": "stdout",
     "output_type": "stream",
     "text": [
      "time: 49 ms\n"
     ]
    }
   ],
   "source": [
    "start = datetime.datetime.now()"
   ]
  },
  {
   "cell_type": "code",
   "execution_count": 168,
   "metadata": {
    "scrolled": true
   },
   "outputs": [
    {
     "name": "stdout",
     "output_type": "stream",
     "text": [
      "time: 10min 46s\n"
     ]
    }
   ],
   "source": [
    "def makePredictions(section):  \n",
    "    latestYear = section.FY.max()\n",
    "    cf_basis = section.SYSTEMTYPE[section.FY==latestYear].unique()[0]\n",
    "    \n",
    "    predictions = {}\n",
    "    best_LR = {}\n",
    "    niin = section.NIIN.unique()[0]\n",
    "    wic = section.WIC.unique()[0]\n",
    "    macom = section.MACOM.unique()[0]\n",
    "    sampleSize = len(section)\n",
    "    bmColumns = ['key','NIIN','WIC',\n",
    "                 'best_approach','r2Adj','% rmse','intercept'\n",
    "                 'x1_name', 'x2_name', 'x1_coef',\n",
    "                 'x2_coef','reg_sig','MA_type','MA_var','MA_score','LKP','sampleSize', 'numPreds'] \n",
    "\n",
    "    bestModel = pd.DataFrame(None,columns=bmColumns)\n",
    "    bestModelRow = pd.DataFrame(None,columns=bmColumns)\n",
    "    \n",
    "    MA_Years = {}\n",
    "    section['numYears']= sampleSize \n",
    "    MA_Years['3SMA_NP'] = sampleSize - 3\n",
    "    MA_Years['4SMA_NP'] = sampleSize - 4\n",
    "    MA_Years['5SMA_NP'] = sampleSize - 5\n",
    "    MA_Years['EXMA_NP'] = sampleSize - 1\n",
    "\n",
    "    #1) Regression for combinations of activity/density/optempo\n",
    "    \n",
    "    if sampleSize >= 3:\n",
    "        equations = {}\n",
    "        coefficients = {}\n",
    "        intercepts = {}\n",
    "        r2 = {}\n",
    "        r2_adj = {}\n",
    "        per_rmse = {}\n",
    "        regSig = {}\n",
    "        xVars = varsForReg.xs(key=(niin,wic,macom)) \n",
    "        yActual = section.QTY\n",
    "        for vars in xVars:\n",
    "            xVarData = section[[v for v in vars]]\n",
    "            xVarData = sm.add_constant(xVarData)\n",
    "            equations[vars] = sm.OLS(yActual,xVarData,hasconst=True).fit()\n",
    "            predictions[vars] = equations[vars].predict()\n",
    "            numVars = len(vars)\n",
    "            coefficients[vars] = equations[vars].params\n",
    "            regSig[vars] = equations[vars].f_pvalue\n",
    "            r2_adj[vars] = equations[vars].rsquared_adj\n",
    "            per_rmse[vars] = perc_rmse(predictions[vars],yActual)\n",
    "            \n",
    "            if r2_adj[vars] > 0.70 and per_rmse[vars] < 0.30:\n",
    "                best_LR[vars] = len(vars)\n",
    "\n",
    "        if len(best_LR) == 1:\n",
    "            for key in best_LR:\n",
    "                best_lr = next(iter(best_LR))\n",
    "                \n",
    "        highest_r2Adj = max(r2_adj,key=r2_adj.get) if len(r2_adj) >= 1 else 'NA'\n",
    "        \n",
    "        if len(best_LR) == 0:\n",
    "            best_lr = highest_r2Adj\n",
    "\n",
    "        if len(best_LR) > 1:\n",
    "            simplestEquation = min(best_LR.values())\n",
    "            best_LR = {k: best_LR[k] for k in best_LR if best_LR[k] == simplestEquation}\n",
    "            best_lr = next(iter(best_LR))\n",
    "        \n",
    "        best_LR = best_lr\n",
    "        section.lrPred = predictions[best_LR] if best_LR != 'NA' else 0\n",
    "\n",
    "    #2) add in 2017 (we'll make a 2017 prediction for regresstion later)   \n",
    "    \n",
    "    Pred = pd.DataFrame(columns=section.columns.values)\n",
    "    Pred.loc[0,'NIIN'] = section.NIIN.unique()[0]\n",
    "    Pred.loc[0,'WIC'] = section.WIC.unique()[0]\n",
    "    Pred.loc[0,'MACOM'] = section.MACOM.unique()[0]\n",
    "    Pred.loc[0,'FY'] = 'Pred'\n",
    "\n",
    "    Pred = Pred.set_index(['NIIN','WIC','MACOM'],drop=False)\n",
    "\n",
    "    section = section.append(Pred)    \n",
    "        \n",
    "    #4) Make predictions for QTY, OPTEMPO, ATR, PPS, PPO\n",
    "    \n",
    "    MA_Results = {}\n",
    "    MA_score = {}\n",
    "    \n",
    "    #QTY \n",
    "    predictions['QTY_3SMA'] = section['QTY'].rolling(3).mean().shift() #pd.rolling_mean(section['QTY'],window=3).shift()\n",
    "    predictions['QTY_4SMA'] = section['QTY'].rolling(4).mean().shift() #pd.rolling_mean(section['QTY'],window=4).shift()\n",
    "    predictions['QTY_5SMA'] = section['QTY'].rolling(5).mean().shift() #pd.rolling_mean(section['QTY'],window=5).shift()\n",
    "    predictions['QTY_EXMA'] = section['QTY'].ewm(span=len(section['QTY']),ignore_na=True).mean().shift() #pd.ewma(section['QTY'],span=len(section['QTY'])).shift()\n",
    "    MA_score['QTY_3SMA'] = perc_rmse(predictions['QTY_3SMA'],section['QTY'])/MA_Years['3SMA_NP']\n",
    "    MA_score['QTY_4SMA'] = perc_rmse(predictions['QTY_4SMA'],section['QTY'])/MA_Years['4SMA_NP']\n",
    "    MA_score['QTY_5SMA'] = perc_rmse(predictions['QTY_5SMA'],section['QTY'])/MA_Years['5SMA_NP']\n",
    "    MA_score['QTY_EXMA'] = perc_rmse(predictions['QTY_EXMA'],section['QTY'])/MA_Years['EXMA_NP']\n",
    "    \n",
    "    #PPS \n",
    "    predictions['PPS_3SMA'] = section['PPS'].rolling(3).mean().shift() #pd.rolling_mean(section['PPS'],window=3).shift()\n",
    "    predictions['PPS_4SMA'] = section['PPS'].rolling(4).mean().shift() #pd.rolling_mean(section['PPS'],window=4).shift()\n",
    "    predictions['PPS_5SMA'] = section['PPS'].rolling(5).mean().shift() #pd.rolling_mean(section['PPS'],window=5).shift()\n",
    "    predictions['PPS_EXMA'] = section['PPS'].ewm(span=len(section['PPS']),ignore_na=True).mean().shift() #pd.ewma(section['PPS'],span=len(section['PPS'])).shift()\n",
    "    MA_score['PPS_3SMA'] = perc_rmse(predictions['PPS_3SMA'],section['PPS'])/MA_Years['3SMA_NP']\n",
    "    MA_score['PPS_4SMA'] = perc_rmse(predictions['PPS_4SMA'],section['PPS'])/MA_Years['4SMA_NP']\n",
    "    MA_score['PPS_5SMA'] = perc_rmse(predictions['PPS_5SMA'],section['PPS'])/MA_Years['5SMA_NP']\n",
    "    MA_score['PPS_EXMA'] = perc_rmse(predictions['PPS_EXMA'],section['PPS'])/MA_Years['EXMA_NP']\n",
    "    \n",
    "    if cf_basis != 'SYSTEM':\n",
    "        #ATR\n",
    "        predictions['ATR_3SMA'] = section['ATR'].rolling(3).mean().shift() #pd.rolling_mean(section['ATR'],window=3).shift()\n",
    "        predictions['ATR_4SMA'] = section['ATR'].rolling(4).mean().shift() #pd.rolling_mean(section['ATR'],window=4).shift()\n",
    "        predictions['ATR_5SMA'] = section['ATR'].rolling(5).mean().shift() #pd.rolling_mean(section['ATR'],window=5).shift()\n",
    "        predictions['ATR_EXMA'] = section['ATR'].ewm(span=len(section['ATR']),ignore_na=True).mean().shift() #pd.ewma(section['ATR'],span=len(section['ATR'])).shift()\n",
    "        MA_score['ATR_3SMA'] = perc_rmse(predictions['ATR_3SMA'],section['ATR'])/MA_Years['3SMA_NP']\n",
    "        MA_score['ATR_4SMA'] = perc_rmse(predictions['ATR_4SMA'],section['ATR'])/MA_Years['4SMA_NP']\n",
    "        MA_score['ATR_5SMA'] = perc_rmse(predictions['ATR_5SMA'],section['ATR'])/MA_Years['5SMA_NP']\n",
    "        MA_score['ATR_EXMA'] = perc_rmse(predictions['ATR_EXMA'],section['ATR'])/MA_Years['EXMA_NP']\n",
    "\n",
    "        #PPO\n",
    "        predictions['PPO_3SMA'] = section['PPO'].rolling(3).mean().shift() #pd.rolling_mean(section['PPO'],window=3).shift()\n",
    "        predictions['PPO_4SMA'] = section['PPO'].rolling(4).mean().shift() #pd.rolling_mean(section['PPO'],window=4).shift()\n",
    "        predictions['PPO_5SMA'] = section['PPO'].rolling(5).mean().shift() #pd.rolling_mean(section['PPO],window=5).shift()\n",
    "        predictions['PPO_EXMA'] = section['PPO'].ewm(span=len(section['PPO']),ignore_na=True).mean().shift() #pd.ewma(section['PPO'],span=len(section['PPO'])).shift()\n",
    "        MA_score['PPO_3SMA'] = perc_rmse(predictions['PPO_3SMA'],section['PPO'])/MA_Years['3SMA_NP']\n",
    "        MA_score['PPO_4SMA'] = perc_rmse(predictions['PPO_4SMA'],section['PPO'])/MA_Years['4SMA_NP']\n",
    "        MA_score['PPO_5SMA'] = perc_rmse(predictions['PPO_5SMA'],section['PPO'])/MA_Years['5SMA_NP']\n",
    "        MA_score['PPO_EXMA'] = perc_rmse(predictions['PPO_EXMA'],section['PPO'])/MA_Years['EXMA_NP'] \n",
    "\n",
    "    MA_score = {k: MA_score[k] for k in MA_score if not isnan(MA_score[k])}\n",
    "    \n",
    "    #5) Get the last known point of the QTY\n",
    "    LKP = section.QTY.iloc[sampleSize-1]\n",
    "    \n",
    "    #6) Choose the best for all types of predictions and store the info\n",
    "    \n",
    "    best_MA = min(MA_score,key=MA_score.get) if len(MA_score) >= 1 else 'NA'\n",
    "    \n",
    "    #7) Populate both files with information from models selected in step 5\n",
    "    \n",
    "    #Predictions file\n",
    "    section.maPred = predictions[best_MA] if best_MA != 'NA' else 0\n",
    "    \n",
    "    #bestModel File\n",
    "    row = bestModelRow.loc\n",
    "    row[0,'NIIN'] = niin\n",
    "    row[0,'WIC'] = wic\n",
    "    row[0,'MACOM'] = macom\n",
    "    row[0,'SYSTEMTYPE'] = cf_basis\n",
    "    \n",
    "    row[0,'MA_type'] = best_MA[4:]\n",
    "    row[0,'MA_var'] = best_MA[:3]\n",
    "    row[0,'MA_score'] = MA_score[best_MA] if best_MA != 'NA' else 'NA'   \n",
    "    \n",
    "    if sampleSize >= 3:\n",
    "        row[0,'r2_adj'] = r2_adj[best_LR]\n",
    "        row[0,'per_rmse'] = per_rmse[best_LR]\n",
    "        row[0,'intercept'] = coefficients[best_LR][0]\n",
    "        if coefficients[best_LR].index[0] != 'const':\n",
    "            print(xVarData)\n",
    "            section.to_csv('constProb.csv')\n",
    "        row[0,'x1_name'] = coefficients[best_LR].index[1] \n",
    "        row[0,'x1_coef'] = coefficients[best_LR][1]\n",
    "        if len(best_LR) > 2:\n",
    "            row[0,'x2_name'] = coefficients[best_LR].index[2]\n",
    "            row[0,'x2_coef'] = coefficients[best_LR][2]\n",
    "        row[0,'reg_sig'] = regSig[best_LR]\n",
    "\n",
    "    row[0,'sampleSize'] = sampleSize\n",
    "    row[0,'LKP'] = LKP\n",
    "\n",
    "    #Selecting the prefered approach\n",
    "    if sampleSize >= 3 and row[0,'r2_adj'] > 0.70 and row[0,'per_rmse'] < 0.30: # choose regression if adj r2 is above .70 AND % rmse is below .30\n",
    "        row[0,'best_approach'] = 'LR'\n",
    "        row[0,'numPreds'] = len(section.lrPred)\n",
    "        \n",
    "    elif row[0,'MA_score'] != 'NA' and row[0,'MA_score'] < 0.10: # if it didn't choose regression, choose MA if the % rmse/pred is below 0.30\n",
    "        row[0,'best_approach'] = 'MA'\n",
    "        row[0,'numPreds'] = len(section.maPred)\n",
    "\n",
    "    else:\n",
    "        row[0,'best_approach'] = 'LKP'\n",
    "        row[0,'numPreds'] = 1 \n",
    "           \n",
    "    #append that bm row to the mama df\n",
    "    bestModel = bestModel.append(bestModelRow)\n",
    "     \n",
    "    results = [section,bestModel]\n",
    "    return results\n",
    "\n",
    "Predictions2 = Predictions.groupby(level=[0,1,2],sort=False).apply(lambda x: makePredictions(x))"
   ]
  },
  {
   "cell_type": "code",
   "execution_count": 169,
   "metadata": {},
   "outputs": [
    {
     "name": "stdout",
     "output_type": "stream",
     "text": [
      "time: 6min 30s\n"
     ]
    }
   ],
   "source": [
    "#Process output to csv files\n",
    "PredictionsOutput = pd.DataFrame(None,columns=Predictions.columns.values)\n",
    "bestModelOutput = pd.DataFrame(None,columns=bmColumns)\n",
    "\n",
    "for result in Predictions2:\n",
    "    PredictionsOutput = PredictionsOutput.append(result[0])\n",
    "    bestModelOutput = bestModelOutput.append(result[1])\n",
    "\n",
    "PredictionsOutput.key = PredictionsOutput.NIIN.astype(str)+'_'+PredictionsOutput.WIC.astype(str)+'_'+PredictionsOutput.MACOM\n",
    "bestModelOutput.key = bestModelOutput.NIIN.astype(str)+'_'+bestModelOutput.WIC.astype(str)+'_'+bestModelOutput.MACOM\n",
    "    \n",
    "PredictionsOutput = PredictionsOutput[['key','NIIN','WIC','MACOM','FY','ACTIVITY','DENSITY','OPTEMPO',\n",
    "                                       'ATR','PPS','PPO','QTY','lrPred','maPred']]  \n",
    "\n",
    "bestModelOutput = bestModelOutput[['key','NIIN','WIC','MACOM','SYSTEMTYPE',\n",
    "                                  'best_approach','r2_adj','per_rmse','intercept',\n",
    "                                  'x1_name', 'x2_name', 'x1_coef','x2_coef','reg_sig',\n",
    "                                  'MA_score','MA_type','MA_var','LKP','sampleSize', 'numPreds']]\n",
    "                                 \n",
    "PredictionsOutput.to_csv('Predictions071218.csv')\n",
    "bestModelOutput.to_csv('bestModel071218.csv')"
   ]
  },
  {
   "cell_type": "code",
   "execution_count": 170,
   "metadata": {},
   "outputs": [
    {
     "name": "stdout",
     "output_type": "stream",
     "text": [
      "TOTAL RUN TIME: 0:17:17.478419\n",
      "time: 2 ms\n"
     ]
    }
   ],
   "source": [
    "end = datetime.datetime.now()\n",
    "total_time = str(end-start)\n",
    "print('TOTAL RUN TIME:', total_time)"
   ]
  },
  {
   "cell_type": "code",
   "execution_count": null,
   "metadata": {},
   "outputs": [],
   "source": []
  }
 ],
 "metadata": {
  "kernelspec": {
   "display_name": "Python 3",
   "language": "python",
   "name": "python3"
  },
  "language_info": {
   "codemirror_mode": {
    "name": "ipython",
    "version": 3
   },
   "file_extension": ".py",
   "mimetype": "text/x-python",
   "name": "python",
   "nbconvert_exporter": "python",
   "pygments_lexer": "ipython3",
   "version": "3.6.4"
  }
 },
 "nbformat": 4,
 "nbformat_minor": 2
}
