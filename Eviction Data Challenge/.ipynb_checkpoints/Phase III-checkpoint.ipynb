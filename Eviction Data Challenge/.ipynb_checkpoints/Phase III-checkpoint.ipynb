{
 "cells": [
  {
   "cell_type": "markdown",
   "metadata": {},
   "source": [
    "# Phase III"
   ]
  },
  {
   "cell_type": "code",
   "execution_count": 15,
   "metadata": {},
   "outputs": [],
   "source": [
    "import gurobipy as grb\n",
    "import pandas as pd\n",
    "import sklearn.cluster"
   ]
  },
  {
   "cell_type": "code",
   "execution_count": 2,
   "metadata": {},
   "outputs": [],
   "source": [
    "data = pd.read_csv('Phase2_Data_raw.csv')"
   ]
  },
  {
   "cell_type": "code",
   "execution_count": 3,
   "metadata": {},
   "outputs": [],
   "source": [
    "data['full_name'] = data.name + \"-\" + data['parent-location']"
   ]
  },
  {
   "cell_type": "code",
   "execution_count": 4,
   "metadata": {},
   "outputs": [
    {
     "data": {
      "text/html": [
       "<div>\n",
       "<style>\n",
       "    .dataframe thead tr:only-child th {\n",
       "        text-align: right;\n",
       "    }\n",
       "\n",
       "    .dataframe thead th {\n",
       "        text-align: left;\n",
       "    }\n",
       "\n",
       "    .dataframe tbody tr th {\n",
       "        vertical-align: top;\n",
       "    }\n",
       "</style>\n",
       "<table border=\"1\" class=\"dataframe\">\n",
       "  <thead>\n",
       "    <tr style=\"text-align: right;\">\n",
       "      <th></th>\n",
       "      <th>Unnamed: 0</th>\n",
       "      <th>Unnamed: 0.1</th>\n",
       "      <th>GEOID</th>\n",
       "      <th>year</th>\n",
       "      <th>name</th>\n",
       "      <th>parent-location</th>\n",
       "      <th>population</th>\n",
       "      <th>poverty-rate</th>\n",
       "      <th>pct-renter-occupied</th>\n",
       "      <th>median-gross-rent</th>\n",
       "      <th>...</th>\n",
       "      <th>pct-other</th>\n",
       "      <th>renter-occupied-households</th>\n",
       "      <th>eviction-filings</th>\n",
       "      <th>evictions</th>\n",
       "      <th>eviction-rate</th>\n",
       "      <th>eviction-filing-rate</th>\n",
       "      <th>low-flag</th>\n",
       "      <th>imputed</th>\n",
       "      <th>subbed</th>\n",
       "      <th>full_name</th>\n",
       "    </tr>\n",
       "  </thead>\n",
       "  <tbody>\n",
       "    <tr>\n",
       "      <th>0</th>\n",
       "      <td>0</td>\n",
       "      <td>17</td>\n",
       "      <td>1001</td>\n",
       "      <td>2000</td>\n",
       "      <td>Autauga County</td>\n",
       "      <td>Alabama</td>\n",
       "      <td>43671</td>\n",
       "      <td>10.92</td>\n",
       "      <td>19.21</td>\n",
       "      <td>537.0</td>\n",
       "      <td>...</td>\n",
       "      <td>0.10</td>\n",
       "      <td>3074</td>\n",
       "      <td>61.0</td>\n",
       "      <td>40.0</td>\n",
       "      <td>1.30</td>\n",
       "      <td>1.98</td>\n",
       "      <td>0</td>\n",
       "      <td>0</td>\n",
       "      <td>1</td>\n",
       "      <td>Autauga County-Alabama</td>\n",
       "    </tr>\n",
       "    <tr>\n",
       "      <th>1</th>\n",
       "      <td>1</td>\n",
       "      <td>18</td>\n",
       "      <td>1003</td>\n",
       "      <td>2000</td>\n",
       "      <td>Baldwin County</td>\n",
       "      <td>Alabama</td>\n",
       "      <td>140415</td>\n",
       "      <td>10.15</td>\n",
       "      <td>20.46</td>\n",
       "      <td>566.0</td>\n",
       "      <td>...</td>\n",
       "      <td>0.07</td>\n",
       "      <td>11320</td>\n",
       "      <td>213.0</td>\n",
       "      <td>65.0</td>\n",
       "      <td>0.57</td>\n",
       "      <td>1.88</td>\n",
       "      <td>0</td>\n",
       "      <td>0</td>\n",
       "      <td>1</td>\n",
       "      <td>Baldwin County-Alabama</td>\n",
       "    </tr>\n",
       "    <tr>\n",
       "      <th>2</th>\n",
       "      <td>2</td>\n",
       "      <td>19</td>\n",
       "      <td>1005</td>\n",
       "      <td>2000</td>\n",
       "      <td>Barbour County</td>\n",
       "      <td>Alabama</td>\n",
       "      <td>29038</td>\n",
       "      <td>26.80</td>\n",
       "      <td>26.87</td>\n",
       "      <td>333.0</td>\n",
       "      <td>...</td>\n",
       "      <td>0.01</td>\n",
       "      <td>2797</td>\n",
       "      <td>15.0</td>\n",
       "      <td>11.0</td>\n",
       "      <td>0.39</td>\n",
       "      <td>0.54</td>\n",
       "      <td>0</td>\n",
       "      <td>0</td>\n",
       "      <td>0</td>\n",
       "      <td>Barbour County-Alabama</td>\n",
       "    </tr>\n",
       "    <tr>\n",
       "      <th>3</th>\n",
       "      <td>3</td>\n",
       "      <td>20</td>\n",
       "      <td>1007</td>\n",
       "      <td>2000</td>\n",
       "      <td>Bibb County</td>\n",
       "      <td>Alabama</td>\n",
       "      <td>20826</td>\n",
       "      <td>20.61</td>\n",
       "      <td>19.81</td>\n",
       "      <td>348.0</td>\n",
       "      <td>...</td>\n",
       "      <td>0.00</td>\n",
       "      <td>1470</td>\n",
       "      <td>13.0</td>\n",
       "      <td>8.0</td>\n",
       "      <td>0.54</td>\n",
       "      <td>0.88</td>\n",
       "      <td>0</td>\n",
       "      <td>0</td>\n",
       "      <td>0</td>\n",
       "      <td>Bibb County-Alabama</td>\n",
       "    </tr>\n",
       "    <tr>\n",
       "      <th>4</th>\n",
       "      <td>4</td>\n",
       "      <td>21</td>\n",
       "      <td>1009</td>\n",
       "      <td>2000</td>\n",
       "      <td>Blount County</td>\n",
       "      <td>Alabama</td>\n",
       "      <td>51024</td>\n",
       "      <td>11.74</td>\n",
       "      <td>16.56</td>\n",
       "      <td>385.0</td>\n",
       "      <td>...</td>\n",
       "      <td>0.03</td>\n",
       "      <td>3190</td>\n",
       "      <td>NaN</td>\n",
       "      <td>NaN</td>\n",
       "      <td>NaN</td>\n",
       "      <td>NaN</td>\n",
       "      <td>0</td>\n",
       "      <td>0</td>\n",
       "      <td>0</td>\n",
       "      <td>Blount County-Alabama</td>\n",
       "    </tr>\n",
       "  </tbody>\n",
       "</table>\n",
       "<p>5 rows × 30 columns</p>\n",
       "</div>"
      ],
      "text/plain": [
       "   Unnamed: 0  Unnamed: 0.1  GEOID  year            name parent-location  \\\n",
       "0           0            17   1001  2000  Autauga County         Alabama   \n",
       "1           1            18   1003  2000  Baldwin County         Alabama   \n",
       "2           2            19   1005  2000  Barbour County         Alabama   \n",
       "3           3            20   1007  2000     Bibb County         Alabama   \n",
       "4           4            21   1009  2000   Blount County         Alabama   \n",
       "\n",
       "   population  poverty-rate  pct-renter-occupied  median-gross-rent  \\\n",
       "0       43671         10.92                19.21              537.0   \n",
       "1      140415         10.15                20.46              566.0   \n",
       "2       29038         26.80                26.87              333.0   \n",
       "3       20826         20.61                19.81              348.0   \n",
       "4       51024         11.74                16.56              385.0   \n",
       "\n",
       "            ...            pct-other  renter-occupied-households  \\\n",
       "0           ...                 0.10                        3074   \n",
       "1           ...                 0.07                       11320   \n",
       "2           ...                 0.01                        2797   \n",
       "3           ...                 0.00                        1470   \n",
       "4           ...                 0.03                        3190   \n",
       "\n",
       "   eviction-filings  evictions  eviction-rate  eviction-filing-rate  low-flag  \\\n",
       "0              61.0       40.0           1.30                  1.98         0   \n",
       "1             213.0       65.0           0.57                  1.88         0   \n",
       "2              15.0       11.0           0.39                  0.54         0   \n",
       "3              13.0        8.0           0.54                  0.88         0   \n",
       "4               NaN        NaN            NaN                   NaN         0   \n",
       "\n",
       "   imputed  subbed               full_name  \n",
       "0        0       1  Autauga County-Alabama  \n",
       "1        0       1  Baldwin County-Alabama  \n",
       "2        0       0  Barbour County-Alabama  \n",
       "3        0       0     Bibb County-Alabama  \n",
       "4        0       0   Blount County-Alabama  \n",
       "\n",
       "[5 rows x 30 columns]"
      ]
     },
     "execution_count": 4,
     "metadata": {},
     "output_type": "execute_result"
    }
   ],
   "source": [
    "data.head()"
   ]
  },
  {
   "cell_type": "code",
   "execution_count": 5,
   "metadata": {},
   "outputs": [],
   "source": [
    "data_used = data[data.year==data.year.max()]"
   ]
  },
  {
   "cell_type": "code",
   "execution_count": 6,
   "metadata": {},
   "outputs": [],
   "source": [
    "data_used = data_used[['full_name','parent-location','eviction-rate','rent-burden','poverty-rate','pct-renter-occupied']]"
   ]
  },
  {
   "cell_type": "code",
   "execution_count": 7,
   "metadata": {},
   "outputs": [
    {
     "data": {
      "text/html": [
       "<div>\n",
       "<style>\n",
       "    .dataframe thead tr:only-child th {\n",
       "        text-align: right;\n",
       "    }\n",
       "\n",
       "    .dataframe thead th {\n",
       "        text-align: left;\n",
       "    }\n",
       "\n",
       "    .dataframe tbody tr th {\n",
       "        vertical-align: top;\n",
       "    }\n",
       "</style>\n",
       "<table border=\"1\" class=\"dataframe\">\n",
       "  <thead>\n",
       "    <tr style=\"text-align: right;\">\n",
       "      <th></th>\n",
       "      <th>full_name</th>\n",
       "      <th>parent-location</th>\n",
       "      <th>eviction-rate</th>\n",
       "      <th>rent-burden</th>\n",
       "      <th>poverty-rate</th>\n",
       "      <th>pct-renter-occupied</th>\n",
       "    </tr>\n",
       "  </thead>\n",
       "  <tbody>\n",
       "    <tr>\n",
       "      <th>1072</th>\n",
       "      <td>Autauga County-Alabama</td>\n",
       "      <td>Alabama</td>\n",
       "      <td>2.16</td>\n",
       "      <td>32.8</td>\n",
       "      <td>9.28</td>\n",
       "      <td>26.08</td>\n",
       "    </tr>\n",
       "    <tr>\n",
       "      <th>1073</th>\n",
       "      <td>Baldwin County-Alabama</td>\n",
       "      <td>Alabama</td>\n",
       "      <td>2.11</td>\n",
       "      <td>30.3</td>\n",
       "      <td>9.63</td>\n",
       "      <td>28.48</td>\n",
       "    </tr>\n",
       "    <tr>\n",
       "      <th>1074</th>\n",
       "      <td>Barbour County-Alabama</td>\n",
       "      <td>Alabama</td>\n",
       "      <td>0.63</td>\n",
       "      <td>30.3</td>\n",
       "      <td>19.54</td>\n",
       "      <td>36.41</td>\n",
       "    </tr>\n",
       "    <tr>\n",
       "      <th>1075</th>\n",
       "      <td>Bibb County-Alabama</td>\n",
       "      <td>Alabama</td>\n",
       "      <td>0.86</td>\n",
       "      <td>26.9</td>\n",
       "      <td>12.84</td>\n",
       "      <td>24.89</td>\n",
       "    </tr>\n",
       "    <tr>\n",
       "      <th>1076</th>\n",
       "      <td>Blount County-Alabama</td>\n",
       "      <td>Alabama</td>\n",
       "      <td>1.03</td>\n",
       "      <td>26.1</td>\n",
       "      <td>12.26</td>\n",
       "      <td>21.10</td>\n",
       "    </tr>\n",
       "  </tbody>\n",
       "</table>\n",
       "</div>"
      ],
      "text/plain": [
       "                   full_name parent-location  eviction-rate  rent-burden  \\\n",
       "1072  Autauga County-Alabama         Alabama           2.16         32.8   \n",
       "1073  Baldwin County-Alabama         Alabama           2.11         30.3   \n",
       "1074  Barbour County-Alabama         Alabama           0.63         30.3   \n",
       "1075     Bibb County-Alabama         Alabama           0.86         26.9   \n",
       "1076   Blount County-Alabama         Alabama           1.03         26.1   \n",
       "\n",
       "      poverty-rate  pct-renter-occupied  \n",
       "1072          9.28                26.08  \n",
       "1073          9.63                28.48  \n",
       "1074         19.54                36.41  \n",
       "1075         12.84                24.89  \n",
       "1076         12.26                21.10  "
      ]
     },
     "execution_count": 7,
     "metadata": {},
     "output_type": "execute_result"
    }
   ],
   "source": [
    "data_used.head()"
   ]
  },
  {
   "cell_type": "code",
   "execution_count": 8,
   "metadata": {},
   "outputs": [
    {
     "data": {
      "text/html": [
       "<div>\n",
       "<style>\n",
       "    .dataframe thead tr:only-child th {\n",
       "        text-align: right;\n",
       "    }\n",
       "\n",
       "    .dataframe thead th {\n",
       "        text-align: left;\n",
       "    }\n",
       "\n",
       "    .dataframe tbody tr th {\n",
       "        vertical-align: top;\n",
       "    }\n",
       "</style>\n",
       "<table border=\"1\" class=\"dataframe\">\n",
       "  <thead>\n",
       "    <tr style=\"text-align: right;\">\n",
       "      <th></th>\n",
       "      <th>full_name</th>\n",
       "      <th>parent-location</th>\n",
       "      <th>eviction-rate</th>\n",
       "      <th>rent-burden</th>\n",
       "      <th>poverty-rate</th>\n",
       "      <th>pct-renter-occupied</th>\n",
       "    </tr>\n",
       "  </thead>\n",
       "  <tbody>\n",
       "    <tr>\n",
       "      <th>1072</th>\n",
       "      <td>Autauga County-Alabama</td>\n",
       "      <td>Alabama</td>\n",
       "      <td>2.16</td>\n",
       "      <td>32.8</td>\n",
       "      <td>9.28</td>\n",
       "      <td>26.08</td>\n",
       "    </tr>\n",
       "    <tr>\n",
       "      <th>1073</th>\n",
       "      <td>Baldwin County-Alabama</td>\n",
       "      <td>Alabama</td>\n",
       "      <td>2.11</td>\n",
       "      <td>30.3</td>\n",
       "      <td>9.63</td>\n",
       "      <td>28.48</td>\n",
       "    </tr>\n",
       "    <tr>\n",
       "      <th>1074</th>\n",
       "      <td>Barbour County-Alabama</td>\n",
       "      <td>Alabama</td>\n",
       "      <td>0.63</td>\n",
       "      <td>30.3</td>\n",
       "      <td>19.54</td>\n",
       "      <td>36.41</td>\n",
       "    </tr>\n",
       "    <tr>\n",
       "      <th>1075</th>\n",
       "      <td>Bibb County-Alabama</td>\n",
       "      <td>Alabama</td>\n",
       "      <td>0.86</td>\n",
       "      <td>26.9</td>\n",
       "      <td>12.84</td>\n",
       "      <td>24.89</td>\n",
       "    </tr>\n",
       "    <tr>\n",
       "      <th>1076</th>\n",
       "      <td>Blount County-Alabama</td>\n",
       "      <td>Alabama</td>\n",
       "      <td>1.03</td>\n",
       "      <td>26.1</td>\n",
       "      <td>12.26</td>\n",
       "      <td>21.10</td>\n",
       "    </tr>\n",
       "  </tbody>\n",
       "</table>\n",
       "</div>"
      ],
      "text/plain": [
       "                   full_name parent-location  eviction-rate  rent-burden  \\\n",
       "1072  Autauga County-Alabama         Alabama           2.16         32.8   \n",
       "1073  Baldwin County-Alabama         Alabama           2.11         30.3   \n",
       "1074  Barbour County-Alabama         Alabama           0.63         30.3   \n",
       "1075     Bibb County-Alabama         Alabama           0.86         26.9   \n",
       "1076   Blount County-Alabama         Alabama           1.03         26.1   \n",
       "\n",
       "      poverty-rate  pct-renter-occupied  \n",
       "1072          9.28                26.08  \n",
       "1073          9.63                28.48  \n",
       "1074         19.54                36.41  \n",
       "1075         12.84                24.89  \n",
       "1076         12.26                21.10  "
      ]
     },
     "execution_count": 8,
     "metadata": {},
     "output_type": "execute_result"
    }
   ],
   "source": [
    "data_used.head()"
   ]
  },
  {
   "cell_type": "code",
   "execution_count": 9,
   "metadata": {},
   "outputs": [
    {
     "data": {
      "text/html": [
       "<div>\n",
       "<style>\n",
       "    .dataframe thead tr:only-child th {\n",
       "        text-align: right;\n",
       "    }\n",
       "\n",
       "    .dataframe thead th {\n",
       "        text-align: left;\n",
       "    }\n",
       "\n",
       "    .dataframe tbody tr th {\n",
       "        vertical-align: top;\n",
       "    }\n",
       "</style>\n",
       "<table border=\"1\" class=\"dataframe\">\n",
       "  <thead>\n",
       "    <tr style=\"text-align: right;\">\n",
       "      <th></th>\n",
       "      <th>full_name</th>\n",
       "      <th>parent-location</th>\n",
       "      <th>eviction-rate</th>\n",
       "      <th>rent-burden</th>\n",
       "      <th>poverty-rate</th>\n",
       "      <th>pct-renter-occupied</th>\n",
       "    </tr>\n",
       "  </thead>\n",
       "  <tbody>\n",
       "    <tr>\n",
       "      <th>39164</th>\n",
       "      <td>Shannon County-South Dakota</td>\n",
       "      <td>South Dakota</td>\n",
       "      <td>NaN</td>\n",
       "      <td>19.3</td>\n",
       "      <td>45.38</td>\n",
       "      <td>47.32</td>\n",
       "    </tr>\n",
       "  </tbody>\n",
       "</table>\n",
       "</div>"
      ],
      "text/plain": [
       "                         full_name parent-location  eviction-rate  \\\n",
       "39164  Shannon County-South Dakota    South Dakota            NaN   \n",
       "\n",
       "       rent-burden  poverty-rate  pct-renter-occupied  \n",
       "39164         19.3         45.38                47.32  "
      ]
     },
     "execution_count": 9,
     "metadata": {},
     "output_type": "execute_result"
    }
   ],
   "source": [
    "data_used[data_used['poverty-rate']==data_used['poverty-rate'].max()]"
   ]
  },
  {
   "cell_type": "code",
   "execution_count": 10,
   "metadata": {},
   "outputs": [],
   "source": [
    "data_used = data_used.fillna(0)"
   ]
  },
  {
   "cell_type": "markdown",
   "metadata": {},
   "source": [
    "# Clustering Analysis"
   ]
  },
  {
   "cell_type": "code",
   "execution_count": 11,
   "metadata": {},
   "outputs": [],
   "source": [
    "# i'm not sure if I actually want/need to do this"
   ]
  },
  {
   "cell_type": "code",
   "execution_count": 18,
   "metadata": {},
   "outputs": [],
   "source": [
    "cluster = sklearn.cluster.KMeans(n_clusters=3).fit(data_used[['rent-burden','poverty-rate','pct-renter-occupied']]).predict(data_used[['rent-burden','poverty-rate','pct-renter-occupied']])"
   ]
  },
  {
   "cell_type": "code",
   "execution_count": 19,
   "metadata": {},
   "outputs": [
    {
     "data": {
      "image/png": "[encoded data removed]",
      "text/plain": [
       "<matplotlib.figure.Figure at 0x238f50bb668>"
      ]
     },
     "metadata": {},
     "output_type": "display_data"
    }
   ],
   "source": [
    "from mpl_toolkits.mplot3d import Axes3D\n",
    "import matplotlib.pyplot as plt\n",
    "import numpy as np\n",
    "\n",
    "\n",
    "def randrange(n, vmin, vmax):\n",
    "    '''\n",
    "    Helper function to make an array of random numbers having shape (n, )\n",
    "    with each number distributed Uniform(vmin, vmax).\n",
    "    '''\n",
    "    return (vmax - vmin)*np.random.rand(n) + vmin\n",
    "\n",
    "fig = plt.figure()\n",
    "ax = fig.add_subplot(111, projection='3d')\n",
    "\n",
    "n = 100\n",
    "\n",
    "# For each set of style and range settings, plot n random points in the box\n",
    "# defined by x in [23, 32], y in [0, 100], z in [zlow, zhigh].\n",
    "#for c, m, zlow, zhigh in [('r', 'o', -50, -25), ('b', '^', -30, -5)]:\n",
    "xs = data_used['rent-burden']\n",
    "ys = data_used['poverty-rate']\n",
    "zs = data_used['pct-renter-occupied']\n",
    "ax.scatter(xs, ys, zs,c=cluster)\n",
    "\n",
    "ax.set_xlabel('rent-burden')\n",
    "ax.set_ylabel('poverty-rate')\n",
    "ax.set_zlabel('pct-renter-occupied')\n",
    "\n",
    "plt.show()"
   ]
  },
  {
   "cell_type": "markdown",
   "metadata": {},
   "source": [
    "# Funding allocation model"
   ]
  },
  {
   "cell_type": "code",
   "execution_count": 20,
   "metadata": {},
   "outputs": [],
   "source": [
    "m = grb.Model('policyDecisions')"
   ]
  },
  {
   "cell_type": "code",
   "execution_count": 21,
   "metadata": {},
   "outputs": [],
   "source": [
    "data = data_used"
   ]
  },
  {
   "cell_type": "code",
   "execution_count": 22,
   "metadata": {},
   "outputs": [],
   "source": [
    "counties = data.full_name.unique()"
   ]
  },
  {
   "cell_type": "code",
   "execution_count": 23,
   "metadata": {},
   "outputs": [],
   "source": [
    "policyTypes = ['poverty-rate','rent-burden','pct-renter-occupied']"
   ]
  },
  {
   "cell_type": "code",
   "execution_count": 24,
   "metadata": {},
   "outputs": [],
   "source": [
    "TotalDollars = 1000000"
   ]
  },
  {
   "cell_type": "code",
   "execution_count": 25,
   "metadata": {},
   "outputs": [],
   "source": [
    "slope = {'poverty-rate':2,'rent-burden':3,'pct-renter-occupied':4}"
   ]
  },
  {
   "cell_type": "markdown",
   "metadata": {},
   "source": [
    "### Decision variables"
   ]
  },
  {
   "cell_type": "code",
   "execution_count": 26,
   "metadata": {},
   "outputs": [],
   "source": [
    "dollarsAllocated_p = m.addVars(policyTypes,lb=0.0,vtype=grb.GRB.CONTINUOUS)"
   ]
  },
  {
   "cell_type": "code",
   "execution_count": 27,
   "metadata": {},
   "outputs": [],
   "source": [
    "dollarsAllocated_cp = m.addVars(counties,policyTypes,lb=0.0, vtype=grb.GRB.CONTINUOUS)#,name='dollarsAllocated')"
   ]
  },
  {
   "cell_type": "code",
   "execution_count": 28,
   "metadata": {},
   "outputs": [],
   "source": [
    "expEvicRate_c = m.addVars(counties,lb=0.0,vtype=grb.GRB.CONTINUOUS)"
   ]
  },
  {
   "cell_type": "code",
   "execution_count": 29,
   "metadata": {},
   "outputs": [],
   "source": [
    "impact = m.addVars(counties,lb=0.0,vtype=grb.GRB.CONTINUOUS)"
   ]
  },
  {
   "cell_type": "markdown",
   "metadata": {},
   "source": [
    "### Objective(s)"
   ]
  },
  {
   "cell_type": "code",
   "execution_count": 30,
   "metadata": {},
   "outputs": [],
   "source": [
    "m.setObjective(grb.quicksum(impact[c] for c in counties),grb.GRB.MAXIMIZE)"
   ]
  },
  {
   "cell_type": "markdown",
   "metadata": {},
   "source": [
    "### Constraints"
   ]
  },
  {
   "cell_type": "code",
   "execution_count": 31,
   "metadata": {},
   "outputs": [],
   "source": [
    "#defineDelta = m.addConstrs((data['eviction-rate'][data.full_name==c].iloc[0] - expEvicRate_c[c] == delta_c[c] for c in counties),\"defineDelta\")"
   ]
  },
  {
   "cell_type": "code",
   "execution_count": 32,
   "metadata": {},
   "outputs": [],
   "source": [
    "calculateImpact = m.addConstrs((impact[c] == slope[p]*dollarsAllocated_cp[c,p] for c in counties for p in policyTypes),'calculateImpact')"
   ]
  },
  {
   "cell_type": "code",
   "execution_count": 40,
   "metadata": {},
   "outputs": [],
   "source": [
    "limitTotalSpending = m.addConstr((grb.quicksum(dollarsAllocated_cp[c,p] for c in counties for p in policyTypes) <= TotalDollars),'limitTotalSpending')"
   ]
  },
  {
   "cell_type": "markdown",
   "metadata": {},
   "source": [
    "### Output"
   ]
  },
  {
   "cell_type": "code",
   "execution_count": 41,
   "metadata": {},
   "outputs": [
    {
     "name": "stdout",
     "output_type": "stream",
     "text": [
      "Parameter DualReductions unchanged\n",
      "   Value: 0  Min: 0  Max: 1  Default: 1\n"
     ]
    }
   ],
   "source": [
    "m.params.DualReductions = 0"
   ]
  },
  {
   "cell_type": "code",
   "execution_count": 42,
   "metadata": {},
   "outputs": [
    {
     "name": "stdout",
     "output_type": "stream",
     "text": [
      "Optimize a model with 9427 rows, 15713 columns and 28278 nonzeros\n",
      "Coefficient statistics:\n",
      "  Matrix range     [1e+00, 4e+00]\n",
      "  Objective range  [1e+00, 1e+00]\n",
      "  Bounds range     [0e+00, 0e+00]\n",
      "  RHS range        [1e+06, 1e+06]\n",
      "Presolve removed 9426 rows and 9426 columns\n",
      "Presolve time: 0.03s\n",
      "Presolved: 1 rows, 6287 columns, 3142 nonzeros\n",
      "\n",
      "Iteration    Objective       Primal Inf.    Dual Inf.      Time\n",
      "       0    9.2307692e+05   0.000000e+00   0.000000e+00      0s\n",
      "       0    9.2307692e+05   0.000000e+00   0.000000e+00      0s\n",
      "\n",
      "Solved in 0 iterations and 0.05 seconds\n",
      "Optimal objective  9.230769231e+05\n",
      "2\n"
     ]
    }
   ],
   "source": [
    "m.optimize()\n",
    "print(m.getAttr('Status'))"
   ]
  },
  {
   "cell_type": "code",
   "execution_count": 46,
   "metadata": {},
   "outputs": [
    {
     "data": {
      "text/plain": [
       "923076.9230769232"
      ]
     },
     "execution_count": 46,
     "metadata": {},
     "output_type": "execute_result"
    }
   ],
   "source": [
    "m.getObjective().getValue()"
   ]
  },
  {
   "cell_type": "code",
   "execution_count": 50,
   "metadata": {},
   "outputs": [
    {
     "name": "stdout",
     "output_type": "stream",
     "text": [
      "Autauga County-Alabama poverty-rate 923076.9230769232 461538.4615384615\n",
      "Autauga County-Alabama rent-burden 923076.9230769232 307692.30769230775\n",
      "Autauga County-Alabama pct-renter-occupied 923076.9230769232 230769.2307692308\n"
     ]
    }
   ],
   "source": [
    "for c in counties:\n",
    "    for p in policyTypes:\n",
    "        if dollarsAllocated_cp[c,p].x>0:\n",
    "            print(c,p,impact[c].x,dollarsAllocated_cp[c,p].x)"
   ]
  },
  {
   "cell_type": "code",
   "execution_count": 45,
   "metadata": {},
   "outputs": [
    {
     "data": {
      "text/html": [
       "<div>\n",
       "<style>\n",
       "    .dataframe thead tr:only-child th {\n",
       "        text-align: right;\n",
       "    }\n",
       "\n",
       "    .dataframe thead th {\n",
       "        text-align: left;\n",
       "    }\n",
       "\n",
       "    .dataframe tbody tr th {\n",
       "        vertical-align: top;\n",
       "    }\n",
       "</style>\n",
       "<table border=\"1\" class=\"dataframe\">\n",
       "  <thead>\n",
       "    <tr style=\"text-align: right;\">\n",
       "      <th></th>\n",
       "      <th>full_name</th>\n",
       "      <th>parent-location</th>\n",
       "      <th>eviction-rate</th>\n",
       "      <th>rent-burden</th>\n",
       "      <th>poverty-rate</th>\n",
       "      <th>pct-renter-occupied</th>\n",
       "    </tr>\n",
       "  </thead>\n",
       "  <tbody>\n",
       "    <tr>\n",
       "      <th>1072</th>\n",
       "      <td>Autauga County-Alabama</td>\n",
       "      <td>Alabama</td>\n",
       "      <td>2.16</td>\n",
       "      <td>32.8</td>\n",
       "      <td>9.28</td>\n",
       "      <td>26.08</td>\n",
       "    </tr>\n",
       "  </tbody>\n",
       "</table>\n",
       "</div>"
      ],
      "text/plain": [
       "                   full_name parent-location  eviction-rate  rent-burden  \\\n",
       "1072  Autauga County-Alabama         Alabama           2.16         32.8   \n",
       "\n",
       "      poverty-rate  pct-renter-occupied  \n",
       "1072          9.28                26.08  "
      ]
     },
     "execution_count": 45,
     "metadata": {},
     "output_type": "execute_result"
    }
   ],
   "source": [
    "data[data.full_name=='Autauga County-Alabama']"
   ]
  },
  {
   "cell_type": "code",
   "execution_count": null,
   "metadata": {},
   "outputs": [],
   "source": []
  }
 ],
 "metadata": {
  "kernelspec": {
   "display_name": "Python 3",
   "language": "python",
   "name": "python3"
  },
  "language_info": {
   "codemirror_mode": {
    "name": "ipython",
    "version": 3
   },
   "file_extension": ".py",
   "mimetype": "text/x-python",
   "name": "python",
   "nbconvert_exporter": "python",
   "pygments_lexer": "ipython3",
   "version": "3.6.2"
  }
 },
 "nbformat": 4,
 "nbformat_minor": 2
}
