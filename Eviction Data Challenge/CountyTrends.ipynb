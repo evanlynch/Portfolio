{
 "cells": [
  {
   "cell_type": "code",
   "execution_count": 51,
   "metadata": {},
   "outputs": [],
   "source": [
    "import pandas as pd\n",
    "from matplotlib import *\n",
    "from pylab import *\n",
    "from scipy.stats import linregress"
   ]
  },
  {
   "cell_type": "code",
   "execution_count": 44,
   "metadata": {},
   "outputs": [],
   "source": [
    "df = pd.read_csv('officialData.csv')"
   ]
  },
  {
   "cell_type": "code",
   "execution_count": 45,
   "metadata": {},
   "outputs": [],
   "source": [
    "df = df[['full_name','year','eviction-rate']].sort_values(['full_name','year'])"
   ]
  },
  {
   "cell_type": "code",
   "execution_count": 46,
   "metadata": {},
   "outputs": [],
   "source": [
    "df = df.dropna()"
   ]
  },
  {
   "cell_type": "code",
   "execution_count": 47,
   "metadata": {},
   "outputs": [],
   "source": [
    "df = df[df.year>2011].set_index('full_name',drop=False)"
   ]
  },
  {
   "cell_type": "code",
   "execution_count": 48,
   "metadata": {},
   "outputs": [
    {
     "data": {
      "text/html": [
       "<div>\n",
       "<style>\n",
       "    .dataframe thead tr:only-child th {\n",
       "        text-align: right;\n",
       "    }\n",
       "\n",
       "    .dataframe thead th {\n",
       "        text-align: left;\n",
       "    }\n",
       "\n",
       "    .dataframe tbody tr th {\n",
       "        vertical-align: top;\n",
       "    }\n",
       "</style>\n",
       "<table border=\"1\" class=\"dataframe\">\n",
       "  <thead>\n",
       "    <tr style=\"text-align: right;\">\n",
       "      <th></th>\n",
       "      <th>full_name</th>\n",
       "      <th>year</th>\n",
       "      <th>eviction-rate</th>\n",
       "    </tr>\n",
       "    <tr>\n",
       "      <th>full_name</th>\n",
       "      <th></th>\n",
       "      <th></th>\n",
       "      <th></th>\n",
       "    </tr>\n",
       "  </thead>\n",
       "  <tbody>\n",
       "    <tr>\n",
       "      <th>Abbeville County-South Carolina</th>\n",
       "      <td>Abbeville County-South Carolina</td>\n",
       "      <td>2012</td>\n",
       "      <td>0.13</td>\n",
       "    </tr>\n",
       "    <tr>\n",
       "      <th>Abbeville County-South Carolina</th>\n",
       "      <td>Abbeville County-South Carolina</td>\n",
       "      <td>2013</td>\n",
       "      <td>2.47</td>\n",
       "    </tr>\n",
       "    <tr>\n",
       "      <th>Abbeville County-South Carolina</th>\n",
       "      <td>Abbeville County-South Carolina</td>\n",
       "      <td>2014</td>\n",
       "      <td>2.28</td>\n",
       "    </tr>\n",
       "    <tr>\n",
       "      <th>Abbeville County-South Carolina</th>\n",
       "      <td>Abbeville County-South Carolina</td>\n",
       "      <td>2015</td>\n",
       "      <td>3.26</td>\n",
       "    </tr>\n",
       "    <tr>\n",
       "      <th>Abbeville County-South Carolina</th>\n",
       "      <td>Abbeville County-South Carolina</td>\n",
       "      <td>2016</td>\n",
       "      <td>6.48</td>\n",
       "    </tr>\n",
       "  </tbody>\n",
       "</table>\n",
       "</div>"
      ],
      "text/plain": [
       "                                                       full_name  year  \\\n",
       "full_name                                                                \n",
       "Abbeville County-South Carolina  Abbeville County-South Carolina  2012   \n",
       "Abbeville County-South Carolina  Abbeville County-South Carolina  2013   \n",
       "Abbeville County-South Carolina  Abbeville County-South Carolina  2014   \n",
       "Abbeville County-South Carolina  Abbeville County-South Carolina  2015   \n",
       "Abbeville County-South Carolina  Abbeville County-South Carolina  2016   \n",
       "\n",
       "                                 eviction-rate  \n",
       "full_name                                       \n",
       "Abbeville County-South Carolina           0.13  \n",
       "Abbeville County-South Carolina           2.47  \n",
       "Abbeville County-South Carolina           2.28  \n",
       "Abbeville County-South Carolina           3.26  \n",
       "Abbeville County-South Carolina           6.48  "
      ]
     },
     "execution_count": 48,
     "metadata": {},
     "output_type": "execute_result"
    }
   ],
   "source": [
    "df.head()"
   ]
  },
  {
   "cell_type": "code",
   "execution_count": 50,
   "metadata": {},
   "outputs": [],
   "source": [
    "example = df[df.full_name=='Abbeville County-South Carolina']"
   ]
  },
  {
   "cell_type": "code",
   "execution_count": 76,
   "metadata": {},
   "outputs": [],
   "source": [
    "def getSlope(countyData):\n",
    "    county = countyData.full_name.unique()[0]\n",
    "    slope = linregress(countyData.year,countyData['eviction-rate']).slope\n",
    "    if slope>0:\n",
    "        return \"up\"\n",
    "    elif slope == 0:\n",
    "        return \"no change\"\n",
    "    else:\n",
    "        return \"down\""
   ]
  },
  {
   "cell_type": "code",
   "execution_count": 77,
   "metadata": {},
   "outputs": [
    {
     "name": "stderr",
     "output_type": "stream",
     "text": [
      "C:\\Users\\evan.lynch\\AppData\\Local\\conda\\conda\\envs\\my_root\\lib\\site-packages\\scipy\\stats\\_stats_mstats_common.py:106: RuntimeWarning: invalid value encountered in double_scalars\n",
      "  slope = r_num / ssxm\n",
      "C:\\Users\\evan.lynch\\AppData\\Local\\conda\\conda\\envs\\my_root\\lib\\site-packages\\scipy\\stats\\_stats_mstats_common.py:116: RuntimeWarning: invalid value encountered in sqrt\n",
      "  t = r * np.sqrt(df / ((1.0 - r + TINY)*(1.0 + r + TINY)))\n",
      "C:\\Users\\evan.lynch\\AppData\\Local\\conda\\conda\\envs\\my_root\\lib\\site-packages\\scipy\\stats\\_distn_infrastructure.py:879: RuntimeWarning: invalid value encountered in greater\n",
      "  return (self.a < x) & (x < self.b)\n",
      "C:\\Users\\evan.lynch\\AppData\\Local\\conda\\conda\\envs\\my_root\\lib\\site-packages\\scipy\\stats\\_distn_infrastructure.py:879: RuntimeWarning: invalid value encountered in less\n",
      "  return (self.a < x) & (x < self.b)\n",
      "C:\\Users\\evan.lynch\\AppData\\Local\\conda\\conda\\envs\\my_root\\lib\\site-packages\\scipy\\stats\\_distn_infrastructure.py:1818: RuntimeWarning: invalid value encountered in less_equal\n",
      "  cond2 = cond0 & (x <= self.a)\n",
      "C:\\Users\\evan.lynch\\AppData\\Local\\conda\\conda\\envs\\my_root\\lib\\site-packages\\scipy\\stats\\_stats_mstats_common.py:118: RuntimeWarning: invalid value encountered in double_scalars\n",
      "  sterrest = np.sqrt((1 - r**2) * ssym / ssxm / df)\n"
     ]
    }
   ],
   "source": [
    "results = df.groupby(level=[0],sort=False).apply(lambda x:getSlope(x))"
   ]
  },
  {
   "cell_type": "code",
   "execution_count": 78,
   "metadata": {},
   "outputs": [
    {
     "data": {
      "text/plain": [
       "full_name\n",
       "Abbeville County-South Carolina            up\n",
       "Acadia Parish-Louisiana                    up\n",
       "Accomack County-Virginia                 down\n",
       "Ada County-Idaho                         down\n",
       "Adair County-Iowa                        down\n",
       "Adair County-Kentucky                    down\n",
       "Adair County-Missouri                    down\n",
       "Adair County-Oklahoma                      up\n",
       "Adams County-Colorado                    down\n",
       "Adams County-Idaho                       down\n",
       "Adams County-Illinois                    down\n",
       "Adams County-Indiana                       up\n",
       "Adams County-Iowa                        down\n",
       "Adams County-Mississippi                 down\n",
       "Adams County-Nebraska                      up\n",
       "Adams County-Ohio                          up\n",
       "Adams County-Pennsylvania                down\n",
       "Adams County-Washington                    up\n",
       "Adams County-Wisconsin                   down\n",
       "Addison County-Vermont                     up\n",
       "Aiken County-South Carolina                up\n",
       "Aitkin County-Minnesota                    up\n",
       "Alachua County-Florida                   down\n",
       "Alamance County-North Carolina             up\n",
       "Alameda County-California                down\n",
       "Alamosa County-Colorado                    up\n",
       "Albany County-New York                   down\n",
       "Albemarle County-Virginia                down\n",
       "Alcona County-Michigan                     up\n",
       "Alcorn County-Mississippi                  up\n",
       "                                      ...    \n",
       "Worth County-Georgia                       up\n",
       "Worth County-Iowa                        down\n",
       "Worth County-Missouri               no change\n",
       "Wright County-Iowa                         up\n",
       "Wright County-Minnesota                  down\n",
       "Wright County-Missouri                     up\n",
       "Wyandot County-Ohio                        up\n",
       "Wyandotte County-Kansas                    up\n",
       "Wyoming County-Pennsylvania              down\n",
       "Wyoming County-West Virginia             down\n",
       "Wythe County-Virginia                    down\n",
       "Yadkin County-North Carolina               up\n",
       "Yakima County-Washington                   up\n",
       "Yalobusha County-Mississippi               up\n",
       "Yamhill County-Oregon                    down\n",
       "Yancey County-North Carolina               up\n",
       "Yavapai County-Arizona                   down\n",
       "Yellow Medicine County-Minnesota         down\n",
       "Yellowstone County-Montana                 up\n",
       "Yoakum County-Texas                        up\n",
       "Yolo County-California                   down\n",
       "York County-Maine                        down\n",
       "York County-Nebraska                       up\n",
       "York County-Pennsylvania                 down\n",
       "York County-South Carolina               down\n",
       "York County-Virginia                     down\n",
       "Young County-Texas                       down\n",
       "Yuba County-California                   down\n",
       "Zapata County-Texas                      down\n",
       "Zavala County-Texas                 no change\n",
       "Length: 2621, dtype: object"
      ]
     },
     "execution_count": 78,
     "metadata": {},
     "output_type": "execute_result"
    }
   ],
   "source": [
    "results"
   ]
  },
  {
   "cell_type": "code",
   "execution_count": 84,
   "metadata": {},
   "outputs": [],
   "source": [
    "pd.DataFrame(results).to_csv('ER_Trends.csv')"
   ]
  },
  {
   "cell_type": "code",
   "execution_count": 68,
   "metadata": {},
   "outputs": [],
   "source": [
    "from matplotlib.pyplot import scatter"
   ]
  },
  {
   "cell_type": "code",
   "execution_count": 81,
   "metadata": {},
   "outputs": [],
   "source": [
    "county = 'Wyoming County-West Virginia'"
   ]
  },
  {
   "cell_type": "code",
   "execution_count": 82,
   "metadata": {},
   "outputs": [
    {
     "data": {
      "image/png": "[encoded data removed]",
      "text/plain": [
       "<matplotlib.figure.Figure at 0x26d41dfd240>"
      ]
     },
     "metadata": {},
     "output_type": "display_data"
    }
   ],
   "source": [
    "scatter(df.year[df.full_name==county],df['eviction-rate'][df.full_name==county])\n",
    "plt.show()"
   ]
  },
  {
   "cell_type": "code",
   "execution_count": 72,
   "metadata": {},
   "outputs": [
    {
     "data": {
      "text/plain": [
       "0.0"
      ]
     },
     "execution_count": 72,
     "metadata": {},
     "output_type": "execute_result"
    }
   ],
   "source": [
    "linregress(df.year[df.full_name=='Zavala County-Texas'],df['eviction-rate'][df.full_name=='Zavala County-Texas']).slope"
   ]
  },
  {
   "cell_type": "code",
   "execution_count": null,
   "metadata": {},
   "outputs": [],
   "source": []
  }
 ],
 "metadata": {
  "kernelspec": {
   "display_name": "Python 3",
   "language": "python",
   "name": "python3"
  },
  "language_info": {
   "codemirror_mode": {
    "name": "ipython",
    "version": 3
   },
   "file_extension": ".py",
   "mimetype": "text/x-python",
   "name": "python",
   "nbconvert_exporter": "python",
   "pygments_lexer": "ipython3",
   "version": "3.6.2"
  }
 },
 "nbformat": 4,
 "nbformat_minor": 2
}
