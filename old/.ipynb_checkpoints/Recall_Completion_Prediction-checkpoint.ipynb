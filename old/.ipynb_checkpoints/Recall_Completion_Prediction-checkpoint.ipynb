{
 "cells": [
  {
   "cell_type": "markdown",
   "metadata": {},
   "source": [
    "# Calculus \n",
    "## <font color='#1f77b4'>Problem: Predict the completion date of an engine recall based on historical engine replacement rates. </font>"
   ]
  },
  {
   "cell_type": "markdown",
   "metadata": {},
   "source": [
    "The goal with this project was to determine a method for predicting the date a recall will be completed based on the information available. The information that was provided was: \n",
    "- The recall start date\n",
    "- An estimated number of engines that were originally impacted by the recall\n",
    "- Orders for replacement engines since the start date\n",
    "- An estimated maximum monthly capacity for delivering replacements (whereever the bottleneck was in the supply chain)\n",
    "\n",
    "A prediction interval was used using curve fitting to generate a 'best case scenario' and derivatives to generate a 'worst case scenario'"
   ]
  },
  {
   "cell_type": "markdown",
   "metadata": {},
   "source": [
    "## <font color='#2ca02c'>Solution: Curve fitting and derivatives. </font>\n"
   ]
  },
  {
   "cell_type": "markdown",
   "metadata": {},
   "source": [
    "## Bottom Line Results"
   ]
  },
  {
   "cell_type": "markdown",
   "metadata": {},
   "source": [
    "The final output of this project is a date interval within which the recall is expected to be completed. "
   ]
  },
  {
   "cell_type": "code",
   "execution_count": 72,
   "metadata": {},
   "outputs": [
    {
     "data": {
      "text/html": [
       "<img src=\"https://github.com/evanlynch/portfolio/blob/master/imgs/RCP_Chart.png?raw=true\"/>"
      ],
      "text/plain": [
       "<IPython.core.display.Image object>"
      ]
     },
     "execution_count": 72,
     "metadata": {},
     "output_type": "execute_result"
    }
   ],
   "source": [
    "Image(url='https://github.com/evanlynch/portfolio/blob/master/imgs/RCP_Chart.png?raw=true')"
   ]
  },
  {
   "cell_type": "code",
   "execution_count": 67,
   "metadata": {},
   "outputs": [
    {
     "name": "stdout",
     "output_type": "stream",
     "text": [
      "Best Case End Date: May 26,2019\n",
      "Worst Case End Date: Aug 10,2019\n"
     ]
    }
   ],
   "source": [
    "print('Best Case End Date:',PredMin)\n",
    "print('Worst Case End Date:',PredMax)"
   ]
  },
  {
   "cell_type": "code",
   "execution_count": 70,
   "metadata": {},
   "outputs": [],
   "source": [
    "import pandas as pd\n",
    "import numpy as np\n",
    "from scipy.optimize import curve_fit\n",
    "import datetime\n",
    "import matplotlib.pyplot as plt\n",
    "import chartify as cfy\n",
    "from IPython.display import Image"
   ]
  },
  {
   "cell_type": "markdown",
   "metadata": {},
   "source": [
    "##### Inputs"
   ]
  },
  {
   "cell_type": "code",
   "execution_count": 79,
   "metadata": {},
   "outputs": [
    {
     "data": {
      "text/html": [
       "<div>\n",
       "<style scoped>\n",
       "    .dataframe tbody tr th:only-of-type {\n",
       "        vertical-align: middle;\n",
       "    }\n",
       "\n",
       "    .dataframe tbody tr th {\n",
       "        vertical-align: top;\n",
       "    }\n",
       "\n",
       "    .dataframe thead th {\n",
       "        text-align: right;\n",
       "    }\n",
       "</style>\n",
       "<table border=\"1\" class=\"dataframe\">\n",
       "  <thead>\n",
       "    <tr style=\"text-align: right;\">\n",
       "      <th></th>\n",
       "      <th>Fill Date</th>\n",
       "      <th>Qty</th>\n",
       "    </tr>\n",
       "  </thead>\n",
       "  <tbody>\n",
       "    <tr>\n",
       "      <th>0</th>\n",
       "      <td>5/31/2018</td>\n",
       "      <td>849</td>\n",
       "    </tr>\n",
       "    <tr>\n",
       "      <th>1</th>\n",
       "      <td>5/31/2018</td>\n",
       "      <td>265</td>\n",
       "    </tr>\n",
       "    <tr>\n",
       "      <th>2</th>\n",
       "      <td>6/6/2018</td>\n",
       "      <td>337</td>\n",
       "    </tr>\n",
       "    <tr>\n",
       "      <th>3</th>\n",
       "      <td>6/11/2018</td>\n",
       "      <td>166</td>\n",
       "    </tr>\n",
       "    <tr>\n",
       "      <th>4</th>\n",
       "      <td>6/13/2018</td>\n",
       "      <td>15</td>\n",
       "    </tr>\n",
       "    <tr>\n",
       "      <th>5</th>\n",
       "      <td>6/13/2018</td>\n",
       "      <td>88</td>\n",
       "    </tr>\n",
       "    <tr>\n",
       "      <th>6</th>\n",
       "      <td>6/13/2018</td>\n",
       "      <td>49</td>\n",
       "    </tr>\n",
       "    <tr>\n",
       "      <th>7</th>\n",
       "      <td>6/13/2018</td>\n",
       "      <td>25</td>\n",
       "    </tr>\n",
       "    <tr>\n",
       "      <th>8</th>\n",
       "      <td>6/14/2018</td>\n",
       "      <td>500</td>\n",
       "    </tr>\n",
       "    <tr>\n",
       "      <th>9</th>\n",
       "      <td>6/15/2018</td>\n",
       "      <td>500</td>\n",
       "    </tr>\n",
       "  </tbody>\n",
       "</table>\n",
       "</div>"
      ],
      "text/plain": [
       "   Fill Date  Qty\n",
       "0  5/31/2018  849\n",
       "1  5/31/2018  265\n",
       "2   6/6/2018  337\n",
       "3  6/11/2018  166\n",
       "4  6/13/2018   15\n",
       "5  6/13/2018   88\n",
       "6  6/13/2018   49\n",
       "7  6/13/2018   25\n",
       "8  6/14/2018  500\n",
       "9  6/15/2018  500"
      ]
     },
     "execution_count": 79,
     "metadata": {},
     "output_type": "execute_result"
    }
   ],
   "source": [
    "#starting population of engines that need to be replaced at t=0\n",
    "startDefectBalance = 150000\n",
    "\n",
    "#the recall start date\n",
    "startDate = \"4/1/2018\"\n",
    "\n",
    "#estimated monthly max capacity for delivering replacements is 12k\n",
    "monthlyCapacity = -12000\n",
    "avgDailyCapacity = monthlyCapacity/30.42\n",
    "\n",
    "#orders for replacement engines since the start date\n",
    "df = pd.read_csv('Recall_Completion_Prediction/ReplacementOrders.csv',usecols=['Fill Date','Qty'])\n",
    "df.head(10)"
   ]
  },
  {
   "cell_type": "markdown",
   "metadata": {},
   "source": [
    "##### Data Pre-Processing"
   ]
  },
  {
   "cell_type": "code",
   "execution_count": 80,
   "metadata": {},
   "outputs": [
    {
     "name": "stdout",
     "output_type": "stream",
     "text": [
      "Defect Balance Over Time\n"
     ]
    },
    {
     "data": {
      "text/html": [
       "<div>\n",
       "<style scoped>\n",
       "    .dataframe tbody tr th:only-of-type {\n",
       "        vertical-align: middle;\n",
       "    }\n",
       "\n",
       "    .dataframe tbody tr th {\n",
       "        vertical-align: top;\n",
       "    }\n",
       "\n",
       "    .dataframe thead th {\n",
       "        text-align: right;\n",
       "    }\n",
       "</style>\n",
       "<table border=\"1\" class=\"dataframe\">\n",
       "  <thead>\n",
       "    <tr style=\"text-align: right;\">\n",
       "      <th></th>\n",
       "      <th>dateDelta</th>\n",
       "      <th>balance</th>\n",
       "    </tr>\n",
       "  </thead>\n",
       "  <tbody>\n",
       "    <tr>\n",
       "      <th>0</th>\n",
       "      <td>0</td>\n",
       "      <td>150000</td>\n",
       "    </tr>\n",
       "    <tr>\n",
       "      <th>1</th>\n",
       "      <td>60</td>\n",
       "      <td>148886</td>\n",
       "    </tr>\n",
       "    <tr>\n",
       "      <th>2</th>\n",
       "      <td>66</td>\n",
       "      <td>148549</td>\n",
       "    </tr>\n",
       "    <tr>\n",
       "      <th>3</th>\n",
       "      <td>71</td>\n",
       "      <td>148383</td>\n",
       "    </tr>\n",
       "    <tr>\n",
       "      <th>4</th>\n",
       "      <td>73</td>\n",
       "      <td>148206</td>\n",
       "    </tr>\n",
       "    <tr>\n",
       "      <th>5</th>\n",
       "      <td>74</td>\n",
       "      <td>147706</td>\n",
       "    </tr>\n",
       "    <tr>\n",
       "      <th>6</th>\n",
       "      <td>75</td>\n",
       "      <td>147206</td>\n",
       "    </tr>\n",
       "    <tr>\n",
       "      <th>7</th>\n",
       "      <td>80</td>\n",
       "      <td>146706</td>\n",
       "    </tr>\n",
       "    <tr>\n",
       "      <th>8</th>\n",
       "      <td>81</td>\n",
       "      <td>145674</td>\n",
       "    </tr>\n",
       "    <tr>\n",
       "      <th>9</th>\n",
       "      <td>82</td>\n",
       "      <td>145567</td>\n",
       "    </tr>\n",
       "  </tbody>\n",
       "</table>\n",
       "</div>"
      ],
      "text/plain": [
       "   dateDelta  balance\n",
       "0          0   150000\n",
       "1         60   148886\n",
       "2         66   148549\n",
       "3         71   148383\n",
       "4         73   148206\n",
       "5         74   147706\n",
       "6         75   147206\n",
       "7         80   146706\n",
       "8         81   145674\n",
       "9         82   145567"
      ]
     },
     "execution_count": 80,
     "metadata": {},
     "output_type": "execute_result"
    }
   ],
   "source": [
    "#convert dates to a date delta and Qty to a remaining balance\n",
    "df.Qty = df.Qty*-1\n",
    "dfStart = pd.DataFrame({'Fill Date':startDate,'Qty':startDefectBalance,'ACOM':''},index=[999])\n",
    "df = pd.concat([df,dfStart],sort=True)\n",
    "startDate = datetime.datetime(2018, 4, 1)\n",
    "df['Fill Date'] =  pd.to_datetime(df['Fill Date'])\n",
    "df =df.set_index(['Fill Date'])\n",
    "\n",
    "def removeDays(x):\n",
    "    x['dateDelta'] = x['dateDelta'].days\n",
    "    return x\n",
    "\n",
    "#create new date starting from t=0\n",
    "df['tvalue'] = df.index\n",
    "df['dateDelta'] = df['tvalue']-startDate\n",
    "df = df.apply(lambda x: removeDays(x),axis=1)\n",
    "df = df.sort_values(['tvalue'],ascending=True)\n",
    "\n",
    "#roll up orders to the daily level\n",
    "df = df.groupby('dateDelta').sum()\n",
    "\n",
    "#get current balance of defective engines\n",
    "df['balance'] = df.Qty.cumsum()\n",
    "df = df[['balance']]\n",
    "df = df.reset_index()\n",
    "print('Defect Balance Over Time')\n",
    "df.head(n=10)"
   ]
  },
  {
   "cell_type": "code",
   "execution_count": 81,
   "metadata": {},
   "outputs": [
    {
     "data": {
      "text/html": [
       "\n",
       "\n",
       "\n",
       "\n",
       "\n",
       "\n",
       "  <div class=\"bk-root\" id=\"0c65f987-69b6-4709-bfcb-ae54c9abd540\" data-root-id=\"3813\"></div>\n"
      ]
     },
     "metadata": {},
     "output_type": "display_data"
    },
    {
     "data": {
      "application/javascript": [
       "(function(root) {\n",
       "  function embed_document(root) {\n",
       "    \n",
       "  var docs_json = {\"bfed2d37-cb05-43cf-99ab-ebac6a0e6914\":{\"roots\":{\"references\":[{\"attributes\":{\"above\":[{\"id\":\"3839\",\"type\":\"Title\"}],\"background_fill_color\":{\"value\":\"white\"},\"below\":[{\"id\":\"3822\",\"type\":\"LinearAxis\"},{\"id\":\"3838\",\"type\":\"Label\"}],\"border_fill_color\":{\"value\":\"white\"},\"left\":[{\"id\":\"3827\",\"type\":\"LinearAxis\"}],\"min_border_bottom\":60,\"min_border_left\":60,\"min_border_right\":60,\"min_border_top\":40,\"outline_line_color\":{\"value\":\"white\"},\"plot_height\":540,\"plot_width\":960,\"renderers\":[{\"id\":\"3822\",\"type\":\"LinearAxis\"},{\"id\":\"3826\",\"type\":\"Grid\"},{\"id\":\"3827\",\"type\":\"LinearAxis\"},{\"id\":\"3831\",\"type\":\"Grid\"},{\"id\":\"3838\",\"type\":\"Label\"},{\"id\":\"3839\",\"type\":\"Title\"},{\"id\":\"3851\",\"type\":\"GlyphRenderer\"}],\"title\":{\"id\":\"3835\",\"type\":\"Title\"},\"toolbar\":{\"id\":\"3833\",\"type\":\"Toolbar\"},\"x_range\":{\"id\":\"3814\",\"type\":\"DataRange1d\"},\"x_scale\":{\"id\":\"3818\",\"type\":\"LinearScale\"},\"y_range\":{\"id\":\"3816\",\"type\":\"DataRange1d\"},\"y_scale\":{\"id\":\"3820\",\"type\":\"LinearScale\"}},\"id\":\"3813\",\"subtype\":\"Figure\",\"type\":\"Plot\"},{\"attributes\":{\"data_source\":{\"id\":\"3847\",\"type\":\"ColumnDataSource\"},\"glyph\":{\"id\":\"3849\",\"type\":\"Line\"},\"hover_glyph\":null,\"muted_glyph\":null,\"nonselection_glyph\":{\"id\":\"3850\",\"type\":\"Line\"},\"selection_glyph\":null,\"view\":{\"id\":\"3852\",\"type\":\"CDSView\"}},\"id\":\"3851\",\"type\":\"GlyphRenderer\"},{\"attributes\":{\"plot\":null,\"text\":\"Defect Balance Over Time\",\"text_color\":{\"value\":\"#333333\"},\"text_font_size\":{\"value\":\"18pt\"}},\"id\":\"3835\",\"type\":\"Title\"},{\"attributes\":{\"callback\":null,\"end\":800,\"start\":0},\"id\":\"3814\",\"type\":\"DataRange1d\"},{\"attributes\":{\"source\":{\"id\":\"3847\",\"type\":\"ColumnDataSource\"}},\"id\":\"3852\",\"type\":\"CDSView\"},{\"attributes\":{\"dimension\":1,\"grid_line_color\":{\"value\":null},\"plot\":{\"id\":\"3813\",\"subtype\":\"Figure\",\"type\":\"Plot\"},\"ticker\":{\"id\":\"3828\",\"type\":\"BasicTicker\"}},\"id\":\"3831\",\"type\":\"Grid\"},{\"attributes\":{},\"id\":\"3820\",\"type\":\"LinearScale\"},{\"attributes\":{},\"id\":\"3828\",\"type\":\"BasicTicker\"},{\"attributes\":{},\"id\":\"3818\",\"type\":\"LinearScale\"},{\"attributes\":{\"axis_label_text_color\":{\"value\":\"#666666\"},\"axis_label_text_font_size\":{\"value\":\"11pt\"},\"axis_label_text_font_style\":\"bold\",\"axis_line_color\":{\"value\":\"#C0C0C0\"},\"formatter\":{\"id\":\"3843\",\"type\":\"NumeralTickFormatter\"},\"major_label_text_color\":{\"value\":\"#898989\"},\"major_label_text_font_size\":{\"value\":\"10pt\"},\"major_tick_in\":0,\"major_tick_line_color\":{\"value\":\"#C0C0C0\"},\"major_tick_out\":4,\"minor_tick_line_color\":{\"value\":\"#C0C0C0\"},\"minor_tick_out\":1,\"plot\":{\"id\":\"3813\",\"subtype\":\"Figure\",\"type\":\"Plot\"},\"ticker\":{\"id\":\"3823\",\"type\":\"BasicTicker\"}},\"id\":\"3822\",\"type\":\"LinearAxis\"},{\"attributes\":{\"axis_label_text_color\":{\"value\":\"#666666\"},\"axis_label_text_font_size\":{\"value\":\"11pt\"},\"axis_label_text_font_style\":\"bold\",\"axis_line_color\":{\"value\":\"#C0C0C0\"},\"formatter\":{\"id\":\"3845\",\"type\":\"NumeralTickFormatter\"},\"major_label_text_color\":{\"value\":\"#898989\"},\"major_label_text_font_size\":{\"value\":\"10pt\"},\"major_tick_in\":0,\"major_tick_line_color\":{\"value\":\"#C0C0C0\"},\"major_tick_out\":4,\"minor_tick_line_color\":{\"value\":\"#C0C0C0\"},\"minor_tick_out\":1,\"plot\":{\"id\":\"3813\",\"subtype\":\"Figure\",\"type\":\"Plot\"},\"ticker\":{\"id\":\"3828\",\"type\":\"BasicTicker\"}},\"id\":\"3827\",\"type\":\"LinearAxis\"},{\"attributes\":{},\"id\":\"3832\",\"type\":\"SaveTool\"},{\"attributes\":{\"active_drag\":null,\"active_inspect\":\"auto\",\"active_multi\":null,\"active_scroll\":\"auto\",\"active_tap\":\"auto\",\"logo\":null,\"tools\":[{\"id\":\"3832\",\"type\":\"SaveTool\"}]},\"id\":\"3833\",\"type\":\"Toolbar\"},{\"attributes\":{\"grid_line_color\":{\"value\":null},\"plot\":{\"id\":\"3813\",\"subtype\":\"Figure\",\"type\":\"Plot\"},\"ticker\":{\"id\":\"3823\",\"type\":\"BasicTicker\"}},\"id\":\"3826\",\"type\":\"Grid\"},{\"attributes\":{\"line_cap\":\"round\",\"line_color\":\"#1f77b4\",\"line_join\":\"round\",\"line_width\":4,\"x\":{\"field\":\"dateDelta\"},\"y\":{\"field\":\"balance\"}},\"id\":\"3849\",\"type\":\"Line\"},{\"attributes\":{\"line_alpha\":0.1,\"line_cap\":\"round\",\"line_color\":\"#1f77b4\",\"line_join\":\"round\",\"line_width\":4,\"x\":{\"field\":\"dateDelta\"},\"y\":{\"field\":\"balance\"}},\"id\":\"3850\",\"type\":\"Line\"},{\"attributes\":{},\"id\":\"3998\",\"type\":\"Selection\"},{\"attributes\":{\"callback\":null,\"end\":155000,\"start\":0},\"id\":\"3816\",\"type\":\"DataRange1d\"},{\"attributes\":{\"format\":\"0,0.[000000]\"},\"id\":\"3845\",\"type\":\"NumeralTickFormatter\"},{\"attributes\":{\"callback\":null,\"data\":{\"balance\":[150000,148886,148549,148383,148206,147706,147206,146706,145674,145567,145356,144087,144027,143699,143639,143523,143305,142911,142743,142075,141783,141648,141196,140466,140403,139654,139515,139232,139213,138777,137706,137406,137392,137229,136819,135541,135425,134970,134947,134722,134579,133309,133193,132831,131571,130900,130853,130282,129187,128718,128400,127778,126739,126459,125778,124675,124297,123731,123405,122352,121365,120769,119853,118612,118199,117202,116741,116737,116506,116290,114592,114586,114082,113868,112652,112540,112511,112397,111713,111358,109771,108069,107807,107589,107404,107382,106626,104936,104877,104022,102792,102603,101944,101703,100419,100154,98399,97770,96065,95915,95820,95026,94933,92820,91978,89991,89923,89577,89577,86700,86566,86522,86410,86070,85976,83260,83191,82559,82495,81789,81514,81156,81030],\"dateDelta\":[0,60,66,71,73,74,75,80,81,82,85,86,87,89,95,99,102,103,104,106,108,110,113,114,115,116,117,120,122,124,127,128,129,130,131,134,135,136,137,141,142,143,145,148,150,151,152,156,157,159,162,163,164,165,169,171,172,173,177,178,179,185,186,187,191,192,193,194,197,198,199,200,204,205,206,207,208,211,212,213,214,218,219,220,221,222,226,227,228,232,233,234,239,240,241,242,243,246,247,249,250,253,254,256,260,261,262,263,264,269,270,271,274,278,283,288,289,290,291,292,297,298,299],\"index\":[0,1,2,3,4,5,6,7,8,9,10,11,12,13,14,15,16,17,18,19,20,21,22,23,24,25,26,27,28,29,30,31,32,33,34,35,36,37,38,39,40,41,42,43,44,45,46,47,48,49,50,51,52,53,54,55,56,57,58,59,60,61,62,63,64,65,66,67,68,69,70,71,72,73,74,75,76,77,78,79,80,81,82,83,84,85,86,87,88,89,90,91,92,93,94,95,96,97,98,99,100,101,102,103,104,105,106,107,108,109,110,111,112,113,114,115,116,117,118,119,120,121,122]},\"name\":\"Series:\",\"selected\":{\"id\":\"3998\",\"type\":\"Selection\"},\"selection_policy\":{\"id\":\"3997\",\"type\":\"UnionRenderers\"}},\"id\":\"3847\",\"type\":\"ColumnDataSource\"},{\"attributes\":{},\"id\":\"3823\",\"type\":\"BasicTicker\"},{\"attributes\":{},\"id\":\"3997\",\"type\":\"UnionRenderers\"},{\"attributes\":{\"level\":\"overlay\",\"name\":\"subtitle\",\"plot\":{\"id\":\"3813\",\"subtype\":\"Figure\",\"type\":\"Plot\"},\"text\":\"\",\"text_align\":\"right\",\"text_color\":{\"value\":\"#898989\"},\"text_font_size\":{\"value\":\"10px\"},\"x\":864.0,\"x_units\":\"screen\",\"y\":0,\"y_units\":\"screen\"},\"id\":\"3838\",\"type\":\"Label\"},{\"attributes\":{\"plot\":{\"id\":\"3813\",\"subtype\":\"Figure\",\"type\":\"Plot\"},\"text\":\"As orders are placed, the defect balance will decrease.\",\"text_color\":{\"value\":\"#666666\"},\"text_font_size\":{\"value\":\"12pt\"}},\"id\":\"3839\",\"type\":\"Title\"},{\"attributes\":{\"format\":\"0,0.[000]\"},\"id\":\"3843\",\"type\":\"NumeralTickFormatter\"}],\"root_ids\":[\"3813\"]},\"title\":\"Bokeh Application\",\"version\":\"1.0.4\"}};\n",
       "  var render_items = [{\"docid\":\"bfed2d37-cb05-43cf-99ab-ebac6a0e6914\",\"roots\":{\"3813\":\"0c65f987-69b6-4709-bfcb-ae54c9abd540\"}}];\n",
       "  root.Bokeh.embed.embed_items_notebook(docs_json, render_items);\n",
       "\n",
       "  }\n",
       "  if (root.Bokeh !== undefined) {\n",
       "    embed_document(root);\n",
       "  } else {\n",
       "    var attempts = 0;\n",
       "    var timer = setInterval(function(root) {\n",
       "      if (root.Bokeh !== undefined) {\n",
       "        embed_document(root);\n",
       "        clearInterval(timer);\n",
       "      }\n",
       "      attempts++;\n",
       "      if (attempts > 100) {\n",
       "        console.log(\"Bokeh: ERROR: Unable to run BokehJS code because BokehJS library is missing\");\n",
       "        clearInterval(timer);\n",
       "      }\n",
       "    }, 10, root)\n",
       "  }\n",
       "})(window);"
      ],
      "application/vnd.bokehjs_exec.v0+json": ""
     },
     "metadata": {
      "application/vnd.bokehjs_exec.v0+json": {
       "id": "3813"
      }
     },
     "output_type": "display_data"
    }
   ],
   "source": [
    "ch = cfy.Chart(blank_labels=True)#, x_axis_type='datetime')\n",
    "ch.set_title(\"Defect Balance Over Time\")\n",
    "ch.set_subtitle(\"As orders are placed, the defect balance will decrease.\")\n",
    "ch.plot.line(\n",
    "    data_frame=df,\n",
    "    x_column='dateDelta',\n",
    "    y_column='balance')\n",
    "ch.axes.set_yaxis_range(0,155000)\n",
    "ch.axes.set_xaxis_range(0,800)\n",
    "ch.show('html')"
   ]
  },
  {
   "cell_type": "markdown",
   "metadata": {},
   "source": [
    "#### The plot above follows a curve similar to the function below. Estimate the parameters of that function"
   ]
  },
  {
   "cell_type": "markdown",
   "metadata": {},
   "source": [
    "$f(x) = b_{0} - \\frac{1}{b_{1}}x^2 \\ \\ \\ \\ \\ \\ \\ \\ \\{x>0\\}$"
   ]
  },
  {
   "cell_type": "code",
   "execution_count": 13,
   "metadata": {},
   "outputs": [],
   "source": [
    "#the function f above\n",
    "def func(x, b0, b1):\n",
    "     return b0-(1/b1)*(x**2)"
   ]
  },
  {
   "cell_type": "code",
   "execution_count": 14,
   "metadata": {},
   "outputs": [],
   "source": [
    "#f in terms of x\n",
    "def getX(y, b0, b1):\n",
    "    return np.sqrt((y-b0)*-b1)"
   ]
  },
  {
   "cell_type": "code",
   "execution_count": 15,
   "metadata": {},
   "outputs": [],
   "source": [
    "#derivative of f\n",
    "def getDerivative(x, b0, b1):\n",
    "    return -(2/b1)*x"
   ]
  },
  {
   "cell_type": "code",
   "execution_count": 17,
   "metadata": {},
   "outputs": [],
   "source": [
    "#fiting the curve\n",
    "xdata=df.dateDelta\n",
    "ydata=df.balance\n",
    "popt, pcov = curve_fit(func, xdata, ydata)\n",
    "xIntercept = getX(0,*popt)"
   ]
  },
  {
   "cell_type": "code",
   "execution_count": 82,
   "metadata": {},
   "outputs": [
    {
     "name": "stdout",
     "output_type": "stream",
     "text": [
      "b0: 150617.2977231807\n",
      "b1: 1.1731030147676897\n"
     ]
    }
   ],
   "source": [
    "#parameter estimates\n",
    "print('b0:',popt[0])\n",
    "print('b1:',popt[1])"
   ]
  },
  {
   "cell_type": "code",
   "execution_count": 37,
   "metadata": {},
   "outputs": [],
   "source": [
    "#using estimates to plot f\n",
    "MoreDays = pd.Series(np.linspace(300,xIntercept,300),index=np.linspace(300,xIntercept,300))\n",
    "xPlusMoreDays = xdata.append(MoreDays)\n",
    "CF_results = pd.concat([xPlusMoreDays,func(xPlusMoreDays, *popt)],axis=1).rename({0:'x',1:'y'},axis=1)"
   ]
  },
  {
   "cell_type": "code",
   "execution_count": 38,
   "metadata": {},
   "outputs": [
    {
     "name": "stderr",
     "output_type": "stream",
     "text": [
      "C:\\Users\\evan.lynch\\AppData\\Local\\conda\\conda\\envs\\my_root\\lib\\site-packages\\ipykernel_launcher.py:21: DeprecationWarning: object of type <class 'numpy.float64'> cannot be safely interpreted as an integer.\n"
     ]
    }
   ],
   "source": [
    "#if modeled replacement rate exceeds the defined capacity rate (point at which f' exceeds capacity), use f' to find latest date recall could be completed\n",
    "for i in range(0,int(xIntercept)):\n",
    "    instReplacementRate = getDerivative(i,*popt)\n",
    "    if instReplacementRate < avgDailyCapacity:\n",
    "        y_CC = func(i,*popt)\n",
    "        x_CC = getX(y_CC,*popt)\n",
    "        slope = instReplacementRate\n",
    "        yIntercept = y_CC-(slope*x_CC)\n",
    "        break\n",
    "\n",
    "#define the line\n",
    "def capacityConstraint(x,intercept,slope):\n",
    "    return intercept+(slope*x)\n",
    "def getXCC(y,intercept,slope):\n",
    "    return (y-intercept)/slope\n",
    "\n",
    "xInterceptCC = getXCC(0,yIntercept,slope)\n",
    "\n",
    "#create the capacity constraint\n",
    "cap_x = pd.Series(np.linspace(x_CC,xInterceptCC,xInterceptCC-x_CC))\n",
    "cap_y = pd.Series(capacityConstraint(x,yIntercept,slope))\n",
    "der_results = pd.concat([cap_x,cap_y],axis=1).rename({0:'x',1:'y'},axis=1)"
   ]
  },
  {
   "cell_type": "code",
   "execution_count": 83,
   "metadata": {},
   "outputs": [
    {
     "data": {
      "text/html": [
       "<img src=\"https://github.com/evanlynch/portfolio/blob/master/imgs/RCP_Chart.png?raw=true\"/>"
      ],
      "text/plain": [
       "<IPython.core.display.Image object>"
      ]
     },
     "execution_count": 83,
     "metadata": {},
     "output_type": "execute_result"
    }
   ],
   "source": [
    "#plot defect balance, curve, and capacity constraint\n",
    "cfy.color_palettes.create_palette(colors=['#d62728','#2ca02c','#1f77b4'],palette_type='categorical',name='custom palette')\n",
    "ch = cfy.Chart(blank_labels=True)#, x_axis_type='datetime')\n",
    "ch.set_title(\"Predicted Defect Balance Over Time\")\n",
    "ch.set_subtitle(\"As orders are placed, the defect balance will decrease.\")\n",
    "ch.style.set_color_palette('categorical', 'custom palette')\n",
    "ch.plot.line(\n",
    "    data_frame=der_results,\n",
    "    x_column='x',\n",
    "    y_column='y',\n",
    "    line_dash='dashed')\n",
    "ch.plot.line(\n",
    "    data_frame=CF_results,\n",
    "    x_column='x',\n",
    "    y_column='y',\n",
    "    line_dash='dashed')\n",
    "ch.plot.line(\n",
    "    data_frame=df,\n",
    "    x_column='dateDelta',\n",
    "    y_column='balance')\n",
    "ch.axes.set_yaxis_range(0,150000)\n",
    "ch.axes.set_xaxis_range(0,800)\n",
    "#ch.show('html')\n",
    "Image(url='https://github.com/evanlynch/portfolio/blob/master/imgs/RCP_Chart.png?raw=true')"
   ]
  },
  {
   "cell_type": "code",
   "execution_count": 84,
   "metadata": {},
   "outputs": [
    {
     "name": "stdout",
     "output_type": "stream",
     "text": [
      "Curve Fit CV_RMSE: 0.015001391706549377\n"
     ]
    }
   ],
   "source": [
    "#calculate the cv_rmse for the fitted curve against the actual data\n",
    "def cv_rmse(predicted,actual):\n",
    "    error = (predicted-actual)**2\n",
    "    rmse = np.sqrt(error.sum()/error.count())\n",
    "    per_rmse_pred_ma = rmse/(actual.sum()/actual.count())\n",
    "    return per_rmse_pred_ma\n",
    "\n",
    "print('Curve Fit CV_RMSE:',cv_rmse(func(xdata,*popt),ydata))"
   ]
  },
  {
   "cell_type": "code",
   "execution_count": 63,
   "metadata": {},
   "outputs": [
    {
     "name": "stdout",
     "output_type": "stream",
     "text": [
      "Min Estimated End Date:  May 26,2019\n",
      "Max Estimated End Date:  Aug 10,2019\n"
     ]
    }
   ],
   "source": [
    "#get Min estimated end date \n",
    "numDaysToEnd = min([getX(0,*popt),xInterceptCC])\n",
    "PredMin = str((startDate + datetime.timedelta(numDaysToEnd)).date().strftime('%b %d,%Y'))\n",
    "print('Min Estimated End Date: ',PredMin)\n",
    "\n",
    "#get Max estimated end date \n",
    "numDaysToEnd = max([getX(0,*popt),xInterceptCC])\n",
    "PredMax = str((startDate + datetime.timedelta(numDaysToEnd)).date().strftime('%b %d,%Y'))\n",
    "print('Max Estimated End Date: ',PredMax)"
   ]
  }
 ],
 "metadata": {
  "kernelspec": {
   "display_name": "Python 3",
   "language": "python",
   "name": "python3"
  },
  "language_info": {
   "codemirror_mode": {
    "name": "ipython",
    "version": 3
   },
   "file_extension": ".py",
   "mimetype": "text/x-python",
   "name": "python",
   "nbconvert_exporter": "python",
   "pygments_lexer": "ipython3",
   "version": "3.6.8"
  }
 },
 "nbformat": 4,
 "nbformat_minor": 2
}
