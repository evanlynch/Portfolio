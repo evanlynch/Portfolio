{
 "cells": [
  {
   "cell_type": "markdown",
   "metadata": {},
   "source": [
    "# STAFF-TO-DOOR ALLOCATION MODEL"
   ]
  },
  {
   "cell_type": "code",
   "execution_count": 32,
   "metadata": {
    "collapsed": true
   },
   "outputs": [],
   "source": [
    "%reset -f\n",
    "from gurobipy import *\n",
    "import pandas as pd\n",
    "import numpy as np\n",
    "from math import ceil\n",
    "import PyPDF2 as pdf"
   ]
  },
  {
   "cell_type": "code",
   "execution_count": 106,
   "metadata": {},
   "outputs": [],
   "source": [
    "class SDA:\n",
    "    \"\"\"A class for building staff-to-door allocation models\"\"\"\n",
    "    def __init__(self,numhours,numdoors,numareas):\n",
    "        self.numhours = numhours\n",
    "        self.numdoors = numdoors\n",
    "        self.numareas = numareas\n",
    "        self.loadLimit = loadLimit\n",
    "        self.lineLimit = lineLimit\n",
    "    \n",
    "    def settings(self):\n",
    "        \"\"\"A function used to change the settings\"\"\"\n",
    "        self.numhours = input(r'Number of Hours:    ')\n",
    "        self.numdoors = input(r'Number of Doors:    ')\n",
    "        self.numareas = input(r'Number of Areas    ')\n",
    "        self.loadLimit = input(r'Load Limit:    ')\n",
    "        self.lineLimit = input(r'Line Limit:    ')\n",
    "        return None"
   ]
  },
  {
   "cell_type": "code",
   "execution_count": 107,
   "metadata": {},
   "outputs": [],
   "source": [
    "model1 = SDA(4,24,3)\n",
    "model2 = SDA(1,129,4)"
   ]
  },
  {
   "cell_type": "code",
   "execution_count": 108,
   "metadata": {},
   "outputs": [],
   "source": [
    "SDA.settings(model1)"
   ]
  },
  {
   "cell_type": "code",
   "execution_count": 109,
   "metadata": {},
   "outputs": [
    {
     "data": {
      "text/plain": [
       "'1'"
      ]
     },
     "execution_count": 109,
     "metadata": {},
     "output_type": "execute_result"
    }
   ],
   "source": [
    "model1.numhours"
   ]
  },
  {
   "cell_type": "code",
   "execution_count": 95,
   "metadata": {},
   "outputs": [
    {
     "name": "stdout",
     "output_type": "stream",
     "text": [
      "A class for building staff-to-door allocation models\n"
     ]
    }
   ],
   "source": [
    "help(SDA)"
   ]
  },
  {
   "cell_type": "code",
   "execution_count": 53,
   "metadata": {
    "collapsed": true
   },
   "outputs": [],
   "source": [
    "#set the number of hours to solve for\n",
    "numhours = 1\n",
    "\n",
    "#set the number of loading docks in the facility\n",
    "numdoors = 24\n",
    "\n",
    "#create ranges for hours and doors\n",
    "hours = range(1,numhours+1)\n",
    "doors = range(1,numdoors+1)\n",
    "\n",
    "#set how many areas in the facility (test model had a max size of 41 doors)\n",
    "numareas = 3\n",
    "\n",
    "#set goal load per associate for each area\n",
    "'''areas, goal = multidict({\n",
    "    1: 2128,\n",
    "    2: 2128, \n",
    "    })'''\n",
    "'''areas, goal = multidict({\n",
    "    1: 266,\n",
    "    2: 266, \n",
    "    3: 170,\n",
    "    4: 266,\n",
    "    5: 170,\n",
    "    6: 266,\n",
    "    7: 170\n",
    "    })'''\n",
    "\n",
    "\n",
    "areas, goal = multidict({\n",
    "    1: 2128,\n",
    "    2: 2128, \n",
    "    3: 2128,\n",
    "})\n",
    "\n",
    "#set the last door in each area\n",
    "areas, lastDoorInArea = multidict({\n",
    "    1: 8,\n",
    "    2: 16,\n",
    "    3: 24,\n",
    "})\n",
    "'''areas, lastDoorInArea = multidict({\n",
    "    1: 5,\n",
    "    2: 10,\n",
    "    })''' \n",
    "'''areas, lastDoorInArea = multidict({\n",
    "    1: 41,\n",
    "    2: 56,\n",
    "    3: 70,\n",
    "    4: 102,\n",
    "    5: 111,\n",
    "    6: 116,\n",
    "    7: 129\n",
    "    })'''\n",
    "\n",
    "#create the sets of doors that make up each area\n",
    "areaDoors = {}\n",
    "for area in areas:\n",
    "    if area == 1:\n",
    "        areaDoors[area] = range(1,lastDoorInArea[area]+1)\n",
    "    else: \n",
    "        areaDoors[area] = range(lastDoorInArea[area-1]+1,lastDoorInArea[area]+1)\n",
    "\n",
    "#set the limit of load size for any given associate\n",
    "loadLimit = 2000\n",
    "\n",
    "#set the limit on the number of lines any given associate can be assigned\n",
    "lineLimit = 17"
   ]
  },
  {
   "cell_type": "code",
   "execution_count": 54,
   "metadata": {
    "scrolled": true
   },
   "outputs": [],
   "source": [
    "def SDA_Run(path):\n",
    "\n",
    "    #initialize sets for solutions, assignments and numassociates\n",
    "    solutions = {}\n",
    "    assignments = {}\n",
    "    numassociates = {}\n",
    "    \n",
    "    #pull in volume matrix\n",
    "    volData = ''.join([str(path),'.csv'])\n",
    "    volData = pd.read_csv(volData,header=None)\n",
    "    Vol = pd.DataFrame(volData,index=doors,columns=hours)\n",
    "\n",
    "    #create subsets of volume by area of the facility, such that you have a volume for any given area,door,hour combination\n",
    "    areaAreaDoorHour, Vol2 = multidict({'':0}) \n",
    "    for a in areas:\n",
    "        for i in areaDoors[a]:\n",
    "            for h in hours:\n",
    "                Vol2[a,i,h] = Vol.loc[i,h]\n",
    "    del Vol2['']\n",
    "\n",
    "    #define model and set time limit on solution\n",
    "    m = Model('DynamicResourceAllocation')\n",
    "    m.setParam('OutputFlag', False)\n",
    "    m.setParam('TimeLimit', 60)\n",
    "\n",
    "    #loop through each area and hour,create model, solve, execute post-processing\n",
    "    for hour in hours:\n",
    "        for area in areas:\n",
    "            #determine the number of associates required by volume for the hour\n",
    "            numassociates[area,hour] = ceil(sum(Vol2[area,door,hour] for door in areaDoors[area] if Vol2[area,door,hour] > 0)/goal[area])\n",
    "\n",
    "            #set the range of associates\n",
    "            associates = range(1,numassociates[area,hour]+1)\n",
    "\n",
    "            ''' ----- DECISION VARIABLES -----  '''\n",
    "\n",
    "            #Assignment of doors to associates\n",
    "            X = m.addVars(areaDoors[area],associates,vtype=GRB.BINARY,name='X')\n",
    "            #Whether associate is used or not\n",
    "            Z = m.addVars(associates,vtype=GRB.BINARY,name='Z')\n",
    "            #Deviation under goal\n",
    "            alpha = m.addVars(associates,lb=0.0, vtype=GRB.CONTINUOUS,name='alpha')\n",
    "\n",
    "            # ----- OBJECTIVE FUNCTION ----- #\n",
    "\n",
    "            m.setObjective(quicksum(alpha[j] for j in associates),GRB.MINIMIZE)\n",
    "\n",
    "            ''' ----- CONSTRAINTS ----- '''\n",
    "\n",
    "            '''For any associate in the set of associates that are calculated as needed in that area and hour, \n",
    "            the sum of volume going to the doors that associate is assigned must be greater than or equal to \n",
    "            the goal, minus the underachievement.'''\n",
    "            m.addConstrs((sum(Vol2[area,i, hour] * X[i,j] for i in areaDoors[area] if Vol2[area, i, hour] > 0) \n",
    "                >=  Z[j]*goal[area] - alpha[j] for j in associates),\"devFromGoal\")\n",
    "\n",
    "            '''Ensure that associates are only assigned to doors that are adjacent to each other. \n",
    "            If a door has a volume of zero, it will skip the consideration of assigning an associate \n",
    "            to that door, and thus the next adjacent door can be assigned.'''\n",
    "            m.addConstrs((X[i2,j] >= X[i1,j] + X[i3,j] - 1 \n",
    "                for j in associates for i1 in areaDoors[area] if Vol2[area,i1,hour]>0 \n",
    "                for i2 in areaDoors[area] if Vol2[area,i2,hour]>0 for i3 in areaDoors[area] if Vol2[area,i3,hour]>0 \n",
    "                if i1<i2<i3),\"doorAdjacency\")\n",
    "\n",
    "            '''Ensure that a door is assigned to one associate and only one.'''\n",
    "            m.addConstrs((sum(X[i,j] for j in associates) == 1 for i in areaDoors[area] if Vol2[area, i, hour] > 0),\"assignOnly1\")\n",
    "\n",
    "            '''Ensure that if a door has no volume in a given hour, it must not be assigned.'''\n",
    "            m.addConstrs((sum(X[i,j] for j in associates) == 0 for i in areaDoors[area] if Vol2[area, i, hour] == 0),\"doNotAssignZeroVolDoor\")\n",
    "\n",
    "            '''Binary switching constraints. If a door is assigned an associate, that associate must be considered as used.'''\n",
    "            m.addConstrs((X[i,j] <= Z[j] for j in associates for i in areaDoors[area] if Vol2[area, i, hour] > 0),\"usedBinarySwitch\")\n",
    "\n",
    "            '''If an associate is to be used, they must be assigned to at least one door.'''\n",
    "            m.addConstrs((quicksum(X[i,j] for i in areaDoors[area]) >= Z[j] for j in associates),\"assignedBinarySwitch\")\n",
    "\n",
    "            '''Ensure that the deviation for an associate does not exceed the goal for that associate (don't completely understand this) '''\n",
    "            m.addConstrs((alpha[j] <= goal[area]*Z[j] for j in associates),\"IDK\")\n",
    "\n",
    "            '''The model has to use the number of associates that are calculated as needed in the area and hour,\n",
    "            minus one associate if it can find a way to feasibly do so.'''\n",
    "            m.addConstr((quicksum(Z[j] for j in associates) >= numassociates[area,hour]-1),\"minusOneIfPossible\")\n",
    "\n",
    "            '''Ensure that the volume assigned to an associate across doors to not exceed a certain number of cartons.'''\n",
    "            m.addConstrs((quicksum(Vol2[area,i,hour] * X[i,j] for i in areaDoors[area]) <= loadLimit for j in associates),\"loadLimit\")\n",
    "\n",
    "            '''Ensure that the number of doors an associate is assigned never exceeds a certain number.'''\n",
    "            m.addConstrs((quicksum(X[i,j] for i in areaDoors[area]) <= lineLimit for j in associates),\"lineLimit\")\n",
    "\n",
    "            ''' ----- BEGIN RUN ----- '''\n",
    "            print('Hour: ',hour)\n",
    "            print('Area: ',area)\n",
    "\n",
    "            #allow optimization to run in the background without displaying all the output; solve\n",
    "            m.optimize()\n",
    "            print(m.getAttr('Status'))\n",
    "\n",
    "            ''' ----- POST-SOLUTION PROCESSING ----- '''\n",
    "\n",
    "            #obj = m.getObjective()\n",
    "            #solutions[area,hour] = obj.getValue()\n",
    "\n",
    "            #calculate the load per used associate and whether associate was used\n",
    "            load = {}\n",
    "            used = {}\n",
    "            totalUsed = 0\n",
    "            for j in associates: \n",
    "                load[area,hour,j] = sum(Vol2[area,i,hour]*X[i,j].x for i in areaDoors[area] if Vol2[area,i,hour]>0)\n",
    "                if load[area,hour,j] > 0:\n",
    "                    used[area,hour,j] = 1\n",
    "                else: \n",
    "                    used[area,hour,j] = 0\n",
    "                totalUsed += used[area,hour,j]\n",
    "\n",
    "            #create a dataFrame for the hour, which will contain the associate to door assignments\n",
    "            assignments[area,hour] = pd.DataFrame(data=None,index=areaDoors[area],columns=associates)    \n",
    "            for i in areaDoors[area]:\n",
    "                 for j in associates:\n",
    "                    if X[i,j].x == 1:\n",
    "                        assignments[area,hour].loc[i,j] = X[i,j].x\n",
    "                    else:\n",
    "                        assignments[area,hour].loc[i,j] = ''\n",
    "                    for assignment in assignments:\n",
    "                        fileName = \"\".join([\"resultsArea\",str(area),\"Hour\",str(hour),\".csv\"])\n",
    "                        assignments[assignment].to_csv(fileName)\n",
    "            #calculate the area productivity\n",
    "            productivity = {}\n",
    "\n",
    "\n",
    "            ''' ----- DISPLAY OUTPUT ----- '''\n",
    "            \n",
    "            print('# Associates Required by Volume: ',numassociates[area,hour])\n",
    "            print('# Associates Used: ',totalUsed)\n",
    "            print('Assignments:')\n",
    "            print(assignments[area,hour])\n",
    "            print('Load per Associate: ')\n",
    "            for j in associates:\n",
    "                print(j,'(',used[area,hour,j],')',': ',load[area,hour,j],'|',alpha[j].x)\n",
    "            print('Total volume not expected to load (objective): ',m.getObjective().getValue())\n",
    "            print('++++++++++++++++++++')\n",
    "            print('')\n",
    "    return assignments"
   ]
  },
  {
   "cell_type": "code",
   "execution_count": 55,
   "metadata": {},
   "outputs": [],
   "source": [
    "def SDA_Output(load):\n",
    "    print(load)"
   ]
  },
  {
   "cell_type": "code",
   "execution_count": 65,
   "metadata": {},
   "outputs": [
    {
     "name": "stdout",
     "output_type": "stream",
     "text": [
      "Hour:  1\n",
      "Area:  1\n",
      "2\n",
      "# Associates Required by Volume:  2\n",
      "# Associates Used:  2\n",
      "Assignments:\n",
      "   1  2\n",
      "1      \n",
      "2  1   \n",
      "3  1   \n",
      "4      \n",
      "5     1\n",
      "6      \n",
      "7     1\n",
      "8      \n",
      "Load per Associate: \n",
      "1 ( 1 ) :  1652.0 | 476.0\n",
      "2 ( 1 ) :  1246.0 | 882.0\n",
      "Total volume not expected to load (objective):  1358.0\n",
      "++++++++++++++++++++\n",
      "\n",
      "Hour:  1\n",
      "Area:  2\n",
      "2\n",
      "# Associates Required by Volume:  3\n",
      "# Associates Used:  3\n",
      "Assignments:\n",
      "    1  2  3\n",
      "9      1   \n",
      "10        1\n",
      "11        1\n",
      "12  1      \n",
      "13  1      \n",
      "14         \n",
      "15  1      \n",
      "16  1      \n",
      "Load per Associate: \n",
      "1 ( 1 ) :  1826.0 | 302.0\n",
      "2 ( 1 ) :  1042.0 | 1086.0\n",
      "3 ( 1 ) :  1870.0 | 258.0\n",
      "Total volume not expected to load (objective):  1646.0\n",
      "++++++++++++++++++++\n",
      "\n",
      "Hour:  1\n",
      "Area:  3\n",
      "2\n",
      "# Associates Required by Volume:  2\n",
      "# Associates Used:  2\n",
      "Assignments:\n",
      "    1  2\n",
      "17      \n",
      "18     1\n",
      "19      \n",
      "20     1\n",
      "21      \n",
      "22     1\n",
      "23      \n",
      "24  1   \n",
      "Load per Associate: \n",
      "1 ( 1 ) :  730.0 | 1398.0\n",
      "2 ( 1 ) :  1894.0 | 234.0\n",
      "Total volume not expected to load (objective):  1632.0\n",
      "++++++++++++++++++++\n",
      "\n"
     ]
    }
   ],
   "source": [
    "path = input(r'Please provide volume data.    ')\n",
    "Run = SDA_Run(path)"
   ]
  },
  {
   "cell_type": "code",
   "execution_count": 61,
   "metadata": {},
   "outputs": [
    {
     "name": "stdout",
     "output_type": "stream",
     "text": [
      "__main__\n"
     ]
    }
   ],
   "source": [
    "print(__name__)"
   ]
  },
  {
   "cell_type": "code",
   "execution_count": 64,
   "metadata": {},
   "outputs": [
    {
     "name": "stdout",
     "output_type": "stream",
     "text": [
      "   1  2\n",
      "1      \n",
      "2  1   \n",
      "3  1   \n",
      "4      \n",
      "5     1\n",
      "6      \n",
      "7     1\n",
      "8      \n",
      "#############\n",
      "    1  2  3\n",
      "9      1   \n",
      "10        1\n",
      "11        1\n",
      "12  1      \n",
      "13  1      \n",
      "14         \n",
      "15  1      \n",
      "16  1      \n",
      "#############\n",
      "    1  2\n",
      "17      \n",
      "18     1\n",
      "19      \n",
      "20     1\n",
      "21      \n",
      "22     1\n",
      "23      \n",
      "24  1   \n",
      "#############\n"
     ]
    }
   ],
   "source": [
    "for a in areas:\n",
    "    for h in hours:\n",
    "        print(Run[a,h])\n",
    "        print(\"#############\")"
   ]
  }
 ],
 "metadata": {
  "kernelspec": {
   "display_name": "Python 3",
   "language": "python",
   "name": "python3"
  },
  "language_info": {
   "codemirror_mode": {
    "name": "ipython",
    "version": 3
   },
   "file_extension": ".py",
   "mimetype": "text/x-python",
   "name": "python",
   "nbconvert_exporter": "python",
   "pygments_lexer": "ipython3",
   "version": "3.6.2"
  }
 },
 "nbformat": 4,
 "nbformat_minor": 2
}
