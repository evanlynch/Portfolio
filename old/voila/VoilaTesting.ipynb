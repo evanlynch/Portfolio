{
 "cells": [
  {
   "cell_type": "code",
   "execution_count": 8,
   "metadata": {},
   "outputs": [],
   "source": [
    "from __future__ import print_function\n",
    "import pandas as pd\n",
    "import numpy as np\n",
    "from math import ceil\n",
    "import ipywidgets as widgets\n",
    "import matplotlib.pyplot as plt\n",
    "import matplotlib.transforms as mtransforms\n",
    "from matplotlib.patches import FancyBboxPatch\n",
    "import chartify\n",
    "from ipywidgets import interact, interactive, fixed, interact_manual,FloatSlider\n",
    "import ipywidgets as widgets\n",
    "from gurobipy import *\n",
    "import seaborn as sns\n",
    "import numpy as np\n",
    "from IPython.display import display\n",
    "from bqplot import (\n",
    "    OrdinalScale, LinearScale, Bars, Lines, Axis, Figure)"
   ]
  },
  {
   "cell_type": "code",
   "execution_count": 9,
   "metadata": {},
   "outputs": [],
   "source": [
    "#set the number of hours to solve for\n",
    "numhours = 1\n",
    "\n",
    "#set the number of loading docks in the facility\n",
    "numdoors = 100\n",
    "\n",
    "#create ranges for hours and doors\n",
    "hours = range(1,numhours+1)\n",
    "doors = range(1,numdoors+1)\n",
    "\n",
    "#set how many areas in the facility \n",
    "numareas = 4\n",
    "\n",
    "#set goal load per associate for each area\n",
    "areas, goal = multidict({\n",
    "    1: 200,\n",
    "    2: 200, \n",
    "    3: 150,\n",
    "    4: 150\n",
    "    })\n",
    "\n",
    "#set the last door in each area\n",
    "areas, lastDoorInArea = multidict({\n",
    "    1: 25,\n",
    "    2: 50,\n",
    "    3: 75,\n",
    "    4: 100\n",
    "    }) \n",
    "\n",
    "#create the sets of doors that make up each area\n",
    "areaDoors = {}\n",
    "for area in areas:\n",
    "    if area == 1:\n",
    "        areaDoors[area] = range(1,lastDoorInArea[area]+1)\n",
    "    else: \n",
    "        areaDoors[area] = range(lastDoorInArea[area-1]+1,lastDoorInArea[area]+1)\n",
    "\n",
    "#set the limit of load size for any given associate\n",
    "loadLimit = 300\n",
    "\n",
    "#set the limit on the number of lines any given associate can be assigned\n",
    "lineLimit = 8"
   ]
  },
  {
   "cell_type": "code",
   "execution_count": 10,
   "metadata": {},
   "outputs": [],
   "source": [
    "#initialize sets for solutions, assignments and numassociates\n",
    "solutions = {}\n",
    "assignments = {}\n",
    "numassociates = {}\n",
    "\n",
    "\n",
    "#pull in volume matrix\n",
    "volData = pd.read_csv('../Distribute/volData8.csv',header=None)\n",
    "Vol = pd.DataFrame(volData,index=doors,columns=hours)\n",
    "#create subsets of volume by area of the facility, such that you have a volume for any given area,door,hour combination\n",
    "areaAreaDoorHour, Vol2 = multidict({'':0}) \n",
    "for a in areas:\n",
    "    for i in areaDoors[a]:\n",
    "        for h in hours:\n",
    "            Vol2[a,i,h] = int(Vol.loc[i,h])\n",
    "            \n",
    "del Vol2['']"
   ]
  },
  {
   "cell_type": "code",
   "execution_count": 11,
   "metadata": {},
   "outputs": [
    {
     "data": {
      "image/png": "[encoded data removed]",
      "text/plain": [
       "<Figure size 1080x216 with 2 Axes>"
      ]
     },
     "metadata": {
      "needs_background": "light"
     },
     "output_type": "display_data"
    }
   ],
   "source": [
    "volData = pd.read_csv('../Distribute/volData8A.csv')\n",
    "\n",
    "totalVol = volData.Hour8.sum()\n",
    "average_price = totalVol / volData.Hour8.sum(); average_price\n",
    "\n",
    "\n",
    "fig, axes = plt.subplots(nrows=1,ncols=2, figsize=(15,3))\n",
    "\n",
    "p_fancy = FancyBboxPatch(xy= (0.1, 0.1), width= 0.8,height= 0.8, boxstyle=\"round,pad=0.05\", fc= \"#96CEB4\", ec= \"#96CEB4\")\n",
    "axes[0].add_patch(p_fancy)\n",
    "axes[0].text(0.2, 0.4,\"{:,}\".format(totalVol),size=40, color = \"#ffffff\")\n",
    "axes[0].text(0.1, 0.75, \"1PM Total predicted volume\",size=20, color = \"#ffffff\")\n",
    "axes[0].text(0.1, 0.15, \"\",size=12, color = \"#ffffff\")\n",
    "axes[0].arrow(0.7, 0.4, 0, 0.1, head_width=0.05, head_length=0.1, width= 0.005, fc='k', ec='k')\n",
    "axes[0].hlines(y = 0.3, xmin=0.1, xmax=0.9, linewidth=0.8, color = \"#ffffff\")\n",
    "\n",
    "'''\n",
    "p_fancy = FancyBboxPatch(xy= (0.1, 0.1), width= 0.8,height= 0.8, boxstyle=\"round,pad=0.05\", fc= \"#FF6F69\", ec= \"#FF6F69\")\n",
    "axes[1].add_patch(p_fancy)\n",
    "axes[1].text(0.2, 0.4,format(round(average_price,1)),size=40, color = \"#ffffff\")\n",
    "axes[1].text(0.1, 0.75, \"average price\",size=20, color = \"#ffffff\")\n",
    "axes[1].text(0.1, 0.15, \"2018-12-24\",size=12, color = \"#ffffff\")\n",
    "axes[1].arrow(0.7, 0.6, 0, -0.1, head_width=0.05, head_length=0.1, width= 0.005, fc='k', ec='k')\n",
    "axes[1].hlines(y = 0.3, xmin=0.1, xmax=0.9, linewidth=0.8, color = \"#ffffff\")\n",
    "   '''\n",
    "for ax in axes:\n",
    "    ax.xaxis.set_visible(False)\n",
    "    ax.yaxis.set_visible(False)\n",
    "    \n",
    "    for pos in ['top','right','left','bottom']:\n",
    "        ax.spines[pos].set_visible(False)\n",
    "\n",
    "plt.subplots_adjust(wspace =  0.01)\n",
    "plt.show()"
   ]
  },
  {
   "cell_type": "code",
   "execution_count": 6,
   "metadata": {},
   "outputs": [
    {
     "data": {
      "text/html": [
       "\n",
       "\n",
       "\n",
       "\n",
       "\n",
       "\n",
       "  <div class=\"bk-root\" id=\"b2c80912-32f9-4547-898f-d2a7626d5f65\" data-root-id=\"1001\"></div>\n"
      ]
     },
     "metadata": {},
     "output_type": "display_data"
    },
    {
     "data": {
      "application/javascript": [
       "(function(root) {\n",
       "  function embed_document(root) {\n",
       "    \n",
       "  var docs_json = {\"fdd2df95-61a9-4527-a0cd-f49c74c83a02\":{\"roots\":{\"references\":[{\"attributes\":{\"above\":[{\"id\":\"1026\",\"type\":\"Title\"}],\"background_fill_color\":{\"value\":\"white\"},\"below\":[{\"id\":\"1010\",\"type\":\"LinearAxis\"},{\"id\":\"1025\",\"type\":\"Label\"}],\"border_fill_color\":{\"value\":\"white\"},\"left\":[{\"id\":\"1015\",\"type\":\"CategoricalAxis\"}],\"min_border_bottom\":60,\"min_border_left\":60,\"min_border_right\":60,\"min_border_top\":40,\"outline_line_color\":{\"value\":\"white\"},\"plot_height\":540,\"plot_width\":960,\"renderers\":[{\"id\":\"1010\",\"type\":\"LinearAxis\"},{\"id\":\"1014\",\"type\":\"Grid\"},{\"id\":\"1015\",\"type\":\"CategoricalAxis\"},{\"id\":\"1018\",\"type\":\"Grid\"},{\"id\":\"1025\",\"type\":\"Label\"},{\"id\":\"1026\",\"type\":\"Title\"},{\"id\":\"1035\",\"type\":\"GlyphRenderer\"},{\"id\":\"1053\",\"type\":\"Legend\"},{\"id\":\"1044\",\"type\":\"GlyphRenderer\"}],\"title\":{\"id\":\"1022\",\"type\":\"Title\"},\"toolbar\":{\"id\":\"1020\",\"type\":\"Toolbar\"},\"x_range\":{\"id\":\"1002\",\"type\":\"DataRange1d\"},\"x_scale\":{\"id\":\"1006\",\"type\":\"LinearScale\"},\"y_range\":{\"id\":\"1004\",\"type\":\"FactorRange\"},\"y_scale\":{\"id\":\"1008\",\"type\":\"CategoricalScale\"}},\"id\":\"1001\",\"subtype\":\"Figure\",\"type\":\"Plot\"},{\"attributes\":{\"data_source\":{\"id\":\"1037\",\"type\":\"ColumnDataSource\"},\"glyph\":{\"id\":\"1042\",\"type\":\"HBar\"},\"hover_glyph\":null,\"muted_glyph\":null,\"nonselection_glyph\":{\"id\":\"1043\",\"type\":\"HBar\"},\"selection_glyph\":null,\"view\":{\"id\":\"1045\",\"type\":\"CDSView\"}},\"id\":\"1044\",\"type\":\"GlyphRenderer\"},{\"attributes\":{},\"id\":\"1011\",\"type\":\"BasicTicker\"},{\"attributes\":{\"source\":{\"id\":\"1037\",\"type\":\"ColumnDataSource\"}},\"id\":\"1045\",\"type\":\"CDSView\"},{\"attributes\":{},\"id\":\"1050\",\"type\":\"CategoricalTickFormatter\"},{\"attributes\":{},\"id\":\"1006\",\"type\":\"LinearScale\"},{\"attributes\":{\"source\":{\"id\":\"1031\",\"type\":\"ColumnDataSource\"}},\"id\":\"1036\",\"type\":\"CDSView\"},{\"attributes\":{\"callback\":null,\"end\":null,\"start\":0},\"id\":\"1002\",\"type\":\"DataRange1d\"},{\"attributes\":{},\"id\":\"1051\",\"type\":\"Selection\"},{\"attributes\":{\"fill_alpha\":{\"value\":0.1},\"fill_color\":{\"value\":\"#1f77b4\"},\"height\":{\"value\":0.9},\"line_alpha\":{\"value\":0.1},\"line_color\":{\"value\":\"#1f77b4\"},\"right\":{\"field\":\"Hour8\"},\"y\":{\"field\":\"factors\"}},\"id\":\"1043\",\"type\":\"HBar\"},{\"attributes\":{},\"id\":\"1052\",\"type\":\"UnionRenderers\"},{\"attributes\":{},\"id\":\"1016\",\"type\":\"CategoricalTicker\"},{\"attributes\":{\"callback\":null,\"factor_padding\":0.25,\"factors\":[\"4\",\"3\",\"2\",\"1\"]},\"id\":\"1004\",\"type\":\"FactorRange\"},{\"attributes\":{\"items\":[{\"id\":\"1054\",\"type\":\"LegendItem\"}],\"location\":\"top_left\",\"orientation\":\"horizontal\",\"plot\":{\"id\":\"1001\",\"subtype\":\"Figure\",\"type\":\"Plot\"}},\"id\":\"1053\",\"type\":\"Legend\"},{\"attributes\":{\"plot\":{\"id\":\"1001\",\"subtype\":\"Figure\",\"type\":\"Plot\"},\"text\":\"\",\"text_color\":{\"value\":\"#666666\"},\"text_font_size\":{\"value\":\"12pt\"}},\"id\":\"1026\",\"type\":\"Title\"},{\"attributes\":{\"label\":{\"field\":\"color_column\"},\"renderers\":[{\"id\":\"1044\",\"type\":\"GlyphRenderer\"}]},\"id\":\"1054\",\"type\":\"LegendItem\"},{\"attributes\":{\"callback\":null,\"data\":{\"Hour8\":[971,784,811,1243],\"color_column\":[\"4\",\"3\",\"2\",\"1\"],\"factors\":[\"4\",\"3\",\"2\",\"1\"],\"index\":[0,1,2,3]},\"name\":\"Series:\",\"selected\":{\"id\":\"1062\",\"type\":\"Selection\"},\"selection_policy\":{\"id\":\"1063\",\"type\":\"UnionRenderers\"}},\"id\":\"1037\",\"type\":\"ColumnDataSource\"},{\"attributes\":{\"callback\":null,\"data\":{\"Hour8\":[1243,971,811,784],\"factors\":[\"1\",\"4\",\"2\",\"3\"],\"index\":[0,1,2,3],\"text_column\":[\"1243\",\"971\",\"811\",\"784\"]},\"name\":\"Series:\",\"selected\":{\"id\":\"1051\",\"type\":\"Selection\"},\"selection_policy\":{\"id\":\"1052\",\"type\":\"UnionRenderers\"}},\"id\":\"1031\",\"type\":\"ColumnDataSource\"},{\"attributes\":{},\"id\":\"1062\",\"type\":\"Selection\"},{\"attributes\":{},\"id\":\"1063\",\"type\":\"UnionRenderers\"},{\"attributes\":{\"dimension\":1,\"grid_line_color\":{\"value\":null},\"plot\":{\"id\":\"1001\",\"subtype\":\"Figure\",\"type\":\"Plot\"},\"ticker\":{\"id\":\"1016\",\"type\":\"CategoricalTicker\"}},\"id\":\"1018\",\"type\":\"Grid\"},{\"attributes\":{\"active_drag\":null,\"active_inspect\":\"auto\",\"active_multi\":null,\"active_scroll\":\"auto\",\"active_tap\":\"auto\",\"logo\":null,\"tools\":[{\"id\":\"1019\",\"type\":\"SaveTool\"}]},\"id\":\"1020\",\"type\":\"Toolbar\"},{\"attributes\":{\"level\":\"overlay\",\"name\":\"subtitle\",\"plot\":{\"id\":\"1001\",\"subtype\":\"Figure\",\"type\":\"Plot\"},\"text\":\"\",\"text_align\":\"right\",\"text_color\":{\"value\":\"#898989\"},\"text_font_size\":{\"value\":\"10px\"},\"x\":864.0,\"x_units\":\"screen\",\"y\":0,\"y_units\":\"screen\"},\"id\":\"1025\",\"type\":\"Label\"},{\"attributes\":{\"text\":{\"field\":\"text_column\"},\"text_alpha\":{\"value\":0.1},\"text_baseline\":\"middle\",\"text_color\":{\"value\":\"black\"},\"text_font_size\":{\"value\":\"1em\"},\"x\":{\"field\":\"Hour8\"},\"x_offset\":{\"value\":10},\"y\":{\"field\":\"factors\"}},\"id\":\"1034\",\"type\":\"Text\"},{\"attributes\":{\"text\":{\"field\":\"text_column\"},\"text_baseline\":\"middle\",\"text_color\":{\"value\":\"#1f77b4\"},\"text_font_size\":{\"value\":\"1em\"},\"x\":{\"field\":\"Hour8\"},\"x_offset\":{\"value\":10},\"y\":{\"field\":\"factors\"}},\"id\":\"1033\",\"type\":\"Text\"},{\"attributes\":{\"end\":1,\"factors\":[\"1\",\"2\",\"3\",\"4\"],\"palette\":[\"#1f77b4\",\"#ff7f0e\",\"#2ca02c\",\"#d62728\"]},\"id\":\"1038\",\"type\":\"CategoricalColorMapper\"},{\"attributes\":{\"data_source\":{\"id\":\"1031\",\"type\":\"ColumnDataSource\"},\"glyph\":{\"id\":\"1033\",\"type\":\"Text\"},\"hover_glyph\":null,\"muted_glyph\":null,\"nonselection_glyph\":{\"id\":\"1034\",\"type\":\"Text\"},\"selection_glyph\":null,\"view\":{\"id\":\"1036\",\"type\":\"CDSView\"}},\"id\":\"1035\",\"type\":\"GlyphRenderer\"},{\"attributes\":{},\"id\":\"1019\",\"type\":\"SaveTool\"},{\"attributes\":{},\"id\":\"1008\",\"type\":\"CategoricalScale\"},{\"attributes\":{\"fill_color\":{\"field\":\"color_column\",\"transform\":{\"id\":\"1038\",\"type\":\"CategoricalColorMapper\"}},\"height\":{\"value\":0.9},\"line_color\":{\"value\":\"white\"},\"right\":{\"field\":\"Hour8\"},\"y\":{\"field\":\"factors\"}},\"id\":\"1042\",\"type\":\"HBar\"},{\"attributes\":{\"grid_line_color\":{\"value\":null},\"plot\":{\"id\":\"1001\",\"subtype\":\"Figure\",\"type\":\"Plot\"},\"ticker\":{\"id\":\"1011\",\"type\":\"BasicTicker\"}},\"id\":\"1014\",\"type\":\"Grid\"},{\"attributes\":{\"axis_label_text_color\":{\"value\":\"#666666\"},\"axis_label_text_font_size\":{\"value\":\"11pt\"},\"axis_label_text_font_style\":\"bold\",\"axis_line_color\":{\"value\":\"#C0C0C0\"},\"formatter\":{\"id\":\"1050\",\"type\":\"CategoricalTickFormatter\"},\"group_text_font_size\":{\"value\":\"11pt\"},\"major_label_text_color\":{\"value\":\"#898989\"},\"major_label_text_font_size\":{\"value\":\"10pt\"},\"major_tick_in\":0,\"major_tick_line_color\":{\"value\":\"#C0C0C0\"},\"major_tick_out\":4,\"minor_tick_line_color\":{\"value\":\"#C0C0C0\"},\"minor_tick_out\":1,\"plot\":{\"id\":\"1001\",\"subtype\":\"Figure\",\"type\":\"Plot\"},\"separator_line_alpha\":{\"value\":0},\"subgroup_text_font_size\":{\"value\":\"11pt\"},\"ticker\":{\"id\":\"1016\",\"type\":\"CategoricalTicker\"}},\"id\":\"1015\",\"type\":\"CategoricalAxis\"},{\"attributes\":{\"plot\":null,\"text\":\"1PM Predicted Demand by Area\",\"text_color\":{\"value\":\"#333333\"},\"text_font_size\":{\"value\":\"18pt\"}},\"id\":\"1022\",\"type\":\"Title\"},{\"attributes\":{\"format\":\"0,0.[0000]\"},\"id\":\"1039\",\"type\":\"NumeralTickFormatter\"},{\"attributes\":{\"axis_label_text_color\":{\"value\":\"#666666\"},\"axis_label_text_font_size\":{\"value\":\"11pt\"},\"axis_label_text_font_style\":\"bold\",\"axis_line_color\":{\"value\":\"#C0C0C0\"},\"formatter\":{\"id\":\"1039\",\"type\":\"NumeralTickFormatter\"},\"major_label_text_color\":{\"value\":\"#898989\"},\"major_label_text_font_size\":{\"value\":\"10pt\"},\"major_tick_in\":0,\"major_tick_line_color\":{\"value\":\"#C0C0C0\"},\"major_tick_out\":4,\"minor_tick_line_color\":{\"value\":\"#C0C0C0\"},\"minor_tick_out\":1,\"plot\":{\"id\":\"1001\",\"subtype\":\"Figure\",\"type\":\"Plot\"},\"ticker\":{\"id\":\"1011\",\"type\":\"BasicTicker\"}},\"id\":\"1010\",\"type\":\"LinearAxis\"}],\"root_ids\":[\"1001\"]},\"title\":\"Bokeh Application\",\"version\":\"1.0.4\"}};\n",
       "  var render_items = [{\"docid\":\"fdd2df95-61a9-4527-a0cd-f49c74c83a02\",\"roots\":{\"1001\":\"b2c80912-32f9-4547-898f-d2a7626d5f65\"}}];\n",
       "  root.Bokeh.embed.embed_items_notebook(docs_json, render_items);\n",
       "\n",
       "  }\n",
       "  if (root.Bokeh !== undefined) {\n",
       "    embed_document(root);\n",
       "  } else {\n",
       "    var attempts = 0;\n",
       "    var timer = setInterval(function(root) {\n",
       "      if (root.Bokeh !== undefined) {\n",
       "        embed_document(root);\n",
       "        clearInterval(timer);\n",
       "      }\n",
       "      attempts++;\n",
       "      if (attempts > 100) {\n",
       "        console.log(\"Bokeh: ERROR: Unable to run BokehJS code because BokehJS library is missing\");\n",
       "        clearInterval(timer);\n",
       "      }\n",
       "    }, 10, root)\n",
       "  }\n",
       "})(window);"
      ],
      "application/vnd.bokehjs_exec.v0+json": ""
     },
     "metadata": {
      "application/vnd.bokehjs_exec.v0+json": {
       "id": "1001"
      }
     },
     "output_type": "display_data"
    }
   ],
   "source": [
    "volData = pd.read_csv('../Distribute/volData8A.csv')\n",
    "areaVol = pd.DataFrame(volData.groupby('Area').Hour8.sum()).reset_index()\n",
    "ch = chartify.Chart(blank_labels=True, y_axis_type='categorical')\n",
    "ch.set_title(\"1PM Predicted Demand by Area\")\n",
    "ch.plot.text(\n",
    "        data_frame=areaVol,\n",
    "        categorical_columns='Area',\n",
    "        numeric_column='Hour8',\n",
    "        text_column='Hour8')\n",
    "ch.style.color_palette.reset_palette_order()\n",
    "ch.plot.bar(\n",
    "    data_frame=areaVol,\n",
    "    categorical_columns='Area',\n",
    "    numeric_column='Hour8',\n",
    "    categorical_order_by=[4,3,2,1],\n",
    "    categorical_order_ascending=True,\n",
    "    color_column='Area'\n",
    ")\n",
    "ch.show('html')"
   ]
  },
  {
   "cell_type": "code",
   "execution_count": 7,
   "metadata": {},
   "outputs": [
    {
     "data": {
      "text/html": [
       "\n",
       "\n",
       "\n",
       "\n",
       "\n",
       "\n",
       "  <div class=\"bk-root\" id=\"8446e6ad-0796-451f-9771-e81033fbfece\" data-root-id=\"1118\"></div>\n"
      ]
     },
     "metadata": {},
     "output_type": "display_data"
    },
    {
     "data": {
      "application/javascript": [
       "(function(root) {\n",
       "  function embed_document(root) {\n",
       "    \n",
       "  var docs_json = {\"368f6bf3-bf6d-4e4a-aeda-b886c52e2cc1\":{\"roots\":{\"references\":[{\"attributes\":{\"above\":[{\"id\":\"1143\",\"type\":\"Title\"}],\"background_fill_color\":{\"value\":\"white\"},\"below\":[{\"id\":\"1127\",\"type\":\"CategoricalAxis\"},{\"id\":\"1142\",\"type\":\"Label\"}],\"border_fill_color\":{\"value\":\"white\"},\"left\":[{\"id\":\"1131\",\"type\":\"LinearAxis\"}],\"min_border_bottom\":60,\"min_border_left\":60,\"min_border_right\":60,\"min_border_top\":40,\"outline_line_color\":{\"value\":\"white\"},\"plot_height\":540,\"plot_width\":960,\"renderers\":[{\"id\":\"1127\",\"type\":\"CategoricalAxis\"},{\"id\":\"1130\",\"type\":\"Grid\"},{\"id\":\"1131\",\"type\":\"LinearAxis\"},{\"id\":\"1135\",\"type\":\"Grid\"},{\"id\":\"1142\",\"type\":\"Label\"},{\"id\":\"1143\",\"type\":\"Title\"},{\"id\":\"1161\",\"type\":\"Legend\"},{\"id\":\"1154\",\"type\":\"GlyphRenderer\"}],\"title\":{\"id\":\"1139\",\"type\":\"Title\"},\"toolbar\":{\"id\":\"1137\",\"type\":\"Toolbar\"},\"x_range\":{\"id\":\"1119\",\"type\":\"FactorRange\"},\"x_scale\":{\"id\":\"1123\",\"type\":\"CategoricalScale\"},\"y_range\":{\"id\":\"1121\",\"type\":\"DataRange1d\"},\"y_scale\":{\"id\":\"1125\",\"type\":\"LinearScale\"}},\"id\":\"1118\",\"subtype\":\"Figure\",\"type\":\"Plot\"},{\"attributes\":{},\"id\":\"1178\",\"type\":\"UnionRenderers\"},{\"attributes\":{\"plot\":null,\"text\":\"4PM Predicted Demand by Door\",\"text_color\":{\"value\":\"#333333\"},\"text_font_size\":{\"value\":\"18pt\"}},\"id\":\"1139\",\"type\":\"Title\"},{\"attributes\":{\"dimension\":1,\"grid_line_color\":{\"value\":null},\"plot\":{\"id\":\"1118\",\"subtype\":\"Figure\",\"type\":\"Plot\"},\"ticker\":{\"id\":\"1132\",\"type\":\"BasicTicker\"}},\"id\":\"1135\",\"type\":\"Grid\"},{\"attributes\":{},\"id\":\"1132\",\"type\":\"BasicTicker\"},{\"attributes\":{\"axis_label_text_color\":{\"value\":\"#666666\"},\"axis_label_text_font_size\":{\"value\":\"11pt\"},\"axis_label_text_font_style\":\"bold\",\"axis_line_color\":{\"value\":\"#C0C0C0\"},\"formatter\":{\"id\":\"1149\",\"type\":\"NumeralTickFormatter\"},\"major_label_text_color\":{\"value\":\"#898989\"},\"major_label_text_font_size\":{\"value\":\"10pt\"},\"major_tick_in\":0,\"major_tick_line_color\":{\"value\":\"#C0C0C0\"},\"major_tick_out\":4,\"minor_tick_line_color\":{\"value\":\"#C0C0C0\"},\"minor_tick_out\":1,\"plot\":{\"id\":\"1118\",\"subtype\":\"Figure\",\"type\":\"Plot\"},\"ticker\":{\"id\":\"1132\",\"type\":\"BasicTicker\"}},\"id\":\"1131\",\"type\":\"LinearAxis\"},{\"attributes\":{},\"id\":\"1128\",\"type\":\"CategoricalTicker\"},{\"attributes\":{\"axis_label_text_color\":{\"value\":\"#666666\"},\"axis_label_text_font_size\":{\"value\":\"11pt\"},\"axis_label_text_font_style\":\"bold\",\"axis_line_alpha\":{\"value\":0},\"axis_line_color\":{\"value\":\"#C0C0C0\"},\"formatter\":{\"id\":\"1159\",\"type\":\"CategoricalTickFormatter\"},\"group_text_font_size\":{\"value\":\"11pt\"},\"major_label_text_color\":{\"value\":null},\"major_label_text_font_size\":{\"value\":\"10pt\"},\"major_tick_in\":0,\"major_tick_line_color\":{\"value\":null},\"major_tick_out\":4,\"minor_tick_line_color\":{\"value\":null},\"minor_tick_out\":1,\"plot\":{\"id\":\"1118\",\"subtype\":\"Figure\",\"type\":\"Plot\"},\"separator_line_alpha\":{\"value\":0},\"subgroup_text_font_size\":{\"value\":\"11pt\"},\"ticker\":{\"id\":\"1128\",\"type\":\"CategoricalTicker\"}},\"id\":\"1127\",\"type\":\"CategoricalAxis\"},{\"attributes\":{\"grid_line_color\":{\"value\":null},\"plot\":{\"id\":\"1118\",\"subtype\":\"Figure\",\"type\":\"Plot\"},\"ticker\":{\"id\":\"1128\",\"type\":\"CategoricalTicker\"}},\"id\":\"1130\",\"type\":\"Grid\"},{\"attributes\":{\"callback\":null,\"data\":{\"Hour8\":[91,61,91,72,0,27,84,22,64,14,88,56,11,0,47,98,3,22,72,100,35,46,64,3,72,0,0,0,52,0,79,62,0,0,0,8,74,42,44,2,0,31,52,53,36,98,66,99,13,0,6,0,23,0,28,0,17,45,39,7,73,17,59,32,1,10,61,40,13,22,75,84,73,56,3,0,90,0,18,49,42,93,45,86,84,0,0,0,56,99,78,4,37,36,77,4,2,33,18,20],\"color_column\":[\"1\",\"1\",\"1\",\"1\",\"1\",\"1\",\"1\",\"1\",\"1\",\"1\",\"1\",\"1\",\"1\",\"1\",\"1\",\"1\",\"1\",\"1\",\"1\",\"1\",\"1\",\"1\",\"1\",\"1\",\"1\",\"2\",\"2\",\"2\",\"2\",\"2\",\"2\",\"2\",\"2\",\"2\",\"2\",\"2\",\"2\",\"2\",\"2\",\"2\",\"2\",\"2\",\"2\",\"2\",\"2\",\"2\",\"2\",\"2\",\"2\",\"2\",\"3\",\"3\",\"3\",\"3\",\"3\",\"3\",\"3\",\"3\",\"3\",\"3\",\"3\",\"3\",\"3\",\"3\",\"3\",\"3\",\"3\",\"3\",\"3\",\"3\",\"3\",\"3\",\"3\",\"3\",\"3\",\"4\",\"4\",\"4\",\"4\",\"4\",\"4\",\"4\",\"4\",\"4\",\"4\",\"4\",\"4\",\"4\",\"4\",\"4\",\"4\",\"4\",\"4\",\"4\",\"4\",\"4\",\"4\",\"4\",\"4\",\"4\"],\"factors\":[\"1\",\"2\",\"3\",\"4\",\"5\",\"6\",\"7\",\"8\",\"9\",\"10\",\"11\",\"12\",\"13\",\"14\",\"15\",\"16\",\"17\",\"18\",\"19\",\"20\",\"21\",\"22\",\"23\",\"24\",\"25\",\"26\",\"27\",\"28\",\"29\",\"30\",\"31\",\"32\",\"33\",\"34\",\"35\",\"36\",\"37\",\"38\",\"39\",\"40\",\"41\",\"42\",\"43\",\"44\",\"45\",\"46\",\"47\",\"48\",\"49\",\"50\",\"51\",\"52\",\"53\",\"54\",\"55\",\"56\",\"57\",\"58\",\"59\",\"60\",\"61\",\"62\",\"63\",\"64\",\"65\",\"66\",\"67\",\"68\",\"69\",\"70\",\"71\",\"72\",\"73\",\"74\",\"75\",\"76\",\"77\",\"78\",\"79\",\"80\",\"81\",\"82\",\"83\",\"84\",\"85\",\"86\",\"87\",\"88\",\"89\",\"90\",\"91\",\"92\",\"93\",\"94\",\"95\",\"96\",\"97\",\"98\",\"99\",\"100\"],\"index\":[0,1,2,3,4,5,6,7,8,9,10,11,12,13,14,15,16,17,18,19,20,21,22,23,24,25,26,27,28,29,30,31,32,33,34,35,36,37,38,39,40,41,42,43,44,45,46,47,48,49,50,51,52,53,54,55,56,57,58,59,60,61,62,63,64,65,66,67,68,69,70,71,72,73,74,75,76,77,78,79,80,81,82,83,84,85,86,87,88,89,90,91,92,93,94,95,96,97,98,99]},\"name\":\"Series:\",\"selected\":{\"id\":\"1177\",\"type\":\"Selection\"},\"selection_policy\":{\"id\":\"1178\",\"type\":\"UnionRenderers\"}},\"id\":\"1147\",\"type\":\"ColumnDataSource\"},{\"attributes\":{\"level\":\"overlay\",\"name\":\"subtitle\",\"plot\":{\"id\":\"1118\",\"subtype\":\"Figure\",\"type\":\"Plot\"},\"text\":\"\",\"text_align\":\"right\",\"text_color\":{\"value\":\"#898989\"},\"text_font_size\":{\"value\":\"10px\"},\"x\":864.0,\"x_units\":\"screen\",\"y\":0,\"y_units\":\"screen\"},\"id\":\"1142\",\"type\":\"Label\"},{\"attributes\":{\"end\":1,\"factors\":[\"1\",\"2\",\"3\",\"4\"],\"palette\":[\"#1f77b4\",\"#ff7f0e\",\"#2ca02c\",\"#d62728\"]},\"id\":\"1148\",\"type\":\"CategoricalColorMapper\"},{\"attributes\":{\"plot\":{\"id\":\"1118\",\"subtype\":\"Figure\",\"type\":\"Plot\"},\"text\":\"\",\"text_color\":{\"value\":\"#666666\"},\"text_font_size\":{\"value\":\"12pt\"}},\"id\":\"1143\",\"type\":\"Title\"},{\"attributes\":{},\"id\":\"1136\",\"type\":\"SaveTool\"},{\"attributes\":{\"fill_color\":{\"field\":\"color_column\",\"transform\":{\"id\":\"1148\",\"type\":\"CategoricalColorMapper\"}},\"line_color\":{\"value\":\"white\"},\"top\":{\"field\":\"Hour8\"},\"width\":{\"value\":0.9},\"x\":{\"field\":\"factors\"}},\"id\":\"1152\",\"type\":\"VBar\"},{\"attributes\":{},\"id\":\"1125\",\"type\":\"LinearScale\"},{\"attributes\":{\"format\":\"0,0.[000]\"},\"id\":\"1149\",\"type\":\"NumeralTickFormatter\"},{\"attributes\":{},\"id\":\"1177\",\"type\":\"Selection\"},{\"attributes\":{},\"id\":\"1123\",\"type\":\"CategoricalScale\"},{\"attributes\":{\"fill_alpha\":{\"value\":0.1},\"fill_color\":{\"value\":\"#1f77b4\"},\"line_alpha\":{\"value\":0.1},\"line_color\":{\"value\":\"#1f77b4\"},\"top\":{\"field\":\"Hour8\"},\"width\":{\"value\":0.9},\"x\":{\"field\":\"factors\"}},\"id\":\"1153\",\"type\":\"VBar\"},{\"attributes\":{\"active_drag\":null,\"active_inspect\":\"auto\",\"active_multi\":null,\"active_scroll\":\"auto\",\"active_tap\":\"auto\",\"logo\":null,\"tools\":[{\"id\":\"1136\",\"type\":\"SaveTool\"}]},\"id\":\"1137\",\"type\":\"Toolbar\"},{\"attributes\":{\"data_source\":{\"id\":\"1147\",\"type\":\"ColumnDataSource\"},\"glyph\":{\"id\":\"1152\",\"type\":\"VBar\"},\"hover_glyph\":null,\"muted_glyph\":null,\"nonselection_glyph\":{\"id\":\"1153\",\"type\":\"VBar\"},\"selection_glyph\":null,\"view\":{\"id\":\"1155\",\"type\":\"CDSView\"}},\"id\":\"1154\",\"type\":\"GlyphRenderer\"},{\"attributes\":{\"callback\":null,\"end\":null,\"start\":0},\"id\":\"1121\",\"type\":\"DataRange1d\"},{\"attributes\":{\"callback\":null,\"factor_padding\":0.25,\"factors\":[\"1\",\"2\",\"3\",\"4\",\"5\",\"6\",\"7\",\"8\",\"9\",\"10\",\"11\",\"12\",\"13\",\"14\",\"15\",\"16\",\"17\",\"18\",\"19\",\"20\",\"21\",\"22\",\"23\",\"24\",\"25\",\"26\",\"27\",\"28\",\"29\",\"30\",\"31\",\"32\",\"33\",\"34\",\"35\",\"36\",\"37\",\"38\",\"39\",\"40\",\"41\",\"42\",\"43\",\"44\",\"45\",\"46\",\"47\",\"48\",\"49\",\"50\",\"51\",\"52\",\"53\",\"54\",\"55\",\"56\",\"57\",\"58\",\"59\",\"60\",\"61\",\"62\",\"63\",\"64\",\"65\",\"66\",\"67\",\"68\",\"69\",\"70\",\"71\",\"72\",\"73\",\"74\",\"75\",\"76\",\"77\",\"78\",\"79\",\"80\",\"81\",\"82\",\"83\",\"84\",\"85\",\"86\",\"87\",\"88\",\"89\",\"90\",\"91\",\"92\",\"93\",\"94\",\"95\",\"96\",\"97\",\"98\",\"99\",\"100\"]},\"id\":\"1119\",\"type\":\"FactorRange\"},{\"attributes\":{\"source\":{\"id\":\"1147\",\"type\":\"ColumnDataSource\"}},\"id\":\"1155\",\"type\":\"CDSView\"},{\"attributes\":{\"items\":[{\"id\":\"1162\",\"type\":\"LegendItem\"}],\"location\":\"top_left\",\"orientation\":\"horizontal\",\"plot\":{\"id\":\"1118\",\"subtype\":\"Figure\",\"type\":\"Plot\"}},\"id\":\"1161\",\"type\":\"Legend\"},{\"attributes\":{},\"id\":\"1159\",\"type\":\"CategoricalTickFormatter\"},{\"attributes\":{\"label\":{\"field\":\"color_column\"},\"renderers\":[{\"id\":\"1154\",\"type\":\"GlyphRenderer\"}]},\"id\":\"1162\",\"type\":\"LegendItem\"}],\"root_ids\":[\"1118\"]},\"title\":\"Bokeh Application\",\"version\":\"1.0.4\"}};\n",
       "  var render_items = [{\"docid\":\"368f6bf3-bf6d-4e4a-aeda-b886c52e2cc1\",\"roots\":{\"1118\":\"8446e6ad-0796-451f-9771-e81033fbfece\"}}];\n",
       "  root.Bokeh.embed.embed_items_notebook(docs_json, render_items);\n",
       "\n",
       "  }\n",
       "  if (root.Bokeh !== undefined) {\n",
       "    embed_document(root);\n",
       "  } else {\n",
       "    var attempts = 0;\n",
       "    var timer = setInterval(function(root) {\n",
       "      if (root.Bokeh !== undefined) {\n",
       "        embed_document(root);\n",
       "        clearInterval(timer);\n",
       "      }\n",
       "      attempts++;\n",
       "      if (attempts > 100) {\n",
       "        console.log(\"Bokeh: ERROR: Unable to run BokehJS code because BokehJS library is missing\");\n",
       "        clearInterval(timer);\n",
       "      }\n",
       "    }, 10, root)\n",
       "  }\n",
       "})(window);"
      ],
      "application/vnd.bokehjs_exec.v0+json": ""
     },
     "metadata": {
      "application/vnd.bokehjs_exec.v0+json": {
       "id": "1118"
      }
     },
     "output_type": "display_data"
    }
   ],
   "source": [
    "volData = pd.read_csv('../Distribute/volData8A.csv')\n",
    "ch = chartify.Chart(blank_labels=True, x_axis_type='categorical')\n",
    "ch.set_title(\"4PM Predicted Demand by Door\")\n",
    "ch.plot.bar(\n",
    "    data_frame=volData,\n",
    "    categorical_columns='Door',\n",
    "    numeric_column='Hour8',\n",
    "    categorical_order_by='labels',\n",
    "    categorical_order_ascending=True,\n",
    "    color_column='Area',\n",
    "    color_order=[1,2,3,4])\n",
    "ch.axes.hide_xaxis()\n",
    "ch.show('html')"
   ]
  },
  {
   "cell_type": "code",
   "execution_count": 8,
   "metadata": {
    "scrolled": true
   },
   "outputs": [
    {
     "data": {
      "application/vnd.jupyter.widget-view+json": {
       "model_id": "69191f2682824e38b0ea752b34b79a10",
       "version_major": 2,
       "version_minor": 0
      },
      "text/plain": [
       "interactive(children=(Button(description='Run Allocation', style=ButtonStyle()), Output()), _dom_classes=('wid…"
      ]
     },
     "metadata": {},
     "output_type": "display_data"
    }
   ],
   "source": [
    "used = {}\n",
    "volNotLoaded = 0\n",
    "interact_calc=interact.options(manual=True, manual_name=\"Run Allocation\")\n",
    "\n",
    "@interact_calc()\n",
    "def solve():\n",
    "    m = Model('DynamicResourceAllocation')\n",
    "    for hour in hours:\n",
    "        associateID = 1\n",
    "        for area in [1,2,3,4]: \n",
    "            \n",
    "            #print('area:',area)\n",
    "            #determine the number of associates required by volume for the hour\n",
    "            numassociates[area,hour] = ceil(sum(Vol2[area,door,hour] for door in areaDoors[area] if Vol2[area,door,hour] > 0)/goal[area])\n",
    "            #set the range of associates\n",
    "            associates = range(1,numassociates[area,hour]+1)\n",
    "\n",
    "            ''' ----- DECISION VARIABLES -----  '''\n",
    "\n",
    "            #Assignment of doors to associates\n",
    "            X = m.addVars(areaDoors[area],associates,vtype=GRB.BINARY,name='X')\n",
    "            #Whether associate is used or not\n",
    "            Z = m.addVars(associates,vtype=GRB.BINARY,name='Z')\n",
    "            #Deviation under goal\n",
    "            alpha = m.addVars(associates,lb=0.0, vtype=GRB.CONTINUOUS,name='alpha')\n",
    "\n",
    "            # ----- OBJECTIVE FUNCTION ----- #\n",
    "\n",
    "            m.setObjective(quicksum(alpha[j] for j in associates),GRB.MINIMIZE)\n",
    "\n",
    "            ''' ----- CONSTRAINTS ----- '''\n",
    "\n",
    "            '''For any associate in the set of associates that are calculated as needed in that area and hour, \n",
    "            the sum of volume going to the doors that associate is assigned must be greater than or equal to \n",
    "            the goal, minus the underachievement.'''\n",
    "            m.addConstrs((sum(Vol2[area,i, hour] * X[i,j] for i in areaDoors[area] if Vol2[area, i, hour] > 0) \n",
    "                >=  Z[j]*goal[area] - alpha[j] for j in associates),\"devFromGoal\")\n",
    "\n",
    "            '''Ensure that associates are only assigned to doors that are adjacent to each other. \n",
    "            If a door has a volume of zero, it will skip the consideration of assigning an associate \n",
    "            to that door, and thus the next adjacent door can be assigned.'''\n",
    "            m.addConstrs((X[i2,j] >= X[i1,j] + X[i3,j] - 1 \n",
    "                for j in associates for i1 in areaDoors[area] if Vol2[area,i1,hour]>0 \n",
    "                for i2 in areaDoors[area] if Vol2[area,i2,hour]>0 for i3 in areaDoors[area] if Vol2[area,i3,hour]>0 \n",
    "                if i1<i2<i3),\"doorAdjacency\")\n",
    "\n",
    "            '''Ensure that a door is assigned to one associate and only one.'''\n",
    "            m.addConstrs((sum(X[i,j] for j in associates) == 1 for i in areaDoors[area] if Vol2[area, i, hour] > 0),\"assignOnly1\")\n",
    "\n",
    "            '''Ensure that if a door has no volume in a given hour, it must not be assigned.'''\n",
    "            m.addConstrs((sum(X[i,j] for j in associates) == 0 for i in areaDoors[area] if Vol2[area, i, hour] == 0),\"doNotAssignZeroVolDoor\")\n",
    "\n",
    "            '''Binary switching constraints. If a door is assigned an associate, that associate must be considered as used.'''\n",
    "            m.addConstrs((X[i,j] <= Z[j] for j in associates for i in areaDoors[area] if Vol2[area, i, hour] > 0),\"usedBinarySwitch\")\n",
    "\n",
    "            '''If an associate is to be used, they must be assigned to at least one door.'''\n",
    "            m.addConstrs((quicksum(X[i,j] for i in areaDoors[area]) >= Z[j] for j in associates),\"assignedBinarySwitch\")\n",
    "\n",
    "            '''Ensure that the deviation for an associate does not exceed the goal for that associate (don't completely understand this) '''\n",
    "            m.addConstrs((alpha[j] <= goal[area]*Z[j] for j in associates),\"IDK\")\n",
    "\n",
    "            '''The model has to use the number of associates that are calculated as needed in the area and hour,\n",
    "            minus one associate if it can find a way to feasibly do so.'''\n",
    "            m.addConstr((quicksum(Z[j] for j in associates) >= numassociates[area,hour]-1),\"minusOneIfPossible\")\n",
    "\n",
    "            '''Ensure that the volume assigned to an associate across doors to not exceed a certain number of cartons.'''\n",
    "            m.addConstrs((quicksum(Vol2[area,i,hour] * X[i,j] for i in areaDoors[area]) <= loadLimit for j in associates),\"loadLimit\")\n",
    "\n",
    "            '''Ensure that the number of doors an associate is assigned never exceeds a certain number.'''\n",
    "            m.addConstrs((quicksum(X[i,j] for i in areaDoors[area]) <= lineLimit for j in associates),\"lineLimit\")\n",
    "\n",
    "            ''' ----- BEGIN RUN ----- '''\n",
    "            #print('Beginning optimization')\n",
    "            #allow optimization to run in the background without displaying all the output; solve\n",
    "            m.setParam( 'OutputFlag', False )\n",
    "            m.optimize()\n",
    "            \n",
    "            ''' ----- POST-SOLUTION PROCESSING ----- '''\n",
    "\n",
    "            #obj = m.getObjective()\n",
    "            #solutions[area,hour] = obj.getValue()\n",
    "\n",
    "            #calculate the load per used associate and whether associate was used\n",
    "            load = {}\n",
    "            \n",
    "            totalUsed = 0\n",
    "            for j in associates: \n",
    "                load[area,hour,j] = sum(Vol2[area,i,hour]*X[i,j].x for i in areaDoors[area] if Vol2[area,i,hour]>0)\n",
    "                if load[area,hour,j] > 0:\n",
    "                    used[area,hour,j] = 1\n",
    "                else: \n",
    "                    used[area,hour,j] = 0\n",
    "                totalUsed += used[area,hour,j]\n",
    "\n",
    "            #create a dataFrame for the hour, which will contain the associate to door assignments\n",
    "            assignments[area,hour] = pd.DataFrame(data=None,index=areaDoors[area],columns=associates)\n",
    "            \n",
    "            for j in associates:\n",
    "                if Z[j].x==1:\n",
    "                    for i in areaDoors[area]:\n",
    "                        if X[i,j].x == 1:\n",
    "                            assignments[area,hour].loc[i,j] = associateID\n",
    "                        else:\n",
    "                            assignments[area,hour].loc[i,j] = 0\n",
    "                    associateID += 1\n",
    "            #calculate the area productivity\n",
    "            productivity = {}\n",
    "\n",
    "        assignmentsFull = pd.DataFrame()\n",
    "        for a in assignments:\n",
    "            assignmentsFull = assignmentsFull.append(assignments[a])\n",
    "            numAssociates = len(assignmentsFull.columns)\n",
    "        assignmentsFull = assignmentsFull.loc[:, 1:numAssociates].replace(1, pd.Series(assignmentsFull.columns, assignmentsFull.columns))\n",
    "        assignmentsFull['Assignment'] = assignmentsFull.max(axis=1)\n",
    "        assignmentsFull['Hour'] = hour\n",
    "        assignmentsFull = assignmentsFull.reset_index().rename({'index':'Door'},axis=1)\n",
    "        assignmentsFull = assignmentsFull[['Hour','Door','Assignment']]\n",
    "        assignmentsFull.to_csv('Hour{}.csv'.format(hour),index=False)\n",
    "    "
   ]
  },
  {
   "cell_type": "code",
   "execution_count": 9,
   "metadata": {},
   "outputs": [
    {
     "data": {
      "text/plain": [
       "'for hour in hours:\\n    charts[hour] = makeChart(hour)'"
      ]
     },
     "execution_count": 9,
     "metadata": {},
     "output_type": "execute_result"
    }
   ],
   "source": [
    "#making the chart for each hour\n",
    "charts = {}\n",
    "hours = range(1,8)\n",
    "def makeChart(hour):\n",
    "    #resultsData = pd.read_csv('Hour7.csv')\n",
    "    #resultsData = resultsData[resultsData.Hour==hour]\n",
    "    #ax = sns.barplot(x=\"Door\", y=\"Volume\",hue='Assignment', data=resultsData)\n",
    "    \n",
    "    ch = chartify.Chart(blank_labels=True, x_axis_type='categorical')\n",
    "    ch.set_title(\"Associate to Door Assignment\")\n",
    "    ch.plot.bar(\n",
    "        data_frame=resultsData,\n",
    "        categorical_columns='Door',\n",
    "        numeric_column='Volume',\n",
    "        categorical_order_by='labels',\n",
    "        categorical_order_ascending=True,\n",
    "        color_column='Assignment')\n",
    "        #color_order=[i for i in range(1,int(resultsData.Assignment.max())+1)])\n",
    "    ch.axes.hide_xaxis()\n",
    "    ch.set_legend_location(None)\n",
    "    ch.style.color_palette.reset_palette_order()\n",
    "    return ax\n"
   ]
  },
  {
   "cell_type": "code",
   "execution_count": 42,
   "metadata": {
    "scrolled": false
   },
   "outputs": [
    {
     "data": {
      "application/vnd.jupyter.widget-view+json": {
       "model_id": "2ca0f75ec58746c480aabb25147167fc",
       "version_major": 2,
       "version_minor": 0
      },
      "text/plain": [
       "interactive(children=(IntSlider(value=1, description='hour', max=7, min=1), Output()), _dom_classes=('widget-i…"
      ]
     },
     "metadata": {},
     "output_type": "display_data"
    }
   ],
   "source": [
    "#@showDoorLevelResults()\n",
    "def showDoorLevelResults(hour):\n",
    "    resultsData = pd.read_csv('Hour7.csv')\n",
    "    resultsData = resultsData[resultsData.Hour==hour]\n",
    "    ch = chartify.Chart(blank_labels=True, x_axis_type='categorical')\n",
    "    ch.set_title(\"Associate to Door Assignment\")\n",
    "    ch.plot.bar(\n",
    "        data_frame=resultsData,\n",
    "        categorical_columns='Door',\n",
    "        numeric_column='Volume',\n",
    "        categorical_order_by='labels',\n",
    "        categorical_order_ascending=True,\n",
    "        color_column='Assignment')\n",
    "        #color_order=[i for i in range(1,int(resultsData.Assignment.max())+1)])\n",
    "    ch.axes.hide_xaxis()\n",
    "    ch.set_legend_location(None)\n",
    "    ch.style.color_palette.reset_palette_order()\n",
    "    return ch.show('html')\n",
    "testFig = interact(showDoorLevelResults, hour=widgets.IntSlider(min=1,max=7,step=1,value=1));"
   ]
  },
  {
   "cell_type": "code",
   "execution_count": 51,
   "metadata": {
    "scrolled": true
   },
   "outputs": [
    {
     "data": {
      "text/html": [
       "\n",
       "\n",
       "\n",
       "\n",
       "\n",
       "\n",
       "  <div class=\"bk-root\" id=\"120f9f35-f2da-4db8-b1f3-e33524b39f92\" data-root-id=\"5522\"></div>\n"
      ]
     },
     "metadata": {},
     "output_type": "display_data"
    },
    {
     "data": {
      "application/javascript": [
       "(function(root) {\n",
       "  function embed_document(root) {\n",
       "    \n",
       "  var docs_json = {\"5a6ff9c9-c07e-42a3-8826-93e50cfbf1a1\":{\"roots\":{\"references\":[{\"attributes\":{\"above\":[{\"id\":\"5547\",\"type\":\"Title\"}],\"background_fill_color\":{\"value\":\"white\"},\"below\":[{\"id\":\"5531\",\"type\":\"CategoricalAxis\"},{\"id\":\"5546\",\"type\":\"Label\"}],\"border_fill_color\":{\"value\":\"white\"},\"left\":[{\"id\":\"5535\",\"type\":\"LinearAxis\"}],\"min_border_bottom\":60,\"min_border_left\":60,\"min_border_right\":60,\"min_border_top\":40,\"outline_line_color\":{\"value\":\"white\"},\"plot_height\":540,\"plot_width\":960,\"renderers\":[{\"id\":\"5531\",\"type\":\"CategoricalAxis\"},{\"id\":\"5534\",\"type\":\"Grid\"},{\"id\":\"5535\",\"type\":\"LinearAxis\"},{\"id\":\"5539\",\"type\":\"Grid\"},{\"id\":\"5546\",\"type\":\"Label\"},{\"id\":\"5547\",\"type\":\"Title\"},{\"id\":\"5565\",\"type\":\"Legend\"},{\"id\":\"5558\",\"type\":\"GlyphRenderer\"}],\"title\":{\"id\":\"5543\",\"type\":\"Title\"},\"toolbar\":{\"id\":\"5541\",\"type\":\"Toolbar\"},\"x_range\":{\"id\":\"5523\",\"type\":\"FactorRange\"},\"x_scale\":{\"id\":\"5527\",\"type\":\"CategoricalScale\"},\"y_range\":{\"id\":\"5525\",\"type\":\"DataRange1d\"},\"y_scale\":{\"id\":\"5529\",\"type\":\"LinearScale\"}},\"id\":\"5522\",\"subtype\":\"Figure\",\"type\":\"Plot\"},{\"attributes\":{},\"id\":\"5540\",\"type\":\"SaveTool\"},{\"attributes\":{},\"id\":\"5527\",\"type\":\"CategoricalScale\"},{\"attributes\":{\"plot\":null,\"text\":\"Associate to Door Assignment\",\"text_color\":{\"value\":\"#333333\"},\"text_font_size\":{\"value\":\"18pt\"}},\"id\":\"5543\",\"type\":\"Title\"},{\"attributes\":{},\"id\":\"5529\",\"type\":\"LinearScale\"},{\"attributes\":{\"end\":1,\"factors\":[\"0\",\"1\",\"2\",\"3\",\"4\",\"5\",\"6\",\"7\",\"8\",\"9\",\"10\",\"11\",\"12\",\"13\",\"14\",\"15\",\"16\"],\"palette\":[\"#1f77b4\",\"#ff7f0e\",\"#2ca02c\",\"#d62728\",\"#9467bd\",\"#8c564b\",\"#e377c2\",\"#7f7f7f\",\"#bcbd22\",\"#17becf\",\"#aec7e8\",\"#ffbb78\",\"#98df8a\",\"#ff9896\",\"#c5b0d5\",\"#c49c94\",\"#f7b6d2\"]},\"id\":\"5552\",\"type\":\"CategoricalColorMapper\"},{\"attributes\":{\"axis_label_text_color\":{\"value\":\"#666666\"},\"axis_label_text_font_size\":{\"value\":\"11pt\"},\"axis_label_text_font_style\":\"bold\",\"axis_line_alpha\":{\"value\":0},\"axis_line_color\":{\"value\":\"#C0C0C0\"},\"formatter\":{\"id\":\"5563\",\"type\":\"CategoricalTickFormatter\"},\"group_text_font_size\":{\"value\":\"11pt\"},\"major_label_text_color\":{\"value\":null},\"major_label_text_font_size\":{\"value\":\"10pt\"},\"major_tick_in\":0,\"major_tick_line_color\":{\"value\":null},\"major_tick_out\":4,\"minor_tick_line_color\":{\"value\":null},\"minor_tick_out\":1,\"plot\":{\"id\":\"5522\",\"subtype\":\"Figure\",\"type\":\"Plot\"},\"separator_line_alpha\":{\"value\":0},\"subgroup_text_font_size\":{\"value\":\"11pt\"},\"ticker\":{\"id\":\"5532\",\"type\":\"CategoricalTicker\"}},\"id\":\"5531\",\"type\":\"CategoricalAxis\"},{\"attributes\":{},\"id\":\"5563\",\"type\":\"CategoricalTickFormatter\"},{\"attributes\":{\"callback\":null,\"data\":{\"Volume\":[38,27,18,0,0,0,2,68,0,0,0,80,36,0,57,12,32,0,68,29,25,19,15,43,19,68,49,0,0,33,0,9,5,68,46,35,62,55,0,59,4,18,14,0,54,0,4,2,50,3,49,30,80,9,4,43,12,38,41,0,66,9,76,78,29,0,20,77,48,31,31,22,0,29,41,0,0,32,46,51,12,23,80,1,19,78,31,0,17,12,48,40,39,90,0,59,50,48,18,54],\"color_column\":[\"3\",\"3\",\"3\",\"0\",\"0\",\"0\",\"3\",\"3\",\"0\",\"0\",\"0\",\"1\",\"1\",\"0\",\"1\",\"1\",\"1\",\"0\",\"2\",\"2\",\"2\",\"2\",\"2\",\"2\",\"2\",\"5\",\"5\",\"0\",\"0\",\"5\",\"0\",\"5\",\"5\",\"5\",\"5\",\"6\",\"6\",\"6\",\"0\",\"6\",\"4\",\"4\",\"4\",\"0\",\"4\",\"0\",\"4\",\"4\",\"4\",\"4\",\"10\",\"10\",\"10\",\"8\",\"8\",\"8\",\"8\",\"8\",\"8\",\"0\",\"8\",\"8\",\"11\",\"11\",\"9\",\"0\",\"9\",\"9\",\"9\",\"7\",\"7\",\"7\",\"0\",\"7\",\"7\",\"0\",\"0\",\"12\",\"12\",\"12\",\"12\",\"12\",\"13\",\"13\",\"13\",\"13\",\"13\",\"0\",\"16\",\"16\",\"16\",\"16\",\"16\",\"15\",\"0\",\"15\",\"14\",\"14\",\"14\",\"14\"],\"factors\":[\"1\",\"2\",\"3\",\"4\",\"5\",\"6\",\"7\",\"8\",\"9\",\"10\",\"11\",\"12\",\"13\",\"14\",\"15\",\"16\",\"17\",\"18\",\"19\",\"20\",\"21\",\"22\",\"23\",\"24\",\"25\",\"26\",\"27\",\"28\",\"29\",\"30\",\"31\",\"32\",\"33\",\"34\",\"35\",\"36\",\"37\",\"38\",\"39\",\"40\",\"41\",\"42\",\"43\",\"44\",\"45\",\"46\",\"47\",\"48\",\"49\",\"50\",\"51\",\"52\",\"53\",\"54\",\"55\",\"56\",\"57\",\"58\",\"59\",\"60\",\"61\",\"62\",\"63\",\"64\",\"65\",\"66\",\"67\",\"68\",\"69\",\"70\",\"71\",\"72\",\"73\",\"74\",\"75\",\"76\",\"77\",\"78\",\"79\",\"80\",\"81\",\"82\",\"83\",\"84\",\"85\",\"86\",\"87\",\"88\",\"89\",\"90\",\"91\",\"92\",\"93\",\"94\",\"95\",\"96\",\"97\",\"98\",\"99\",\"100\"],\"index\":[0,1,2,3,4,5,6,7,8,9,10,11,12,13,14,15,16,17,18,19,20,21,22,23,24,25,26,27,28,29,30,31,32,33,34,35,36,37,38,39,40,41,42,43,44,45,46,47,48,49,50,51,52,53,54,55,56,57,58,59,60,61,62,63,64,65,66,67,68,69,70,71,72,73,74,75,76,77,78,79,80,81,82,83,84,85,86,87,88,89,90,91,92,93,94,95,96,97,98,99]},\"name\":\"Series:\",\"selected\":{\"id\":\"5749\",\"type\":\"Selection\"},\"selection_policy\":{\"id\":\"5750\",\"type\":\"UnionRenderers\"}},\"id\":\"5551\",\"type\":\"ColumnDataSource\"},{\"attributes\":{\"source\":{\"id\":\"5551\",\"type\":\"ColumnDataSource\"}},\"id\":\"5559\",\"type\":\"CDSView\"},{\"attributes\":{},\"id\":\"5532\",\"type\":\"CategoricalTicker\"},{\"attributes\":{\"data_source\":{\"id\":\"5551\",\"type\":\"ColumnDataSource\"},\"glyph\":{\"id\":\"5556\",\"type\":\"VBar\"},\"hover_glyph\":null,\"muted_glyph\":null,\"nonselection_glyph\":{\"id\":\"5557\",\"type\":\"VBar\"},\"selection_glyph\":null,\"view\":{\"id\":\"5559\",\"type\":\"CDSView\"}},\"id\":\"5558\",\"type\":\"GlyphRenderer\"},{\"attributes\":{},\"id\":\"5750\",\"type\":\"UnionRenderers\"},{\"attributes\":{\"fill_alpha\":{\"value\":0.1},\"fill_color\":{\"value\":\"#1f77b4\"},\"line_alpha\":{\"value\":0.1},\"line_color\":{\"value\":\"#1f77b4\"},\"top\":{\"field\":\"Volume\"},\"width\":{\"value\":0.9},\"x\":{\"field\":\"factors\"}},\"id\":\"5557\",\"type\":\"VBar\"},{\"attributes\":{\"grid_line_color\":{\"value\":null},\"plot\":{\"id\":\"5522\",\"subtype\":\"Figure\",\"type\":\"Plot\"},\"ticker\":{\"id\":\"5532\",\"type\":\"CategoricalTicker\"}},\"id\":\"5534\",\"type\":\"Grid\"},{\"attributes\":{\"level\":\"overlay\",\"name\":\"subtitle\",\"plot\":{\"id\":\"5522\",\"subtype\":\"Figure\",\"type\":\"Plot\"},\"text\":\"\",\"text_align\":\"right\",\"text_color\":{\"value\":\"#898989\"},\"text_font_size\":{\"value\":\"10px\"},\"x\":864.0,\"x_units\":\"screen\",\"y\":0,\"y_units\":\"screen\"},\"id\":\"5546\",\"type\":\"Label\"},{\"attributes\":{\"label\":{\"field\":\"color_column\"},\"renderers\":[{\"id\":\"5558\",\"type\":\"GlyphRenderer\"}]},\"id\":\"5566\",\"type\":\"LegendItem\"},{\"attributes\":{\"fill_color\":{\"field\":\"color_column\",\"transform\":{\"id\":\"5552\",\"type\":\"CategoricalColorMapper\"}},\"line_color\":{\"value\":\"white\"},\"top\":{\"field\":\"Volume\"},\"width\":{\"value\":0.9},\"x\":{\"field\":\"factors\"}},\"id\":\"5556\",\"type\":\"VBar\"},{\"attributes\":{\"axis_label_text_color\":{\"value\":\"#666666\"},\"axis_label_text_font_size\":{\"value\":\"11pt\"},\"axis_label_text_font_style\":\"bold\",\"axis_line_color\":{\"value\":\"#C0C0C0\"},\"formatter\":{\"id\":\"5553\",\"type\":\"NumeralTickFormatter\"},\"major_label_text_color\":{\"value\":\"#898989\"},\"major_label_text_font_size\":{\"value\":\"10pt\"},\"major_tick_in\":0,\"major_tick_line_color\":{\"value\":\"#C0C0C0\"},\"major_tick_out\":4,\"minor_tick_line_color\":{\"value\":\"#C0C0C0\"},\"minor_tick_out\":1,\"plot\":{\"id\":\"5522\",\"subtype\":\"Figure\",\"type\":\"Plot\"},\"ticker\":{\"id\":\"5536\",\"type\":\"BasicTicker\"}},\"id\":\"5535\",\"type\":\"LinearAxis\"},{\"attributes\":{\"format\":\"0,0.[00]\"},\"id\":\"5553\",\"type\":\"NumeralTickFormatter\"},{\"attributes\":{\"plot\":{\"id\":\"5522\",\"subtype\":\"Figure\",\"type\":\"Plot\"},\"text\":\"\",\"text_color\":{\"value\":\"#666666\"},\"text_font_size\":{\"value\":\"12pt\"}},\"id\":\"5547\",\"type\":\"Title\"},{\"attributes\":{},\"id\":\"5536\",\"type\":\"BasicTicker\"},{\"attributes\":{\"callback\":null,\"factor_padding\":0.25,\"factors\":[\"1\",\"2\",\"3\",\"4\",\"5\",\"6\",\"7\",\"8\",\"9\",\"10\",\"11\",\"12\",\"13\",\"14\",\"15\",\"16\",\"17\",\"18\",\"19\",\"20\",\"21\",\"22\",\"23\",\"24\",\"25\",\"26\",\"27\",\"28\",\"29\",\"30\",\"31\",\"32\",\"33\",\"34\",\"35\",\"36\",\"37\",\"38\",\"39\",\"40\",\"41\",\"42\",\"43\",\"44\",\"45\",\"46\",\"47\",\"48\",\"49\",\"50\",\"51\",\"52\",\"53\",\"54\",\"55\",\"56\",\"57\",\"58\",\"59\",\"60\",\"61\",\"62\",\"63\",\"64\",\"65\",\"66\",\"67\",\"68\",\"69\",\"70\",\"71\",\"72\",\"73\",\"74\",\"75\",\"76\",\"77\",\"78\",\"79\",\"80\",\"81\",\"82\",\"83\",\"84\",\"85\",\"86\",\"87\",\"88\",\"89\",\"90\",\"91\",\"92\",\"93\",\"94\",\"95\",\"96\",\"97\",\"98\",\"99\",\"100\"]},\"id\":\"5523\",\"type\":\"FactorRange\"},{\"attributes\":{\"dimension\":1,\"grid_line_color\":{\"value\":null},\"plot\":{\"id\":\"5522\",\"subtype\":\"Figure\",\"type\":\"Plot\"},\"ticker\":{\"id\":\"5536\",\"type\":\"BasicTicker\"}},\"id\":\"5539\",\"type\":\"Grid\"},{\"attributes\":{},\"id\":\"5749\",\"type\":\"Selection\"},{\"attributes\":{\"items\":[{\"id\":\"5566\",\"type\":\"LegendItem\"}],\"location\":\"top_left\",\"orientation\":\"horizontal\",\"plot\":{\"id\":\"5522\",\"subtype\":\"Figure\",\"type\":\"Plot\"},\"visible\":false},\"id\":\"5565\",\"type\":\"Legend\"},{\"attributes\":{\"callback\":null,\"end\":null,\"start\":0},\"id\":\"5525\",\"type\":\"DataRange1d\"},{\"attributes\":{\"active_drag\":null,\"active_inspect\":\"auto\",\"active_multi\":null,\"active_scroll\":\"auto\",\"active_tap\":\"auto\",\"logo\":null,\"tools\":[{\"id\":\"5540\",\"type\":\"SaveTool\"}]},\"id\":\"5541\",\"type\":\"Toolbar\"}],\"root_ids\":[\"5522\"]},\"title\":\"Bokeh Application\",\"version\":\"1.0.4\"}};\n",
       "  var render_items = [{\"docid\":\"5a6ff9c9-c07e-42a3-8826-93e50cfbf1a1\",\"roots\":{\"5522\":\"120f9f35-f2da-4db8-b1f3-e33524b39f92\"}}];\n",
       "  root.Bokeh.embed.embed_items_notebook(docs_json, render_items);\n",
       "\n",
       "  }\n",
       "  if (root.Bokeh !== undefined) {\n",
       "    embed_document(root);\n",
       "  } else {\n",
       "    var attempts = 0;\n",
       "    var timer = setInterval(function(root) {\n",
       "      if (root.Bokeh !== undefined) {\n",
       "        embed_document(root);\n",
       "        clearInterval(timer);\n",
       "      }\n",
       "      attempts++;\n",
       "      if (attempts > 100) {\n",
       "        console.log(\"Bokeh: ERROR: Unable to run BokehJS code because BokehJS library is missing\");\n",
       "        clearInterval(timer);\n",
       "      }\n",
       "    }, 10, root)\n",
       "  }\n",
       "})(window);"
      ],
      "application/vnd.bokehjs_exec.v0+json": ""
     },
     "metadata": {
      "application/vnd.bokehjs_exec.v0+json": {
       "id": "5522"
      }
     },
     "output_type": "display_data"
    }
   ],
   "source": [
    "showDoorLevelResults(1)"
   ]
  },
  {
   "cell_type": "code",
   "execution_count": 12,
   "metadata": {},
   "outputs": [],
   "source": [
    "#: 10 colors that work well together as data category colors\n",
    "CATEGORY10 = ['#1f77b4', '#ff7f0e', '#2ca02c', '#d62728', '#9467bd', '#8c564b',\n",
    "              '#e377c2', '#7f7f7f', '#bcbd22', '#17becf']\n",
    "\n",
    "#: 20 colors that work well together as data category colors\n",
    "CATEGORY20 = ['#1f77b4', '#aec7e8', '#ff7f0e', '#ffbb78', '#2ca02c', '#98df8a',\n",
    "              '#d62728', '#ff9896', '#9467bd', '#c5b0d5', '#8c564b', '#c49c94',\n",
    "              '#e377c2', '#f7b6d2', '#7f7f7f', '#c7c7c7', '#bcbd22', '#dbdb8d',\n",
    "              '#17becf', '#9edae5']\n",
    "\n",
    "#: 20 colors that work well together as data category colors\n",
    "CATEGORY20b = ['#393b79', '#5254a3', '#6b6ecf', '#9c9ede', '#637939',\n",
    "               '#8ca252', '#b5cf6b', '#cedb9c', '#8c6d31', '#bd9e39',\n",
    "               '#e7ba52', '#e7cb94', '#843c39', '#ad494a', '#d6616b',\n",
    "               '#e7969c', '#7b4173', '#a55194', '#ce6dbd', '#de9ed6']\n",
    "\n",
    "#: 20 colors that work well together as data category colors\n",
    "CATEGORY20c = ['#3182bd', '#6baed6', '#9ecae1', '#c6dbef', '#e6550d',\n",
    "               '#fd8d3c', '#fdae6b', '#fdd0a2', '#31a354', '#74c476',\n",
    "               '#a1d99b', '#c7e9c0', '#756bb1', '#9e9ac8', '#bcbddc',\n",
    "               '#dadaeb', '#636363', '#969696', '#bdbdbd', '#d9d9d9']"
   ]
  },
  {
   "cell_type": "markdown",
   "metadata": {},
   "source": [
    "<i>content-main</i>"
   ]
  },
  {
   "cell_type": "code",
   "execution_count": 54,
   "metadata": {
    "grid_columns": 12,
    "grid_row": 1,
    "mount_id": "content-main",
    "scrolled": false
   },
   "outputs": [
    {
     "data": {
      "application/vnd.jupyter.widget-view+json": {
       "model_id": "52e86a3040fe42b5b71df0f8decbbc46",
       "version_major": 2,
       "version_minor": 0
      },
      "text/plain": [
       "interactive(children=(IntSlider(value=1, description='hour', max=7, min=1), Output()), _dom_classes=('widget-i…"
      ]
     },
     "metadata": {},
     "output_type": "display_data"
    }
   ],
   "source": [
    "#@showDoorLevelResults()\n",
    "def showDoorLevelResults(hour):\n",
    "    resultsData = pd.read_csv('Hour7.csv')\n",
    "    resultsData = resultsData[resultsData.Hour==hour]\n",
    "    bar = Bars(x=resultsData.Door, y=resultsData.Volume, scales={'x': OrdinalScale(), 'y':\n",
    "    LinearScale()}, type='grouped',color_mode='auto',colors=CATEGORY20c)\n",
    "\n",
    "    ax_x = Axis(scale=OrdinalScale(), grid_lines='solid',tick_values=None,num_ticks=0)\n",
    "\n",
    "    ax_y = Axis(scale=LinearScale(), orientation='vertical', tick_format='0f',grid_lines='solid')\n",
    "\n",
    "    fig = Figure(marks=[bar], axes=[ax_x, ax_y], title='TEST')\n",
    "    return fig\n",
    "interact(showDoorLevelResults, hour=widgets.IntSlider(min=1,max=7,step=1,value=1));"
   ]
  },
  {
   "cell_type": "markdown",
   "metadata": {},
   "source": [
    "# Set up voila vuetify layout\n",
    "The voila vuetify template does not render output from the notebook, it only shows widget with the mount_id metadata."
   ]
  },
  {
   "cell_type": "code",
   "execution_count": 55,
   "metadata": {},
   "outputs": [],
   "source": [
    "sliderHist2 = vue.Slider(_metadata={'mount_id': 'histogram_bins2'}, thumb_label='always', class_='px-4', v_model=5)"
   ]
  },
  {
   "cell_type": "code",
   "execution_count": 56,
   "metadata": {},
   "outputs": [
    {
     "data": {
      "application/vnd.jupyter.widget-view+json": {
       "model_id": "7441b2b3662d41339672d05e42e1630d",
       "version_major": 2,
       "version_minor": 0
      },
      "text/plain": [
       "Tabs(children=[Tab(children=['Tab1']), Tab(children=['Tab2']), TabItem(children=[Layout(align_center=True, chi…"
      ]
     },
     "metadata": {},
     "output_type": "display_data"
    }
   ],
   "source": [
    "vue.Tabs(_metadata={'mount_id': 'content-main'}, children=[\n",
    "    vue.Tab(children=['Tab1']),\n",
    "    vue.Tab(children=['Tab2']),\n",
    "    vue.TabItem(children=[\n",
    "        vue.Layout(row=True, wrap=True, align_center=True, children=[\n",
    "            vue.Flex(xs12=True, lg6=True, xl4=True, children=[\n",
    "                showDoorLevelResults(1), sliderHist2\n",
    "            ]),\n",
    "            vue.Flex(xs12=True, lg6=True, xl4=True, children=[\n",
    "                showDoorLevelResults(1), sliderHist2\n",
    "            ]),\n",
    "            vue.Flex(xs12=True, xl4=True, children=[\n",
    "                showDoorLevelResults(1)\n",
    "            ]),\n",
    "        ])\n",
    "    ]),\n",
    "    vue.TabItem(children=[\n",
    "        vue.Container(children=['Lorum ipsum'])\n",
    "    ])\n",
    "])"
   ]
  },
  {
   "cell_type": "code",
   "execution_count": null,
   "metadata": {},
   "outputs": [],
   "source": []
  }
 ],
 "metadata": {
  "celltoolbar": "Edit Metadata",
  "kernelspec": {
   "display_name": "Python 3",
   "language": "python",
   "name": "python3"
  },
  "language_info": {
   "codemirror_mode": {
    "name": "ipython",
    "version": 3
   },
   "file_extension": ".py",
   "mimetype": "text/x-python",
   "name": "python",
   "nbconvert_exporter": "python",
   "pygments_lexer": "ipython3",
   "version": "3.7.3"
  }
 },
 "nbformat": 4,
 "nbformat_minor": 2
}
