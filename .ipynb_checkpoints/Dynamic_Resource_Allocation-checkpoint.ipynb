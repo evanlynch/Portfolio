{
 "cells": [
  {
   "cell_type": "markdown",
   "metadata": {},
   "source": [
    "# Mixed Integer Optimization\n",
    "## <font color='#1f77b4'>Problem: Dynamically Assign Distribution Center Associates to Doors to Maximize Productivity </font>"
   ]
  },
  {
   "cell_type": "markdown",
   "metadata": {},
   "source": [
    "ABC Logistics runs a cross-dock distribution facility with over 130 outbound docks. In recent months, productivity on the outbound docks has begun to hit a plateau, leading managers to look for new ways to promote associate productivity. The general policy for allocating associates to outbound doors has been to spread them evenly through the facility (i.e. each associate is assigned 5 doors). However, with volume in constant flux throughout the day and throughout the facility, this isn't practical when trying to maximize productivity. ABC Logistics would like to develop a model that can recommend allocation decisions to managers that minimize each associates deviation from a target. "
   ]
  },
  {
   "cell_type": "markdown",
   "metadata": {},
   "source": [
    "## <font color='#2ca02c'>Solution: Generalized Assignment Problem with Allocation Considerations </font>\n"
   ]
  },
  {
   "cell_type": "markdown",
   "metadata": {},
   "source": [
    "## Bottom-Line Results"
   ]
  },
  {
   "cell_type": "code",
   "execution_count": null,
   "metadata": {
    "collapsed": true
   },
   "outputs": [],
   "source": [
    "import gurobipy as grb\n",
    "import pandas as pd\n",
    "import numpy as np\n",
    "from math import ceil"
   ]
  },
  {
   "cell_type": "markdown",
   "metadata": {},
   "source": [
    "## Inputs"
   ]
  },
  {
   "cell_type": "code",
   "execution_count": null,
   "metadata": {
    "collapsed": true
   },
   "outputs": [],
   "source": [
    "#set the number of hours to solve for\n",
    "numhours = 112\n",
    "\n",
    "#set the number of loading docks in the facility\n",
    "numdoors = 129\n",
    "\n",
    "#create ranges for hours and doors\n",
    "hours = range(1,numhours+1)\n",
    "doors = range(1,numdoors+1)\n",
    "\n",
    "#set how many areas in the facility (test model had a max size of 41 doors)\n",
    "numareas = 2\n",
    "\n",
    "#set goal load per associate for each area\n",
    "areas, goal = multidict({\n",
    "    1: 266,\n",
    "    2: 266, \n",
    "    3: 170,\n",
    "    4: 266,\n",
    "    5: 170,\n",
    "    6: 266,\n",
    "    7: 170\n",
    "    })\n",
    "\n",
    "#set the last door in each area\n",
    "areas, lastDoorInArea = multidict({\n",
    "    1: 41,\n",
    "    2: 56,\n",
    "    3: 70,\n",
    "    4: 102,\n",
    "    5: 111,\n",
    "    6: 116,\n",
    "    7: 129\n",
    "    }) \n",
    "\n",
    "#create the sets of doors that make up each area\n",
    "areaDoors = {}\n",
    "for area in areas:\n",
    "    if area == 1:\n",
    "        areaDoors[area] = range(1,lastDoorInArea[area]+1)\n",
    "    else: \n",
    "        areaDoors[area] = range(lastDoorInArea[area-1]+1,lastDoorInArea[area]+1)\n",
    "\n",
    "#set the limit of load size for any given associate\n",
    "loadLimit = 450\n",
    "\n",
    "#set the limit on the number of lines any given associate can be assigned\n",
    "lineLimit = 17"
   ]
  },
  {
   "cell_type": "markdown",
   "metadata": {},
   "source": [
    "## Data Pre-processing"
   ]
  },
  {
   "cell_type": "code",
   "execution_count": null,
   "metadata": {},
   "outputs": [],
   "source": [
    "#initialize sets for solutions, assignments and numassociates\n",
    "solutions = {}\n",
    "assignments = {}\n",
    "numassociates = {}\n",
    "\n",
    "#pull in volume matrix\n",
    "volData = 'volDataFull.csv'\n",
    "volData = pd.read_csv(volData,header=None)\n",
    "Vol = pd.DataFrame(volData,index=doors,columns=hours)\n",
    "\n",
    "#create subsets of volume by area of the facility, such that you have a volume for any given area,door,hour combination\n",
    "areaAreaDoorHour, Vol2 = multidict({'':0}) \n",
    "for a in areas:\n",
    "    for i in areaDoors[a]:\n",
    "        for h in hours:\n",
    "            Vol2[a,i,h] = Vol.loc[i,h]\n",
    "del Vol2['']"
   ]
  },
  {
   "cell_type": "markdown",
   "metadata": {},
   "source": [
    "# Model"
   ]
  },
  {
   "cell_type": "markdown",
   "metadata": {},
   "source": [
    "#### Sets & Indices"
   ]
  },
  {
   "cell_type": "markdown",
   "metadata": {},
   "source": [
    "$A: \\,Set \\,of \\,associates$"
   ]
  },
  {
   "cell_type": "markdown",
   "metadata": {},
   "source": [
    "$D: \\,Set \\,of \\,doors$"
   ]
  },
  {
   "cell_type": "markdown",
   "metadata": {},
   "source": [
    "$I \\subseteq D: \\,Subset \\,of \\,doors, \\,where \\,volume \\,exists$"
   ]
  },
  {
   "cell_type": "markdown",
   "metadata": {},
   "source": [
    "$j: \\,Index \\,for \\,an \\,associate \\,in \\,the \\,set \\,of \\,associates \\,A $"
   ]
  },
  {
   "cell_type": "markdown",
   "metadata": {},
   "source": [
    "$i: \\,Index \\,for \\,a \\,door \\,in \\,the \\,subset \\,of \\,doors \\,I $"
   ]
  },
  {
   "cell_type": "markdown",
   "metadata": {},
   "source": [
    "#### Parameters"
   ]
  },
  {
   "cell_type": "markdown",
   "metadata": {},
   "source": [
    "$ \\beta = \\,The \\,maximium \\,number \\,of \\,doors \\,an \\,associate \\,is \\,allowed \\,to \\,be \\,assigned$"
   ]
  },
  {
   "cell_type": "markdown",
   "metadata": {},
   "source": [
    "$ \\lambda = \\,The \\,maximium \\,volume \\,of \\,cartons \\,an \\,associate \\,can \\,be \\,assigned$"
   ]
  },
  {
   "cell_type": "markdown",
   "metadata": {},
   "source": [
    "$ V_i = \\,Volume \\,of \\,cartons \\,that \\,will \\,go \\,to \\,door \\,i $"
   ]
  },
  {
   "cell_type": "markdown",
   "metadata": {},
   "source": [
    "$ \\delta = \\,The \\,goal \\,productivity \\,of  \\,an \\,area $"
   ]
  },
  {
   "cell_type": "markdown",
   "metadata": {},
   "source": [
    "#### Decision Variables"
   ]
  },
  {
   "cell_type": "markdown",
   "metadata": {},
   "source": [
    "$ X_{ij} = \\,Binary \\,assignment \\,variable \\,of \\,associate \\,j \\,to \\,door \\,i$"
   ]
  },
  {
   "cell_type": "markdown",
   "metadata": {},
   "source": [
    "$ Z_j = \\,Binary \\,variable \\,for \\,the \\,decision \\,to \\,use \\,associate \\,j \\,or \\,not $"
   ]
  },
  {
   "cell_type": "markdown",
   "metadata": {},
   "source": [
    "$ a_j = \\,The \\,underachievement \\,of \\,the \\,goal \\,productivity \\,of \\,associate \\,j $"
   ]
  },
  {
   "cell_type": "markdown",
   "metadata": {},
   "source": [
    "#### Objective"
   ]
  },
  {
   "cell_type": "markdown",
   "metadata": {},
   "source": [
    "$ \\,Minimize \\displaystyle\\sum_{j \\in A}^{T} a_j  $ Minimize the underachievement of the goal productivity for all associates"
   ]
  },
  {
   "cell_type": "markdown",
   "metadata": {},
   "source": [
    "#### Subject to Constraints"
   ]
  },
  {
   "cell_type": "markdown",
   "metadata": {},
   "source": [
    "$  $"
   ]
  },
  {
   "cell_type": "code",
   "execution_count": null,
   "metadata": {},
   "outputs": [],
   "source": [
    "#define model and set time limit on solution\n",
    "m = Model('DynamicResourceAllocation')\n",
    "m.setParam('TimeLimit', 60)"
   ]
  },
  {
   "cell_type": "code",
   "execution_count": null,
   "metadata": {
    "scrolled": true
   },
   "outputs": [],
   "source": [
    "#loop through each area and hour,create model, solve, execute post-processing\n",
    "for hour in hours:\n",
    "    for area in areas:\n",
    "        #determine the number of associates required by volume for the hour\n",
    "        numassociates[area,hour] = ceil(sum(Vol2[area,door,hour] for door in areaDoors[area] if Vol2[area,door,hour] > 0)/goal[area])\n",
    "\n",
    "        #set the range of associates\n",
    "        associates = range(1,numassociates[area,hour]+1)\n",
    "\n",
    "        ''' ----- DECISION VARIABLES -----  '''\n",
    "\n",
    "        #Assignment of doors to associates\n",
    "        X = m.addVars(areaDoors[area],associates,vtype=GRB.BINARY,name='X')\n",
    "        #Whether associate is used or not\n",
    "        Z = m.addVars(associates,vtype=GRB.BINARY,name='Z')\n",
    "        #Deviation under goal\n",
    "        alpha = m.addVars(associates,lb=0.0, vtype=GRB.CONTINUOUS,name='alpha')\n",
    "\n",
    "        # ----- OBJECTIVE FUNCTION ----- #\n",
    "\n",
    "        m.setObjective(quicksum(alpha[j] for j in associates),GRB.MINIMIZE)\n",
    "\n",
    "        ''' ----- CONSTRAINTS ----- '''\n",
    "\n",
    "        '''For any associate in the set of associates that are calculated as needed in that area and hour, \n",
    "        the sum of volume going to the doors that associate is assigned must be greater than or equal to \n",
    "        the goal, minus the underachievement.'''\n",
    "        m.addConstrs((sum(Vol2[area,i, hour] * X[i,j] for i in areaDoors[area] if Vol2[area, i, hour] > 0) \n",
    "            >=  Z[j]*goal[area] - alpha[j] for j in associates),\"devFromGoal\")\n",
    "\n",
    "        '''Ensure that associates are only assigned to doors that are adjacent to each other. \n",
    "        If a door has a volume of zero, it will skip the consideration of assigning an associate \n",
    "        to that door, and thus the next adjacent door can be assigned.'''\n",
    "        m.addConstrs((X[i2,j] >= X[i1,j] + X[i3,j] - 1 \n",
    "            for j in associates for i1 in areaDoors[area] if Vol2[area,i1,hour]>0 \n",
    "            for i2 in areaDoors[area] if Vol2[area,i2,hour]>0 for i3 in areaDoors[area] if Vol2[area,i3,hour]>0 \n",
    "            if i1<i2<i3),\"doorAdjacency\")\n",
    "\n",
    "        '''Ensure that a door is assigned to one associate and only one.'''\n",
    "        m.addConstrs((sum(X[i,j] for j in associates) == 1 for i in areaDoors[area] if Vol2[area, i, hour] > 0),\"assignOnly1\")\n",
    "\n",
    "        '''Ensure that if a door has no volume in a given hour, it must not be assigned.'''\n",
    "        m.addConstrs((sum(X[i,j] for j in associates) == 0 for i in areaDoors[area] if Vol2[area, i, hour] == 0),\"doNotAssignZeroVolDoor\")\n",
    "        \n",
    "        '''Binary switching constraints. If a door is assigned an associate, that associate must be considered as used.'''\n",
    "        m.addConstrs((X[i,j] <= Z[j] for j in associates for i in areaDoors[area] if Vol2[area, i, hour] > 0),\"usedBinarySwitch\")\n",
    "\n",
    "        '''If an associate is to be used, they must be assigned to at least one door.'''\n",
    "        m.addConstrs((quicksum(X[i,j] for i in areaDoors[area]) >= Z[j] for j in associates),\"assignedBinarySwitch\")\n",
    "\n",
    "        '''Ensure that the deviation for an associate does not exceed the goal for that associate (don't completely understand this) '''\n",
    "        m.addConstrs((alpha[j] <= goal[area]*Z[j] for j in associates),\"IDK\")\n",
    "\n",
    "        '''The model has to use the number of associates that are calculated as needed in the area and hour,\n",
    "        minus one associate if it can find a way to feasibly do so.'''\n",
    "        m.addConstr((quicksum(Z[j] for j in associates) >= numassociates[area,hour]-1),\"minusOneIfPossible\")\n",
    "\n",
    "        '''Ensure that the volume assigned to an associate across doors to not exceed a certain number of cartons.'''\n",
    "        m.addConstrs((quicksum(Vol2[area,i,hour] * X[i,j] for i in areaDoors[area]) <= loadLimit for j in associates),\"loadLimit\")\n",
    "\n",
    "        '''Ensure that the number of doors an associate is assigned never exceeds a certain number.'''\n",
    "        m.addConstrs((quicksum(X[i,j] for i in areaDoors[area]) <= lineLimit for j in associates),\"lineLimit\")\n",
    "\n",
    "        ''' ----- BEGIN RUN ----- '''\n",
    "        print('Hour: ',hour)\n",
    "        print('Area: ',area)\n",
    "\n",
    "        #allow optimization to run in the background without displaying all the output; solve\n",
    "        m.setParam( 'OutputFlag', False )\n",
    "        m.optimize()\n",
    "        print(m.getAttr('Status'))\n",
    "\n",
    "        ''' ----- POST-SOLUTION PROCESSING ----- '''\n",
    "\n",
    "        #obj = m.getObjective()\n",
    "        #solutions[area,hour] = obj.getValue()\n",
    "\n",
    "        #calculate the load per used associate and whether associate was used\n",
    "        load = {}\n",
    "        used = {}\n",
    "        totalUsed = 0\n",
    "        for j in associates: \n",
    "            load[area,hour,j] = sum(Vol2[area,i,hour]*X[i,j].x for i in areaDoors[area] if Vol2[area,i,hour]>0)\n",
    "            if load[area,hour,j] > 0:\n",
    "                used[area,hour,j] = 1\n",
    "            else: \n",
    "                used[area,hour,j] = 0\n",
    "            totalUsed += used[area,hour,j]\n",
    "\n",
    "        #create a dataFrame for the hour, which will contain the associate to door assignments\n",
    "        assignments[area,hour] = pd.DataFrame(data=None,index=areaDoors[area],columns=associates)    \n",
    "        for i in areaDoors[area]:\n",
    "             for j in associates:\n",
    "                if X[i,j].x == 1:\n",
    "                    assignments[area,hour].loc[i,j] = X[i,j].x\n",
    "                else:\n",
    "                    assignments[area,hour].loc[i,j] = ''\n",
    "                for assignment in assignments:\n",
    "                    fileName = \"\".join([\"resultsArea\",str(area),\"Hour\",str(hour),\".csv\"])\n",
    "                    assignments[assignment].to_csv(fileName)\n",
    "        #calculate the area productivity\n",
    "        productivity = {}\n",
    "\n",
    "        \n",
    "        ''' ----- DISPLAY OUTPUT ----- '''\n",
    "        \n",
    "        print('# Associates Required by Volume: ',numassociates[area,hour])\n",
    "        print('# Associates Used: ',totalUsed)\n",
    "        print('Assignments:')\n",
    "        print(assignments[area,hour])\n",
    "        print('Load per Associate: ')\n",
    "        for j in associates:\n",
    "            print(j,'(',used[area,hour,j],')',': ',load[area,hour,j],'|',alpha[j].x)\n",
    "        print('Total volume not expected to load (objective): ',m.getObjective().getValue())\n",
    "        print('++++++++++++++++++++')\n",
    "        print('')"
   ]
  },
  {
   "cell_type": "markdown",
   "metadata": {},
   "source": [
    "if __name__ == '__main__':\n",
    "    path = input(r'Please provide volume data.')\n",
    "    path = path.strip(r'\"').strip(r\"'\")\n",
    "    print()\n",
    "    niins = get_niins(path)\n",
    "    print(len(niins))\n",
    "    print(niins)"
   ]
  },
  {
   "cell_type": "markdown",
   "metadata": {},
   "source": [
    "# Demo Version"
   ]
  },
  {
   "cell_type": "markdown",
   "metadata": {},
   "source": [
    "from gurobipy import *\n",
    "import pandas as pd\n",
    "import numpy as np\n",
    "from math import ceil"
   ]
  },
  {
   "cell_type": "markdown",
   "metadata": {},
   "source": [
    "#define model and set time limit on solution\n",
    "m = Model('DynamicResourceAllocation')\n",
    "m.setParam('TimeLimit', 60)"
   ]
  },
  {
   "cell_type": "markdown",
   "metadata": {},
   "source": [
    "#set the number of hours to solve for\n",
    "numhours = 2\n",
    "\n",
    "#set the number of loading docks in the facility\n",
    "numdoors = 10\n",
    "\n",
    "#create ranges for hours and doors\n",
    "hours = range(1,numhours+1)\n",
    "doors = range(1,numdoors+1)\n",
    "\n",
    "#set how many areas in the facility (test model had a max size of 41 doors)\n",
    "numareas = 2\n",
    "\n",
    "#set goal load per associate for each area\n",
    "areas, goal = multidict({\n",
    "    1: 266,\n",
    "    2: 100, \n",
    "    })\n",
    "'''areas, goal = multidict({\n",
    "    1: 266,\n",
    "    2: 266, \n",
    "    3: 170,\n",
    "    4: 266,\n",
    "    5: 170,\n",
    "    6: 266,\n",
    "    7: 170\n",
    "    })'''\n",
    "\n",
    "#set the last door in each area\n",
    "areas, lastDoorInArea = multidict({\n",
    "    1: 5,\n",
    "    2: 10,\n",
    "    }) \n",
    "'''areas, lastDoorInArea = multidict({\n",
    "    1: 41,\n",
    "    2: 56,\n",
    "    3: 70,\n",
    "    4: 102,\n",
    "    5: 111,\n",
    "    6: 116,\n",
    "    7: 129\n",
    "    }) '''\n",
    "\n",
    "#create the sets of doors that make up each area\n",
    "areaDoors = {}\n",
    "for area in areas:\n",
    "    if area == 1:\n",
    "        areaDoors[area] = range(1,lastDoorInArea[area]+1)\n",
    "    else: \n",
    "        areaDoors[area] = range(lastDoorInArea[area-1]+1,lastDoorInArea[area]+1)\n",
    "\n",
    "#set the limit of load size for any given associate\n",
    "loadLimit = 450\n",
    "\n",
    "#set the limit on the number of lines any given associate can be assigned\n",
    "lineLimit = 17\n",
    "\n",
    "#pull in volume matrix\n",
    "volData = 'volDataTiny.csv'\n",
    "volData = pd.read_csv(volData,header=None)\n",
    "Vol = pd.DataFrame(volData,index=doors,columns=hours)\n",
    "\n",
    "#create subsets of volume by area of the facility, such that you have a volume for any given area,door,hour combination\n",
    "areaAreaDoorHour, Vol2 = multidict({'':0}) \n",
    "for a in areas:\n",
    "    for i in areaDoors[a]:\n",
    "        for h in hours:\n",
    "            Vol2[a,i,h] = Vol.loc[i,h]\n",
    "del Vol2['']\n",
    "\n",
    "#initialize sets for solutions, assignments and numassociates\n",
    "solutions = {}\n",
    "assignments = {}\n",
    "numassociates = {}\n",
    "print(Vol)\n",
    "print('---')\n",
    "print(Vol2)"
   ]
  },
  {
   "cell_type": "markdown",
   "metadata": {},
   "source": [
    "#loop through each area and hour,create model, solve, execute post-processing\n",
    "for hour in hours:\n",
    "    for area in areas:\n",
    "        #determine the number of associates required by volume for the hour\n",
    "        numassociates[area,hour] = ceil(sum(Vol2[area,door,hour] for door in areaDoors[area] if Vol2[area,door,hour] > 0)/goal[area])\n",
    "\n",
    "        #set the range of associates\n",
    "        associates = range(1,numassociates[area,hour]+1)\n",
    "\n",
    "        ''' ----- DECISION VARIABLES -----  '''\n",
    "\n",
    "        #Assignment of doors to associates\n",
    "        X = m.addVars(areaDoors[area],associates,vtype=GRB.BINARY,name='X')\n",
    "        #Whether associate is used or not\n",
    "        Z = m.addVars(associates,vtype=GRB.BINARY,name='Z')\n",
    "        #Deviation from goal\n",
    "        alpha = m.addVars(associates,lb=0.0, vtype=GRB.CONTINUOUS,name='alpha')\n",
    "\n",
    "        # ----- OBJECTIVE FUNCTION ----- #\n",
    "\n",
    "        m.setObjective(quicksum(alpha[j] for j in associates),GRB.MINIMIZE)\n",
    "\n",
    "        ''' ----- CONSTRAINTS ----- '''\n",
    "\n",
    "        '''For any associate in the set of associates that are calculated as needed in that area and hour, \n",
    "        the sum of volume going to the doors that associate is assigned must be greater than or equal to \n",
    "        the goal, minus the underachievement.'''\n",
    "        m.addConstrs((sum(Vol2[area,i, hour] * X[i,j] for i in areaDoors[area] if Vol2[area, i, hour] > 0) \n",
    "            >=  Z[j]*goal[area] - alpha[j] for j in associates),\"devFromGoal\")\n",
    "\n",
    "        '''Ensure that associates are only assigned to doors that are adjacent to each other. \n",
    "        If a door has a volume of zero, it will skip the consideration of assigning an associate \n",
    "        to that door, and thus the next adjacent door can be assigned.'''\n",
    "        m.addConstrs((X[i2,j] >= X[i1,j] + X[i3,j] - 1 \n",
    "            for j in associates for i1 in areaDoors[area] if Vol2[area,i1,hour]>0 \n",
    "            for i2 in areaDoors[area] if Vol2[area,i2,hour]>0 for i3 in areaDoors[area] if Vol2[area,i3,hour]>0 \n",
    "            if i1<i2<i3),\"doorAdjacency\")\n",
    "\n",
    "        '''Ensure that a door is assigned to one associate and only one.'''\n",
    "        m.addConstrs((sum(X[i,j] for j in associates) == 1 for i in areaDoors[area] if Vol2[area, i, hour] > 0),\"assignOnly1\")\n",
    "\n",
    "        '''Ensure that if a door has no volume in a given hour, it must not be assigned.'''\n",
    "        m.addConstrs((sum(X[i,j] for j in associates) == 0 for i in areaDoors[area] if Vol2[area, i, hour] == 0),\"assignOnly1\")\n",
    "        \n",
    "        '''Binary switching constraints. If a door is assigned an associate, that associate must be considered as used.'''\n",
    "        m.addConstrs((X[i,j] <= Z[j] for j in associates for i in areaDoors[area] if Vol2[area, i, hour] > 0),\"usedBinarySwitch\")\n",
    "\n",
    "        '''If an associate is to be used, they must be assigned to at least one door.'''\n",
    "        m.addConstrs((quicksum(X[i,j] for i in areaDoors[area]) >= Z[j] for j in associates),\"assignedBinarySwitch\")\n",
    "\n",
    "        '''Ensure that the deviation for an associate does not exceed the goal for that associate (don't completely understand this) '''\n",
    "        m.addConstrs((alpha[j] <= goal[area]*Z[j] for j in associates),\"IDK\")\n",
    "\n",
    "        '''The model has to use the number of associates that are calculated as needed in the area and hour,\n",
    "        minus one associate if it can find a way to feasibly do so.'''\n",
    "        m.addConstr((quicksum(Z[j] for j in associates) >= numassociates[area,hour]-1),\"minusOneIfPossible\")\n",
    "\n",
    "        '''Ensure that the volume assigned to an associate across doors to not exceed a certain number of cartons.'''\n",
    "        m.addConstrs((quicksum(Vol2[area,i,hour] * X[i,j] for i in areaDoors[area]) <= loadLimit for j in associates),\"loadLimit\")\n",
    "\n",
    "        '''Ensure that the number of doors an associate is assigned never exceeds a certain number.'''\n",
    "        m.addConstrs((quicksum(X[i,j] for i in areaDoors[area]) <= lineLimit for j in associates),\"lineLimit\")\n",
    "\n",
    "        ''' ----- BEGIN RUN ----- '''\n",
    "        print('Hour: ',hour)\n",
    "        print('Area: ',area)\n",
    "\n",
    "        #allow optimization to run in the background without displaying all the output; solve\n",
    "        m.setParam( 'OutputFlag', False )\n",
    "        m.optimize()\n",
    "        print(m.getAttr('Status'))\n",
    "\n",
    "        ''' ----- POST-SOLUTION PROCESSING ----- '''\n",
    "\n",
    "        #obj = m.getObjective()\n",
    "        #solutions[area,hour] = obj.getValue()\n",
    "\n",
    "        #calculate the load per used associate and whether associate was used\n",
    "        load = {}\n",
    "        used = {}\n",
    "        totalUsed = 0\n",
    "        for j in associates: \n",
    "            load[area,hour,j] = sum(Vol2[area,i,hour]*X[i,j].x for i in areaDoors[area] if Vol2[area,i,hour]>0)\n",
    "            if load[area,hour,j] > 0:\n",
    "                used[area,hour,j] = 1\n",
    "            else: \n",
    "                used[area,hour,j] = 0\n",
    "            totalUsed += used[area,hour,j]\n",
    "\n",
    "        #create a dataFrame for the hour, which will contain the associate to door assignments\n",
    "        assignments[area,hour] = pd.DataFrame(data=None,index=areaDoors[area],columns=associates)    \n",
    "        for i in areaDoors[area]:\n",
    "             for j in associates:\n",
    "                if X[i,j].x == 1:\n",
    "                    assignments[area,hour].loc[i,j] = X[i,j].x\n",
    "                else:\n",
    "                    assignments[area,hour].loc[i,j] = ''\n",
    "\n",
    "        #calculate the area productivity\n",
    "        productivity = {}\n",
    "\n",
    "        \n",
    "        ''' ----- DISPLAY OUTPUT ----- '''\n",
    "        \n",
    "        print('# Associates Required by Volume: ',numassociates[area,hour])\n",
    "        print('# Associates Used: ',totalUsed)\n",
    "        print('Assignments:')\n",
    "        print(assignments[area,hour])\n",
    "        print('Load per Associate: ')\n",
    "        for j in associates:\n",
    "            print(j,'(',used[area,hour,j],')',': ',load[area,hour,j],'|',alpha[j].x)\n",
    "        print('Total volume not expected to load (objective): ',m.getObjective().getValue())\n",
    "        print('++++++++++++++++++++')\n",
    "        print('')"
   ]
  },
  {
   "cell_type": "code",
   "execution_count": null,
   "metadata": {},
   "outputs": [],
   "source": []
  }
 ],
 "metadata": {
  "kernelspec": {
   "display_name": "Python 3",
   "language": "python",
   "name": "python3"
  },
  "language_info": {
   "codemirror_mode": {
    "name": "ipython",
    "version": 3
   },
   "file_extension": ".py",
   "mimetype": "text/x-python",
   "name": "python",
   "nbconvert_exporter": "python",
   "pygments_lexer": "ipython3",
   "version": "3.6.8"
  }
 },
 "nbformat": 4,
 "nbformat_minor": 2
}
