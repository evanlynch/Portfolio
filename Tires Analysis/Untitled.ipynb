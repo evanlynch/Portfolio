{
 "cells": [
  {
   "cell_type": "code",
   "execution_count": 1,
   "metadata": {},
   "outputs": [],
   "source": [
    "import nbconvert"
   ]
  },
  {
   "cell_type": "code",
   "execution_count": 14,
   "metadata": {},
   "outputs": [
    {
     "name": "stderr",
     "output_type": "stream",
     "text": [
      "[NbConvertApp] Converting notebook RecallEndDate_126707.ipynb to html\n",
      "[NbConvertApp] Writing 333230 bytes to RecallEndDate_126707.html\n"
     ]
    }
   ],
   "source": [
    "!jupyter nbconvert --to html RecallEndDate_126707.ipynb"
   ]
  },
  {
   "cell_type": "code",
   "execution_count": 12,
   "metadata": {},
   "outputs": [
    {
     "name": "stderr",
     "output_type": "stream",
     "text": [
      "[NbConvertApp] Converting notebook RecallEndDate_150868.ipynb to html\n",
      "[NbConvertApp] Writing 334073 bytes to RecallEndDate_150868.html\n"
     ]
    }
   ],
   "source": [
    "!jupyter nbconvert --to html RecallEndDate_150868.ipynb"
   ]
  },
  {
   "cell_type": "code",
   "execution_count": 13,
   "metadata": {},
   "outputs": [
    {
     "name": "stderr",
     "output_type": "stream",
     "text": [
      "[NbConvertApp] Converting notebook RecallEndDate_387272.ipynb to html\n",
      "[NbConvertApp] Writing 347909 bytes to RecallEndDate_387272.html\n"
     ]
    }
   ],
   "source": [
    "!jupyter nbconvert --to html RecallEndDate_387272.ipynb"
   ]
  },
  {
   "cell_type": "code",
   "execution_count": null,
   "metadata": {},
   "outputs": [],
   "source": []
  }
 ],
 "metadata": {
  "kernelspec": {
   "display_name": "Python 3",
   "language": "python",
   "name": "python3"
  },
  "language_info": {
   "codemirror_mode": {
    "name": "ipython",
    "version": 3
   },
   "file_extension": ".py",
   "mimetype": "text/x-python",
   "name": "python",
   "nbconvert_exporter": "python",
   "pygments_lexer": "ipython3",
   "version": "3.6.2"
  }
 },
 "nbformat": 4,
 "nbformat_minor": 2
}
