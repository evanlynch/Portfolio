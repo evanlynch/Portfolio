{
 "cells": [
  {
   "cell_type": "markdown",
   "metadata": {},
   "source": [
    "## Goal: Model the defect balance over time and predict date recall will be completed"
   ]
  },
  {
   "cell_type": "code",
   "execution_count": 874,
   "metadata": {},
   "outputs": [],
   "source": [
    "import pandas as pd\n",
    "import numpy as np\n",
    "from scipy.optimize import curve_fit\n",
    "import datetime\n",
    "import matplotlib.pyplot as plt\n",
    "import warnings\n",
    "warnings.filterwarnings(\"ignore\")"
   ]
  },
  {
   "cell_type": "code",
   "execution_count": 875,
   "metadata": {},
   "outputs": [],
   "source": [
    "#starting population of tires that need to be replaced at t=0\n",
    "# 126,707: TACOM Bi-Weekly SOUM Update Jan 25 2019 -- Daily Status Report cell C50\n",
    "# 150,868: Sunset Date Analysis2 cell N11 (all tires from 2015-2018)\n",
    "# 387,272: FY18 total densities of fwics 0077,0130,0133,2002 *4 (max time it would take to get all FY18 tires out of system)\n",
    "startDefectBalance = 387272"
   ]
  },
  {
   "cell_type": "code",
   "execution_count": 876,
   "metadata": {},
   "outputs": [],
   "source": [
    "#when replacements started taking place (FY18 Q3 start)\n",
    "startDate = \"4/1/2018\""
   ]
  },
  {
   "cell_type": "code",
   "execution_count": 877,
   "metadata": {},
   "outputs": [],
   "source": [
    "#set monthly max capacity to 12k, calculate avg daily\n",
    "monthlyCapacity = -12000\n",
    "avgDailyCapacity = monthlyCapacity/30.42"
   ]
  },
  {
   "cell_type": "code",
   "execution_count": 878,
   "metadata": {},
   "outputs": [
    {
     "name": "stdout",
     "output_type": "stream",
     "text": [
      "Requirements Tracker\n"
     ]
    },
    {
     "data": {
      "text/html": [
       "<div>\n",
       "<style>\n",
       "    .dataframe thead tr:only-child th {\n",
       "        text-align: right;\n",
       "    }\n",
       "\n",
       "    .dataframe thead th {\n",
       "        text-align: left;\n",
       "    }\n",
       "\n",
       "    .dataframe tbody tr th {\n",
       "        vertical-align: top;\n",
       "    }\n",
       "</style>\n",
       "<table border=\"1\" class=\"dataframe\">\n",
       "  <thead>\n",
       "    <tr style=\"text-align: right;\">\n",
       "      <th></th>\n",
       "      <th>Fill Date</th>\n",
       "      <th>Qty</th>\n",
       "    </tr>\n",
       "  </thead>\n",
       "  <tbody>\n",
       "    <tr>\n",
       "      <th>0</th>\n",
       "      <td>5/31/2018</td>\n",
       "      <td>849</td>\n",
       "    </tr>\n",
       "    <tr>\n",
       "      <th>1</th>\n",
       "      <td>5/31/2018</td>\n",
       "      <td>265</td>\n",
       "    </tr>\n",
       "    <tr>\n",
       "      <th>2</th>\n",
       "      <td>6/6/2018</td>\n",
       "      <td>337</td>\n",
       "    </tr>\n",
       "    <tr>\n",
       "      <th>3</th>\n",
       "      <td>6/11/2018</td>\n",
       "      <td>166</td>\n",
       "    </tr>\n",
       "    <tr>\n",
       "      <th>4</th>\n",
       "      <td>6/13/2018</td>\n",
       "      <td>15</td>\n",
       "    </tr>\n",
       "    <tr>\n",
       "      <th>5</th>\n",
       "      <td>6/13/2018</td>\n",
       "      <td>88</td>\n",
       "    </tr>\n",
       "    <tr>\n",
       "      <th>6</th>\n",
       "      <td>6/13/2018</td>\n",
       "      <td>49</td>\n",
       "    </tr>\n",
       "    <tr>\n",
       "      <th>7</th>\n",
       "      <td>6/13/2018</td>\n",
       "      <td>25</td>\n",
       "    </tr>\n",
       "    <tr>\n",
       "      <th>8</th>\n",
       "      <td>6/14/2018</td>\n",
       "      <td>500</td>\n",
       "    </tr>\n",
       "    <tr>\n",
       "      <th>9</th>\n",
       "      <td>6/15/2018</td>\n",
       "      <td>500</td>\n",
       "    </tr>\n",
       "  </tbody>\n",
       "</table>\n",
       "</div>"
      ],
      "text/plain": [
       "   Fill Date  Qty\n",
       "0  5/31/2018  849\n",
       "1  5/31/2018  265\n",
       "2   6/6/2018  337\n",
       "3  6/11/2018  166\n",
       "4  6/13/2018   15\n",
       "5  6/13/2018   88\n",
       "6  6/13/2018   49\n",
       "7  6/13/2018   25\n",
       "8  6/14/2018  500\n",
       "9  6/15/2018  500"
      ]
     },
     "execution_count": 878,
     "metadata": {},
     "output_type": "execute_result"
    }
   ],
   "source": [
    "#requirements tracker data from Brandi\n",
    "df = pd.read_csv('Copy of BrandiData.csv',usecols=['Fill Date','Qty'])\n",
    "print('Requirements Tracker')\n",
    "df.head(n=10)"
   ]
  },
  {
   "cell_type": "code",
   "execution_count": 879,
   "metadata": {},
   "outputs": [
    {
     "name": "stdout",
     "output_type": "stream",
     "text": [
      "Defect Balance Over Time\n"
     ]
    },
    {
     "data": {
      "text/html": [
       "<div>\n",
       "<style>\n",
       "    .dataframe thead tr:only-child th {\n",
       "        text-align: right;\n",
       "    }\n",
       "\n",
       "    .dataframe thead th {\n",
       "        text-align: left;\n",
       "    }\n",
       "\n",
       "    .dataframe tbody tr th {\n",
       "        vertical-align: top;\n",
       "    }\n",
       "</style>\n",
       "<table border=\"1\" class=\"dataframe\">\n",
       "  <thead>\n",
       "    <tr style=\"text-align: right;\">\n",
       "      <th></th>\n",
       "      <th>dateDelta</th>\n",
       "      <th>balance</th>\n",
       "    </tr>\n",
       "  </thead>\n",
       "  <tbody>\n",
       "    <tr>\n",
       "      <th>0</th>\n",
       "      <td>0</td>\n",
       "      <td>387272</td>\n",
       "    </tr>\n",
       "    <tr>\n",
       "      <th>1</th>\n",
       "      <td>60</td>\n",
       "      <td>386158</td>\n",
       "    </tr>\n",
       "    <tr>\n",
       "      <th>2</th>\n",
       "      <td>66</td>\n",
       "      <td>385821</td>\n",
       "    </tr>\n",
       "    <tr>\n",
       "      <th>3</th>\n",
       "      <td>71</td>\n",
       "      <td>385655</td>\n",
       "    </tr>\n",
       "    <tr>\n",
       "      <th>4</th>\n",
       "      <td>73</td>\n",
       "      <td>385478</td>\n",
       "    </tr>\n",
       "    <tr>\n",
       "      <th>5</th>\n",
       "      <td>74</td>\n",
       "      <td>384978</td>\n",
       "    </tr>\n",
       "    <tr>\n",
       "      <th>6</th>\n",
       "      <td>75</td>\n",
       "      <td>384478</td>\n",
       "    </tr>\n",
       "    <tr>\n",
       "      <th>7</th>\n",
       "      <td>80</td>\n",
       "      <td>383978</td>\n",
       "    </tr>\n",
       "    <tr>\n",
       "      <th>8</th>\n",
       "      <td>81</td>\n",
       "      <td>382946</td>\n",
       "    </tr>\n",
       "    <tr>\n",
       "      <th>9</th>\n",
       "      <td>82</td>\n",
       "      <td>382839</td>\n",
       "    </tr>\n",
       "  </tbody>\n",
       "</table>\n",
       "</div>"
      ],
      "text/plain": [
       "   dateDelta  balance\n",
       "0          0   387272\n",
       "1         60   386158\n",
       "2         66   385821\n",
       "3         71   385655\n",
       "4         73   385478\n",
       "5         74   384978\n",
       "6         75   384478\n",
       "7         80   383978\n",
       "8         81   382946\n",
       "9         82   382839"
      ]
     },
     "execution_count": 879,
     "metadata": {},
     "output_type": "execute_result"
    }
   ],
   "source": [
    "#data processing to get dates to dateDelta and Qty to a cumulative defect balance\n",
    "df.Qty = df.Qty*-1\n",
    "dfStart = pd.DataFrame({'Fill Date':startDate,'Qty':startDefectBalance,'ACOM':''},index=[999])\n",
    "df = pd.concat([df,dfStart])#.sort_values(['Fill Date'],ascending=True)\n",
    "startDate = datetime.datetime(2018, 4, 1)\n",
    "df['Fill Date'] =  pd.to_datetime(df['Fill Date'])\n",
    "df =df.set_index(['Fill Date'])\n",
    "\n",
    "def removeDays(x):\n",
    "    x['dateDelta'] = x['dateDelta'].days\n",
    "    return x\n",
    "\n",
    "#create new date starting from t=0\n",
    "df['tvalue'] = df.index\n",
    "df['dateDelta'] = df['tvalue']-startDate\n",
    "df = df.apply(lambda x: removeDays(x),axis=1)\n",
    "df = df.sort_values(['tvalue'],ascending=True)\n",
    "\n",
    "#roll up orders to the daily level\n",
    "df = df.groupby('dateDelta').sum()\n",
    "\n",
    "#get current balance of defective tires\n",
    "df['balance'] = df.Qty.cumsum()\n",
    "df = df[['balance']]\n",
    "\n",
    "df = df.reset_index()\n",
    "print('Defect Balance Over Time')\n",
    "df.head(n=10)"
   ]
  },
  {
   "cell_type": "code",
   "execution_count": 880,
   "metadata": {},
   "outputs": [
    {
     "data": {
      "image/png": "[encoded data removed]",
      "text/plain": [
       "<matplotlib.figure.Figure at 0x23fb5cdfe48>"
      ]
     },
     "metadata": {},
     "output_type": "display_data"
    }
   ],
   "source": [
    "#plot defect balance over time\n",
    "xdata=df.dateDelta\n",
    "ydata=df.balance\n",
    "plt.plot(xdata, ydata, 'r-', label='data',linewidth=2.5)\n",
    "plt.xlabel('Time')\n",
    "plt.ylabel('Defect Balance')\n",
    "plt.ylim(0, 1.15*startDefectBalance)\n",
    "plt.xlim(0,400)\n",
    "plt.legend()\n",
    "plt.title('Defect Balance Over Time')\n",
    "plt.show()"
   ]
  },
  {
   "cell_type": "markdown",
   "metadata": {},
   "source": [
    "#### Plot above appears to follow a curve similar to the function below. Estimate the parameters of that function"
   ]
  },
  {
   "cell_type": "markdown",
   "metadata": {},
   "source": [
    "$y = b_{0} - \\frac{1}{b_{1}}x^2 \\ \\ \\ \\ \\ \\ \\ \\ \\{x>0\\}$"
   ]
  },
  {
   "cell_type": "code",
   "execution_count": 881,
   "metadata": {},
   "outputs": [],
   "source": [
    "#the function above\n",
    "def func(x, b0, b1):\n",
    "     return b0-(1/b1)*(x**2)"
   ]
  },
  {
   "cell_type": "code",
   "execution_count": 882,
   "metadata": {},
   "outputs": [],
   "source": [
    "#function above in terms of x\n",
    "def getX(y, b0, b1):\n",
    "    return np.sqrt((y-b0)*-b1)"
   ]
  },
  {
   "cell_type": "code",
   "execution_count": 883,
   "metadata": {},
   "outputs": [],
   "source": [
    "#derivative of func\n",
    "def getDerivative(x, b0, b1):\n",
    "    return -(2/b1)*x"
   ]
  },
  {
   "cell_type": "code",
   "execution_count": 884,
   "metadata": {},
   "outputs": [],
   "source": [
    "#fiting the curve\n",
    "popt, pcov = curve_fit(func, xdata, ydata)"
   ]
  },
  {
   "cell_type": "code",
   "execution_count": 885,
   "metadata": {},
   "outputs": [],
   "source": [
    "xIntercept = getX(0,*popt)"
   ]
  },
  {
   "cell_type": "code",
   "execution_count": 886,
   "metadata": {},
   "outputs": [
    {
     "name": "stdout",
     "output_type": "stream",
     "text": [
      "b0: 387889.29772120743\n",
      "b1: 1.1731030148407515\n"
     ]
    }
   ],
   "source": [
    "print('b0:',popt[0])\n",
    "print('b1:',popt[1])"
   ]
  },
  {
   "cell_type": "code",
   "execution_count": 887,
   "metadata": {},
   "outputs": [
    {
     "data": {
      "text/plain": [
       "[<matplotlib.lines.Line2D at 0x23fb5e009b0>]"
      ]
     },
     "execution_count": 887,
     "metadata": {},
     "output_type": "execute_result"
    }
   ],
   "source": [
    "#plot original data\n",
    "plt.plot(xdata, ydata, 'r-', label='Actual Defect Balance',linewidth=1.75)"
   ]
  },
  {
   "cell_type": "code",
   "execution_count": 888,
   "metadata": {},
   "outputs": [
    {
     "data": {
      "text/plain": [
       "[<matplotlib.lines.Line2D at 0x23fb5c8bfd0>]"
      ]
     },
     "execution_count": 888,
     "metadata": {},
     "output_type": "execute_result"
    }
   ],
   "source": [
    "#plot modeled curve\n",
    "MoreDays = pd.Series(np.linspace(300,xIntercept,300),index=np.linspace(300,xIntercept,300))\n",
    "xPlusMoreDays = xdata.append(MoreDays)\n",
    "plt.plot(xPlusMoreDays, func(xPlusMoreDays, *popt), 'b-',\n",
    "         label='Fitted Curve: b0=%5.3f, b1=%5.3f' % tuple(popt),linewidth=2)"
   ]
  },
  {
   "cell_type": "code",
   "execution_count": 889,
   "metadata": {},
   "outputs": [
    {
     "data": {
      "text/plain": [
       "[<matplotlib.lines.Line2D at 0x23fb5e1b588>]"
      ]
     },
     "execution_count": 889,
     "metadata": {},
     "output_type": "execute_result"
    }
   ],
   "source": [
    "#if modeled replacement rate exceeds defined capacity rate (point at which f' exceeds capacity), add the line that extends completion time at that rate\n",
    "for i in range(0,int(xIntercept)):\n",
    "    instReplacementRate = getDerivative(i,*popt)\n",
    "    if instReplacementRate < avgDailyCapacity:\n",
    "        #print('I cant keep up!!!')\n",
    "        #print('current replacement rate:', round(instReplacementRate))\n",
    "        #print('avgDailyCapacity:',round(avgDailyCapacity))\n",
    "        y_CC = func(i,*popt)\n",
    "        x_CC = getX(y_CC,*popt)\n",
    "        slope = instReplacementRate\n",
    "        yIntercept = y_CC-(slope*x_CC)\n",
    "        #print('x_CC:',round(x_CC))\n",
    "        #print('y_CC:',round(y_CC))\n",
    "        #print('yIntercept: ',round(yIntercept))\n",
    "        #print('slope: ',round(slope))\n",
    "        break\n",
    "\n",
    "#define the line\n",
    "def capacityConstraint(x,intercept,slope):\n",
    "    return intercept+(slope*x)\n",
    "\n",
    "def getXCC(y,intercept,slope):\n",
    "    return (y-intercept)/slope\n",
    "\n",
    "xInterceptCC = getXCC(0,yIntercept,slope)\n",
    "\n",
    "#plot the capacity constraint\n",
    "x = np.linspace(x_CC,xInterceptCC,xInterceptCC-x_CC)\n",
    "y = capacityConstraint(x,yIntercept,slope)\n",
    "plt.plot(x, y, 'g-', label='Capacity Constraint',linewidth=1.75)"
   ]
  },
  {
   "cell_type": "code",
   "execution_count": 890,
   "metadata": {},
   "outputs": [
    {
     "data": {
      "image/png": "[encoded data removed]",
      "text/plain": [
       "<matplotlib.figure.Figure at 0x23fb5c2e9e8>"
      ]
     },
     "metadata": {},
     "output_type": "display_data"
    }
   ],
   "source": [
    "plt.xlabel('Days')\n",
    "plt.ylabel('Defect Balance')\n",
    "plt.ylim(0, 1.15*startDefectBalance)\n",
    "plt.xlim(0, 1.15*max([xIntercept,xInterceptCC]))\n",
    "plt.legend()\n",
    "plt.title('Defect Balance Over Time')\n",
    "plt.show()"
   ]
  },
  {
   "cell_type": "code",
   "execution_count": 891,
   "metadata": {},
   "outputs": [
    {
     "name": "stdout",
     "output_type": "stream",
     "text": [
      "cv_rmse: 0.005008864834492189\n"
     ]
    }
   ],
   "source": [
    "def cv_rmse(predicted,actual):\n",
    "    error = (predicted-actual)**2\n",
    "    rmse = np.sqrt(error.sum()/error.count())\n",
    "    per_rmse_pred_ma = rmse/(actual.sum()/actual.count())\n",
    "    return per_rmse_pred_ma\n",
    "\n",
    "print('cv_rmse:',cv_rmse(func(xdata,*popt),ydata))"
   ]
  },
  {
   "cell_type": "code",
   "execution_count": 892,
   "metadata": {},
   "outputs": [
    {
     "name": "stdout",
     "output_type": "stream",
     "text": [
      "Min Estimated End Date:  Feb 04,2020\n",
      "Max Estimated End Date:  Apr 01,2021\n"
     ]
    }
   ],
   "source": [
    "#get Min estimated end date (blue curve)\n",
    "numDaysToEnd = min([getX(0,*popt),xInterceptCC])\n",
    "estEndDate = str((startDate + datetime.timedelta(numDaysToEnd)).date().strftime('%b %d,%Y'))\n",
    "print('Min Estimated End Date: ',estEndDate)\n",
    "\n",
    "#get Max estimated end date (green line)\n",
    "numDaysToEnd = max([getX(0,*popt),xInterceptCC])\n",
    "estEndDate = str((startDate + datetime.timedelta(numDaysToEnd)).date().strftime('%b %d,%Y'))\n",
    "print('Max Estimated End Date: ',estEndDate)"
   ]
  },
  {
   "cell_type": "code",
   "execution_count": null,
   "metadata": {},
   "outputs": [],
   "source": []
  }
 ],
 "metadata": {
  "kernelspec": {
   "display_name": "Python 3",
   "language": "python",
   "name": "python3"
  },
  "language_info": {
   "codemirror_mode": {
    "name": "ipython",
    "version": 3
   },
   "file_extension": ".py",
   "mimetype": "text/x-python",
   "name": "python",
   "nbconvert_exporter": "python",
   "pygments_lexer": "ipython3",
   "version": "3.6.2"
  }
 },
 "nbformat": 4,
 "nbformat_minor": 2
}
